{
 "cells": [
  {
   "cell_type": "markdown",
   "id": "30baa22f",
   "metadata": {},
   "source": [
    "# One-class SVM - novelty detection\n",
    "- `One-class SVM (svm_outlier_detection)`은 novelty detection을 위한 결정 기능을 학습하는 비지도 학습 알고리즘  \n",
    "\n",
    "- 새로운 데이터를 훈련 세트와 유사하거나 다른 것으로 분류  \n",
    "\n",
    "One-class SVM은 이상 또는 이상치 감지를 위한 비지도 모델입니다. 일반 지도학습 SVM과 달리 One-class SVM에는 모델 교육 프로세스에 대한 target label이 없습니다. 대신 normal 데이터 포인트에 대한 boundary를 학습하고 boundary 외부의 데이터를 비정상으로 식별합니다.  \n",
    "\n",
    "다음을 학습 합니다.\n",
    "\n",
    "- One-class SVM 모델을 훈련하는 방법\n",
    "- One-class SVM 모델에서 이상을 예측하는 방법  \n",
    "- 이상 예측에 대한 기본 임계값을 변경하는 방법\n",
    "- 예측 결과를 시각화하는 방법"
   ]
  },
  {
   "cell_type": "markdown",
   "id": "e03f7415",
   "metadata": {},
   "source": [
    "### 불균형 데이터세트 만들기 \n",
    "- 서로 다른 mechanism 으로 생성된 두가지 data 를 하나로 섞어서 생성"
   ]
  },
  {
   "cell_type": "markdown",
   "id": "03ecd5cc",
   "metadata": {},
   "source": [
    "- numpy array를 pandas dataframe으로 변환"
   ]
  },
  {
   "cell_type": "markdown",
   "id": "ccd94c5b",
   "metadata": {},
   "source": [
    "- 생성된 data 시각화"
   ]
  },
  {
   "cell_type": "markdown",
   "id": "7133d7c4",
   "metadata": {},
   "source": [
    "- target의 분포 비율 check"
   ]
  },
  {
   "cell_type": "markdown",
   "id": "d9e61fc6",
   "metadata": {},
   "source": [
    "- Train/Test set 분리"
   ]
  },
  {
   "cell_type": "markdown",
   "id": "89c62b38",
   "metadata": {},
   "source": [
    "### One-class SVM 모델 훈련 \n",
    "\n",
    "- kernel function    \n",
    "- SVM은 초평면(hyper-plane)이라는 개념을 사용하여 데이터를 분류  \n",
    "- kernel function을 이용한 차원 변경 trick 사용  \n",
    "\n",
    "- nu=0.01은 데이터 세트에 약 1%의 이상치가 있음을 의미"
   ]
  },
  {
   "cell_type": "markdown",
   "id": "db9491a3",
   "metadata": {},
   "source": [
    "### Anomaly 예측 \n",
    "- one class SVM은 정상 데이터 포인트에 1로 레이블을 지정하고 비정상을 -1로 레이블을 지정  \n",
    "\n",
    "- 레이블을 테스트 데이터 세트의 정답과 비교하기 위해 비정상적인 레이블을 -1에서 1로, 일반 레이블을 1에서 0으로 변경"
   ]
  },
  {
   "cell_type": "markdown",
   "id": "787a8a88",
   "metadata": {},
   "source": [
    "- classification_report 사용을 위해 anomaly 값 -1 을 positive 1 로 변경. normal data 를 0 로 변경"
   ]
  },
  {
   "cell_type": "markdown",
   "id": "a147b6fe",
   "metadata": {},
   "source": [
    "- 시각화를 통한 original data와 anomaly 예측 결과 비교"
   ]
  },
  {
   "cell_type": "markdown",
   "id": "0676fb48",
   "metadata": {},
   "source": [
    "- 새로운 normal, abnormal data 생성하여 모델 test"
   ]
  }
 ],
 "metadata": {
  "kernelspec": {
   "display_name": "Python 3 (ipykernel)",
   "language": "python",
   "name": "python3"
  },
  "language_info": {
   "codemirror_mode": {
    "name": "ipython",
    "version": 3
   },
   "file_extension": ".py",
   "mimetype": "text/x-python",
   "name": "python",
   "nbconvert_exporter": "python",
   "pygments_lexer": "ipython3",
   "version": "3.8.13"
  }
 },
 "nbformat": 4,
 "nbformat_minor": 5
}
