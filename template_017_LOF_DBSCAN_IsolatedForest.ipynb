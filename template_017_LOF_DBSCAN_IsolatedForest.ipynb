{
 "cells": [
  {
   "cell_type": "markdown",
   "id": "choice-estonia",
   "metadata": {},
   "source": [
    "# LOF / DBSCAN / Isolation Forest 알고리즘 비교\n",
    "\n",
    "## LOF (Local Outlier Factor) 알고리즘"
   ]
  },
  {
   "cell_type": "markdown",
   "id": "rapid-riverside",
   "metadata": {},
   "source": [
    "## Toy Data 생성"
   ]
  },
  {
   "cell_type": "markdown",
   "id": "psychological-consensus",
   "metadata": {},
   "source": [
    "## LOF Model Train\n",
    "\n",
    "n_neighbors : int, default=20  \n",
    "contamination : 데이터 세트의 이상치 비율. 피팅할 때 샘플 점수에 대한 임계값을 정의하는 데 사용. float 인 경우 [0, 0.5] 범위에 있어야합니다."
   ]
  },
  {
   "cell_type": "markdown",
   "id": "fitting-boutique",
   "metadata": {},
   "source": [
    "- LOF가 outlier 탐지에 사용될 때 `fit_predict`를 사용하여 훈련 샘플의 예측된 레이블을 계산합니다.  \n",
    "- estimator는 `predict`이 없습니다."
   ]
  },
  {
   "cell_type": "markdown",
   "id": "hearing-deadline",
   "metadata": {},
   "source": [
    "negative_outlier_factor_ :  \n",
    "\n",
    "    - Inliers 의 LOF score 는 -1 에 가깝고, outliers 는 LOF score 가 크다. "
   ]
  },
  {
   "cell_type": "markdown",
   "id": "d15c518c",
   "metadata": {},
   "source": [
    "- inlier 로 분류된 sample의 scores"
   ]
  },
  {
   "cell_type": "markdown",
   "id": "205af8f5",
   "metadata": {},
   "source": [
    "- outlier 로 분류된 sample의 scores"
   ]
  },
  {
   "cell_type": "markdown",
   "id": "d422a2e7",
   "metadata": {},
   "source": [
    "score 최대값, score 최소값, score의 최대/최소 범위"
   ]
  },
  {
   "cell_type": "markdown",
   "id": "96d9400b",
   "metadata": {},
   "source": [
    "- score 크기를 반영하여 시각화"
   ]
  },
  {
   "cell_type": "markdown",
   "id": "indian-covering",
   "metadata": {},
   "source": [
    "## DBSCAN"
   ]
  },
  {
   "cell_type": "markdown",
   "id": "cc8b2751",
   "metadata": {},
   "source": [
    "outlier 시각화"
   ]
  },
  {
   "cell_type": "markdown",
   "id": "unexpected-superior",
   "metadata": {},
   "source": [
    "## Isolation Forest 알고리즘"
   ]
  },
  {
   "cell_type": "markdown",
   "id": "e87cd07e",
   "metadata": {},
   "source": [
    "outlier 시각화"
   ]
  },
  {
   "cell_type": "markdown",
   "id": "stable-profit",
   "metadata": {},
   "source": [
    "## Models Performance 비교"
   ]
  }
 ],
 "metadata": {
  "kernelspec": {
   "display_name": "Python 3 (ipykernel)",
   "language": "python",
   "name": "python3"
  },
  "language_info": {
   "codemirror_mode": {
    "name": "ipython",
    "version": 3
   },
   "file_extension": ".py",
   "mimetype": "text/x-python",
   "name": "python",
   "nbconvert_exporter": "python",
   "pygments_lexer": "ipython3",
   "version": "3.8.13"
  }
 },
 "nbformat": 4,
 "nbformat_minor": 5
}
