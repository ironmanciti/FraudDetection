{
 "cells": [
  {
   "cell_type": "markdown",
   "id": "9adc7cf2",
   "metadata": {},
   "source": [
    "# 015. Isolated Forest 를 이용한 NYC Taxi 탑승 정보 anomaly 검출"
   ]
  },
  {
   "cell_type": "code",
   "execution_count": 21,
   "id": "1e7a7105",
   "metadata": {},
   "outputs": [],
   "source": [
    "import numpy as np\n",
    "import pandas as pd\n",
    "from sklearn.ensemble import IsolationForest\n",
    "import os\n",
    "from datetime import datetime\n",
    "import matplotlib.pyplot as plt\n",
    "import matplotlib as mpl\n",
    "from sklearn.ensemble import IsolationForest\n",
    "import seaborn as sns"
   ]
  },
  {
   "cell_type": "markdown",
   "id": "df4f6f97",
   "metadata": {},
   "source": [
    "- 2014년 7월 부터 2015년 1월까지의 New York taxi 탑승 횟수 정보를 30분 단위로 기록"
   ]
  },
  {
   "cell_type": "code",
   "execution_count": 22,
   "id": "a9dc7e95",
   "metadata": {},
   "outputs": [
    {
     "data": {
      "text/html": [
       "<div>\n",
       "<style scoped>\n",
       "    .dataframe tbody tr th:only-of-type {\n",
       "        vertical-align: middle;\n",
       "    }\n",
       "\n",
       "    .dataframe tbody tr th {\n",
       "        vertical-align: top;\n",
       "    }\n",
       "\n",
       "    .dataframe thead th {\n",
       "        text-align: right;\n",
       "    }\n",
       "</style>\n",
       "<table border=\"1\" class=\"dataframe\">\n",
       "  <thead>\n",
       "    <tr style=\"text-align: right;\">\n",
       "      <th></th>\n",
       "      <th>timestamp</th>\n",
       "      <th>value</th>\n",
       "    </tr>\n",
       "  </thead>\n",
       "  <tbody>\n",
       "    <tr>\n",
       "      <th>0</th>\n",
       "      <td>2014-07-01 00:00:00</td>\n",
       "      <td>10844</td>\n",
       "    </tr>\n",
       "    <tr>\n",
       "      <th>1</th>\n",
       "      <td>2014-07-01 00:30:00</td>\n",
       "      <td>8127</td>\n",
       "    </tr>\n",
       "    <tr>\n",
       "      <th>2</th>\n",
       "      <td>2014-07-01 01:00:00</td>\n",
       "      <td>6210</td>\n",
       "    </tr>\n",
       "    <tr>\n",
       "      <th>3</th>\n",
       "      <td>2014-07-01 01:30:00</td>\n",
       "      <td>4656</td>\n",
       "    </tr>\n",
       "    <tr>\n",
       "      <th>4</th>\n",
       "      <td>2014-07-01 02:00:00</td>\n",
       "      <td>3820</td>\n",
       "    </tr>\n",
       "    <tr>\n",
       "      <th>...</th>\n",
       "      <td>...</td>\n",
       "      <td>...</td>\n",
       "    </tr>\n",
       "    <tr>\n",
       "      <th>10315</th>\n",
       "      <td>2015-01-31 21:30:00</td>\n",
       "      <td>24670</td>\n",
       "    </tr>\n",
       "    <tr>\n",
       "      <th>10316</th>\n",
       "      <td>2015-01-31 22:00:00</td>\n",
       "      <td>25721</td>\n",
       "    </tr>\n",
       "    <tr>\n",
       "      <th>10317</th>\n",
       "      <td>2015-01-31 22:30:00</td>\n",
       "      <td>27309</td>\n",
       "    </tr>\n",
       "    <tr>\n",
       "      <th>10318</th>\n",
       "      <td>2015-01-31 23:00:00</td>\n",
       "      <td>26591</td>\n",
       "    </tr>\n",
       "    <tr>\n",
       "      <th>10319</th>\n",
       "      <td>2015-01-31 23:30:00</td>\n",
       "      <td>26288</td>\n",
       "    </tr>\n",
       "  </tbody>\n",
       "</table>\n",
       "<p>10320 rows × 2 columns</p>\n",
       "</div>"
      ],
      "text/plain": [
       "                 timestamp  value\n",
       "0      2014-07-01 00:00:00  10844\n",
       "1      2014-07-01 00:30:00   8127\n",
       "2      2014-07-01 01:00:00   6210\n",
       "3      2014-07-01 01:30:00   4656\n",
       "4      2014-07-01 02:00:00   3820\n",
       "...                    ...    ...\n",
       "10315  2015-01-31 21:30:00  24670\n",
       "10316  2015-01-31 22:00:00  25721\n",
       "10317  2015-01-31 22:30:00  27309\n",
       "10318  2015-01-31 23:00:00  26591\n",
       "10319  2015-01-31 23:30:00  26288\n",
       "\n",
       "[10320 rows x 2 columns]"
      ]
     },
     "execution_count": 22,
     "metadata": {},
     "output_type": "execute_result"
    }
   ],
   "source": [
    "url = \"https://raw.githubusercontent.com/numenta/NAB/master/data/realKnownCause/nyc_taxi.csv\"\n",
    "df = pd.read_csv(url)\n",
    "df"
   ]
  },
  {
   "cell_type": "code",
   "execution_count": 23,
   "id": "58ae5a95",
   "metadata": {},
   "outputs": [
    {
     "name": "stdout",
     "output_type": "stream",
     "text": [
      "<class 'pandas.core.frame.DataFrame'>\n",
      "RangeIndex: 10320 entries, 0 to 10319\n",
      "Data columns (total 2 columns):\n",
      " #   Column     Non-Null Count  Dtype \n",
      "---  ------     --------------  ----- \n",
      " 0   timestamp  10320 non-null  object\n",
      " 1   value      10320 non-null  int64 \n",
      "dtypes: int64(1), object(1)\n",
      "memory usage: 161.4+ KB\n"
     ]
    }
   ],
   "source": [
    "df.info()"
   ]
  },
  {
   "cell_type": "markdown",
   "id": "911a0d38",
   "metadata": {},
   "source": [
    "- timestamp column 을 datetime64 로 변경"
   ]
  },
  {
   "cell_type": "code",
   "execution_count": 24,
   "id": "49d34a06",
   "metadata": {},
   "outputs": [
    {
     "name": "stdout",
     "output_type": "stream",
     "text": [
      "<class 'pandas.core.frame.DataFrame'>\n",
      "RangeIndex: 10320 entries, 0 to 10319\n",
      "Data columns (total 2 columns):\n",
      " #   Column     Non-Null Count  Dtype         \n",
      "---  ------     --------------  -----         \n",
      " 0   timestamp  10320 non-null  datetime64[ns]\n",
      " 1   value      10320 non-null  int64         \n",
      "dtypes: datetime64[ns](1), int64(1)\n",
      "memory usage: 161.4 KB\n"
     ]
    }
   ],
   "source": [
    "df['timestamp'] = pd.to_datetime(df['timestamp'])\n",
    "df.info()"
   ]
  },
  {
   "cell_type": "markdown",
   "id": "0ada6ac8",
   "metadata": {},
   "source": [
    "## Feature Engineering\n",
    "- index 를 time series 로 바꾸고, 1 시간 단위로 resample"
   ]
  },
  {
   "cell_type": "code",
   "execution_count": 25,
   "id": "f0dce088",
   "metadata": {},
   "outputs": [
    {
     "data": {
      "text/html": [
       "<div>\n",
       "<style scoped>\n",
       "    .dataframe tbody tr th:only-of-type {\n",
       "        vertical-align: middle;\n",
       "    }\n",
       "\n",
       "    .dataframe tbody tr th {\n",
       "        vertical-align: top;\n",
       "    }\n",
       "\n",
       "    .dataframe thead th {\n",
       "        text-align: right;\n",
       "    }\n",
       "</style>\n",
       "<table border=\"1\" class=\"dataframe\">\n",
       "  <thead>\n",
       "    <tr style=\"text-align: right;\">\n",
       "      <th></th>\n",
       "      <th>timestamp</th>\n",
       "      <th>value</th>\n",
       "    </tr>\n",
       "  </thead>\n",
       "  <tbody>\n",
       "    <tr>\n",
       "      <th>0</th>\n",
       "      <td>2014-07-01 00:00:00</td>\n",
       "      <td>10844</td>\n",
       "    </tr>\n",
       "    <tr>\n",
       "      <th>1</th>\n",
       "      <td>2014-07-01 00:30:00</td>\n",
       "      <td>8127</td>\n",
       "    </tr>\n",
       "    <tr>\n",
       "      <th>2</th>\n",
       "      <td>2014-07-01 01:00:00</td>\n",
       "      <td>6210</td>\n",
       "    </tr>\n",
       "    <tr>\n",
       "      <th>3</th>\n",
       "      <td>2014-07-01 01:30:00</td>\n",
       "      <td>4656</td>\n",
       "    </tr>\n",
       "    <tr>\n",
       "      <th>4</th>\n",
       "      <td>2014-07-01 02:00:00</td>\n",
       "      <td>3820</td>\n",
       "    </tr>\n",
       "  </tbody>\n",
       "</table>\n",
       "</div>"
      ],
      "text/plain": [
       "            timestamp  value\n",
       "0 2014-07-01 00:00:00  10844\n",
       "1 2014-07-01 00:30:00   8127\n",
       "2 2014-07-01 01:00:00   6210\n",
       "3 2014-07-01 01:30:00   4656\n",
       "4 2014-07-01 02:00:00   3820"
      ]
     },
     "execution_count": 25,
     "metadata": {},
     "output_type": "execute_result"
    }
   ],
   "source": [
    "df.head()"
   ]
  },
  {
   "cell_type": "code",
   "execution_count": 26,
   "id": "6dc62790",
   "metadata": {},
   "outputs": [
    {
     "data": {
      "text/html": [
       "<div>\n",
       "<style scoped>\n",
       "    .dataframe tbody tr th:only-of-type {\n",
       "        vertical-align: middle;\n",
       "    }\n",
       "\n",
       "    .dataframe tbody tr th {\n",
       "        vertical-align: top;\n",
       "    }\n",
       "\n",
       "    .dataframe thead th {\n",
       "        text-align: right;\n",
       "    }\n",
       "</style>\n",
       "<table border=\"1\" class=\"dataframe\">\n",
       "  <thead>\n",
       "    <tr style=\"text-align: right;\">\n",
       "      <th></th>\n",
       "      <th>timestamp</th>\n",
       "      <th>value</th>\n",
       "    </tr>\n",
       "  </thead>\n",
       "  <tbody>\n",
       "    <tr>\n",
       "      <th>0</th>\n",
       "      <td>2014-07-01 00:00:00</td>\n",
       "      <td>9485.5</td>\n",
       "    </tr>\n",
       "    <tr>\n",
       "      <th>1</th>\n",
       "      <td>2014-07-01 01:00:00</td>\n",
       "      <td>5433.0</td>\n",
       "    </tr>\n",
       "    <tr>\n",
       "      <th>2</th>\n",
       "      <td>2014-07-01 02:00:00</td>\n",
       "      <td>3346.5</td>\n",
       "    </tr>\n",
       "    <tr>\n",
       "      <th>3</th>\n",
       "      <td>2014-07-01 03:00:00</td>\n",
       "      <td>2216.5</td>\n",
       "    </tr>\n",
       "    <tr>\n",
       "      <th>4</th>\n",
       "      <td>2014-07-01 04:00:00</td>\n",
       "      <td>2189.5</td>\n",
       "    </tr>\n",
       "  </tbody>\n",
       "</table>\n",
       "</div>"
      ],
      "text/plain": [
       "            timestamp   value\n",
       "0 2014-07-01 00:00:00  9485.5\n",
       "1 2014-07-01 01:00:00  5433.0\n",
       "2 2014-07-01 02:00:00  3346.5\n",
       "3 2014-07-01 03:00:00  2216.5\n",
       "4 2014-07-01 04:00:00  2189.5"
      ]
     },
     "execution_count": 26,
     "metadata": {},
     "output_type": "execute_result"
    }
   ],
   "source": [
    "df = df.set_index('timestamp').resample('H').mean().reset_index()\n",
    "df.head()"
   ]
  },
  {
   "cell_type": "markdown",
   "id": "2f28c25d",
   "metadata": {},
   "source": [
    "- `hour`, `weekday` column 추가"
   ]
  },
  {
   "cell_type": "code",
   "execution_count": 27,
   "id": "1eee7811",
   "metadata": {},
   "outputs": [],
   "source": [
    "df['hour'] = df.timestamp.dt.hour\n",
    "df['weekday'] = pd.Categorical(df.timestamp.dt.strftime('%A'), \n",
    "                               categories=['Monday', 'Tuesday', 'Wednesday', 'Thursday', 'Friday', 'Saturday', 'Sunday'], ordered=True)"
   ]
  },
  {
   "cell_type": "code",
   "execution_count": 28,
   "id": "00a8f995",
   "metadata": {},
   "outputs": [
    {
     "name": "stdout",
     "output_type": "stream",
     "text": [
      "<class 'pandas.core.frame.DataFrame'>\n",
      "RangeIndex: 5160 entries, 0 to 5159\n",
      "Data columns (total 4 columns):\n",
      " #   Column     Non-Null Count  Dtype         \n",
      "---  ------     --------------  -----         \n",
      " 0   timestamp  5160 non-null   datetime64[ns]\n",
      " 1   value      5160 non-null   float64       \n",
      " 2   hour       5160 non-null   int64         \n",
      " 3   weekday    5160 non-null   category      \n",
      "dtypes: category(1), datetime64[ns](1), float64(1), int64(1)\n",
      "memory usage: 126.4 KB\n"
     ]
    }
   ],
   "source": [
    "df.info()"
   ]
  },
  {
   "cell_type": "markdown",
   "id": "2331e6c2",
   "metadata": {},
   "source": [
    "- 요일별 평균 탑승 횟수 시각화"
   ]
  },
  {
   "cell_type": "code",
   "execution_count": 29,
   "id": "88fd77c3",
   "metadata": {},
   "outputs": [
    {
     "data": {
      "text/html": [
       "<div>\n",
       "<style scoped>\n",
       "    .dataframe tbody tr th:only-of-type {\n",
       "        vertical-align: middle;\n",
       "    }\n",
       "\n",
       "    .dataframe tbody tr th {\n",
       "        vertical-align: top;\n",
       "    }\n",
       "\n",
       "    .dataframe thead th {\n",
       "        text-align: right;\n",
       "    }\n",
       "</style>\n",
       "<table border=\"1\" class=\"dataframe\">\n",
       "  <thead>\n",
       "    <tr style=\"text-align: right;\">\n",
       "      <th></th>\n",
       "      <th>timestamp</th>\n",
       "      <th>value</th>\n",
       "      <th>hour</th>\n",
       "      <th>weekday</th>\n",
       "    </tr>\n",
       "  </thead>\n",
       "  <tbody>\n",
       "    <tr>\n",
       "      <th>0</th>\n",
       "      <td>2014-07-01 00:00:00</td>\n",
       "      <td>9485.5</td>\n",
       "      <td>0</td>\n",
       "      <td>Tuesday</td>\n",
       "    </tr>\n",
       "    <tr>\n",
       "      <th>1</th>\n",
       "      <td>2014-07-01 01:00:00</td>\n",
       "      <td>5433.0</td>\n",
       "      <td>1</td>\n",
       "      <td>Tuesday</td>\n",
       "    </tr>\n",
       "    <tr>\n",
       "      <th>2</th>\n",
       "      <td>2014-07-01 02:00:00</td>\n",
       "      <td>3346.5</td>\n",
       "      <td>2</td>\n",
       "      <td>Tuesday</td>\n",
       "    </tr>\n",
       "    <tr>\n",
       "      <th>3</th>\n",
       "      <td>2014-07-01 03:00:00</td>\n",
       "      <td>2216.5</td>\n",
       "      <td>3</td>\n",
       "      <td>Tuesday</td>\n",
       "    </tr>\n",
       "    <tr>\n",
       "      <th>4</th>\n",
       "      <td>2014-07-01 04:00:00</td>\n",
       "      <td>2189.5</td>\n",
       "      <td>4</td>\n",
       "      <td>Tuesday</td>\n",
       "    </tr>\n",
       "  </tbody>\n",
       "</table>\n",
       "</div>"
      ],
      "text/plain": [
       "            timestamp   value  hour  weekday\n",
       "0 2014-07-01 00:00:00  9485.5     0  Tuesday\n",
       "1 2014-07-01 01:00:00  5433.0     1  Tuesday\n",
       "2 2014-07-01 02:00:00  3346.5     2  Tuesday\n",
       "3 2014-07-01 03:00:00  2216.5     3  Tuesday\n",
       "4 2014-07-01 04:00:00  2189.5     4  Tuesday"
      ]
     },
     "execution_count": 29,
     "metadata": {},
     "output_type": "execute_result"
    }
   ],
   "source": [
    "df.head()"
   ]
  },
  {
   "cell_type": "code",
   "execution_count": 30,
   "id": "1fe860e6",
   "metadata": {
    "scrolled": true
   },
   "outputs": [
    {
     "data": {
      "text/plain": [
       "<AxesSubplot:xlabel='weekday'>"
      ]
     },
     "execution_count": 30,
     "metadata": {},
     "output_type": "execute_result"
    },
    {
     "data": {
      "image/png": "[encoded data removed]",
      "text/plain": [
       "<Figure size 432x288 with 1 Axes>"
      ]
     },
     "metadata": {
      "needs_background": "light"
     },
     "output_type": "display_data"
    }
   ],
   "source": [
    "df[['value', 'weekday']].groupby('weekday').mean().plot(kind='bar')"
   ]
  },
  {
   "cell_type": "code",
   "execution_count": 31,
   "id": "798ce167",
   "metadata": {},
   "outputs": [
    {
     "data": {
      "text/plain": [
       "<AxesSubplot:xlabel='hour'>"
      ]
     },
     "execution_count": 31,
     "metadata": {},
     "output_type": "execute_result"
    },
    {
     "data": {
      "image/png": "[encoded data removed]",
      "text/plain": [
       "<Figure size 432x288 with 1 Axes>"
      ]
     },
     "metadata": {
      "needs_background": "light"
     },
     "output_type": "display_data"
    }
   ],
   "source": [
    "df[['value', 'hour']].groupby('hour').mean().plot(kind='bar')"
   ]
  },
  {
   "cell_type": "code",
   "execution_count": 32,
   "id": "2a11a5e0",
   "metadata": {},
   "outputs": [
    {
     "data": {
      "image/png": "[encoded data removed]",
      "text/plain": [
       "<Figure size 1296x288 with 1 Axes>"
      ]
     },
     "metadata": {
      "needs_background": "light"
     },
     "output_type": "display_data"
    }
   ],
   "source": [
    "plt.figure(figsize=(18, 4))\n",
    "plt.bar(df.timestamp, df.value)\n",
    "plt.xticks(rotation=90);"
   ]
  },
  {
   "cell_type": "markdown",
   "id": "31d212df",
   "metadata": {},
   "source": [
    "2014.11 부근에 큰 peak 가 보이고, 2015.2 이전에 매우 작은 값이 보인다."
   ]
  },
  {
   "cell_type": "code",
   "execution_count": 33,
   "id": "89a3ab1b",
   "metadata": {},
   "outputs": [
    {
     "data": {
      "text/plain": [
       "<AxesSubplot:xlabel='timestamp'>"
      ]
     },
     "execution_count": 33,
     "metadata": {},
     "output_type": "execute_result"
    },
    {
     "data": {
      "image/png": "[encoded data removed]",
      "text/plain": [
       "<Figure size 432x288 with 1 Axes>"
      ]
     },
     "metadata": {
      "needs_background": "light"
     },
     "output_type": "display_data"
    }
   ],
   "source": [
    "series = df.set_index('timestamp').loc['2014-10':'2014-12']['value']\n",
    "series.plot()"
   ]
  },
  {
   "cell_type": "code",
   "execution_count": 34,
   "id": "25d7cee9",
   "metadata": {},
   "outputs": [
    {
     "data": {
      "text/plain": [
       "<AxesSubplot:xlabel='timestamp'>"
      ]
     },
     "execution_count": 34,
     "metadata": {},
     "output_type": "execute_result"
    },
    {
     "data": {
      "image/png": "[encoded data removed]",
      "text/plain": [
       "<Figure size 432x288 with 1 Axes>"
      ]
     },
     "metadata": {
      "needs_background": "light"
     },
     "output_type": "display_data"
    }
   ],
   "source": [
    "series = df.set_index('timestamp').loc['2015-01':'2015-02']['value']\n",
    "series.plot()"
   ]
  },
  {
   "cell_type": "markdown",
   "id": "d9a904df",
   "metadata": {},
   "source": [
    "2014-11-02 는 뉴욕마라톤. 2015-01-27 에는 눈보라가 있었음."
   ]
  },
  {
   "cell_type": "markdown",
   "id": "1ef21a70",
   "metadata": {},
   "source": [
    "### 방법 1 - parameter 를 이용한 threshold control  \n",
    "contamination parameter 는 이상값으로 간주되어야 하는 경우에 대한 임계값을 제어합니다."
   ]
  },
  {
   "cell_type": "code",
   "execution_count": 35,
   "id": "cf7e42ce",
   "metadata": {},
   "outputs": [
    {
     "data": {
      "text/plain": [
       "IsolationForest(contamination=0.004, random_state=0)"
      ]
     },
     "execution_count": 35,
     "metadata": {},
     "output_type": "execute_result"
    }
   ],
   "source": [
    "model = IsolationForest(contamination=0.004, random_state=0)\n",
    "model.fit(df[['value']].values)"
   ]
  },
  {
   "cell_type": "code",
   "execution_count": 36,
   "id": "2cbf1feb",
   "metadata": {},
   "outputs": [
    {
     "data": {
      "text/plain": [
       "array([-1,  1])"
      ]
     },
     "execution_count": 36,
     "metadata": {},
     "output_type": "execute_result"
    }
   ],
   "source": [
    "np.unique(model.predict(df[['value']].values))"
   ]
  },
  {
   "cell_type": "markdown",
   "id": "26be66e9",
   "metadata": {},
   "source": [
    "outliers 검출. anomaly 는 -1."
   ]
  },
  {
   "cell_type": "code",
   "execution_count": 37,
   "id": "03be864c",
   "metadata": {},
   "outputs": [],
   "source": [
    "df['outliers'] = pd.Series(model.predict(df[['value']].values)).apply(lambda x: 'yes' if (x == -1) else 'no')"
   ]
  },
  {
   "cell_type": "code",
   "execution_count": 38,
   "id": "39a80cc1",
   "metadata": {},
   "outputs": [
    {
     "data": {
      "text/html": [
       "<div>\n",
       "<style scoped>\n",
       "    .dataframe tbody tr th:only-of-type {\n",
       "        vertical-align: middle;\n",
       "    }\n",
       "\n",
       "    .dataframe tbody tr th {\n",
       "        vertical-align: top;\n",
       "    }\n",
       "\n",
       "    .dataframe thead th {\n",
       "        text-align: right;\n",
       "    }\n",
       "</style>\n",
       "<table border=\"1\" class=\"dataframe\">\n",
       "  <thead>\n",
       "    <tr style=\"text-align: right;\">\n",
       "      <th></th>\n",
       "      <th>timestamp</th>\n",
       "      <th>value</th>\n",
       "      <th>hour</th>\n",
       "      <th>weekday</th>\n",
       "      <th>outliers</th>\n",
       "    </tr>\n",
       "  </thead>\n",
       "  <tbody>\n",
       "    <tr>\n",
       "      <th>1631</th>\n",
       "      <td>2014-09-06 23:00:00</td>\n",
       "      <td>29418.5</td>\n",
       "      <td>23</td>\n",
       "      <td>Saturday</td>\n",
       "      <td>yes</td>\n",
       "    </tr>\n",
       "    <tr>\n",
       "      <th>2135</th>\n",
       "      <td>2014-09-27 23:00:00</td>\n",
       "      <td>28024.5</td>\n",
       "      <td>23</td>\n",
       "      <td>Saturday</td>\n",
       "      <td>yes</td>\n",
       "    </tr>\n",
       "    <tr>\n",
       "      <th>2639</th>\n",
       "      <td>2014-10-18 23:00:00</td>\n",
       "      <td>28253.5</td>\n",
       "      <td>23</td>\n",
       "      <td>Saturday</td>\n",
       "      <td>yes</td>\n",
       "    </tr>\n",
       "    <tr>\n",
       "      <th>2971</th>\n",
       "      <td>2014-11-01 19:00:00</td>\n",
       "      <td>27912.0</td>\n",
       "      <td>19</td>\n",
       "      <td>Saturday</td>\n",
       "      <td>yes</td>\n",
       "    </tr>\n",
       "    <tr>\n",
       "      <th>2977</th>\n",
       "      <td>2014-11-02 01:00:00</td>\n",
       "      <td>37204.5</td>\n",
       "      <td>1</td>\n",
       "      <td>Sunday</td>\n",
       "      <td>yes</td>\n",
       "    </tr>\n",
       "    <tr>\n",
       "      <th>3143</th>\n",
       "      <td>2014-11-08 23:00:00</td>\n",
       "      <td>27926.0</td>\n",
       "      <td>23</td>\n",
       "      <td>Saturday</td>\n",
       "      <td>yes</td>\n",
       "    </tr>\n",
       "    <tr>\n",
       "      <th>3479</th>\n",
       "      <td>2014-11-22 23:00:00</td>\n",
       "      <td>28299.0</td>\n",
       "      <td>23</td>\n",
       "      <td>Saturday</td>\n",
       "      <td>yes</td>\n",
       "    </tr>\n",
       "    <tr>\n",
       "      <th>4417</th>\n",
       "      <td>2015-01-01 01:00:00</td>\n",
       "      <td>29292.0</td>\n",
       "      <td>1</td>\n",
       "      <td>Thursday</td>\n",
       "      <td>yes</td>\n",
       "    </tr>\n",
       "    <tr>\n",
       "      <th>4655</th>\n",
       "      <td>2015-01-10 23:00:00</td>\n",
       "      <td>28351.0</td>\n",
       "      <td>23</td>\n",
       "      <td>Saturday</td>\n",
       "      <td>yes</td>\n",
       "    </tr>\n",
       "    <tr>\n",
       "      <th>5039</th>\n",
       "      <td>2015-01-26 23:00:00</td>\n",
       "      <td>243.0</td>\n",
       "      <td>23</td>\n",
       "      <td>Monday</td>\n",
       "      <td>yes</td>\n",
       "    </tr>\n",
       "    <tr>\n",
       "      <th>5040</th>\n",
       "      <td>2015-01-27 00:00:00</td>\n",
       "      <td>94.5</td>\n",
       "      <td>0</td>\n",
       "      <td>Tuesday</td>\n",
       "      <td>yes</td>\n",
       "    </tr>\n",
       "    <tr>\n",
       "      <th>5041</th>\n",
       "      <td>2015-01-27 01:00:00</td>\n",
       "      <td>39.5</td>\n",
       "      <td>1</td>\n",
       "      <td>Tuesday</td>\n",
       "      <td>yes</td>\n",
       "    </tr>\n",
       "    <tr>\n",
       "      <th>5042</th>\n",
       "      <td>2015-01-27 02:00:00</td>\n",
       "      <td>29.0</td>\n",
       "      <td>2</td>\n",
       "      <td>Tuesday</td>\n",
       "      <td>yes</td>\n",
       "    </tr>\n",
       "    <tr>\n",
       "      <th>5043</th>\n",
       "      <td>2015-01-27 03:00:00</td>\n",
       "      <td>9.5</td>\n",
       "      <td>3</td>\n",
       "      <td>Tuesday</td>\n",
       "      <td>yes</td>\n",
       "    </tr>\n",
       "    <tr>\n",
       "      <th>5044</th>\n",
       "      <td>2015-01-27 04:00:00</td>\n",
       "      <td>14.5</td>\n",
       "      <td>4</td>\n",
       "      <td>Tuesday</td>\n",
       "      <td>yes</td>\n",
       "    </tr>\n",
       "    <tr>\n",
       "      <th>5045</th>\n",
       "      <td>2015-01-27 05:00:00</td>\n",
       "      <td>29.0</td>\n",
       "      <td>5</td>\n",
       "      <td>Tuesday</td>\n",
       "      <td>yes</td>\n",
       "    </tr>\n",
       "    <tr>\n",
       "      <th>5046</th>\n",
       "      <td>2015-01-27 06:00:00</td>\n",
       "      <td>88.0</td>\n",
       "      <td>6</td>\n",
       "      <td>Tuesday</td>\n",
       "      <td>yes</td>\n",
       "    </tr>\n",
       "    <tr>\n",
       "      <th>5047</th>\n",
       "      <td>2015-01-27 07:00:00</td>\n",
       "      <td>274.0</td>\n",
       "      <td>7</td>\n",
       "      <td>Tuesday</td>\n",
       "      <td>yes</td>\n",
       "    </tr>\n",
       "    <tr>\n",
       "      <th>5048</th>\n",
       "      <td>2015-01-27 08:00:00</td>\n",
       "      <td>809.5</td>\n",
       "      <td>8</td>\n",
       "      <td>Tuesday</td>\n",
       "      <td>yes</td>\n",
       "    </tr>\n",
       "    <tr>\n",
       "      <th>5155</th>\n",
       "      <td>2015-01-31 19:00:00</td>\n",
       "      <td>28288.5</td>\n",
       "      <td>19</td>\n",
       "      <td>Saturday</td>\n",
       "      <td>yes</td>\n",
       "    </tr>\n",
       "  </tbody>\n",
       "</table>\n",
       "</div>"
      ],
      "text/plain": [
       "               timestamp    value  hour   weekday outliers\n",
       "1631 2014-09-06 23:00:00  29418.5    23  Saturday      yes\n",
       "2135 2014-09-27 23:00:00  28024.5    23  Saturday      yes\n",
       "2639 2014-10-18 23:00:00  28253.5    23  Saturday      yes\n",
       "2971 2014-11-01 19:00:00  27912.0    19  Saturday      yes\n",
       "2977 2014-11-02 01:00:00  37204.5     1    Sunday      yes\n",
       "3143 2014-11-08 23:00:00  27926.0    23  Saturday      yes\n",
       "3479 2014-11-22 23:00:00  28299.0    23  Saturday      yes\n",
       "4417 2015-01-01 01:00:00  29292.0     1  Thursday      yes\n",
       "4655 2015-01-10 23:00:00  28351.0    23  Saturday      yes\n",
       "5039 2015-01-26 23:00:00    243.0    23    Monday      yes\n",
       "5040 2015-01-27 00:00:00     94.5     0   Tuesday      yes\n",
       "5041 2015-01-27 01:00:00     39.5     1   Tuesday      yes\n",
       "5042 2015-01-27 02:00:00     29.0     2   Tuesday      yes\n",
       "5043 2015-01-27 03:00:00      9.5     3   Tuesday      yes\n",
       "5044 2015-01-27 04:00:00     14.5     4   Tuesday      yes\n",
       "5045 2015-01-27 05:00:00     29.0     5   Tuesday      yes\n",
       "5046 2015-01-27 06:00:00     88.0     6   Tuesday      yes\n",
       "5047 2015-01-27 07:00:00    274.0     7   Tuesday      yes\n",
       "5048 2015-01-27 08:00:00    809.5     8   Tuesday      yes\n",
       "5155 2015-01-31 19:00:00  28288.5    19  Saturday      yes"
      ]
     },
     "execution_count": 38,
     "metadata": {},
     "output_type": "execute_result"
    }
   ],
   "source": [
    "df.query('outliers == \"yes\"')"
   ]
  },
  {
   "cell_type": "code",
   "execution_count": 39,
   "id": "56a323b5",
   "metadata": {},
   "outputs": [
    {
     "data": {
      "text/plain": [
       "<AxesSubplot:xlabel='timestamp', ylabel='value'>"
      ]
     },
     "execution_count": 39,
     "metadata": {},
     "output_type": "execute_result"
    },
    {
     "data": {
      "image/png": "[encoded data removed]",
      "text/plain": [
       "<Figure size 432x288 with 1 Axes>"
      ]
     },
     "metadata": {
      "needs_background": "light"
     },
     "output_type": "display_data"
    }
   ],
   "source": [
    "sns.scatterplot(x='timestamp', y='value', data=df.query('outliers == \"yes\"'))"
   ]
  },
  {
   "cell_type": "markdown",
   "id": "3e8f63c1",
   "metadata": {},
   "source": [
    "### 방법 2 - 임의의 threshold 설정 \n",
    "\n",
    "scores - 입력 샘플의 anomaly score 입니다. 낮을수록 비정상적입니다. 음수 점수는 outlier를 나타내고 양수 점수는 inlier를 나타냅니다."
   ]
  },
  {
   "cell_type": "code",
   "execution_count": 40,
   "id": "2b225325",
   "metadata": {},
   "outputs": [
    {
     "data": {
      "text/plain": [
       "IsolationForest(random_state=0)"
      ]
     },
     "execution_count": 40,
     "metadata": {},
     "output_type": "execute_result"
    }
   ],
   "source": [
    "model = IsolationForest(random_state=0)\n",
    "model.fit(df[['value']].values)"
   ]
  },
  {
   "cell_type": "code",
   "execution_count": 41,
   "id": "3ca0545d",
   "metadata": {},
   "outputs": [
    {
     "data": {
      "text/plain": [
       "array([-0.01295257, -0.03374763, -0.01858539, ..., -0.02806426,\n",
       "       -0.10541479, -0.09735689])"
      ]
     },
     "execution_count": 41,
     "metadata": {},
     "output_type": "execute_result"
    }
   ],
   "source": [
    "score = model.decision_function(df[['value']].values)\n",
    "score"
   ]
  },
  {
   "cell_type": "code",
   "execution_count": 42,
   "id": "d9b26482",
   "metadata": {},
   "outputs": [
    {
     "data": {
      "text/plain": [
       "Text(0, 0.5, 'frequencey')"
      ]
     },
     "execution_count": 42,
     "metadata": {},
     "output_type": "execute_result"
    },
    {
     "data": {
      "image/png": "[encoded data removed]",
      "text/plain": [
       "<Figure size 432x288 with 1 Axes>"
      ]
     },
     "metadata": {
      "needs_background": "light"
     },
     "output_type": "display_data"
    }
   ],
   "source": [
    "plt.hist(score, bins=50);\n",
    "plt.xlabel(\"score\")\n",
    "plt.ylabel(\"frequencey\")"
   ]
  },
  {
   "cell_type": "code",
   "execution_count": 43,
   "id": "8dfe161e",
   "metadata": {},
   "outputs": [
    {
     "data": {
      "text/html": [
       "<div>\n",
       "<style scoped>\n",
       "    .dataframe tbody tr th:only-of-type {\n",
       "        vertical-align: middle;\n",
       "    }\n",
       "\n",
       "    .dataframe tbody tr th {\n",
       "        vertical-align: top;\n",
       "    }\n",
       "\n",
       "    .dataframe thead th {\n",
       "        text-align: right;\n",
       "    }\n",
       "</style>\n",
       "<table border=\"1\" class=\"dataframe\">\n",
       "  <thead>\n",
       "    <tr style=\"text-align: right;\">\n",
       "      <th></th>\n",
       "      <th>timestamp</th>\n",
       "      <th>value</th>\n",
       "      <th>hour</th>\n",
       "      <th>weekday</th>\n",
       "      <th>outliers</th>\n",
       "      <th>score</th>\n",
       "    </tr>\n",
       "  </thead>\n",
       "  <tbody>\n",
       "    <tr>\n",
       "      <th>0</th>\n",
       "      <td>2014-07-01 00:00:00</td>\n",
       "      <td>9485.5</td>\n",
       "      <td>0</td>\n",
       "      <td>Tuesday</td>\n",
       "      <td>no</td>\n",
       "      <td>-0.012953</td>\n",
       "    </tr>\n",
       "    <tr>\n",
       "      <th>1</th>\n",
       "      <td>2014-07-01 01:00:00</td>\n",
       "      <td>5433.0</td>\n",
       "      <td>1</td>\n",
       "      <td>Tuesday</td>\n",
       "      <td>no</td>\n",
       "      <td>-0.033748</td>\n",
       "    </tr>\n",
       "    <tr>\n",
       "      <th>2</th>\n",
       "      <td>2014-07-01 02:00:00</td>\n",
       "      <td>3346.5</td>\n",
       "      <td>2</td>\n",
       "      <td>Tuesday</td>\n",
       "      <td>no</td>\n",
       "      <td>-0.018585</td>\n",
       "    </tr>\n",
       "    <tr>\n",
       "      <th>3</th>\n",
       "      <td>2014-07-01 03:00:00</td>\n",
       "      <td>2216.5</td>\n",
       "      <td>3</td>\n",
       "      <td>Tuesday</td>\n",
       "      <td>no</td>\n",
       "      <td>-0.064383</td>\n",
       "    </tr>\n",
       "    <tr>\n",
       "      <th>4</th>\n",
       "      <td>2014-07-01 04:00:00</td>\n",
       "      <td>2189.5</td>\n",
       "      <td>4</td>\n",
       "      <td>Tuesday</td>\n",
       "      <td>no</td>\n",
       "      <td>-0.070976</td>\n",
       "    </tr>\n",
       "    <tr>\n",
       "      <th>...</th>\n",
       "      <td>...</td>\n",
       "      <td>...</td>\n",
       "      <td>...</td>\n",
       "      <td>...</td>\n",
       "      <td>...</td>\n",
       "      <td>...</td>\n",
       "    </tr>\n",
       "    <tr>\n",
       "      <th>5155</th>\n",
       "      <td>2015-01-31 19:00:00</td>\n",
       "      <td>28288.5</td>\n",
       "      <td>19</td>\n",
       "      <td>Saturday</td>\n",
       "      <td>yes</td>\n",
       "      <td>-0.203992</td>\n",
       "    </tr>\n",
       "    <tr>\n",
       "      <th>5156</th>\n",
       "      <td>2015-01-31 20:00:00</td>\n",
       "      <td>24138.0</td>\n",
       "      <td>20</td>\n",
       "      <td>Saturday</td>\n",
       "      <td>no</td>\n",
       "      <td>-0.028141</td>\n",
       "    </tr>\n",
       "    <tr>\n",
       "      <th>5157</th>\n",
       "      <td>2015-01-31 21:00:00</td>\n",
       "      <td>24194.5</td>\n",
       "      <td>21</td>\n",
       "      <td>Saturday</td>\n",
       "      <td>no</td>\n",
       "      <td>-0.028064</td>\n",
       "    </tr>\n",
       "    <tr>\n",
       "      <th>5158</th>\n",
       "      <td>2015-01-31 22:00:00</td>\n",
       "      <td>26515.0</td>\n",
       "      <td>22</td>\n",
       "      <td>Saturday</td>\n",
       "      <td>no</td>\n",
       "      <td>-0.105415</td>\n",
       "    </tr>\n",
       "    <tr>\n",
       "      <th>5159</th>\n",
       "      <td>2015-01-31 23:00:00</td>\n",
       "      <td>26439.5</td>\n",
       "      <td>23</td>\n",
       "      <td>Saturday</td>\n",
       "      <td>no</td>\n",
       "      <td>-0.097357</td>\n",
       "    </tr>\n",
       "  </tbody>\n",
       "</table>\n",
       "<p>5160 rows × 6 columns</p>\n",
       "</div>"
      ],
      "text/plain": [
       "               timestamp    value  hour   weekday outliers     score\n",
       "0    2014-07-01 00:00:00   9485.5     0   Tuesday       no -0.012953\n",
       "1    2014-07-01 01:00:00   5433.0     1   Tuesday       no -0.033748\n",
       "2    2014-07-01 02:00:00   3346.5     2   Tuesday       no -0.018585\n",
       "3    2014-07-01 03:00:00   2216.5     3   Tuesday       no -0.064383\n",
       "4    2014-07-01 04:00:00   2189.5     4   Tuesday       no -0.070976\n",
       "...                  ...      ...   ...       ...      ...       ...\n",
       "5155 2015-01-31 19:00:00  28288.5    19  Saturday      yes -0.203992\n",
       "5156 2015-01-31 20:00:00  24138.0    20  Saturday       no -0.028141\n",
       "5157 2015-01-31 21:00:00  24194.5    21  Saturday       no -0.028064\n",
       "5158 2015-01-31 22:00:00  26515.0    22  Saturday       no -0.105415\n",
       "5159 2015-01-31 23:00:00  26439.5    23  Saturday       no -0.097357\n",
       "\n",
       "[5160 rows x 6 columns]"
      ]
     },
     "execution_count": 43,
     "metadata": {},
     "output_type": "execute_result"
    }
   ],
   "source": [
    "df['score'] = score\n",
    "df"
   ]
  },
  {
   "cell_type": "code",
   "execution_count": 44,
   "id": "cc17676f",
   "metadata": {},
   "outputs": [
    {
     "data": {
      "text/html": [
       "<div>\n",
       "<style scoped>\n",
       "    .dataframe tbody tr th:only-of-type {\n",
       "        vertical-align: middle;\n",
       "    }\n",
       "\n",
       "    .dataframe tbody tr th {\n",
       "        vertical-align: top;\n",
       "    }\n",
       "\n",
       "    .dataframe thead th {\n",
       "        text-align: right;\n",
       "    }\n",
       "</style>\n",
       "<table border=\"1\" class=\"dataframe\">\n",
       "  <thead>\n",
       "    <tr style=\"text-align: right;\">\n",
       "      <th></th>\n",
       "      <th>timestamp</th>\n",
       "      <th>value</th>\n",
       "      <th>hour</th>\n",
       "      <th>weekday</th>\n",
       "      <th>outliers</th>\n",
       "      <th>score</th>\n",
       "    </tr>\n",
       "  </thead>\n",
       "  <tbody>\n",
       "    <tr>\n",
       "      <th>1515</th>\n",
       "      <td>2014-09-02 03:00:00</td>\n",
       "      <td>1653.5</td>\n",
       "      <td>3</td>\n",
       "      <td>Tuesday</td>\n",
       "      <td>no</td>\n",
       "      <td>-0.154163</td>\n",
       "    </tr>\n",
       "    <tr>\n",
       "      <th>1630</th>\n",
       "      <td>2014-09-06 22:00:00</td>\n",
       "      <td>27414.0</td>\n",
       "      <td>22</td>\n",
       "      <td>Saturday</td>\n",
       "      <td>no</td>\n",
       "      <td>-0.176655</td>\n",
       "    </tr>\n",
       "    <tr>\n",
       "      <th>1631</th>\n",
       "      <td>2014-09-06 23:00:00</td>\n",
       "      <td>29418.5</td>\n",
       "      <td>23</td>\n",
       "      <td>Saturday</td>\n",
       "      <td>yes</td>\n",
       "      <td>-0.207812</td>\n",
       "    </tr>\n",
       "    <tr>\n",
       "      <th>1775</th>\n",
       "      <td>2014-09-12 23:00:00</td>\n",
       "      <td>27331.5</td>\n",
       "      <td>23</td>\n",
       "      <td>Friday</td>\n",
       "      <td>no</td>\n",
       "      <td>-0.174276</td>\n",
       "    </tr>\n",
       "    <tr>\n",
       "      <th>1942</th>\n",
       "      <td>2014-09-19 22:00:00</td>\n",
       "      <td>27385.5</td>\n",
       "      <td>22</td>\n",
       "      <td>Friday</td>\n",
       "      <td>no</td>\n",
       "      <td>-0.177113</td>\n",
       "    </tr>\n",
       "    <tr>\n",
       "      <th>2135</th>\n",
       "      <td>2014-09-27 23:00:00</td>\n",
       "      <td>28024.5</td>\n",
       "      <td>23</td>\n",
       "      <td>Saturday</td>\n",
       "      <td>yes</td>\n",
       "      <td>-0.199718</td>\n",
       "    </tr>\n",
       "    <tr>\n",
       "      <th>2471</th>\n",
       "      <td>2014-10-11 23:00:00</td>\n",
       "      <td>27117.5</td>\n",
       "      <td>23</td>\n",
       "      <td>Saturday</td>\n",
       "      <td>no</td>\n",
       "      <td>-0.154806</td>\n",
       "    </tr>\n",
       "    <tr>\n",
       "      <th>2635</th>\n",
       "      <td>2014-10-18 19:00:00</td>\n",
       "      <td>27341.0</td>\n",
       "      <td>19</td>\n",
       "      <td>Saturday</td>\n",
       "      <td>no</td>\n",
       "      <td>-0.174276</td>\n",
       "    </tr>\n",
       "    <tr>\n",
       "      <th>2639</th>\n",
       "      <td>2014-10-18 23:00:00</td>\n",
       "      <td>28253.5</td>\n",
       "      <td>23</td>\n",
       "      <td>Saturday</td>\n",
       "      <td>yes</td>\n",
       "      <td>-0.203992</td>\n",
       "    </tr>\n",
       "    <tr>\n",
       "      <th>2640</th>\n",
       "      <td>2014-10-19 00:00:00</td>\n",
       "      <td>27146.5</td>\n",
       "      <td>0</td>\n",
       "      <td>Sunday</td>\n",
       "      <td>no</td>\n",
       "      <td>-0.157615</td>\n",
       "    </tr>\n",
       "    <tr>\n",
       "      <th>2807</th>\n",
       "      <td>2014-10-25 23:00:00</td>\n",
       "      <td>27554.5</td>\n",
       "      <td>23</td>\n",
       "      <td>Saturday</td>\n",
       "      <td>no</td>\n",
       "      <td>-0.184947</td>\n",
       "    </tr>\n",
       "    <tr>\n",
       "      <th>2949</th>\n",
       "      <td>2014-10-31 21:00:00</td>\n",
       "      <td>27139.5</td>\n",
       "      <td>21</td>\n",
       "      <td>Friday</td>\n",
       "      <td>no</td>\n",
       "      <td>-0.156136</td>\n",
       "    </tr>\n",
       "    <tr>\n",
       "      <th>2971</th>\n",
       "      <td>2014-11-01 19:00:00</td>\n",
       "      <td>27912.0</td>\n",
       "      <td>19</td>\n",
       "      <td>Saturday</td>\n",
       "      <td>yes</td>\n",
       "      <td>-0.195941</td>\n",
       "    </tr>\n",
       "    <tr>\n",
       "      <th>2977</th>\n",
       "      <td>2014-11-02 01:00:00</td>\n",
       "      <td>37204.5</td>\n",
       "      <td>1</td>\n",
       "      <td>Sunday</td>\n",
       "      <td>yes</td>\n",
       "      <td>-0.212718</td>\n",
       "    </tr>\n",
       "    <tr>\n",
       "      <th>3116</th>\n",
       "      <td>2014-11-07 20:00:00</td>\n",
       "      <td>27101.0</td>\n",
       "      <td>20</td>\n",
       "      <td>Friday</td>\n",
       "      <td>no</td>\n",
       "      <td>-0.151192</td>\n",
       "    </tr>\n",
       "    <tr>\n",
       "      <th>3118</th>\n",
       "      <td>2014-11-07 22:00:00</td>\n",
       "      <td>27471.0</td>\n",
       "      <td>22</td>\n",
       "      <td>Friday</td>\n",
       "      <td>no</td>\n",
       "      <td>-0.179408</td>\n",
       "    </tr>\n",
       "    <tr>\n",
       "      <th>3139</th>\n",
       "      <td>2014-11-08 19:00:00</td>\n",
       "      <td>27344.0</td>\n",
       "      <td>19</td>\n",
       "      <td>Saturday</td>\n",
       "      <td>no</td>\n",
       "      <td>-0.174732</td>\n",
       "    </tr>\n",
       "    <tr>\n",
       "      <th>3143</th>\n",
       "      <td>2014-11-08 23:00:00</td>\n",
       "      <td>27926.0</td>\n",
       "      <td>23</td>\n",
       "      <td>Saturday</td>\n",
       "      <td>yes</td>\n",
       "      <td>-0.195941</td>\n",
       "    </tr>\n",
       "    <tr>\n",
       "      <th>3311</th>\n",
       "      <td>2014-11-15 23:00:00</td>\n",
       "      <td>27713.0</td>\n",
       "      <td>23</td>\n",
       "      <td>Saturday</td>\n",
       "      <td>no</td>\n",
       "      <td>-0.185874</td>\n",
       "    </tr>\n",
       "    <tr>\n",
       "      <th>3455</th>\n",
       "      <td>2014-11-21 23:00:00</td>\n",
       "      <td>27316.5</td>\n",
       "      <td>23</td>\n",
       "      <td>Friday</td>\n",
       "      <td>no</td>\n",
       "      <td>-0.173820</td>\n",
       "    </tr>\n",
       "    <tr>\n",
       "      <th>3479</th>\n",
       "      <td>2014-11-22 23:00:00</td>\n",
       "      <td>28299.0</td>\n",
       "      <td>23</td>\n",
       "      <td>Saturday</td>\n",
       "      <td>yes</td>\n",
       "      <td>-0.203992</td>\n",
       "    </tr>\n",
       "    <tr>\n",
       "      <th>3675</th>\n",
       "      <td>2014-12-01 03:00:00</td>\n",
       "      <td>1643.5</td>\n",
       "      <td>3</td>\n",
       "      <td>Monday</td>\n",
       "      <td>no</td>\n",
       "      <td>-0.155049</td>\n",
       "    </tr>\n",
       "    <tr>\n",
       "      <th>3815</th>\n",
       "      <td>2014-12-06 23:00:00</td>\n",
       "      <td>27454.0</td>\n",
       "      <td>23</td>\n",
       "      <td>Saturday</td>\n",
       "      <td>no</td>\n",
       "      <td>-0.176198</td>\n",
       "    </tr>\n",
       "    <tr>\n",
       "      <th>4413</th>\n",
       "      <td>2014-12-31 21:00:00</td>\n",
       "      <td>27559.5</td>\n",
       "      <td>21</td>\n",
       "      <td>Wednesday</td>\n",
       "      <td>no</td>\n",
       "      <td>-0.184947</td>\n",
       "    </tr>\n",
       "    <tr>\n",
       "      <th>4417</th>\n",
       "      <td>2015-01-01 01:00:00</td>\n",
       "      <td>29292.0</td>\n",
       "      <td>1</td>\n",
       "      <td>Thursday</td>\n",
       "      <td>yes</td>\n",
       "      <td>-0.207812</td>\n",
       "    </tr>\n",
       "    <tr>\n",
       "      <th>4515</th>\n",
       "      <td>2015-01-05 03:00:00</td>\n",
       "      <td>1653.0</td>\n",
       "      <td>3</td>\n",
       "      <td>Monday</td>\n",
       "      <td>no</td>\n",
       "      <td>-0.154163</td>\n",
       "    </tr>\n",
       "    <tr>\n",
       "      <th>4539</th>\n",
       "      <td>2015-01-06 03:00:00</td>\n",
       "      <td>1645.5</td>\n",
       "      <td>3</td>\n",
       "      <td>Tuesday</td>\n",
       "      <td>no</td>\n",
       "      <td>-0.155049</td>\n",
       "    </tr>\n",
       "    <tr>\n",
       "      <th>4627</th>\n",
       "      <td>2015-01-09 19:00:00</td>\n",
       "      <td>27559.5</td>\n",
       "      <td>19</td>\n",
       "      <td>Friday</td>\n",
       "      <td>no</td>\n",
       "      <td>-0.184947</td>\n",
       "    </tr>\n",
       "    <tr>\n",
       "      <th>4651</th>\n",
       "      <td>2015-01-10 19:00:00</td>\n",
       "      <td>27448.0</td>\n",
       "      <td>19</td>\n",
       "      <td>Saturday</td>\n",
       "      <td>no</td>\n",
       "      <td>-0.175740</td>\n",
       "    </tr>\n",
       "    <tr>\n",
       "      <th>4655</th>\n",
       "      <td>2015-01-10 23:00:00</td>\n",
       "      <td>28351.0</td>\n",
       "      <td>23</td>\n",
       "      <td>Saturday</td>\n",
       "      <td>yes</td>\n",
       "      <td>-0.204468</td>\n",
       "    </tr>\n",
       "    <tr>\n",
       "      <th>4795</th>\n",
       "      <td>2015-01-16 19:00:00</td>\n",
       "      <td>27571.5</td>\n",
       "      <td>19</td>\n",
       "      <td>Friday</td>\n",
       "      <td>no</td>\n",
       "      <td>-0.184483</td>\n",
       "    </tr>\n",
       "    <tr>\n",
       "      <th>4875</th>\n",
       "      <td>2015-01-20 03:00:00</td>\n",
       "      <td>1539.5</td>\n",
       "      <td>3</td>\n",
       "      <td>Tuesday</td>\n",
       "      <td>no</td>\n",
       "      <td>-0.162271</td>\n",
       "    </tr>\n",
       "    <tr>\n",
       "      <th>4876</th>\n",
       "      <td>2015-01-20 04:00:00</td>\n",
       "      <td>1677.5</td>\n",
       "      <td>4</td>\n",
       "      <td>Tuesday</td>\n",
       "      <td>no</td>\n",
       "      <td>-0.152395</td>\n",
       "    </tr>\n",
       "    <tr>\n",
       "      <th>5038</th>\n",
       "      <td>2015-01-26 22:00:00</td>\n",
       "      <td>1324.5</td>\n",
       "      <td>22</td>\n",
       "      <td>Monday</td>\n",
       "      <td>no</td>\n",
       "      <td>-0.175371</td>\n",
       "    </tr>\n",
       "    <tr>\n",
       "      <th>5039</th>\n",
       "      <td>2015-01-26 23:00:00</td>\n",
       "      <td>243.0</td>\n",
       "      <td>23</td>\n",
       "      <td>Monday</td>\n",
       "      <td>yes</td>\n",
       "      <td>-0.213134</td>\n",
       "    </tr>\n",
       "    <tr>\n",
       "      <th>5040</th>\n",
       "      <td>2015-01-27 00:00:00</td>\n",
       "      <td>94.5</td>\n",
       "      <td>0</td>\n",
       "      <td>Tuesday</td>\n",
       "      <td>yes</td>\n",
       "      <td>-0.217590</td>\n",
       "    </tr>\n",
       "    <tr>\n",
       "      <th>5041</th>\n",
       "      <td>2015-01-27 01:00:00</td>\n",
       "      <td>39.5</td>\n",
       "      <td>1</td>\n",
       "      <td>Tuesday</td>\n",
       "      <td>yes</td>\n",
       "      <td>-0.223440</td>\n",
       "    </tr>\n",
       "    <tr>\n",
       "      <th>5042</th>\n",
       "      <td>2015-01-27 02:00:00</td>\n",
       "      <td>29.0</td>\n",
       "      <td>2</td>\n",
       "      <td>Tuesday</td>\n",
       "      <td>yes</td>\n",
       "      <td>-0.223440</td>\n",
       "    </tr>\n",
       "    <tr>\n",
       "      <th>5043</th>\n",
       "      <td>2015-01-27 03:00:00</td>\n",
       "      <td>9.5</td>\n",
       "      <td>3</td>\n",
       "      <td>Tuesday</td>\n",
       "      <td>yes</td>\n",
       "      <td>-0.223440</td>\n",
       "    </tr>\n",
       "    <tr>\n",
       "      <th>5044</th>\n",
       "      <td>2015-01-27 04:00:00</td>\n",
       "      <td>14.5</td>\n",
       "      <td>4</td>\n",
       "      <td>Tuesday</td>\n",
       "      <td>yes</td>\n",
       "      <td>-0.223440</td>\n",
       "    </tr>\n",
       "    <tr>\n",
       "      <th>5045</th>\n",
       "      <td>2015-01-27 05:00:00</td>\n",
       "      <td>29.0</td>\n",
       "      <td>5</td>\n",
       "      <td>Tuesday</td>\n",
       "      <td>yes</td>\n",
       "      <td>-0.223440</td>\n",
       "    </tr>\n",
       "    <tr>\n",
       "      <th>5046</th>\n",
       "      <td>2015-01-27 06:00:00</td>\n",
       "      <td>88.0</td>\n",
       "      <td>6</td>\n",
       "      <td>Tuesday</td>\n",
       "      <td>yes</td>\n",
       "      <td>-0.220022</td>\n",
       "    </tr>\n",
       "    <tr>\n",
       "      <th>5047</th>\n",
       "      <td>2015-01-27 07:00:00</td>\n",
       "      <td>274.0</td>\n",
       "      <td>7</td>\n",
       "      <td>Tuesday</td>\n",
       "      <td>yes</td>\n",
       "      <td>-0.213134</td>\n",
       "    </tr>\n",
       "    <tr>\n",
       "      <th>5048</th>\n",
       "      <td>2015-01-27 08:00:00</td>\n",
       "      <td>809.5</td>\n",
       "      <td>8</td>\n",
       "      <td>Tuesday</td>\n",
       "      <td>yes</td>\n",
       "      <td>-0.193057</td>\n",
       "    </tr>\n",
       "    <tr>\n",
       "      <th>5067</th>\n",
       "      <td>2015-01-28 03:00:00</td>\n",
       "      <td>1289.5</td>\n",
       "      <td>3</td>\n",
       "      <td>Wednesday</td>\n",
       "      <td>no</td>\n",
       "      <td>-0.178672</td>\n",
       "    </tr>\n",
       "    <tr>\n",
       "      <th>5068</th>\n",
       "      <td>2015-01-28 04:00:00</td>\n",
       "      <td>1380.0</td>\n",
       "      <td>4</td>\n",
       "      <td>Wednesday</td>\n",
       "      <td>no</td>\n",
       "      <td>-0.174457</td>\n",
       "    </tr>\n",
       "    <tr>\n",
       "      <th>5131</th>\n",
       "      <td>2015-01-30 19:00:00</td>\n",
       "      <td>27698.0</td>\n",
       "      <td>19</td>\n",
       "      <td>Friday</td>\n",
       "      <td>no</td>\n",
       "      <td>-0.185874</td>\n",
       "    </tr>\n",
       "    <tr>\n",
       "      <th>5155</th>\n",
       "      <td>2015-01-31 19:00:00</td>\n",
       "      <td>28288.5</td>\n",
       "      <td>19</td>\n",
       "      <td>Saturday</td>\n",
       "      <td>yes</td>\n",
       "      <td>-0.203992</td>\n",
       "    </tr>\n",
       "  </tbody>\n",
       "</table>\n",
       "</div>"
      ],
      "text/plain": [
       "               timestamp    value  hour    weekday outliers     score\n",
       "1515 2014-09-02 03:00:00   1653.5     3    Tuesday       no -0.154163\n",
       "1630 2014-09-06 22:00:00  27414.0    22   Saturday       no -0.176655\n",
       "1631 2014-09-06 23:00:00  29418.5    23   Saturday      yes -0.207812\n",
       "1775 2014-09-12 23:00:00  27331.5    23     Friday       no -0.174276\n",
       "1942 2014-09-19 22:00:00  27385.5    22     Friday       no -0.177113\n",
       "2135 2014-09-27 23:00:00  28024.5    23   Saturday      yes -0.199718\n",
       "2471 2014-10-11 23:00:00  27117.5    23   Saturday       no -0.154806\n",
       "2635 2014-10-18 19:00:00  27341.0    19   Saturday       no -0.174276\n",
       "2639 2014-10-18 23:00:00  28253.5    23   Saturday      yes -0.203992\n",
       "2640 2014-10-19 00:00:00  27146.5     0     Sunday       no -0.157615\n",
       "2807 2014-10-25 23:00:00  27554.5    23   Saturday       no -0.184947\n",
       "2949 2014-10-31 21:00:00  27139.5    21     Friday       no -0.156136\n",
       "2971 2014-11-01 19:00:00  27912.0    19   Saturday      yes -0.195941\n",
       "2977 2014-11-02 01:00:00  37204.5     1     Sunday      yes -0.212718\n",
       "3116 2014-11-07 20:00:00  27101.0    20     Friday       no -0.151192\n",
       "3118 2014-11-07 22:00:00  27471.0    22     Friday       no -0.179408\n",
       "3139 2014-11-08 19:00:00  27344.0    19   Saturday       no -0.174732\n",
       "3143 2014-11-08 23:00:00  27926.0    23   Saturday      yes -0.195941\n",
       "3311 2014-11-15 23:00:00  27713.0    23   Saturday       no -0.185874\n",
       "3455 2014-11-21 23:00:00  27316.5    23     Friday       no -0.173820\n",
       "3479 2014-11-22 23:00:00  28299.0    23   Saturday      yes -0.203992\n",
       "3675 2014-12-01 03:00:00   1643.5     3     Monday       no -0.155049\n",
       "3815 2014-12-06 23:00:00  27454.0    23   Saturday       no -0.176198\n",
       "4413 2014-12-31 21:00:00  27559.5    21  Wednesday       no -0.184947\n",
       "4417 2015-01-01 01:00:00  29292.0     1   Thursday      yes -0.207812\n",
       "4515 2015-01-05 03:00:00   1653.0     3     Monday       no -0.154163\n",
       "4539 2015-01-06 03:00:00   1645.5     3    Tuesday       no -0.155049\n",
       "4627 2015-01-09 19:00:00  27559.5    19     Friday       no -0.184947\n",
       "4651 2015-01-10 19:00:00  27448.0    19   Saturday       no -0.175740\n",
       "4655 2015-01-10 23:00:00  28351.0    23   Saturday      yes -0.204468\n",
       "4795 2015-01-16 19:00:00  27571.5    19     Friday       no -0.184483\n",
       "4875 2015-01-20 03:00:00   1539.5     3    Tuesday       no -0.162271\n",
       "4876 2015-01-20 04:00:00   1677.5     4    Tuesday       no -0.152395\n",
       "5038 2015-01-26 22:00:00   1324.5    22     Monday       no -0.175371\n",
       "5039 2015-01-26 23:00:00    243.0    23     Monday      yes -0.213134\n",
       "5040 2015-01-27 00:00:00     94.5     0    Tuesday      yes -0.217590\n",
       "5041 2015-01-27 01:00:00     39.5     1    Tuesday      yes -0.223440\n",
       "5042 2015-01-27 02:00:00     29.0     2    Tuesday      yes -0.223440\n",
       "5043 2015-01-27 03:00:00      9.5     3    Tuesday      yes -0.223440\n",
       "5044 2015-01-27 04:00:00     14.5     4    Tuesday      yes -0.223440\n",
       "5045 2015-01-27 05:00:00     29.0     5    Tuesday      yes -0.223440\n",
       "5046 2015-01-27 06:00:00     88.0     6    Tuesday      yes -0.220022\n",
       "5047 2015-01-27 07:00:00    274.0     7    Tuesday      yes -0.213134\n",
       "5048 2015-01-27 08:00:00    809.5     8    Tuesday      yes -0.193057\n",
       "5067 2015-01-28 03:00:00   1289.5     3  Wednesday       no -0.178672\n",
       "5068 2015-01-28 04:00:00   1380.0     4  Wednesday       no -0.174457\n",
       "5131 2015-01-30 19:00:00  27698.0    19     Friday       no -0.185874\n",
       "5155 2015-01-31 19:00:00  28288.5    19   Saturday      yes -0.203992"
      ]
     },
     "execution_count": 44,
     "metadata": {},
     "output_type": "execute_result"
    }
   ],
   "source": [
    "df.query('score < -0.15')"
   ]
  },
  {
   "cell_type": "markdown",
   "id": "e6b2ac41",
   "metadata": {},
   "source": [
    "contamination parameter 와 임의로 설정한 threshold 결과를 비교하며 domain knowlege 이용하여 outlier 를 구분하면 된다."
   ]
  },
  {
   "cell_type": "code",
   "execution_count": null,
   "id": "91754201",
   "metadata": {},
   "outputs": [],
   "source": []
  }
 ],
 "metadata": {
  "kernelspec": {
   "display_name": "Python 3 (ipykernel)",
   "language": "python",
   "name": "python3"
  },
  "language_info": {
   "codemirror_mode": {
    "name": "ipython",
    "version": 3
   },
   "file_extension": ".py",
   "mimetype": "text/x-python",
   "name": "python",
   "nbconvert_exporter": "python",
   "pygments_lexer": "ipython3",
   "version": "3.8.12"
  }
 },
 "nbformat": 4,
 "nbformat_minor": 5
}
