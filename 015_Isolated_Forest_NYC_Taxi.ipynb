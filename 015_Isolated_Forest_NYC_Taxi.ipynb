{
 "cells": [
  {
   "cell_type": "markdown",
   "id": "48545fa2",
   "metadata": {},
   "source": [
    "# 015. Isolated Forest 를 이용한 NYC Taxi 탑승 정보 anomaly 검출\n",
    "\n",
    "- 이상을 감지하는 최신 기술 중 하나는 Isolation Forest 입니다. 이 알고리즘은 anomaly data가 few and different 데이터 포인트라는 사실을 기반으로 합니다. 이러한 속성의 결과로 anomaly data는 isolation 이라는 메커니즘에 영향을 받기 쉽습니다.  \n",
    "\n",
    "- 이 방법은 매우 유용하며 기존의 모든 방법과 근본적으로 다릅니다. 일반적으로 사용되는 기본 거리 및 밀도 측정 보다 이상을 감지하는 더 효과적이고 효율적인 수단으로 isolation을 사용합니다. 또한 이 방법은 선형 시간 복잡도가 낮고 메모리 요구 사항이 적은 알고리즘입니다. 데이터 세트의 크기에 관계없이 고정 크기의 작은 하위 샘플을 사용하여 적은 수의 트리로 우수한 성능의 모델을 구축합니다.\n",
    "\n",
    "- IsolationForest는 feature를 무작위로 선택한 다음 선택한 feature의 최대값과 최소값 사이의 분할 값을 무작위로 선택하여 관측치를 isolate 합니다.\n",
    "\n",
    "- 재귀 분할은 트리 구조로 나타낼 수 있으므로 샘플을 분리하는 데 필요한 분할 수는 루트 노드에서 종료 노드까지의 경로 길이와 동일합니다.\n",
    "\n",
    "- 이러한 random tree forest에서 평균을 낸 경로 길이는 정상성 판단과 결정 기능의 척도입니다.\n",
    "\n",
    "- 랜덤 파티셔닝은 anomaly에 대해 더 짧은 경로를 생성합니다. 따라서 random tree forest가 집합적으로 특정 샘플에 대해 더 짧은 경로 길이를 생성하면 anomaly일 가능성이 높습니다.\n",
    "\n",
    "- 일반적인 기계 학습 방법은 학습하려는 패턴이 균형을 이룰 때 더 잘 작동하는 경향이 있습니다.\n",
    "\n",
    "\n",
    "### 격리 포리스트의 작동 방식\n",
    "\n",
    "- Isolation Forest 알고리즘은 feature를 무작위로 선택한 다음 선택한 feature의 최대값과 최소값 사이의 분할 값을 무작위로 선택하여 관측치를 분리합니다. \n",
    "\n",
    "- Isolation forest는 기본적으로 데이터셋을 의사결정나무(Decision Tree) 형태로 표현해 정상값을 분리하기 위해서는 의사결정나무를 깊숙하게 타고 내려가야 하고, 반대로 이상값은 의사결정나무 상단부에서 분리할 수 있다는 것을 이용합니다. 이 특성을 사용해 의사결정나무를 몇 회 타고 내려가야 분리되는가를 기준으로 정상과 이상을 분리합니다.\n",
    "\n",
    "- 알고리즘이 분리를 구성하는 방법은 먼저 isolation tree 또는 random decision tree 를 만드는 것입니다. 그런 다음 sample을 분리하기 위한 path의 길이로 score 를 계산합니다.\n",
    "\n",
    "- Isolation forest의 장점\n",
    "\n",
    "    - 군집기반 이상탐지 알고리즘에 비해 계산량이 매우 적다   \n",
    "    - 강건한(Robust)한 모델을 만들 수 있다"
   ]
  },
  {
   "cell_type": "code",
   "execution_count": 1,
   "id": "1e7a7105",
   "metadata": {},
   "outputs": [],
   "source": [
    "import numpy as np\n",
    "import pandas as pd\n",
    "import os\n",
    "from datetime import datetime\n",
    "import matplotlib.pyplot as plt\n",
    "from sklearn.ensemble import IsolationForest\n",
    "import seaborn as sns\n",
    "plt.rcParams['figure.figsize'] = (4, 3)"
   ]
  },
  {
   "cell_type": "markdown",
   "id": "0d678bb6",
   "metadata": {},
   "source": [
    "### Data download\n",
    "\n",
    "- 2014년 7월 부터 2015년 1월까지의 New York 시의 taxi 탑승 횟수 정보를 30분 단위로 기록한 data \n",
    "- 요일별 / 시간별로 탑승횟수를 비교하여 이상치(교통량이 평소 보다 특별히 많거나 적은 날) 검출\n",
    "\n",
    "- 데이터 세트는 아래와 같은 feature들을 포함하고 있습니다:\n",
    "\n",
    "1. **timestamp**: 각 기록의 날짜와 시간을 나타냅니다. 이것은 대체로 '년-월-일 시:분:초' 형태로 주어집니다.  \n",
    "\n",
    "2. **value** (또는 **passenger_count**): 이 feature는 특정 시간대에 탑승한 승객 수를 나타낼 수 있습니다. 이는 택시의 이용량을 측정하는데 사용됩니다.  \n",
    "\n",
    "데이터는 Numenta Anomaly Benchmark(NAB)에서 제공되므로, 'value' feature는 특이치 탐지를 위해 사용됩니다. 이 데이터는 뉴욕 시의 택시 이용량이 특정 시간대나 날짜에 어떻게 변하는지를 분석하는데 사용될 수 있습니다. 예를 들어, 특정 행사나 사건이 일어난 날의 이용량이 일반적인 날들과 어떻게 다른지를 파악하는데 사용될 수 있습니다. "
   ]
  },
  {
   "cell_type": "code",
   "execution_count": 2,
   "id": "a9dc7e95",
   "metadata": {},
   "outputs": [
    {
     "data": {
      "text/html": [
       "<div>\n",
       "<style scoped>\n",
       "    .dataframe tbody tr th:only-of-type {\n",
       "        vertical-align: middle;\n",
       "    }\n",
       "\n",
       "    .dataframe tbody tr th {\n",
       "        vertical-align: top;\n",
       "    }\n",
       "\n",
       "    .dataframe thead th {\n",
       "        text-align: right;\n",
       "    }\n",
       "</style>\n",
       "<table border=\"1\" class=\"dataframe\">\n",
       "  <thead>\n",
       "    <tr style=\"text-align: right;\">\n",
       "      <th></th>\n",
       "      <th>timestamp</th>\n",
       "      <th>value</th>\n",
       "    </tr>\n",
       "  </thead>\n",
       "  <tbody>\n",
       "    <tr>\n",
       "      <th>0</th>\n",
       "      <td>2014-07-01 00:00:00</td>\n",
       "      <td>10844</td>\n",
       "    </tr>\n",
       "    <tr>\n",
       "      <th>1</th>\n",
       "      <td>2014-07-01 00:30:00</td>\n",
       "      <td>8127</td>\n",
       "    </tr>\n",
       "    <tr>\n",
       "      <th>2</th>\n",
       "      <td>2014-07-01 01:00:00</td>\n",
       "      <td>6210</td>\n",
       "    </tr>\n",
       "    <tr>\n",
       "      <th>3</th>\n",
       "      <td>2014-07-01 01:30:00</td>\n",
       "      <td>4656</td>\n",
       "    </tr>\n",
       "    <tr>\n",
       "      <th>4</th>\n",
       "      <td>2014-07-01 02:00:00</td>\n",
       "      <td>3820</td>\n",
       "    </tr>\n",
       "  </tbody>\n",
       "</table>\n",
       "</div>"
      ],
      "text/plain": [
       "             timestamp  value\n",
       "0  2014-07-01 00:00:00  10844\n",
       "1  2014-07-01 00:30:00   8127\n",
       "2  2014-07-01 01:00:00   6210\n",
       "3  2014-07-01 01:30:00   4656\n",
       "4  2014-07-01 02:00:00   3820"
      ]
     },
     "execution_count": 2,
     "metadata": {},
     "output_type": "execute_result"
    }
   ],
   "source": [
    "url = \"https://raw.githubusercontent.com/numenta/NAB/master/data/realKnownCause/nyc_taxi.csv\"\n",
    "df = pd.read_csv(url)\n",
    "df.head()"
   ]
  },
  {
   "cell_type": "code",
   "execution_count": 3,
   "id": "58ae5a95",
   "metadata": {},
   "outputs": [
    {
     "name": "stdout",
     "output_type": "stream",
     "text": [
      "<class 'pandas.core.frame.DataFrame'>\n",
      "RangeIndex: 10320 entries, 0 to 10319\n",
      "Data columns (total 2 columns):\n",
      " #   Column     Non-Null Count  Dtype \n",
      "---  ------     --------------  ----- \n",
      " 0   timestamp  10320 non-null  object\n",
      " 1   value      10320 non-null  int64 \n",
      "dtypes: int64(1), object(1)\n",
      "memory usage: 161.4+ KB\n"
     ]
    }
   ],
   "source": [
    "df.info()"
   ]
  },
  {
   "cell_type": "markdown",
   "id": "911a0d38",
   "metadata": {},
   "source": [
    "- timestamp column 을 object --> datetime64 로 변경"
   ]
  },
  {
   "cell_type": "code",
   "execution_count": 4,
   "id": "49d34a06",
   "metadata": {},
   "outputs": [
    {
     "name": "stdout",
     "output_type": "stream",
     "text": [
      "<class 'pandas.core.frame.DataFrame'>\n",
      "RangeIndex: 10320 entries, 0 to 10319\n",
      "Data columns (total 2 columns):\n",
      " #   Column     Non-Null Count  Dtype         \n",
      "---  ------     --------------  -----         \n",
      " 0   timestamp  10320 non-null  datetime64[ns]\n",
      " 1   value      10320 non-null  int64         \n",
      "dtypes: datetime64[ns](1), int64(1)\n",
      "memory usage: 161.4 KB\n"
     ]
    }
   ],
   "source": [
    "df['timestamp'] = pd.to_datetime(df['timestamp'])\n",
    "df.info()"
   ]
  },
  {
   "cell_type": "markdown",
   "id": "0ada6ac8",
   "metadata": {},
   "source": [
    "## Feature Engineering"
   ]
  },
  {
   "cell_type": "markdown",
   "id": "21d6fe97",
   "metadata": {},
   "source": [
    "- 시간 간격이 30분 단위이면 다루기 어려우므로, 1 시간 단위로 resample"
   ]
  },
  {
   "cell_type": "code",
   "execution_count": 5,
   "id": "6dc62790",
   "metadata": {},
   "outputs": [
    {
     "data": {
      "text/html": [
       "<div>\n",
       "<style scoped>\n",
       "    .dataframe tbody tr th:only-of-type {\n",
       "        vertical-align: middle;\n",
       "    }\n",
       "\n",
       "    .dataframe tbody tr th {\n",
       "        vertical-align: top;\n",
       "    }\n",
       "\n",
       "    .dataframe thead th {\n",
       "        text-align: right;\n",
       "    }\n",
       "</style>\n",
       "<table border=\"1\" class=\"dataframe\">\n",
       "  <thead>\n",
       "    <tr style=\"text-align: right;\">\n",
       "      <th></th>\n",
       "      <th>timestamp</th>\n",
       "      <th>value</th>\n",
       "    </tr>\n",
       "  </thead>\n",
       "  <tbody>\n",
       "    <tr>\n",
       "      <th>0</th>\n",
       "      <td>2014-07-01 00:00:00</td>\n",
       "      <td>9485.5</td>\n",
       "    </tr>\n",
       "    <tr>\n",
       "      <th>1</th>\n",
       "      <td>2014-07-01 01:00:00</td>\n",
       "      <td>5433.0</td>\n",
       "    </tr>\n",
       "    <tr>\n",
       "      <th>2</th>\n",
       "      <td>2014-07-01 02:00:00</td>\n",
       "      <td>3346.5</td>\n",
       "    </tr>\n",
       "    <tr>\n",
       "      <th>3</th>\n",
       "      <td>2014-07-01 03:00:00</td>\n",
       "      <td>2216.5</td>\n",
       "    </tr>\n",
       "    <tr>\n",
       "      <th>4</th>\n",
       "      <td>2014-07-01 04:00:00</td>\n",
       "      <td>2189.5</td>\n",
       "    </tr>\n",
       "  </tbody>\n",
       "</table>\n",
       "</div>"
      ],
      "text/plain": [
       "            timestamp   value\n",
       "0 2014-07-01 00:00:00  9485.5\n",
       "1 2014-07-01 01:00:00  5433.0\n",
       "2 2014-07-01 02:00:00  3346.5\n",
       "3 2014-07-01 03:00:00  2216.5\n",
       "4 2014-07-01 04:00:00  2189.5"
      ]
     },
     "execution_count": 5,
     "metadata": {},
     "output_type": "execute_result"
    }
   ],
   "source": [
    "df = df.set_index('timestamp').resample('H').mean().reset_index()\n",
    "df.head()"
   ]
  },
  {
   "cell_type": "markdown",
   "id": "2f28c25d",
   "metadata": {},
   "source": [
    "-  `timestamp`로 부터 `시간`, `요일`을 new feature로 생성하여  column 추가  "
   ]
  },
  {
   "cell_type": "code",
   "execution_count": 6,
   "id": "1eee7811",
   "metadata": {},
   "outputs": [
    {
     "data": {
      "text/html": [
       "<div>\n",
       "<style scoped>\n",
       "    .dataframe tbody tr th:only-of-type {\n",
       "        vertical-align: middle;\n",
       "    }\n",
       "\n",
       "    .dataframe tbody tr th {\n",
       "        vertical-align: top;\n",
       "    }\n",
       "\n",
       "    .dataframe thead th {\n",
       "        text-align: right;\n",
       "    }\n",
       "</style>\n",
       "<table border=\"1\" class=\"dataframe\">\n",
       "  <thead>\n",
       "    <tr style=\"text-align: right;\">\n",
       "      <th></th>\n",
       "      <th>timestamp</th>\n",
       "      <th>value</th>\n",
       "      <th>hour</th>\n",
       "      <th>weekday</th>\n",
       "    </tr>\n",
       "  </thead>\n",
       "  <tbody>\n",
       "    <tr>\n",
       "      <th>0</th>\n",
       "      <td>2014-07-01 00:00:00</td>\n",
       "      <td>9485.5</td>\n",
       "      <td>0</td>\n",
       "      <td>Tuesday</td>\n",
       "    </tr>\n",
       "    <tr>\n",
       "      <th>1</th>\n",
       "      <td>2014-07-01 01:00:00</td>\n",
       "      <td>5433.0</td>\n",
       "      <td>1</td>\n",
       "      <td>Tuesday</td>\n",
       "    </tr>\n",
       "    <tr>\n",
       "      <th>2</th>\n",
       "      <td>2014-07-01 02:00:00</td>\n",
       "      <td>3346.5</td>\n",
       "      <td>2</td>\n",
       "      <td>Tuesday</td>\n",
       "    </tr>\n",
       "    <tr>\n",
       "      <th>3</th>\n",
       "      <td>2014-07-01 03:00:00</td>\n",
       "      <td>2216.5</td>\n",
       "      <td>3</td>\n",
       "      <td>Tuesday</td>\n",
       "    </tr>\n",
       "    <tr>\n",
       "      <th>4</th>\n",
       "      <td>2014-07-01 04:00:00</td>\n",
       "      <td>2189.5</td>\n",
       "      <td>4</td>\n",
       "      <td>Tuesday</td>\n",
       "    </tr>\n",
       "  </tbody>\n",
       "</table>\n",
       "</div>"
      ],
      "text/plain": [
       "            timestamp   value  hour  weekday\n",
       "0 2014-07-01 00:00:00  9485.5     0  Tuesday\n",
       "1 2014-07-01 01:00:00  5433.0     1  Tuesday\n",
       "2 2014-07-01 02:00:00  3346.5     2  Tuesday\n",
       "3 2014-07-01 03:00:00  2216.5     3  Tuesday\n",
       "4 2014-07-01 04:00:00  2189.5     4  Tuesday"
      ]
     },
     "execution_count": 6,
     "metadata": {},
     "output_type": "execute_result"
    }
   ],
   "source": [
    "df['hour'] = df.timestamp.dt.hour\n",
    "df['weekday'] = df.timestamp.dt.strftime('%A')\n",
    "\n",
    "df.head()"
   ]
  },
  {
   "cell_type": "markdown",
   "id": "66f3b502",
   "metadata": {},
   "source": [
    "## EDA를 통해 시각적으로 Abnormal 한 날짜 검출"
   ]
  },
  {
   "cell_type": "markdown",
   "id": "2331e6c2",
   "metadata": {},
   "source": [
    "- 요일별 평균 탑승 횟수 시각화"
   ]
  },
  {
   "cell_type": "code",
   "execution_count": 7,
   "id": "1fe860e6",
   "metadata": {
    "scrolled": false
   },
   "outputs": [
    {
     "data": {
      "text/plain": [
       "<AxesSubplot:xlabel='weekday'>"
      ]
     },
     "execution_count": 7,
     "metadata": {},
     "output_type": "execute_result"
    },
    {
     "data": {
      "image/png": "[encoded data removed]",
      "text/plain": [
       "<Figure size 400x300 with 1 Axes>"
      ]
     },
     "metadata": {},
     "output_type": "display_data"
    }
   ],
   "source": [
    "df[['value', 'weekday']].groupby('weekday').mean().plot(kind='bar')"
   ]
  },
  {
   "cell_type": "markdown",
   "id": "13204ca9",
   "metadata": {},
   "source": [
    "- 시간대별 평균 탑승 횟수 시각화"
   ]
  },
  {
   "cell_type": "code",
   "execution_count": 8,
   "id": "798ce167",
   "metadata": {},
   "outputs": [
    {
     "data": {
      "text/plain": [
       "<AxesSubplot:xlabel='hour'>"
      ]
     },
     "execution_count": 8,
     "metadata": {},
     "output_type": "execute_result"
    },
    {
     "data": {
      "image/png": "[encoded data removed]",
      "text/plain": [
       "<Figure size 400x300 with 1 Axes>"
      ]
     },
     "metadata": {},
     "output_type": "display_data"
    }
   ],
   "source": [
    "df[['value', 'hour']].groupby('hour').mean().plot(kind='bar')"
   ]
  },
  {
   "cell_type": "markdown",
   "id": "be5fc337",
   "metadata": {},
   "source": [
    "- 전체 시계열 시각화"
   ]
  },
  {
   "cell_type": "code",
   "execution_count": 9,
   "id": "2a11a5e0",
   "metadata": {},
   "outputs": [
    {
     "data": {
      "image/png": "[encoded data removed]",
      "text/plain": [
       "<Figure size 1800x400 with 1 Axes>"
      ]
     },
     "metadata": {},
     "output_type": "display_data"
    }
   ],
   "source": [
    "plt.figure(figsize=(18, 4))\n",
    "plt.bar(df.timestamp, df.value)\n",
    "plt.xticks(rotation=90);"
   ]
  },
  {
   "cell_type": "markdown",
   "id": "31d212df",
   "metadata": {},
   "source": [
    "2014.11 부근에 큰 peak 가 보이고, 2015.2 이전에 매우 작은 값이 보인다.  \n",
    "2014-11-02 는 뉴욕마라톤이 있어 관광객이 많았으며,  2015-01-27 에는 눈보라가 있어 교통이 마비 되었음.  \n",
    "\n",
    "해당일자 기간을 확대하여 시각화"
   ]
  },
  {
   "cell_type": "code",
   "execution_count": 10,
   "id": "89a3ab1b",
   "metadata": {},
   "outputs": [
    {
     "data": {
      "text/plain": [
       "<AxesSubplot:xlabel='timestamp'>"
      ]
     },
     "execution_count": 10,
     "metadata": {},
     "output_type": "execute_result"
    },
    {
     "data": {
      "image/png": "[encoded data removed]",
      "text/plain": [
       "<Figure size 400x300 with 1 Axes>"
      ]
     },
     "metadata": {},
     "output_type": "display_data"
    }
   ],
   "source": [
    "series = df.set_index('timestamp').loc['2014-10':'2014-12']['value']\n",
    "series.plot()"
   ]
  },
  {
   "cell_type": "code",
   "execution_count": 11,
   "id": "25d7cee9",
   "metadata": {},
   "outputs": [
    {
     "data": {
      "text/plain": [
       "<AxesSubplot:xlabel='timestamp'>"
      ]
     },
     "execution_count": 11,
     "metadata": {},
     "output_type": "execute_result"
    },
    {
     "data": {
      "image/png": "[encoded data removed]",
      "text/plain": [
       "<Figure size 400x300 with 1 Axes>"
      ]
     },
     "metadata": {},
     "output_type": "display_data"
    }
   ],
   "source": [
    "series = df.set_index('timestamp').loc['2015-01':'2015-02']['value']\n",
    "series.plot()"
   ]
  },
  {
   "cell_type": "markdown",
   "id": "8d96d16f",
   "metadata": {},
   "source": [
    "## Isolated Forest를 이용하여 이상치 검출"
   ]
  },
  {
   "cell_type": "markdown",
   "id": "1ef21a70",
   "metadata": {},
   "source": [
    "### 1 - contamination parameter 를 이용한 threshold control  \n",
    "contamination parameter - dataset 내의 이상치 비율"
   ]
  },
  {
   "cell_type": "code",
   "execution_count": 12,
   "id": "cf7e42ce",
   "metadata": {},
   "outputs": [
    {
     "data": {
      "text/plain": [
       "IsolationForest(contamination=0.004, n_estimators=500, random_state=0)"
      ]
     },
     "execution_count": 12,
     "metadata": {},
     "output_type": "execute_result"
    }
   ],
   "source": [
    "model = IsolationForest(n_estimators=500, \n",
    "                        contamination=0.004, random_state=0)\n",
    "model.fit(df[['value','hour']].values)"
   ]
  },
  {
   "cell_type": "markdown",
   "id": "26be66e9",
   "metadata": {},
   "source": [
    "outliers 검출. anomaly 는 -1. normal 은 1."
   ]
  },
  {
   "cell_type": "code",
   "execution_count": 13,
   "id": "d23cfefd",
   "metadata": {},
   "outputs": [
    {
     "data": {
      "text/plain": [
       "array([-1,  1])"
      ]
     },
     "execution_count": 13,
     "metadata": {},
     "output_type": "execute_result"
    }
   ],
   "source": [
    "np.unique(model.predict(df[['value', 'hour']].values))"
   ]
  },
  {
   "cell_type": "markdown",
   "id": "ddb64825",
   "metadata": {},
   "source": [
    "outlier는 `yes`로 표시."
   ]
  },
  {
   "cell_type": "code",
   "execution_count": 14,
   "id": "03be864c",
   "metadata": {},
   "outputs": [],
   "source": [
    "df['outliers'] = pd.Series(\n",
    "    model.predict(df[['value', 'hour']].values)\n",
    ").apply(lambda x: 'yes' if (x == -1) else 'no')"
   ]
  },
  {
   "cell_type": "code",
   "execution_count": 15,
   "id": "39a80cc1",
   "metadata": {},
   "outputs": [
    {
     "data": {
      "text/html": [
       "<div>\n",
       "<style scoped>\n",
       "    .dataframe tbody tr th:only-of-type {\n",
       "        vertical-align: middle;\n",
       "    }\n",
       "\n",
       "    .dataframe tbody tr th {\n",
       "        vertical-align: top;\n",
       "    }\n",
       "\n",
       "    .dataframe thead th {\n",
       "        text-align: right;\n",
       "    }\n",
       "</style>\n",
       "<table border=\"1\" class=\"dataframe\">\n",
       "  <thead>\n",
       "    <tr style=\"text-align: right;\">\n",
       "      <th></th>\n",
       "      <th>timestamp</th>\n",
       "      <th>value</th>\n",
       "      <th>hour</th>\n",
       "      <th>weekday</th>\n",
       "      <th>outliers</th>\n",
       "    </tr>\n",
       "  </thead>\n",
       "  <tbody>\n",
       "    <tr>\n",
       "      <th>1631</th>\n",
       "      <td>2014-09-06 23:00:00</td>\n",
       "      <td>29418.5</td>\n",
       "      <td>23</td>\n",
       "      <td>Saturday</td>\n",
       "      <td>yes</td>\n",
       "    </tr>\n",
       "    <tr>\n",
       "      <th>1800</th>\n",
       "      <td>2014-09-14 00:00:00</td>\n",
       "      <td>26473.5</td>\n",
       "      <td>0</td>\n",
       "      <td>Sunday</td>\n",
       "      <td>yes</td>\n",
       "    </tr>\n",
       "    <tr>\n",
       "      <th>1968</th>\n",
       "      <td>2014-09-21 00:00:00</td>\n",
       "      <td>25969.0</td>\n",
       "      <td>0</td>\n",
       "      <td>Sunday</td>\n",
       "      <td>yes</td>\n",
       "    </tr>\n",
       "    <tr>\n",
       "      <th>2136</th>\n",
       "      <td>2014-09-28 00:00:00</td>\n",
       "      <td>26794.5</td>\n",
       "      <td>0</td>\n",
       "      <td>Sunday</td>\n",
       "      <td>yes</td>\n",
       "    </tr>\n",
       "    <tr>\n",
       "      <th>2472</th>\n",
       "      <td>2014-10-12 00:00:00</td>\n",
       "      <td>26005.0</td>\n",
       "      <td>0</td>\n",
       "      <td>Sunday</td>\n",
       "      <td>yes</td>\n",
       "    </tr>\n",
       "    <tr>\n",
       "      <th>2640</th>\n",
       "      <td>2014-10-19 00:00:00</td>\n",
       "      <td>27146.5</td>\n",
       "      <td>0</td>\n",
       "      <td>Sunday</td>\n",
       "      <td>yes</td>\n",
       "    </tr>\n",
       "    <tr>\n",
       "      <th>2808</th>\n",
       "      <td>2014-10-26 00:00:00</td>\n",
       "      <td>26560.0</td>\n",
       "      <td>0</td>\n",
       "      <td>Sunday</td>\n",
       "      <td>yes</td>\n",
       "    </tr>\n",
       "    <tr>\n",
       "      <th>2977</th>\n",
       "      <td>2014-11-02 01:00:00</td>\n",
       "      <td>37204.5</td>\n",
       "      <td>1</td>\n",
       "      <td>Sunday</td>\n",
       "      <td>yes</td>\n",
       "    </tr>\n",
       "    <tr>\n",
       "      <th>3144</th>\n",
       "      <td>2014-11-09 00:00:00</td>\n",
       "      <td>26069.5</td>\n",
       "      <td>0</td>\n",
       "      <td>Sunday</td>\n",
       "      <td>yes</td>\n",
       "    </tr>\n",
       "    <tr>\n",
       "      <th>3312</th>\n",
       "      <td>2014-11-16 00:00:00</td>\n",
       "      <td>25931.5</td>\n",
       "      <td>0</td>\n",
       "      <td>Sunday</td>\n",
       "      <td>yes</td>\n",
       "    </tr>\n",
       "    <tr>\n",
       "      <th>3480</th>\n",
       "      <td>2014-11-23 00:00:00</td>\n",
       "      <td>26458.5</td>\n",
       "      <td>0</td>\n",
       "      <td>Sunday</td>\n",
       "      <td>yes</td>\n",
       "    </tr>\n",
       "    <tr>\n",
       "      <th>3816</th>\n",
       "      <td>2014-12-07 00:00:00</td>\n",
       "      <td>26160.5</td>\n",
       "      <td>0</td>\n",
       "      <td>Sunday</td>\n",
       "      <td>yes</td>\n",
       "    </tr>\n",
       "    <tr>\n",
       "      <th>3984</th>\n",
       "      <td>2014-12-14 00:00:00</td>\n",
       "      <td>25905.0</td>\n",
       "      <td>0</td>\n",
       "      <td>Sunday</td>\n",
       "      <td>yes</td>\n",
       "    </tr>\n",
       "    <tr>\n",
       "      <th>4271</th>\n",
       "      <td>2014-12-25 23:00:00</td>\n",
       "      <td>7977.5</td>\n",
       "      <td>23</td>\n",
       "      <td>Thursday</td>\n",
       "      <td>yes</td>\n",
       "    </tr>\n",
       "    <tr>\n",
       "      <th>4416</th>\n",
       "      <td>2015-01-01 00:00:00</td>\n",
       "      <td>25850.0</td>\n",
       "      <td>0</td>\n",
       "      <td>Thursday</td>\n",
       "      <td>yes</td>\n",
       "    </tr>\n",
       "    <tr>\n",
       "      <th>4417</th>\n",
       "      <td>2015-01-01 01:00:00</td>\n",
       "      <td>29292.0</td>\n",
       "      <td>1</td>\n",
       "      <td>Thursday</td>\n",
       "      <td>yes</td>\n",
       "    </tr>\n",
       "    <tr>\n",
       "      <th>4656</th>\n",
       "      <td>2015-01-11 00:00:00</td>\n",
       "      <td>25721.5</td>\n",
       "      <td>0</td>\n",
       "      <td>Sunday</td>\n",
       "      <td>yes</td>\n",
       "    </tr>\n",
       "    <tr>\n",
       "      <th>5037</th>\n",
       "      <td>2015-01-26 21:00:00</td>\n",
       "      <td>2907.0</td>\n",
       "      <td>21</td>\n",
       "      <td>Monday</td>\n",
       "      <td>yes</td>\n",
       "    </tr>\n",
       "    <tr>\n",
       "      <th>5038</th>\n",
       "      <td>2015-01-26 22:00:00</td>\n",
       "      <td>1324.5</td>\n",
       "      <td>22</td>\n",
       "      <td>Monday</td>\n",
       "      <td>yes</td>\n",
       "    </tr>\n",
       "    <tr>\n",
       "      <th>5039</th>\n",
       "      <td>2015-01-26 23:00:00</td>\n",
       "      <td>243.0</td>\n",
       "      <td>23</td>\n",
       "      <td>Monday</td>\n",
       "      <td>yes</td>\n",
       "    </tr>\n",
       "    <tr>\n",
       "      <th>5063</th>\n",
       "      <td>2015-01-27 23:00:00</td>\n",
       "      <td>7792.0</td>\n",
       "      <td>23</td>\n",
       "      <td>Tuesday</td>\n",
       "      <td>yes</td>\n",
       "    </tr>\n",
       "  </tbody>\n",
       "</table>\n",
       "</div>"
      ],
      "text/plain": [
       "               timestamp    value  hour   weekday outliers\n",
       "1631 2014-09-06 23:00:00  29418.5    23  Saturday      yes\n",
       "1800 2014-09-14 00:00:00  26473.5     0    Sunday      yes\n",
       "1968 2014-09-21 00:00:00  25969.0     0    Sunday      yes\n",
       "2136 2014-09-28 00:00:00  26794.5     0    Sunday      yes\n",
       "2472 2014-10-12 00:00:00  26005.0     0    Sunday      yes\n",
       "2640 2014-10-19 00:00:00  27146.5     0    Sunday      yes\n",
       "2808 2014-10-26 00:00:00  26560.0     0    Sunday      yes\n",
       "2977 2014-11-02 01:00:00  37204.5     1    Sunday      yes\n",
       "3144 2014-11-09 00:00:00  26069.5     0    Sunday      yes\n",
       "3312 2014-11-16 00:00:00  25931.5     0    Sunday      yes\n",
       "3480 2014-11-23 00:00:00  26458.5     0    Sunday      yes\n",
       "3816 2014-12-07 00:00:00  26160.5     0    Sunday      yes\n",
       "3984 2014-12-14 00:00:00  25905.0     0    Sunday      yes\n",
       "4271 2014-12-25 23:00:00   7977.5    23  Thursday      yes\n",
       "4416 2015-01-01 00:00:00  25850.0     0  Thursday      yes\n",
       "4417 2015-01-01 01:00:00  29292.0     1  Thursday      yes\n",
       "4656 2015-01-11 00:00:00  25721.5     0    Sunday      yes\n",
       "5037 2015-01-26 21:00:00   2907.0    21    Monday      yes\n",
       "5038 2015-01-26 22:00:00   1324.5    22    Monday      yes\n",
       "5039 2015-01-26 23:00:00    243.0    23    Monday      yes\n",
       "5063 2015-01-27 23:00:00   7792.0    23   Tuesday      yes"
      ]
     },
     "execution_count": 15,
     "metadata": {},
     "output_type": "execute_result"
    }
   ],
   "source": [
    "df.query('outliers == \"yes\"')"
   ]
  },
  {
   "cell_type": "markdown",
   "id": "c1850e21",
   "metadata": {},
   "source": [
    "outlier 만의 value(Taxi 사용량)을  시각화해 봅니다."
   ]
  },
  {
   "cell_type": "code",
   "execution_count": 17,
   "id": "56a323b5",
   "metadata": {},
   "outputs": [
    {
     "data": {
      "text/plain": [
       "<AxesSubplot:xlabel='timestamp', ylabel='value'>"
      ]
     },
     "execution_count": 17,
     "metadata": {},
     "output_type": "execute_result"
    },
    {
     "data": {
      "image/png": "[encoded data removed]",
      "text/plain": [
       "<Figure size 400x300 with 1 Axes>"
      ]
     },
     "metadata": {},
     "output_type": "display_data"
    }
   ],
   "source": [
    "sns.lineplot(x='timestamp', y='value', \n",
    "             data=df.query('outliers == \"yes\"'))"
   ]
  },
  {
   "cell_type": "markdown",
   "id": "3e8f63c1",
   "metadata": {},
   "source": [
    "### 2 - 임의의 threshold 설정 \n",
    "\n",
    "scores - 입력 샘플의 anomaly score 입니다. 낮을수록 비정상적입니다. 음수 점수는 outlier를 나타내고 양수 점수는 inlier를 나타냅니다."
   ]
  },
  {
   "cell_type": "code",
   "execution_count": 18,
   "id": "2b225325",
   "metadata": {},
   "outputs": [
    {
     "data": {
      "text/plain": [
       "IsolationForest(n_estimators=500, random_state=0)"
      ]
     },
     "execution_count": 18,
     "metadata": {},
     "output_type": "execute_result"
    }
   ],
   "source": [
    "model = IsolationForest(n_estimators=500, random_state=0)\n",
    "model.fit(df[['value', 'value']].values)"
   ]
  },
  {
   "cell_type": "markdown",
   "id": "acaecf39",
   "metadata": {},
   "source": [
    "- decision_function - 평균 anomaly score 계산"
   ]
  },
  {
   "cell_type": "code",
   "execution_count": 21,
   "id": "3ca0545d",
   "metadata": {},
   "outputs": [
    {
     "data": {
      "text/plain": [
       "array([-0.13201797, -0.12629349, -0.11381838, ..., -0.1392267 ,\n",
       "       -0.15800506, -0.15583267])"
      ]
     },
     "execution_count": 21,
     "metadata": {},
     "output_type": "execute_result"
    }
   ],
   "source": [
    "score = model.decision_function(df[['value', 'hour']].values)\n",
    "score"
   ]
  },
  {
   "cell_type": "code",
   "execution_count": 22,
   "id": "d9b26482",
   "metadata": {},
   "outputs": [
    {
     "data": {
      "text/plain": [
       "Text(0, 0.5, 'frequencey')"
      ]
     },
     "execution_count": 22,
     "metadata": {},
     "output_type": "execute_result"
    },
    {
     "data": {
      "image/png": "[encoded data removed]",
      "text/plain": [
       "<Figure size 400x300 with 1 Axes>"
      ]
     },
     "metadata": {},
     "output_type": "display_data"
    }
   ],
   "source": [
    "plt.hist(score, bins=50);\n",
    "plt.xlabel(\"score\")\n",
    "plt.ylabel(\"frequencey\")"
   ]
  },
  {
   "cell_type": "code",
   "execution_count": 23,
   "id": "8dfe161e",
   "metadata": {},
   "outputs": [
    {
     "data": {
      "text/html": [
       "<div>\n",
       "<style scoped>\n",
       "    .dataframe tbody tr th:only-of-type {\n",
       "        vertical-align: middle;\n",
       "    }\n",
       "\n",
       "    .dataframe tbody tr th {\n",
       "        vertical-align: top;\n",
       "    }\n",
       "\n",
       "    .dataframe thead th {\n",
       "        text-align: right;\n",
       "    }\n",
       "</style>\n",
       "<table border=\"1\" class=\"dataframe\">\n",
       "  <thead>\n",
       "    <tr style=\"text-align: right;\">\n",
       "      <th></th>\n",
       "      <th>timestamp</th>\n",
       "      <th>value</th>\n",
       "      <th>hour</th>\n",
       "      <th>weekday</th>\n",
       "      <th>outliers</th>\n",
       "      <th>score</th>\n",
       "    </tr>\n",
       "  </thead>\n",
       "  <tbody>\n",
       "    <tr>\n",
       "      <th>0</th>\n",
       "      <td>2014-07-01 00:00:00</td>\n",
       "      <td>9485.5</td>\n",
       "      <td>0</td>\n",
       "      <td>Tuesday</td>\n",
       "      <td>no</td>\n",
       "      <td>-0.132018</td>\n",
       "    </tr>\n",
       "    <tr>\n",
       "      <th>1</th>\n",
       "      <td>2014-07-01 01:00:00</td>\n",
       "      <td>5433.0</td>\n",
       "      <td>1</td>\n",
       "      <td>Tuesday</td>\n",
       "      <td>no</td>\n",
       "      <td>-0.126293</td>\n",
       "    </tr>\n",
       "    <tr>\n",
       "      <th>2</th>\n",
       "      <td>2014-07-01 02:00:00</td>\n",
       "      <td>3346.5</td>\n",
       "      <td>2</td>\n",
       "      <td>Tuesday</td>\n",
       "      <td>no</td>\n",
       "      <td>-0.113818</td>\n",
       "    </tr>\n",
       "    <tr>\n",
       "      <th>3</th>\n",
       "      <td>2014-07-01 03:00:00</td>\n",
       "      <td>2216.5</td>\n",
       "      <td>3</td>\n",
       "      <td>Tuesday</td>\n",
       "      <td>no</td>\n",
       "      <td>-0.143092</td>\n",
       "    </tr>\n",
       "    <tr>\n",
       "      <th>4</th>\n",
       "      <td>2014-07-01 04:00:00</td>\n",
       "      <td>2189.5</td>\n",
       "      <td>4</td>\n",
       "      <td>Tuesday</td>\n",
       "      <td>no</td>\n",
       "      <td>-0.143956</td>\n",
       "    </tr>\n",
       "  </tbody>\n",
       "</table>\n",
       "</div>"
      ],
      "text/plain": [
       "            timestamp   value  hour  weekday outliers     score\n",
       "0 2014-07-01 00:00:00  9485.5     0  Tuesday       no -0.132018\n",
       "1 2014-07-01 01:00:00  5433.0     1  Tuesday       no -0.126293\n",
       "2 2014-07-01 02:00:00  3346.5     2  Tuesday       no -0.113818\n",
       "3 2014-07-01 03:00:00  2216.5     3  Tuesday       no -0.143092\n",
       "4 2014-07-01 04:00:00  2189.5     4  Tuesday       no -0.143956"
      ]
     },
     "execution_count": 23,
     "metadata": {},
     "output_type": "execute_result"
    }
   ],
   "source": [
    "df['score'] = score\n",
    "df.head()"
   ]
  },
  {
   "cell_type": "markdown",
   "id": "74414500",
   "metadata": {},
   "source": [
    "contamination parameter 와 임의의 score로 설정한 threshold 결과를 조합하여 비교하며 domain knowlege를 이용하여 outlier(교통량이 평소보다 특별히 많거나 적은 날) 를 구분하면 된다.  \n",
    "\n",
    "- 2014-07-04~07 : 독립기념일  \n",
    "- 2014-09-06 : 노동절 행진  \n",
    "- 2014-11-02 : 뉴욕 마라톤 대회  \n",
    "- 2015-01-26~28 : 심한 눈보라"
   ]
  },
  {
   "cell_type": "code",
   "execution_count": 24,
   "id": "cc17676f",
   "metadata": {},
   "outputs": [
    {
     "data": {
      "text/html": [
       "<div>\n",
       "<style scoped>\n",
       "    .dataframe tbody tr th:only-of-type {\n",
       "        vertical-align: middle;\n",
       "    }\n",
       "\n",
       "    .dataframe tbody tr th {\n",
       "        vertical-align: top;\n",
       "    }\n",
       "\n",
       "    .dataframe thead th {\n",
       "        text-align: right;\n",
       "    }\n",
       "</style>\n",
       "<table border=\"1\" class=\"dataframe\">\n",
       "  <thead>\n",
       "    <tr style=\"text-align: right;\">\n",
       "      <th></th>\n",
       "      <th>timestamp</th>\n",
       "      <th>value</th>\n",
       "      <th>hour</th>\n",
       "      <th>weekday</th>\n",
       "      <th>outliers</th>\n",
       "      <th>score</th>\n",
       "    </tr>\n",
       "  </thead>\n",
       "  <tbody>\n",
       "    <tr>\n",
       "      <th>1631</th>\n",
       "      <td>2014-09-06 23:00:00</td>\n",
       "      <td>29418.5</td>\n",
       "      <td>23</td>\n",
       "      <td>Saturday</td>\n",
       "      <td>yes</td>\n",
       "      <td>-0.172569</td>\n",
       "    </tr>\n",
       "    <tr>\n",
       "      <th>2136</th>\n",
       "      <td>2014-09-28 00:00:00</td>\n",
       "      <td>26794.5</td>\n",
       "      <td>0</td>\n",
       "      <td>Sunday</td>\n",
       "      <td>yes</td>\n",
       "      <td>-0.160637</td>\n",
       "    </tr>\n",
       "    <tr>\n",
       "      <th>2640</th>\n",
       "      <td>2014-10-19 00:00:00</td>\n",
       "      <td>27146.5</td>\n",
       "      <td>0</td>\n",
       "      <td>Sunday</td>\n",
       "      <td>yes</td>\n",
       "      <td>-0.163623</td>\n",
       "    </tr>\n",
       "    <tr>\n",
       "      <th>2977</th>\n",
       "      <td>2014-11-02 01:00:00</td>\n",
       "      <td>37204.5</td>\n",
       "      <td>1</td>\n",
       "      <td>Sunday</td>\n",
       "      <td>yes</td>\n",
       "      <td>-0.176909</td>\n",
       "    </tr>\n",
       "    <tr>\n",
       "      <th>4417</th>\n",
       "      <td>2015-01-01 01:00:00</td>\n",
       "      <td>29292.0</td>\n",
       "      <td>1</td>\n",
       "      <td>Thursday</td>\n",
       "      <td>yes</td>\n",
       "      <td>-0.172569</td>\n",
       "    </tr>\n",
       "    <tr>\n",
       "      <th>5038</th>\n",
       "      <td>2015-01-26 22:00:00</td>\n",
       "      <td>1324.5</td>\n",
       "      <td>22</td>\n",
       "      <td>Monday</td>\n",
       "      <td>yes</td>\n",
       "      <td>-0.185444</td>\n",
       "    </tr>\n",
       "    <tr>\n",
       "      <th>5039</th>\n",
       "      <td>2015-01-26 23:00:00</td>\n",
       "      <td>243.0</td>\n",
       "      <td>23</td>\n",
       "      <td>Monday</td>\n",
       "      <td>yes</td>\n",
       "      <td>-0.207255</td>\n",
       "    </tr>\n",
       "  </tbody>\n",
       "</table>\n",
       "</div>"
      ],
      "text/plain": [
       "               timestamp    value  hour   weekday outliers     score\n",
       "1631 2014-09-06 23:00:00  29418.5    23  Saturday      yes -0.172569\n",
       "2136 2014-09-28 00:00:00  26794.5     0    Sunday      yes -0.160637\n",
       "2640 2014-10-19 00:00:00  27146.5     0    Sunday      yes -0.163623\n",
       "2977 2014-11-02 01:00:00  37204.5     1    Sunday      yes -0.176909\n",
       "4417 2015-01-01 01:00:00  29292.0     1  Thursday      yes -0.172569\n",
       "5038 2015-01-26 22:00:00   1324.5    22    Monday      yes -0.185444\n",
       "5039 2015-01-26 23:00:00    243.0    23    Monday      yes -0.207255"
      ]
     },
     "execution_count": 24,
     "metadata": {},
     "output_type": "execute_result"
    }
   ],
   "source": [
    "df.query('score < -0.16 and outliers == \"yes\"')"
   ]
  },
  {
   "cell_type": "markdown",
   "id": "593519dd",
   "metadata": {},
   "source": [
    "결론 - EDA 를 통해 manually 찾아낸 abnormal 한 일자와 Isolated Forest 를 이용하여 Machine Learning으로 찾아낸 일자가 거의 일치함"
   ]
  },
  {
   "cell_type": "code",
   "execution_count": null,
   "id": "dd9b536e",
   "metadata": {},
   "outputs": [],
   "source": []
  }
 ],
 "metadata": {
  "kernelspec": {
   "display_name": "Python 3 (ipykernel)",
   "language": "python",
   "name": "python3"
  },
  "language_info": {
   "codemirror_mode": {
    "name": "ipython",
    "version": 3
   },
   "file_extension": ".py",
   "mimetype": "text/x-python",
   "name": "python",
   "nbconvert_exporter": "python",
   "pygments_lexer": "ipython3",
   "version": "3.9.16"
  }
 },
 "nbformat": 4,
 "nbformat_minor": 5
}
