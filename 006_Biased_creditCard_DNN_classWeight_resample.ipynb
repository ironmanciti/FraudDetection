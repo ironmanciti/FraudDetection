{
 "cells": [
  {
   "cell_type": "markdown",
   "metadata": {
    "id": "SyQuWKAJt3xq"
   },
   "source": [
    "# Highly Imbalanced Fraud Data 의 분류\n",
    "## DNN 이용, Class Weight 조정, OverSampling\n",
    "## ROC 비교\n",
    "\n",
    "- [Credit Card Fraud Detection](https://www.kaggle.com/mlg-ulb/creditcardfraud) - Kaggle\n",
    "\n",
    "\n",
    "- 클래스 불균형 비율이 주어지면 Area Under the Precision-Recall Curve (AUPRC)을 사용하여 정확도를 측정하는 것이 좋습니다. 불균형 data 분류에는 confusion matrix 정확도가 의미가 없습니다."
   ]
  },
  {
   "cell_type": "code",
   "execution_count": 29,
   "metadata": {
    "id": "dH4wHxmzt3xy"
   },
   "outputs": [],
   "source": [
    "import tensorflow as tf\n",
    "\n",
    "import matplotlib as mpl\n",
    "import matplotlib.pyplot as plt\n",
    "import numpy as np\n",
    "import pandas as pd\n",
    "import seaborn as sns\n",
    "from sklearn.metrics import confusion_matrix, f1_score\n",
    "from sklearn.metrics import  accuracy_score, precision_score, recall_score, \\\n",
    "                            roc_curve, roc_auc_score\n",
    "\n",
    "from sklearn.model_selection import train_test_split\n",
    "from sklearn.preprocessing import StandardScaler\n",
    "mpl.rcParams['figure.figsize'] = (12, 10)"
   ]
  },
  {
   "cell_type": "markdown",
   "metadata": {
    "id": "IdW269nBt3x2"
   },
   "source": [
    "### Download the Kaggle Credit Card Fraud data set\n",
    "\n",
    "- [kaggle creditcard csv file](https://storage.googleapis.com/download.tensorflow.org/data/creditcard.csv)"
   ]
  },
  {
   "cell_type": "code",
   "execution_count": 4,
   "metadata": {
    "colab": {
     "base_uri": "https://localhost:8080/",
     "height": 225
    },
    "id": "Zo_ucpfIt3x4",
    "outputId": "77cd1f87-2881-49cc-a97b-c254e6baa327"
   },
   "outputs": [
    {
     "data": {
      "text/html": [
       "<div>\n",
       "<style scoped>\n",
       "    .dataframe tbody tr th:only-of-type {\n",
       "        vertical-align: middle;\n",
       "    }\n",
       "\n",
       "    .dataframe tbody tr th {\n",
       "        vertical-align: top;\n",
       "    }\n",
       "\n",
       "    .dataframe thead th {\n",
       "        text-align: right;\n",
       "    }\n",
       "</style>\n",
       "<table border=\"1\" class=\"dataframe\">\n",
       "  <thead>\n",
       "    <tr style=\"text-align: right;\">\n",
       "      <th></th>\n",
       "      <th>Time</th>\n",
       "      <th>V1</th>\n",
       "      <th>V2</th>\n",
       "      <th>V3</th>\n",
       "      <th>V4</th>\n",
       "      <th>V5</th>\n",
       "      <th>V6</th>\n",
       "      <th>V7</th>\n",
       "      <th>V8</th>\n",
       "      <th>V9</th>\n",
       "      <th>...</th>\n",
       "      <th>V21</th>\n",
       "      <th>V22</th>\n",
       "      <th>V23</th>\n",
       "      <th>V24</th>\n",
       "      <th>V25</th>\n",
       "      <th>V26</th>\n",
       "      <th>V27</th>\n",
       "      <th>V28</th>\n",
       "      <th>Amount</th>\n",
       "      <th>Class</th>\n",
       "    </tr>\n",
       "  </thead>\n",
       "  <tbody>\n",
       "    <tr>\n",
       "      <th>0</th>\n",
       "      <td>0.0</td>\n",
       "      <td>-1.359807</td>\n",
       "      <td>-0.072781</td>\n",
       "      <td>2.536347</td>\n",
       "      <td>1.378155</td>\n",
       "      <td>-0.338321</td>\n",
       "      <td>0.462388</td>\n",
       "      <td>0.239599</td>\n",
       "      <td>0.098698</td>\n",
       "      <td>0.363787</td>\n",
       "      <td>...</td>\n",
       "      <td>-0.018307</td>\n",
       "      <td>0.277838</td>\n",
       "      <td>-0.110474</td>\n",
       "      <td>0.066928</td>\n",
       "      <td>0.128539</td>\n",
       "      <td>-0.189115</td>\n",
       "      <td>0.133558</td>\n",
       "      <td>-0.021053</td>\n",
       "      <td>149.62</td>\n",
       "      <td>0</td>\n",
       "    </tr>\n",
       "    <tr>\n",
       "      <th>1</th>\n",
       "      <td>0.0</td>\n",
       "      <td>1.191857</td>\n",
       "      <td>0.266151</td>\n",
       "      <td>0.166480</td>\n",
       "      <td>0.448154</td>\n",
       "      <td>0.060018</td>\n",
       "      <td>-0.082361</td>\n",
       "      <td>-0.078803</td>\n",
       "      <td>0.085102</td>\n",
       "      <td>-0.255425</td>\n",
       "      <td>...</td>\n",
       "      <td>-0.225775</td>\n",
       "      <td>-0.638672</td>\n",
       "      <td>0.101288</td>\n",
       "      <td>-0.339846</td>\n",
       "      <td>0.167170</td>\n",
       "      <td>0.125895</td>\n",
       "      <td>-0.008983</td>\n",
       "      <td>0.014724</td>\n",
       "      <td>2.69</td>\n",
       "      <td>0</td>\n",
       "    </tr>\n",
       "    <tr>\n",
       "      <th>2</th>\n",
       "      <td>1.0</td>\n",
       "      <td>-1.358354</td>\n",
       "      <td>-1.340163</td>\n",
       "      <td>1.773209</td>\n",
       "      <td>0.379780</td>\n",
       "      <td>-0.503198</td>\n",
       "      <td>1.800499</td>\n",
       "      <td>0.791461</td>\n",
       "      <td>0.247676</td>\n",
       "      <td>-1.514654</td>\n",
       "      <td>...</td>\n",
       "      <td>0.247998</td>\n",
       "      <td>0.771679</td>\n",
       "      <td>0.909412</td>\n",
       "      <td>-0.689281</td>\n",
       "      <td>-0.327642</td>\n",
       "      <td>-0.139097</td>\n",
       "      <td>-0.055353</td>\n",
       "      <td>-0.059752</td>\n",
       "      <td>378.66</td>\n",
       "      <td>0</td>\n",
       "    </tr>\n",
       "    <tr>\n",
       "      <th>3</th>\n",
       "      <td>1.0</td>\n",
       "      <td>-0.966272</td>\n",
       "      <td>-0.185226</td>\n",
       "      <td>1.792993</td>\n",
       "      <td>-0.863291</td>\n",
       "      <td>-0.010309</td>\n",
       "      <td>1.247203</td>\n",
       "      <td>0.237609</td>\n",
       "      <td>0.377436</td>\n",
       "      <td>-1.387024</td>\n",
       "      <td>...</td>\n",
       "      <td>-0.108300</td>\n",
       "      <td>0.005274</td>\n",
       "      <td>-0.190321</td>\n",
       "      <td>-1.175575</td>\n",
       "      <td>0.647376</td>\n",
       "      <td>-0.221929</td>\n",
       "      <td>0.062723</td>\n",
       "      <td>0.061458</td>\n",
       "      <td>123.50</td>\n",
       "      <td>0</td>\n",
       "    </tr>\n",
       "    <tr>\n",
       "      <th>4</th>\n",
       "      <td>2.0</td>\n",
       "      <td>-1.158233</td>\n",
       "      <td>0.877737</td>\n",
       "      <td>1.548718</td>\n",
       "      <td>0.403034</td>\n",
       "      <td>-0.407193</td>\n",
       "      <td>0.095921</td>\n",
       "      <td>0.592941</td>\n",
       "      <td>-0.270533</td>\n",
       "      <td>0.817739</td>\n",
       "      <td>...</td>\n",
       "      <td>-0.009431</td>\n",
       "      <td>0.798278</td>\n",
       "      <td>-0.137458</td>\n",
       "      <td>0.141267</td>\n",
       "      <td>-0.206010</td>\n",
       "      <td>0.502292</td>\n",
       "      <td>0.219422</td>\n",
       "      <td>0.215153</td>\n",
       "      <td>69.99</td>\n",
       "      <td>0</td>\n",
       "    </tr>\n",
       "  </tbody>\n",
       "</table>\n",
       "<p>5 rows × 31 columns</p>\n",
       "</div>"
      ],
      "text/plain": [
       "   Time        V1        V2        V3        V4        V5        V6        V7  \\\n",
       "0   0.0 -1.359807 -0.072781  2.536347  1.378155 -0.338321  0.462388  0.239599   \n",
       "1   0.0  1.191857  0.266151  0.166480  0.448154  0.060018 -0.082361 -0.078803   \n",
       "2   1.0 -1.358354 -1.340163  1.773209  0.379780 -0.503198  1.800499  0.791461   \n",
       "3   1.0 -0.966272 -0.185226  1.792993 -0.863291 -0.010309  1.247203  0.237609   \n",
       "4   2.0 -1.158233  0.877737  1.548718  0.403034 -0.407193  0.095921  0.592941   \n",
       "\n",
       "         V8        V9  ...       V21       V22       V23       V24       V25  \\\n",
       "0  0.098698  0.363787  ... -0.018307  0.277838 -0.110474  0.066928  0.128539   \n",
       "1  0.085102 -0.255425  ... -0.225775 -0.638672  0.101288 -0.339846  0.167170   \n",
       "2  0.247676 -1.514654  ...  0.247998  0.771679  0.909412 -0.689281 -0.327642   \n",
       "3  0.377436 -1.387024  ... -0.108300  0.005274 -0.190321 -1.175575  0.647376   \n",
       "4 -0.270533  0.817739  ... -0.009431  0.798278 -0.137458  0.141267 -0.206010   \n",
       "\n",
       "        V26       V27       V28  Amount  Class  \n",
       "0 -0.189115  0.133558 -0.021053  149.62      0  \n",
       "1  0.125895 -0.008983  0.014724    2.69      0  \n",
       "2 -0.139097 -0.055353 -0.059752  378.66      0  \n",
       "3 -0.221929  0.062723  0.061458  123.50      0  \n",
       "4  0.502292  0.219422  0.215153   69.99      0  \n",
       "\n",
       "[5 rows x 31 columns]"
      ]
     },
     "execution_count": 4,
     "metadata": {},
     "output_type": "execute_result"
    }
   ],
   "source": [
    "df = pd.read_csv('https://storage.googleapis.com/download.tensorflow.org/data/creditcard.csv')\n",
    "# df = pd.read_csv('data/creditcard.csv')\n",
    "\n",
    "df.head()"
   ]
  },
  {
   "cell_type": "markdown",
   "metadata": {
    "id": "738aexZRt3x-"
   },
   "source": [
    "### 클래스 레이블 불균형 조사"
   ]
  },
  {
   "cell_type": "code",
   "execution_count": 6,
   "metadata": {
    "colab": {
     "base_uri": "https://localhost:8080/"
    },
    "id": "2nnddVRjGIpU",
    "outputId": "4e828529-e5fb-482d-b6ba-37e63f6f000b"
   },
   "outputs": [
    {
     "data": {
      "text/plain": [
       "0    284315\n",
       "1       492\n",
       "Name: Class, dtype: int64"
      ]
     },
     "execution_count": 6,
     "metadata": {},
     "output_type": "execute_result"
    }
   ],
   "source": [
    "df['Class'].value_counts()"
   ]
  },
  {
   "cell_type": "code",
   "execution_count": 30,
   "metadata": {
    "colab": {
     "base_uri": "https://localhost:8080/"
    },
    "id": "k_Q_Zwbkt3x_",
    "outputId": "2521c35e-71a3-451e-c5cc-3f92d50b11c3"
   },
   "outputs": [
    {
     "name": "stdout",
     "output_type": "stream",
     "text": [
      "284315 492\n",
      "Examples:\n",
      "    Total: 284807\n",
      "    Positive: 492 (0.17% of total)\n",
      "\n"
     ]
    }
   ],
   "source": [
    "neg, pos = np.bincount(df['Class'])\n",
    "print(neg, pos)\n",
    "\n",
    "total = neg + pos\n",
    "print('Examples:\\n    Total: {}\\n    Positive: {} ({:.2f}% of total)\\n' \\\n",
    "       .format(total, pos, 100 * pos / total))"
   ]
  },
  {
   "cell_type": "markdown",
   "metadata": {
    "id": "USH9Dhvjt3yG"
   },
   "source": [
    "### Clean, split and normalize the data"
   ]
  },
  {
   "cell_type": "code",
   "execution_count": 31,
   "metadata": {},
   "outputs": [
    {
     "data": {
      "text/html": [
       "<div>\n",
       "<style scoped>\n",
       "    .dataframe tbody tr th:only-of-type {\n",
       "        vertical-align: middle;\n",
       "    }\n",
       "\n",
       "    .dataframe tbody tr th {\n",
       "        vertical-align: top;\n",
       "    }\n",
       "\n",
       "    .dataframe thead th {\n",
       "        text-align: right;\n",
       "    }\n",
       "</style>\n",
       "<table border=\"1\" class=\"dataframe\">\n",
       "  <thead>\n",
       "    <tr style=\"text-align: right;\">\n",
       "      <th></th>\n",
       "      <th>Time</th>\n",
       "      <th>V1</th>\n",
       "      <th>V2</th>\n",
       "      <th>V3</th>\n",
       "      <th>V4</th>\n",
       "      <th>V5</th>\n",
       "      <th>V6</th>\n",
       "      <th>V7</th>\n",
       "      <th>V8</th>\n",
       "      <th>V9</th>\n",
       "      <th>...</th>\n",
       "      <th>V21</th>\n",
       "      <th>V22</th>\n",
       "      <th>V23</th>\n",
       "      <th>V24</th>\n",
       "      <th>V25</th>\n",
       "      <th>V26</th>\n",
       "      <th>V27</th>\n",
       "      <th>V28</th>\n",
       "      <th>Class</th>\n",
       "      <th>Amount</th>\n",
       "    </tr>\n",
       "  </thead>\n",
       "  <tbody>\n",
       "    <tr>\n",
       "      <th>0</th>\n",
       "      <td>0.000000</td>\n",
       "      <td>-1.359807</td>\n",
       "      <td>-0.072781</td>\n",
       "      <td>2.536347</td>\n",
       "      <td>1.378155</td>\n",
       "      <td>-0.338321</td>\n",
       "      <td>0.462388</td>\n",
       "      <td>0.239599</td>\n",
       "      <td>0.098698</td>\n",
       "      <td>0.363787</td>\n",
       "      <td>...</td>\n",
       "      <td>-0.018307</td>\n",
       "      <td>0.277838</td>\n",
       "      <td>-0.110474</td>\n",
       "      <td>0.066928</td>\n",
       "      <td>0.128539</td>\n",
       "      <td>-0.189115</td>\n",
       "      <td>0.133558</td>\n",
       "      <td>-0.021053</td>\n",
       "      <td>0</td>\n",
       "      <td>5.008105</td>\n",
       "    </tr>\n",
       "    <tr>\n",
       "      <th>1</th>\n",
       "      <td>0.000000</td>\n",
       "      <td>1.191857</td>\n",
       "      <td>0.266151</td>\n",
       "      <td>0.166480</td>\n",
       "      <td>0.448154</td>\n",
       "      <td>0.060018</td>\n",
       "      <td>-0.082361</td>\n",
       "      <td>-0.078803</td>\n",
       "      <td>0.085102</td>\n",
       "      <td>-0.255425</td>\n",
       "      <td>...</td>\n",
       "      <td>-0.225775</td>\n",
       "      <td>-0.638672</td>\n",
       "      <td>0.101288</td>\n",
       "      <td>-0.339846</td>\n",
       "      <td>0.167170</td>\n",
       "      <td>0.125895</td>\n",
       "      <td>-0.008983</td>\n",
       "      <td>0.014724</td>\n",
       "      <td>0</td>\n",
       "      <td>0.989913</td>\n",
       "    </tr>\n",
       "    <tr>\n",
       "      <th>2</th>\n",
       "      <td>0.000278</td>\n",
       "      <td>-1.358354</td>\n",
       "      <td>-1.340163</td>\n",
       "      <td>1.773209</td>\n",
       "      <td>0.379780</td>\n",
       "      <td>-0.503198</td>\n",
       "      <td>1.800499</td>\n",
       "      <td>0.791461</td>\n",
       "      <td>0.247676</td>\n",
       "      <td>-1.514654</td>\n",
       "      <td>...</td>\n",
       "      <td>0.247998</td>\n",
       "      <td>0.771679</td>\n",
       "      <td>0.909412</td>\n",
       "      <td>-0.689281</td>\n",
       "      <td>-0.327642</td>\n",
       "      <td>-0.139097</td>\n",
       "      <td>-0.055353</td>\n",
       "      <td>-0.059752</td>\n",
       "      <td>0</td>\n",
       "      <td>5.936641</td>\n",
       "    </tr>\n",
       "    <tr>\n",
       "      <th>3</th>\n",
       "      <td>0.000278</td>\n",
       "      <td>-0.966272</td>\n",
       "      <td>-0.185226</td>\n",
       "      <td>1.792993</td>\n",
       "      <td>-0.863291</td>\n",
       "      <td>-0.010309</td>\n",
       "      <td>1.247203</td>\n",
       "      <td>0.237609</td>\n",
       "      <td>0.377436</td>\n",
       "      <td>-1.387024</td>\n",
       "      <td>...</td>\n",
       "      <td>-0.108300</td>\n",
       "      <td>0.005274</td>\n",
       "      <td>-0.190321</td>\n",
       "      <td>-1.175575</td>\n",
       "      <td>0.647376</td>\n",
       "      <td>-0.221929</td>\n",
       "      <td>0.062723</td>\n",
       "      <td>0.061458</td>\n",
       "      <td>0</td>\n",
       "      <td>4.816249</td>\n",
       "    </tr>\n",
       "    <tr>\n",
       "      <th>4</th>\n",
       "      <td>0.000556</td>\n",
       "      <td>-1.158233</td>\n",
       "      <td>0.877737</td>\n",
       "      <td>1.548718</td>\n",
       "      <td>0.403034</td>\n",
       "      <td>-0.407193</td>\n",
       "      <td>0.095921</td>\n",
       "      <td>0.592941</td>\n",
       "      <td>-0.270533</td>\n",
       "      <td>0.817739</td>\n",
       "      <td>...</td>\n",
       "      <td>-0.009431</td>\n",
       "      <td>0.798278</td>\n",
       "      <td>-0.137458</td>\n",
       "      <td>0.141267</td>\n",
       "      <td>-0.206010</td>\n",
       "      <td>0.502292</td>\n",
       "      <td>0.219422</td>\n",
       "      <td>0.215153</td>\n",
       "      <td>0</td>\n",
       "      <td>4.248367</td>\n",
       "    </tr>\n",
       "  </tbody>\n",
       "</table>\n",
       "<p>5 rows × 31 columns</p>\n",
       "</div>"
      ],
      "text/plain": [
       "       Time        V1        V2        V3        V4        V5        V6  \\\n",
       "0  0.000000 -1.359807 -0.072781  2.536347  1.378155 -0.338321  0.462388   \n",
       "1  0.000000  1.191857  0.266151  0.166480  0.448154  0.060018 -0.082361   \n",
       "2  0.000278 -1.358354 -1.340163  1.773209  0.379780 -0.503198  1.800499   \n",
       "3  0.000278 -0.966272 -0.185226  1.792993 -0.863291 -0.010309  1.247203   \n",
       "4  0.000556 -1.158233  0.877737  1.548718  0.403034 -0.407193  0.095921   \n",
       "\n",
       "         V7        V8        V9  ...       V21       V22       V23       V24  \\\n",
       "0  0.239599  0.098698  0.363787  ... -0.018307  0.277838 -0.110474  0.066928   \n",
       "1 -0.078803  0.085102 -0.255425  ... -0.225775 -0.638672  0.101288 -0.339846   \n",
       "2  0.791461  0.247676 -1.514654  ...  0.247998  0.771679  0.909412 -0.689281   \n",
       "3  0.237609  0.377436 -1.387024  ... -0.108300  0.005274 -0.190321 -1.175575   \n",
       "4  0.592941 -0.270533  0.817739  ... -0.009431  0.798278 -0.137458  0.141267   \n",
       "\n",
       "        V25       V26       V27       V28  Class    Amount  \n",
       "0  0.128539 -0.189115  0.133558 -0.021053      0  5.008105  \n",
       "1  0.167170  0.125895 -0.008983  0.014724      0  0.989913  \n",
       "2 -0.327642 -0.139097 -0.055353 -0.059752      0  5.936641  \n",
       "3  0.647376 -0.221929  0.062723  0.061458      0  4.816249  \n",
       "4 -0.206010  0.502292  0.219422  0.215153      0  4.248367  \n",
       "\n",
       "[5 rows x 31 columns]"
      ]
     },
     "execution_count": 31,
     "metadata": {},
     "output_type": "execute_result"
    }
   ],
   "source": [
    "cleaned_df = df.copy()\n",
    "\n",
    "# Time 을 일중 시간으로 변환\n",
    "cleaned_df.loc[:, \"Time\"] = cleaned_df.loc[:, \"Time\"].apply(lambda x : x / 3600 % 24) \n",
    "\n",
    "# Amount column 은 편차가 크므로 log-scale 로 변환\n",
    "eps=0.001      # 0 => 0.1¢\n",
    "cleaned_df['Amount'] = np.log(cleaned_df.pop('Amount') + eps)\n",
    "\n",
    "cleaned_df.head()"
   ]
  },
  {
   "cell_type": "code",
   "execution_count": 32,
   "metadata": {
    "colab": {
     "base_uri": "https://localhost:8080/"
    },
    "id": "EdHm44M2GIpW",
    "outputId": "aa97468d-b398-4d1a-a413-ea177cd9f37b"
   },
   "outputs": [
    {
     "data": {
      "text/plain": [
       "count    284807.000000\n",
       "mean          2.942089\n",
       "std           2.023685\n",
       "min          -6.907755\n",
       "25%           1.722945\n",
       "50%           3.091088\n",
       "75%           4.345959\n",
       "max          10.153902\n",
       "Name: Amount, dtype: float64"
      ]
     },
     "execution_count": 32,
     "metadata": {},
     "output_type": "execute_result"
    }
   ],
   "source": [
    "cleaned_df['Amount'].describe()"
   ]
  },
  {
   "cell_type": "code",
   "execution_count": 33,
   "metadata": {
    "id": "4IEMWwojt3yO"
   },
   "outputs": [
    {
     "data": {
      "text/plain": [
       "array([0, 0, 0, ..., 0, 0, 0], dtype=int64)"
      ]
     },
     "execution_count": 33,
     "metadata": {},
     "output_type": "execute_result"
    }
   ],
   "source": [
    "labels = np.array(cleaned_df.pop('Class'))\n",
    "labels"
   ]
  },
  {
   "cell_type": "code",
   "execution_count": 34,
   "metadata": {
    "colab": {
     "base_uri": "https://localhost:8080/"
    },
    "id": "_hqAVRiWt3yV",
    "outputId": "6db09c65-c78f-4ba5-d373-b6ce8cac54b7"
   },
   "outputs": [
    {
     "data": {
      "text/plain": [
       "(284807, 30)"
      ]
     },
     "execution_count": 34,
     "metadata": {},
     "output_type": "execute_result"
    }
   ],
   "source": [
    "features = cleaned_df.values\n",
    "features.shape"
   ]
  },
  {
   "cell_type": "code",
   "execution_count": 36,
   "metadata": {},
   "outputs": [
    {
     "data": {
      "text/plain": [
       "<AxesSubplot:ylabel='count'>"
      ]
     },
     "execution_count": 36,
     "metadata": {},
     "output_type": "execute_result"
    },
    {
     "data": {
      "image/png": "[encoded data removed]",
      "text/plain": [
       "<Figure size 432x288 with 1 Axes>"
      ]
     },
     "metadata": {
      "needs_background": "light"
     },
     "output_type": "display_data"
    }
   ],
   "source": [
    "plt.figure(figsize=(6, 4))\n",
    "sns.countplot(x=labels)"
   ]
  },
  {
   "cell_type": "code",
   "execution_count": 37,
   "metadata": {
    "colab": {
     "base_uri": "https://localhost:8080/"
    },
    "id": "RLiKtnt7t3ya",
    "outputId": "896da316-72f9-468b-865d-ba9535d66123"
   },
   "outputs": [
    {
     "data": {
      "text/plain": [
       "((227845, 30), (56962, 30), (227845,), (56962,))"
      ]
     },
     "execution_count": 37,
     "metadata": {},
     "output_type": "execute_result"
    }
   ],
   "source": [
    "X_train, X_test, y_train, y_test = train_test_split(features, labels, \n",
    "                                test_size=0.2, random_state=0)\n",
    "\n",
    "X_train.shape, X_test.shape, y_train.shape, y_test.shape"
   ]
  },
  {
   "cell_type": "markdown",
   "metadata": {},
   "source": [
    "## Feature Scaling"
   ]
  },
  {
   "cell_type": "code",
   "execution_count": 39,
   "metadata": {
    "id": "QwUNis6Zt3yc"
   },
   "outputs": [],
   "source": [
    "sc = StandardScaler()\n",
    "X_train = sc.fit_transform(X_train)\n",
    "X_test  = sc.transform(X_test)"
   ]
  },
  {
   "cell_type": "markdown",
   "metadata": {},
   "source": [
    "### Metrics"
   ]
  },
  {
   "cell_type": "code",
   "execution_count": 41,
   "metadata": {},
   "outputs": [],
   "source": [
    "METRICS = tf.keras.metrics.AUC(name='auc')"
   ]
  },
  {
   "cell_type": "markdown",
   "metadata": {
    "id": "ejjpZM9Kt3ym"
   },
   "source": [
    "## Simple NN model 정의 - 이진 분류 모델"
   ]
  },
  {
   "cell_type": "code",
   "execution_count": 48,
   "metadata": {
    "id": "IbbI4SZat3yn"
   },
   "outputs": [],
   "source": [
    "def make_model():\n",
    "    \n",
    "    model = tf.keras.Sequential([\n",
    "      tf.keras.layers.Dense(32, activation='relu', \n",
    "                            input_shape=(X_train.shape[-1],)),\n",
    "      tf.keras.layers.Dropout(0.2),\n",
    "      tf.keras.layers.Dense(16, activation='relu'),\n",
    "      tf.keras.layers.Dropout(0.2),\n",
    "      tf.keras.layers.Dense(1, activation='sigmoid'),\n",
    "  ])\n",
    "\n",
    "    model.compile(\n",
    "      optimizer = tf.keras.optimizers.Adam(learning_rate=1e-3),\n",
    "      loss = 'binary_crossentropy', metrics=[METRICS, 'accuracy'])\n",
    "\n",
    "    return model"
   ]
  },
  {
   "cell_type": "markdown",
   "metadata": {
    "id": "YuB7VrmAt3yr"
   },
   "source": [
    "### Baseline model build"
   ]
  },
  {
   "cell_type": "code",
   "execution_count": 49,
   "metadata": {
    "id": "gTRT9eKnt3ys"
   },
   "outputs": [],
   "source": [
    "EPOCHS = 100\n",
    "BATCH_SIZE = 2048\n",
    "\n",
    "early_stopping = tf.keras.callbacks.EarlyStopping(\n",
    "    monitor='val_auc', \n",
    "    verbose=1,\n",
    "    patience=10, # no of epochs of no improvement          \n",
    "    mode='max',  #val_auc 가 10 번 연속 증가 안하면 stop           \n",
    "    restore_best_weights=True)  # epoch 의 best weight 저장"
   ]
  },
  {
   "cell_type": "code",
   "execution_count": 50,
   "metadata": {
    "colab": {
     "base_uri": "https://localhost:8080/"
    },
    "id": "i3qmzy34t3yw",
    "outputId": "685ee0cf-6f5b-4703-9b6f-1ecaeb36e5c2",
    "scrolled": true
   },
   "outputs": [
    {
     "name": "stdout",
     "output_type": "stream",
     "text": [
      "Model: \"sequential_4\"\n",
      "_________________________________________________________________\n",
      " Layer (type)                Output Shape              Param #   \n",
      "=================================================================\n",
      " dense_12 (Dense)            (None, 32)                992       \n",
      "                                                                 \n",
      " dropout_8 (Dropout)         (None, 32)                0         \n",
      "                                                                 \n",
      " dense_13 (Dense)            (None, 16)                528       \n",
      "                                                                 \n",
      " dropout_9 (Dropout)         (None, 16)                0         \n",
      "                                                                 \n",
      " dense_14 (Dense)            (None, 1)                 17        \n",
      "                                                                 \n",
      "=================================================================\n",
      "Total params: 1,537\n",
      "Trainable params: 1,537\n",
      "Non-trainable params: 0\n",
      "_________________________________________________________________\n"
     ]
    }
   ],
   "source": [
    "model = make_model()\n",
    "model.summary()"
   ]
  },
  {
   "cell_type": "markdown",
   "metadata": {
    "id": "B-Ftgdtct3zb"
   },
   "source": [
    "## Train the model"
   ]
  },
  {
   "cell_type": "code",
   "execution_count": 51,
   "metadata": {
    "colab": {
     "base_uri": "https://localhost:8080/"
    },
    "id": "qyxi6P6Pt3zd",
    "outputId": "50a898e3-e427-47f9-9cea-57974d61b914",
    "scrolled": true
   },
   "outputs": [
    {
     "name": "stdout",
     "output_type": "stream",
     "text": [
      "Epoch 1/100\n",
      "112/112 [==============================] - 1s 3ms/step - loss: 0.2567 - auc: 0.4455 - accuracy: 0.9289 - val_loss: 0.0392 - val_auc: 0.2483 - val_accuracy: 0.9982\n",
      "Epoch 2/100\n",
      "112/112 [==============================] - 0s 2ms/step - loss: 0.0331 - auc: 0.6586 - accuracy: 0.9984 - val_loss: 0.0078 - val_auc: 0.8984 - val_accuracy: 0.9991\n",
      "Epoch 3/100\n",
      "112/112 [==============================] - 0s 2ms/step - loss: 0.0142 - auc: 0.8527 - accuracy: 0.9988 - val_loss: 0.0049 - val_auc: 0.9167 - val_accuracy: 0.9992\n",
      "Epoch 4/100\n",
      "112/112 [==============================] - 0s 2ms/step - loss: 0.0099 - auc: 0.8792 - accuracy: 0.9989 - val_loss: 0.0041 - val_auc: 0.9148 - val_accuracy: 0.9993\n",
      "Epoch 5/100\n",
      "112/112 [==============================] - 0s 2ms/step - loss: 0.0077 - auc: 0.9022 - accuracy: 0.9990 - val_loss: 0.0037 - val_auc: 0.9153 - val_accuracy: 0.9993\n",
      "Epoch 6/100\n",
      "112/112 [==============================] - 0s 2ms/step - loss: 0.0065 - auc: 0.9217 - accuracy: 0.9991 - val_loss: 0.0035 - val_auc: 0.9303 - val_accuracy: 0.9993\n",
      "Epoch 7/100\n",
      "112/112 [==============================] - 0s 2ms/step - loss: 0.0060 - auc: 0.9214 - accuracy: 0.9990 - val_loss: 0.0034 - val_auc: 0.9303 - val_accuracy: 0.9993\n",
      "Epoch 8/100\n",
      "112/112 [==============================] - 0s 2ms/step - loss: 0.0055 - auc: 0.9283 - accuracy: 0.9991 - val_loss: 0.0033 - val_auc: 0.9353 - val_accuracy: 0.9993\n",
      "Epoch 9/100\n",
      "112/112 [==============================] - 0s 2ms/step - loss: 0.0054 - auc: 0.9223 - accuracy: 0.9991 - val_loss: 0.0032 - val_auc: 0.9353 - val_accuracy: 0.9993\n",
      "Epoch 10/100\n",
      "112/112 [==============================] - 0s 2ms/step - loss: 0.0051 - auc: 0.9308 - accuracy: 0.9992 - val_loss: 0.0032 - val_auc: 0.9353 - val_accuracy: 0.9993\n",
      "Epoch 11/100\n",
      "112/112 [==============================] - 0s 2ms/step - loss: 0.0047 - auc: 0.9340 - accuracy: 0.9990 - val_loss: 0.0031 - val_auc: 0.9354 - val_accuracy: 0.9994\n",
      "Epoch 12/100\n",
      "112/112 [==============================] - 0s 2ms/step - loss: 0.0048 - auc: 0.9330 - accuracy: 0.9990 - val_loss: 0.0031 - val_auc: 0.9354 - val_accuracy: 0.9994\n",
      "Epoch 13/100\n",
      "112/112 [==============================] - 0s 2ms/step - loss: 0.0046 - auc: 0.9305 - accuracy: 0.9991 - val_loss: 0.0031 - val_auc: 0.9354 - val_accuracy: 0.9994\n",
      "Epoch 14/100\n",
      "112/112 [==============================] - 0s 2ms/step - loss: 0.0043 - auc: 0.9374 - accuracy: 0.9991 - val_loss: 0.0031 - val_auc: 0.9403 - val_accuracy: 0.9994\n",
      "Epoch 15/100\n",
      "112/112 [==============================] - 0s 2ms/step - loss: 0.0042 - auc: 0.9390 - accuracy: 0.9992 - val_loss: 0.0031 - val_auc: 0.9354 - val_accuracy: 0.9994\n",
      "Epoch 16/100\n",
      "112/112 [==============================] - 0s 2ms/step - loss: 0.0040 - auc: 0.9379 - accuracy: 0.9992 - val_loss: 0.0030 - val_auc: 0.9403 - val_accuracy: 0.9994\n",
      "Epoch 17/100\n",
      "112/112 [==============================] - 0s 2ms/step - loss: 0.0038 - auc: 0.9482 - accuracy: 0.9992 - val_loss: 0.0031 - val_auc: 0.9404 - val_accuracy: 0.9994\n",
      "Epoch 18/100\n",
      "112/112 [==============================] - 0s 2ms/step - loss: 0.0039 - auc: 0.9432 - accuracy: 0.9992 - val_loss: 0.0030 - val_auc: 0.9404 - val_accuracy: 0.9994\n",
      "Epoch 19/100\n",
      "112/112 [==============================] - 0s 2ms/step - loss: 0.0037 - auc: 0.9445 - accuracy: 0.9992 - val_loss: 0.0030 - val_auc: 0.9404 - val_accuracy: 0.9994\n",
      "Epoch 20/100\n",
      "112/112 [==============================] - 0s 2ms/step - loss: 0.0037 - auc: 0.9433 - accuracy: 0.9992 - val_loss: 0.0030 - val_auc: 0.9453 - val_accuracy: 0.9994\n",
      "Epoch 21/100\n",
      "112/112 [==============================] - 0s 2ms/step - loss: 0.0037 - auc: 0.9484 - accuracy: 0.9992 - val_loss: 0.0030 - val_auc: 0.9404 - val_accuracy: 0.9994\n",
      "Epoch 22/100\n",
      "112/112 [==============================] - 0s 2ms/step - loss: 0.0039 - auc: 0.9420 - accuracy: 0.9992 - val_loss: 0.0029 - val_auc: 0.9453 - val_accuracy: 0.9994\n",
      "Epoch 23/100\n",
      "112/112 [==============================] - 0s 2ms/step - loss: 0.0035 - auc: 0.9472 - accuracy: 0.9993 - val_loss: 0.0029 - val_auc: 0.9403 - val_accuracy: 0.9994\n",
      "Epoch 24/100\n",
      "112/112 [==============================] - 0s 2ms/step - loss: 0.0036 - auc: 0.9474 - accuracy: 0.9992 - val_loss: 0.0029 - val_auc: 0.9403 - val_accuracy: 0.9994\n",
      "Epoch 25/100\n",
      "112/112 [==============================] - 0s 2ms/step - loss: 0.0033 - auc: 0.9525 - accuracy: 0.9994 - val_loss: 0.0029 - val_auc: 0.9404 - val_accuracy: 0.9994\n",
      "Epoch 26/100\n",
      "112/112 [==============================] - 0s 2ms/step - loss: 0.0036 - auc: 0.9436 - accuracy: 0.9993 - val_loss: 0.0029 - val_auc: 0.9403 - val_accuracy: 0.9994\n",
      "Epoch 27/100\n",
      "112/112 [==============================] - 0s 2ms/step - loss: 0.0033 - auc: 0.9526 - accuracy: 0.9993 - val_loss: 0.0029 - val_auc: 0.9404 - val_accuracy: 0.9994\n",
      "Epoch 28/100\n",
      "112/112 [==============================] - 0s 2ms/step - loss: 0.0033 - auc: 0.9538 - accuracy: 0.9993 - val_loss: 0.0029 - val_auc: 0.9404 - val_accuracy: 0.9995\n",
      "Epoch 29/100\n",
      "112/112 [==============================] - 0s 2ms/step - loss: 0.0032 - auc: 0.9592 - accuracy: 0.9994 - val_loss: 0.0029 - val_auc: 0.9404 - val_accuracy: 0.9994\n",
      "Epoch 30/100\n",
      " 93/112 [=======================>......] - ETA: 0s - loss: 0.0034 - auc: 0.9472 - accuracy: 0.9993Restoring model weights from the end of the best epoch: 20.\n",
      "112/112 [==============================] - 0s 2ms/step - loss: 0.0033 - auc: 0.9502 - accuracy: 0.9993 - val_loss: 0.0029 - val_auc: 0.9404 - val_accuracy: 0.9995\n",
      "Epoch 30: early stopping\n"
     ]
    }
   ],
   "source": [
    "model = make_model()\n",
    "baseline_history = model.fit(X_train, y_train, batch_size=BATCH_SIZE,\n",
    "                             epochs=EPOCHS, \n",
    "                             callbacks=[early_stopping], \n",
    "                             validation_data=(X_test, y_test))"
   ]
  },
  {
   "cell_type": "code",
   "execution_count": 53,
   "metadata": {},
   "outputs": [
    {
     "data": {
      "text/plain": [
       "0.9994557499885559"
      ]
     },
     "execution_count": 53,
     "metadata": {},
     "output_type": "execute_result"
    }
   ],
   "source": [
    "baseline_history.history['val_accuracy'][-1]"
   ]
  },
  {
   "cell_type": "markdown",
   "metadata": {
    "id": "PROwAK95t3zl"
   },
   "source": [
    "## Evaluate Metric\n",
    "\n",
    "- confusion matrix 를 이용하여 metrics 요약"
   ]
  },
  {
   "cell_type": "code",
   "execution_count": 54,
   "metadata": {
    "colab": {
     "base_uri": "https://localhost:8080/"
    },
    "id": "ZSXfIygjGIpe",
    "outputId": "32f14f0f-3a47-421c-eb6a-c9b391b58298"
   },
   "outputs": [
    {
     "data": {
      "text/plain": [
       "(56962, 1)"
      ]
     },
     "execution_count": 54,
     "metadata": {},
     "output_type": "execute_result"
    }
   ],
   "source": [
    "predictions_baseline  = model.predict(X_test, batch_size=BATCH_SIZE)\n",
    "predictions_baseline.shape"
   ]
  },
  {
   "cell_type": "code",
   "execution_count": 55,
   "metadata": {
    "id": "GKBFC56Nt3zq"
   },
   "outputs": [],
   "source": [
    "def plot_cm(labels, pred_proba, threshold=0.5):\n",
    "    \n",
    "    y_predict = pred_proba > threshold\n",
    "    \n",
    "    cm = confusion_matrix(y_test, y_predict)\n",
    "    \n",
    "    print(\"confution matrix\\n\", cm)\n",
    "    print()\n",
    "    print(\"f1 score\\n\", f1_score(y_test, y_predict))\n",
    "    print()\n",
    "    print(\"Accuracy: {:.5f}\".format(accuracy_score(y_test, y_predict)))\n",
    "    print(\"Precision: {:.5f}\".format(precision_score(y_test, y_predict)))\n",
    "    print(\"Recall: {:.5f}\".format(recall_score(y_test, y_predict)))\n",
    "    \n",
    "    plt.figure(figsize=(5,5))\n",
    "\n",
    "    sns.heatmap(cm, annot=True, fmt=\"d\")\n",
    "    plt.title('Confusion matrix @>{:.2f} '.format(threshold))\n",
    "    plt.ylabel('Actual label')\n",
    "    plt.xlabel('Predicted label')"
   ]
  },
  {
   "cell_type": "markdown",
   "metadata": {
    "id": "LWD-EIM7t3zt"
   },
   "source": [
    "### Test dataset 으로 evaluate 하고, confusion matrix 를 그린다"
   ]
  },
  {
   "cell_type": "code",
   "execution_count": 56,
   "metadata": {
    "colab": {
     "base_uri": "https://localhost:8080/",
     "height": 440
    },
    "id": "Y3nVjXCUt3zu",
    "outputId": "fabb6530-d1c9-40c9-d67b-faaeaafedd7e"
   },
   "outputs": [
    {
     "name": "stdout",
     "output_type": "stream",
     "text": [
      "confution matrix\n",
      " [[56849    12]\n",
      " [   22    79]]\n",
      "\n",
      "f1 score\n",
      " 0.8229166666666666\n",
      "\n",
      "Accuracy: 0.99940\n",
      "Precision: 0.86813\n",
      "Recall: 0.78218\n"
     ]
    },
    {
     "data": {
      "image/png": "[encoded data removed]",
      "text/plain": [
       "<Figure size 360x360 with 2 Axes>"
      ]
     },
     "metadata": {
      "needs_background": "light"
     },
     "output_type": "display_data"
    }
   ],
   "source": [
    "plot_cm(y_test, predictions_baseline, threshold=0.5)"
   ]
  },
  {
   "cell_type": "markdown",
   "metadata": {
    "id": "8F2krKGSt3zx"
   },
   "source": [
    "## Plot ROC"
   ]
  },
  {
   "cell_type": "code",
   "execution_count": 57,
   "metadata": {
    "id": "gAeL0U1et3zy"
   },
   "outputs": [],
   "source": [
    "def plot_roc(name, labels, predictions, **kwargs):\n",
    "    \n",
    "    fp, tp, _ = roc_curve(labels, predictions)\n",
    "    auc = roc_auc_score(y_test, predictions)\n",
    "    \n",
    "    plt.plot(100*fp, 100*tp, label=f\"auc of {name}={auc:.5f}\", linewidth=2, **kwargs)\n",
    "    plt.xlabel('FP [%]')\n",
    "    plt.ylabel('TP [%]')\n",
    "    plt.xlim([-0.5,20])\n",
    "    plt.ylim([80,100.5])\n",
    "    plt.grid(True)\n",
    "    ax = plt.gca()\n",
    "    ax.set_aspect('equal')\n",
    "    fig = plt.gcf()\n",
    "    fig.set_size_inches(8, 6)"
   ]
  },
  {
   "cell_type": "code",
   "execution_count": 58,
   "metadata": {
    "colab": {
     "base_uri": "https://localhost:8080/",
     "height": 406
    },
    "id": "_-fDmxMTt3z0",
    "outputId": "d31d7e5b-546e-4b74-9288-ebe04f30dbcd"
   },
   "outputs": [
    {
     "data": {
      "text/plain": [
       "<matplotlib.legend.Legend at 0x1d7a952c910>"
      ]
     },
     "execution_count": 58,
     "metadata": {},
     "output_type": "execute_result"
    },
    {
     "data": {
      "image/png": "[encoded data removed]",
      "text/plain": [
       "<Figure size 576x432 with 1 Axes>"
      ]
     },
     "metadata": {
      "needs_background": "light"
     },
     "output_type": "display_data"
    }
   ],
   "source": [
    "plot_roc(\"Test Baseline\", y_test, predictions_baseline, color='blue', linestyle='--')\n",
    "plt.legend(loc='lower right')"
   ]
  },
  {
   "cell_type": "markdown",
   "metadata": {
    "id": "_d83CAb9t3z5"
   },
   "source": [
    "정밀도가 비교적 높은 것처럼 보이지만 리콜 및 ROC 곡선 아래 면적 (AUC)은 원하는만큼 높지 않습니다. 분류기는 종종 정밀도와 재현율을 모두 극대화하려고 할 때 어려움에 직면합니다. 특히 불균형 데이터 세트로 작업 할 때는 더욱 그렇습니다. "
   ]
  },
  {
   "cell_type": "markdown",
   "metadata": {
    "id": "-P-iJJ1pt3z5"
   },
   "source": [
    "## Class Weight 조정\n",
    "\n",
    "사용할 positive 샘플이 많지 않기 때문에 가용한 적은 수의 sample 에 classifier 가 더 비중을 두도록 할 수 있다. \n",
    "\n",
    "step1 - 레이블 및 관련 가중치로 dictionary 정의 \n",
    "```\n",
    "class_weight = {0: 1.,\n",
    "                        1: 50.,\n",
    "                        2: 2.}\n",
    "```                \n",
    "step2 - dictionary를 매개 변수로 공급:  \n",
    "```\n",
    "    model.fit(X_train, Y_train, nb_epoch=5, batch_size=32, class_weight=class_weight)\n",
    "```\n",
    "\n",
    "- class 1 하나를 50 개의 classs 0 로 취급 $\\rightarrow$ loss function 계산 시 class_weight 에 지정된 대로 가중 평균"
   ]
  },
  {
   "cell_type": "code",
   "execution_count": 59,
   "metadata": {},
   "outputs": [
    {
     "data": {
      "text/plain": [
       "(284315, 492, 284807)"
      ]
     },
     "execution_count": 59,
     "metadata": {},
     "output_type": "execute_result"
    }
   ],
   "source": [
    "normal, fraud, total"
   ]
  },
  {
   "cell_type": "code",
   "execution_count": 60,
   "metadata": {
    "colab": {
     "base_uri": "https://localhost:8080/"
    },
    "id": "8VevE6hHt3z6",
    "outputId": "d8f19e43-42a8-4db7-ade0-7031c685c343"
   },
   "outputs": [
    {
     "name": "stdout",
     "output_type": "stream",
     "text": [
      "Weight for class 0: 0.50\n",
      "Weight for class 1: 289.44\n"
     ]
    }
   ],
   "source": [
    "# total/2 로 scale 하면 loss를 비슷한 크기로 유지하는 데 도움이됩니다.\n",
    "# 모든 example의 가중치 합계는 동일하게 유지됩니다.\n",
    "\n",
    "weight_for_0 = (1 / normal)*(total) / 2.0 \n",
    "weight_for_1 = (1 / fraud)*(total) / 2.0\n",
    "\n",
    "class_weight = {0: weight_for_0, 1: weight_for_1}\n",
    "\n",
    "print('Weight for class 0: {:.2f}'.format(weight_for_0))\n",
    "print('Weight for class 1: {:.2f}'.format(weight_for_1))"
   ]
  },
  {
   "cell_type": "markdown",
   "metadata": {},
   "source": [
    "class_weight  \n",
    "\n",
    "    학습 클래스의 샘플에 대한 모델 손실에 적용할 가중치에 대한 사전 매핑 클래스 인덱스(정수). 이는 모델이 과소 표현된 클래스의 샘플에 \"더 많은주의를 기울이도록\"지시하는 데 유용."
   ]
  },
  {
   "cell_type": "code",
   "execution_count": 61,
   "metadata": {
    "colab": {
     "base_uri": "https://localhost:8080/"
    },
    "id": "Am_veDXSt3z9",
    "outputId": "ec4394d4-b43b-4096-c253-27cd3e36af29",
    "scrolled": true
   },
   "outputs": [
    {
     "name": "stdout",
     "output_type": "stream",
     "text": [
      "Epoch 1/100\n",
      "112/112 [==============================] - 1s 3ms/step - loss: 0.6550 - auc: 0.7968 - accuracy: 0.6060 - val_loss: 0.5148 - val_auc: 0.9353 - val_accuracy: 0.8561\n",
      "Epoch 2/100\n",
      "112/112 [==============================] - 0s 2ms/step - loss: 0.3471 - auc: 0.9209 - accuracy: 0.8880 - val_loss: 0.3227 - val_auc: 0.9428 - val_accuracy: 0.9713\n",
      "Epoch 3/100\n",
      "112/112 [==============================] - 0s 2ms/step - loss: 0.2626 - auc: 0.9483 - accuracy: 0.9553 - val_loss: 0.2383 - val_auc: 0.9517 - val_accuracy: 0.9716\n",
      "Epoch 4/100\n",
      "112/112 [==============================] - 0s 2ms/step - loss: 0.2242 - auc: 0.9610 - accuracy: 0.9575 - val_loss: 0.1775 - val_auc: 0.9560 - val_accuracy: 0.9776\n",
      "Epoch 5/100\n",
      "112/112 [==============================] - 0s 2ms/step - loss: 0.1989 - auc: 0.9700 - accuracy: 0.9656 - val_loss: 0.1487 - val_auc: 0.9658 - val_accuracy: 0.9773\n",
      "Epoch 6/100\n",
      "112/112 [==============================] - 0s 2ms/step - loss: 0.1890 - auc: 0.9710 - accuracy: 0.9662 - val_loss: 0.1432 - val_auc: 0.9746 - val_accuracy: 0.9725\n",
      "Epoch 7/100\n",
      "112/112 [==============================] - 0s 2ms/step - loss: 0.1825 - auc: 0.9762 - accuracy: 0.9662 - val_loss: 0.1405 - val_auc: 0.9795 - val_accuracy: 0.9697\n",
      "Epoch 8/100\n",
      "112/112 [==============================] - 0s 2ms/step - loss: 0.1630 - auc: 0.9800 - accuracy: 0.9661 - val_loss: 0.1071 - val_auc: 0.9817 - val_accuracy: 0.9782\n",
      "Epoch 9/100\n",
      "112/112 [==============================] - 0s 2ms/step - loss: 0.1576 - auc: 0.9804 - accuracy: 0.9714 - val_loss: 0.1014 - val_auc: 0.9851 - val_accuracy: 0.9791\n",
      "Epoch 10/100\n",
      "112/112 [==============================] - 0s 2ms/step - loss: 0.1508 - auc: 0.9831 - accuracy: 0.9680 - val_loss: 0.0961 - val_auc: 0.9873 - val_accuracy: 0.9789\n",
      "Epoch 11/100\n",
      "112/112 [==============================] - 0s 2ms/step - loss: 0.1433 - auc: 0.9854 - accuracy: 0.9734 - val_loss: 0.1009 - val_auc: 0.9875 - val_accuracy: 0.9758\n",
      "Epoch 12/100\n",
      "112/112 [==============================] - 0s 2ms/step - loss: 0.1515 - auc: 0.9820 - accuracy: 0.9655 - val_loss: 0.1001 - val_auc: 0.9874 - val_accuracy: 0.9756\n",
      "Epoch 13/100\n",
      "112/112 [==============================] - 0s 2ms/step - loss: 0.1388 - auc: 0.9866 - accuracy: 0.9687 - val_loss: 0.0873 - val_auc: 0.9879 - val_accuracy: 0.9784\n",
      "Epoch 14/100\n",
      "112/112 [==============================] - 0s 2ms/step - loss: 0.1427 - auc: 0.9849 - accuracy: 0.9671 - val_loss: 0.0888 - val_auc: 0.9881 - val_accuracy: 0.9775\n",
      "Epoch 15/100\n",
      "112/112 [==============================] - 0s 2ms/step - loss: 0.1344 - auc: 0.9866 - accuracy: 0.9699 - val_loss: 0.0842 - val_auc: 0.9881 - val_accuracy: 0.9791\n",
      "Epoch 16/100\n",
      "112/112 [==============================] - 0s 2ms/step - loss: 0.1334 - auc: 0.9865 - accuracy: 0.9725 - val_loss: 0.0845 - val_auc: 0.9885 - val_accuracy: 0.9782\n",
      "Epoch 17/100\n",
      "112/112 [==============================] - 0s 2ms/step - loss: 0.1252 - auc: 0.9891 - accuracy: 0.9713 - val_loss: 0.0815 - val_auc: 0.9886 - val_accuracy: 0.9784\n",
      "Epoch 18/100\n",
      "112/112 [==============================] - 0s 2ms/step - loss: 0.1383 - auc: 0.9857 - accuracy: 0.9697 - val_loss: 0.0909 - val_auc: 0.9881 - val_accuracy: 0.9744\n",
      "Epoch 19/100\n",
      "112/112 [==============================] - 0s 2ms/step - loss: 0.1234 - auc: 0.9892 - accuracy: 0.9709 - val_loss: 0.0806 - val_auc: 0.9878 - val_accuracy: 0.9774\n",
      "Epoch 20/100\n",
      "112/112 [==============================] - 0s 2ms/step - loss: 0.1211 - auc: 0.9901 - accuracy: 0.9716 - val_loss: 0.0784 - val_auc: 0.9878 - val_accuracy: 0.9784\n",
      "Epoch 21/100\n",
      "112/112 [==============================] - 0s 2ms/step - loss: 0.1198 - auc: 0.9901 - accuracy: 0.9691 - val_loss: 0.0749 - val_auc: 0.9877 - val_accuracy: 0.9801\n",
      "Epoch 22/100\n",
      "112/112 [==============================] - 0s 2ms/step - loss: 0.1217 - auc: 0.9899 - accuracy: 0.9720 - val_loss: 0.0790 - val_auc: 0.9868 - val_accuracy: 0.9777\n",
      "Epoch 23/100\n",
      "112/112 [==============================] - 0s 2ms/step - loss: 0.1195 - auc: 0.9902 - accuracy: 0.9687 - val_loss: 0.0721 - val_auc: 0.9884 - val_accuracy: 0.9811\n",
      "Epoch 24/100\n",
      "112/112 [==============================] - 0s 2ms/step - loss: 0.1054 - auc: 0.9935 - accuracy: 0.9734 - val_loss: 0.0707 - val_auc: 0.9891 - val_accuracy: 0.9805\n",
      "Epoch 25/100\n",
      "112/112 [==============================] - 0s 2ms/step - loss: 0.1047 - auc: 0.9925 - accuracy: 0.9742 - val_loss: 0.0703 - val_auc: 0.9887 - val_accuracy: 0.9794\n",
      "Epoch 26/100\n",
      "112/112 [==============================] - 0s 2ms/step - loss: 0.1015 - auc: 0.9936 - accuracy: 0.9706 - val_loss: 0.0700 - val_auc: 0.9883 - val_accuracy: 0.9792\n",
      "Epoch 27/100\n",
      "112/112 [==============================] - 0s 2ms/step - loss: 0.0957 - auc: 0.9944 - accuracy: 0.9724 - val_loss: 0.0608 - val_auc: 0.9886 - val_accuracy: 0.9830\n",
      "Epoch 28/100\n",
      "112/112 [==============================] - 0s 2ms/step - loss: 0.1179 - auc: 0.9898 - accuracy: 0.9765 - val_loss: 0.0688 - val_auc: 0.9873 - val_accuracy: 0.9815\n",
      "Epoch 29/100\n",
      "112/112 [==============================] - 0s 2ms/step - loss: 0.0980 - auc: 0.9935 - accuracy: 0.9748 - val_loss: 0.0656 - val_auc: 0.9883 - val_accuracy: 0.9824\n",
      "Epoch 30/100\n",
      "112/112 [==============================] - 0s 2ms/step - loss: 0.0963 - auc: 0.9945 - accuracy: 0.9762 - val_loss: 0.0674 - val_auc: 0.9869 - val_accuracy: 0.9813\n",
      "Epoch 31/100\n",
      "112/112 [==============================] - 0s 2ms/step - loss: 0.1007 - auc: 0.9939 - accuracy: 0.9711 - val_loss: 0.0659 - val_auc: 0.9875 - val_accuracy: 0.9811\n",
      "Epoch 32/100\n",
      "112/112 [==============================] - 0s 2ms/step - loss: 0.0972 - auc: 0.9939 - accuracy: 0.9728 - val_loss: 0.0624 - val_auc: 0.9867 - val_accuracy: 0.9828\n",
      "Epoch 33/100\n",
      "112/112 [==============================] - 0s 2ms/step - loss: 0.0969 - auc: 0.9942 - accuracy: 0.9732 - val_loss: 0.0584 - val_auc: 0.9859 - val_accuracy: 0.9845\n",
      "Epoch 34/100\n",
      " 87/112 [======================>.......] - ETA: 0s - loss: 0.0976 - auc: 0.9934 - accuracy: 0.9737Restoring model weights from the end of the best epoch: 24.\n",
      "112/112 [==============================] - 0s 2ms/step - loss: 0.0955 - auc: 0.9937 - accuracy: 0.9741 - val_loss: 0.0577 - val_auc: 0.9870 - val_accuracy: 0.9845\n",
      "Epoch 34: early stopping\n"
     ]
    }
   ],
   "source": [
    "weighted_model = make_model()\n",
    "\n",
    "weighted_history = weighted_model.fit(X_train, y_train, \n",
    "                                    batch_size=BATCH_SIZE,\n",
    "                                    epochs=EPOCHS, \n",
    "                                    callbacks = [early_stopping], \n",
    "                                    validation_data=(X_test, y_test),\n",
    "                                    class_weight=class_weight) "
   ]
  },
  {
   "cell_type": "code",
   "execution_count": 62,
   "metadata": {
    "id": "ErH9Ehhct30D"
   },
   "outputs": [],
   "source": [
    "predictions_weighted = weighted_model.predict(X_test, batch_size=BATCH_SIZE)"
   ]
  },
  {
   "cell_type": "code",
   "execution_count": 63,
   "metadata": {
    "colab": {
     "base_uri": "https://localhost:8080/",
     "height": 619
    },
    "id": "59NLR77Kt30E",
    "outputId": "67696d4f-c3b8-44b9-8dfe-2b977c2d25d1"
   },
   "outputs": [
    {
     "name": "stdout",
     "output_type": "stream",
     "text": [
      "loss :  0.07072916626930237\n",
      "auc :  0.9891151785850525\n",
      "accuracy :  0.9804606437683105\n",
      "confution matrix\n",
      " [[55757  1104]\n",
      " [    9    92]]\n",
      "\n",
      "f1 score\n",
      " 0.14186584425597532\n",
      "\n",
      "Accuracy: 0.98046\n",
      "Precision: 0.07692\n",
      "Recall: 0.91089\n"
     ]
    },
    {
     "data": {
      "image/png": "[encoded data removed]",
      "text/plain": [
       "<Figure size 360x360 with 2 Axes>"
      ]
     },
     "metadata": {
      "needs_background": "light"
     },
     "output_type": "display_data"
    }
   ],
   "source": [
    "weighted_results = weighted_model.evaluate(X_test, y_test,\n",
    "                                           batch_size=BATCH_SIZE, verbose=0)\n",
    "\n",
    "for name, value in zip(weighted_model.metrics_names, weighted_results):\n",
    "    print(name, ': ', value)\n",
    "\n",
    "plot_cm(y_test, predictions_weighted, threshold=0.5)"
   ]
  },
  {
   "cell_type": "markdown",
   "metadata": {
    "id": "FF42Tjcdt30K"
   },
   "source": [
    "## Plot the ROC"
   ]
  },
  {
   "cell_type": "code",
   "execution_count": 64,
   "metadata": {
    "colab": {
     "base_uri": "https://localhost:8080/",
     "height": 406
    },
    "id": "DmZ5bpDEt30N",
    "outputId": "827d1526-1fec-4da4-cc93-0e74b6b38657",
    "scrolled": false
   },
   "outputs": [
    {
     "data": {
      "text/plain": [
       "<matplotlib.legend.Legend at 0x1d7a9846940>"
      ]
     },
     "execution_count": 64,
     "metadata": {},
     "output_type": "execute_result"
    },
    {
     "data": {
      "image/png": "[encoded data removed]",
      "text/plain": [
       "<Figure size 576x432 with 1 Axes>"
      ]
     },
     "metadata": {
      "needs_background": "light"
     },
     "output_type": "display_data"
    }
   ],
   "source": [
    "plot_roc(\"Baseline ROC\", y_test, predictions_baseline, color='blue', linestyle='--')\n",
    "\n",
    "plot_roc(\"Weighted ROC\", y_test, predictions_weighted, color='red', linestyle='--')\n",
    "\n",
    "plt.legend(loc='lower right')"
   ]
  },
  {
   "cell_type": "code",
   "execution_count": null,
   "metadata": {
    "id": "rcbHFEtjGzxD"
   },
   "outputs": [],
   "source": []
  }
 ],
 "metadata": {
  "accelerator": "GPU",
  "colab": {
   "collapsed_sections": [],
   "machine_shape": "hm",
   "name": "120_DNN_Highly_Imbalanced_Data_fraud_detection.ipynb",
   "provenance": []
  },
  "kernelspec": {
   "display_name": "Python 3 (ipykernel)",
   "language": "python",
   "name": "python3"
  },
  "language_info": {
   "codemirror_mode": {
    "name": "ipython",
    "version": 3
   },
   "file_extension": ".py",
   "mimetype": "text/x-python",
   "name": "python",
   "nbconvert_exporter": "python",
   "pygments_lexer": "ipython3",
   "version": "3.8.12"
  }
 },
 "nbformat": 4,
 "nbformat_minor": 1
}
