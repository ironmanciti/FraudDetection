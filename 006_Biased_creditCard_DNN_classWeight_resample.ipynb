{
 "cells": [
  {
   "cell_type": "markdown",
   "metadata": {
    "id": "SyQuWKAJt3xq"
   },
   "source": [
    "# Highly Imbalanced Fraud Data 의 분류\n",
    "## DNN 이용, Class Weight 조정, OverSampling\n",
    "## ROC 비교\n",
    "\n",
    "- [Credit Card Fraud Detection](https://www.kaggle.com/mlg-ulb/creditcardfraud) - Kaggle\n",
    "\n",
    "\n",
    "- Highly Imbalanced Dataset - dataset는 2013 년 9 월 유럽 카드 소지자 신용 카드 거래로 만들었습니다. 이 dataset는 2 일 동안 발생한 거래를 보여 주며, 284,807 건의 거래 중 492 건의 fraud가 있습니다. 데이터세트는 매우 불균형하며 포지티브 클래스(사기)는 모든 거래의 0.172 %를 차지합니다.\n",
    "\n",
    "\n",
    "- 이 dataset는 PCA 변환의 결과인 숫자 입력 변수만 포함합니다. 안타깝게도 기밀 유지 문제로 인해 데이터에 대한 원래 feature와 추가 background 정보를 제공할 수 없습니다. 특성 V1, V2, ... V28은 PCA로 얻은 principal component이며 PCA로 변환되지 않은 유일한 기능은 'Time' 과 'Amount' 입니다. '시간' 특성은 각 트랜잭션과 데이터 세트의 첫 번째 트랜잭션 사이에 경과된 시간(초) 입니다. 'Amount' 특성은 거래금액 입니다.  'Class'는 사기의 경우 1, 그렇지 않으면 0 입니다.\n",
    "\n",
    "\n",
    "- 클래스 불균형 비율이 주어지면 Area Under the Precision-Recall Curve (AUPRC)을 사용하여 정확도를 측정하는 것이 좋습니다. 불균형 data 분류에는 confusion matrix 정확도가 의미가 없습니다."
   ]
  },
  {
   "cell_type": "code",
   "execution_count": 1,
   "metadata": {
    "id": "dH4wHxmzt3xy"
   },
   "outputs": [],
   "source": [
    "import tensorflow as tf\n",
    "\n",
    "import matplotlib as mpl\n",
    "import matplotlib.pyplot as plt\n",
    "import numpy as np\n",
    "import pandas as pd\n",
    "import seaborn as sns\n",
    "from sklearn.metrics import confusion_matrix, f1_score\n",
    "from sklearn.metrics import  accuracy_score, precision_score, recall_score, \\\n",
    "                            roc_curve, roc_auc_score\n",
    "\n",
    "from sklearn.model_selection import train_test_split\n",
    "from sklearn.preprocessing import StandardScaler\n",
    "\n",
    "mpl.rcParams['figure.figsize'] = (12, 10)"
   ]
  },
  {
   "cell_type": "markdown",
   "metadata": {
    "id": "IdW269nBt3x2"
   },
   "source": [
    "### Download the Kaggle Credit Card Fraud data set\n",
    "\n",
    "- [kaggle creditcard csv file](https://storage.googleapis.com/download.tensorflow.org/data/creditcard.csv)"
   ]
  },
  {
   "cell_type": "code",
   "execution_count": 2,
   "metadata": {
    "colab": {
     "base_uri": "https://localhost:8080/",
     "height": 225
    },
    "id": "Zo_ucpfIt3x4",
    "outputId": "77cd1f87-2881-49cc-a97b-c254e6baa327"
   },
   "outputs": [
    {
     "data": {
      "text/html": [
       "<div>\n",
       "<style scoped>\n",
       "    .dataframe tbody tr th:only-of-type {\n",
       "        vertical-align: middle;\n",
       "    }\n",
       "\n",
       "    .dataframe tbody tr th {\n",
       "        vertical-align: top;\n",
       "    }\n",
       "\n",
       "    .dataframe thead th {\n",
       "        text-align: right;\n",
       "    }\n",
       "</style>\n",
       "<table border=\"1\" class=\"dataframe\">\n",
       "  <thead>\n",
       "    <tr style=\"text-align: right;\">\n",
       "      <th></th>\n",
       "      <th>Time</th>\n",
       "      <th>V1</th>\n",
       "      <th>V2</th>\n",
       "      <th>V3</th>\n",
       "      <th>V4</th>\n",
       "      <th>V5</th>\n",
       "      <th>V6</th>\n",
       "      <th>V7</th>\n",
       "      <th>V8</th>\n",
       "      <th>V9</th>\n",
       "      <th>...</th>\n",
       "      <th>V21</th>\n",
       "      <th>V22</th>\n",
       "      <th>V23</th>\n",
       "      <th>V24</th>\n",
       "      <th>V25</th>\n",
       "      <th>V26</th>\n",
       "      <th>V27</th>\n",
       "      <th>V28</th>\n",
       "      <th>Amount</th>\n",
       "      <th>Class</th>\n",
       "    </tr>\n",
       "  </thead>\n",
       "  <tbody>\n",
       "    <tr>\n",
       "      <th>0</th>\n",
       "      <td>0.0</td>\n",
       "      <td>-1.359807</td>\n",
       "      <td>-0.072781</td>\n",
       "      <td>2.536347</td>\n",
       "      <td>1.378155</td>\n",
       "      <td>-0.338321</td>\n",
       "      <td>0.462388</td>\n",
       "      <td>0.239599</td>\n",
       "      <td>0.098698</td>\n",
       "      <td>0.363787</td>\n",
       "      <td>...</td>\n",
       "      <td>-0.018307</td>\n",
       "      <td>0.277838</td>\n",
       "      <td>-0.110474</td>\n",
       "      <td>0.066928</td>\n",
       "      <td>0.128539</td>\n",
       "      <td>-0.189115</td>\n",
       "      <td>0.133558</td>\n",
       "      <td>-0.021053</td>\n",
       "      <td>149.62</td>\n",
       "      <td>0</td>\n",
       "    </tr>\n",
       "    <tr>\n",
       "      <th>1</th>\n",
       "      <td>0.0</td>\n",
       "      <td>1.191857</td>\n",
       "      <td>0.266151</td>\n",
       "      <td>0.166480</td>\n",
       "      <td>0.448154</td>\n",
       "      <td>0.060018</td>\n",
       "      <td>-0.082361</td>\n",
       "      <td>-0.078803</td>\n",
       "      <td>0.085102</td>\n",
       "      <td>-0.255425</td>\n",
       "      <td>...</td>\n",
       "      <td>-0.225775</td>\n",
       "      <td>-0.638672</td>\n",
       "      <td>0.101288</td>\n",
       "      <td>-0.339846</td>\n",
       "      <td>0.167170</td>\n",
       "      <td>0.125895</td>\n",
       "      <td>-0.008983</td>\n",
       "      <td>0.014724</td>\n",
       "      <td>2.69</td>\n",
       "      <td>0</td>\n",
       "    </tr>\n",
       "    <tr>\n",
       "      <th>2</th>\n",
       "      <td>1.0</td>\n",
       "      <td>-1.358354</td>\n",
       "      <td>-1.340163</td>\n",
       "      <td>1.773209</td>\n",
       "      <td>0.379780</td>\n",
       "      <td>-0.503198</td>\n",
       "      <td>1.800499</td>\n",
       "      <td>0.791461</td>\n",
       "      <td>0.247676</td>\n",
       "      <td>-1.514654</td>\n",
       "      <td>...</td>\n",
       "      <td>0.247998</td>\n",
       "      <td>0.771679</td>\n",
       "      <td>0.909412</td>\n",
       "      <td>-0.689281</td>\n",
       "      <td>-0.327642</td>\n",
       "      <td>-0.139097</td>\n",
       "      <td>-0.055353</td>\n",
       "      <td>-0.059752</td>\n",
       "      <td>378.66</td>\n",
       "      <td>0</td>\n",
       "    </tr>\n",
       "    <tr>\n",
       "      <th>3</th>\n",
       "      <td>1.0</td>\n",
       "      <td>-0.966272</td>\n",
       "      <td>-0.185226</td>\n",
       "      <td>1.792993</td>\n",
       "      <td>-0.863291</td>\n",
       "      <td>-0.010309</td>\n",
       "      <td>1.247203</td>\n",
       "      <td>0.237609</td>\n",
       "      <td>0.377436</td>\n",
       "      <td>-1.387024</td>\n",
       "      <td>...</td>\n",
       "      <td>-0.108300</td>\n",
       "      <td>0.005274</td>\n",
       "      <td>-0.190321</td>\n",
       "      <td>-1.175575</td>\n",
       "      <td>0.647376</td>\n",
       "      <td>-0.221929</td>\n",
       "      <td>0.062723</td>\n",
       "      <td>0.061458</td>\n",
       "      <td>123.50</td>\n",
       "      <td>0</td>\n",
       "    </tr>\n",
       "    <tr>\n",
       "      <th>4</th>\n",
       "      <td>2.0</td>\n",
       "      <td>-1.158233</td>\n",
       "      <td>0.877737</td>\n",
       "      <td>1.548718</td>\n",
       "      <td>0.403034</td>\n",
       "      <td>-0.407193</td>\n",
       "      <td>0.095921</td>\n",
       "      <td>0.592941</td>\n",
       "      <td>-0.270533</td>\n",
       "      <td>0.817739</td>\n",
       "      <td>...</td>\n",
       "      <td>-0.009431</td>\n",
       "      <td>0.798278</td>\n",
       "      <td>-0.137458</td>\n",
       "      <td>0.141267</td>\n",
       "      <td>-0.206010</td>\n",
       "      <td>0.502292</td>\n",
       "      <td>0.219422</td>\n",
       "      <td>0.215153</td>\n",
       "      <td>69.99</td>\n",
       "      <td>0</td>\n",
       "    </tr>\n",
       "  </tbody>\n",
       "</table>\n",
       "<p>5 rows × 31 columns</p>\n",
       "</div>"
      ],
      "text/plain": [
       "   Time        V1        V2        V3        V4        V5        V6        V7  \\\n",
       "0   0.0 -1.359807 -0.072781  2.536347  1.378155 -0.338321  0.462388  0.239599   \n",
       "1   0.0  1.191857  0.266151  0.166480  0.448154  0.060018 -0.082361 -0.078803   \n",
       "2   1.0 -1.358354 -1.340163  1.773209  0.379780 -0.503198  1.800499  0.791461   \n",
       "3   1.0 -0.966272 -0.185226  1.792993 -0.863291 -0.010309  1.247203  0.237609   \n",
       "4   2.0 -1.158233  0.877737  1.548718  0.403034 -0.407193  0.095921  0.592941   \n",
       "\n",
       "         V8        V9  ...       V21       V22       V23       V24       V25  \\\n",
       "0  0.098698  0.363787  ... -0.018307  0.277838 -0.110474  0.066928  0.128539   \n",
       "1  0.085102 -0.255425  ... -0.225775 -0.638672  0.101288 -0.339846  0.167170   \n",
       "2  0.247676 -1.514654  ...  0.247998  0.771679  0.909412 -0.689281 -0.327642   \n",
       "3  0.377436 -1.387024  ... -0.108300  0.005274 -0.190321 -1.175575  0.647376   \n",
       "4 -0.270533  0.817739  ... -0.009431  0.798278 -0.137458  0.141267 -0.206010   \n",
       "\n",
       "        V26       V27       V28  Amount  Class  \n",
       "0 -0.189115  0.133558 -0.021053  149.62      0  \n",
       "1  0.125895 -0.008983  0.014724    2.69      0  \n",
       "2 -0.139097 -0.055353 -0.059752  378.66      0  \n",
       "3 -0.221929  0.062723  0.061458  123.50      0  \n",
       "4  0.502292  0.219422  0.215153   69.99      0  \n",
       "\n",
       "[5 rows x 31 columns]"
      ]
     },
     "execution_count": 2,
     "metadata": {},
     "output_type": "execute_result"
    }
   ],
   "source": [
    "# df = pd.read_csv('https://storage.googleapis.com/download.tensorflow.org/data/creditcard.csv')\n",
    "df = pd.read_csv('data/creditcard.csv')\n",
    "\n",
    "df.head()"
   ]
  },
  {
   "cell_type": "code",
   "execution_count": 3,
   "metadata": {
    "colab": {
     "base_uri": "https://localhost:8080/",
     "height": 319
    },
    "id": "5V8JNJZVt3x7",
    "outputId": "b6c18214-2d9e-4cfa-8619-487589d8c40a"
   },
   "outputs": [
    {
     "data": {
      "text/html": [
       "<div>\n",
       "<style scoped>\n",
       "    .dataframe tbody tr th:only-of-type {\n",
       "        vertical-align: middle;\n",
       "    }\n",
       "\n",
       "    .dataframe tbody tr th {\n",
       "        vertical-align: top;\n",
       "    }\n",
       "\n",
       "    .dataframe thead th {\n",
       "        text-align: right;\n",
       "    }\n",
       "</style>\n",
       "<table border=\"1\" class=\"dataframe\">\n",
       "  <thead>\n",
       "    <tr style=\"text-align: right;\">\n",
       "      <th></th>\n",
       "      <th>Time</th>\n",
       "      <th>V1</th>\n",
       "      <th>V2</th>\n",
       "      <th>V27</th>\n",
       "      <th>V28</th>\n",
       "      <th>Amount</th>\n",
       "      <th>Class</th>\n",
       "    </tr>\n",
       "  </thead>\n",
       "  <tbody>\n",
       "    <tr>\n",
       "      <th>count</th>\n",
       "      <td>284807.000000</td>\n",
       "      <td>2.848070e+05</td>\n",
       "      <td>2.848070e+05</td>\n",
       "      <td>2.848070e+05</td>\n",
       "      <td>2.848070e+05</td>\n",
       "      <td>284807.000000</td>\n",
       "      <td>284807.000000</td>\n",
       "    </tr>\n",
       "    <tr>\n",
       "      <th>mean</th>\n",
       "      <td>94813.859575</td>\n",
       "      <td>3.919560e-15</td>\n",
       "      <td>5.688174e-16</td>\n",
       "      <td>-3.660161e-16</td>\n",
       "      <td>-1.206049e-16</td>\n",
       "      <td>88.349619</td>\n",
       "      <td>0.001727</td>\n",
       "    </tr>\n",
       "    <tr>\n",
       "      <th>std</th>\n",
       "      <td>47488.145955</td>\n",
       "      <td>1.958696e+00</td>\n",
       "      <td>1.651309e+00</td>\n",
       "      <td>4.036325e-01</td>\n",
       "      <td>3.300833e-01</td>\n",
       "      <td>250.120109</td>\n",
       "      <td>0.041527</td>\n",
       "    </tr>\n",
       "    <tr>\n",
       "      <th>min</th>\n",
       "      <td>0.000000</td>\n",
       "      <td>-5.640751e+01</td>\n",
       "      <td>-7.271573e+01</td>\n",
       "      <td>-2.256568e+01</td>\n",
       "      <td>-1.543008e+01</td>\n",
       "      <td>0.000000</td>\n",
       "      <td>0.000000</td>\n",
       "    </tr>\n",
       "    <tr>\n",
       "      <th>25%</th>\n",
       "      <td>54201.500000</td>\n",
       "      <td>-9.203734e-01</td>\n",
       "      <td>-5.985499e-01</td>\n",
       "      <td>-7.083953e-02</td>\n",
       "      <td>-5.295979e-02</td>\n",
       "      <td>5.600000</td>\n",
       "      <td>0.000000</td>\n",
       "    </tr>\n",
       "    <tr>\n",
       "      <th>50%</th>\n",
       "      <td>84692.000000</td>\n",
       "      <td>1.810880e-02</td>\n",
       "      <td>6.548556e-02</td>\n",
       "      <td>1.342146e-03</td>\n",
       "      <td>1.124383e-02</td>\n",
       "      <td>22.000000</td>\n",
       "      <td>0.000000</td>\n",
       "    </tr>\n",
       "    <tr>\n",
       "      <th>75%</th>\n",
       "      <td>139320.500000</td>\n",
       "      <td>1.315642e+00</td>\n",
       "      <td>8.037239e-01</td>\n",
       "      <td>9.104512e-02</td>\n",
       "      <td>7.827995e-02</td>\n",
       "      <td>77.165000</td>\n",
       "      <td>0.000000</td>\n",
       "    </tr>\n",
       "    <tr>\n",
       "      <th>max</th>\n",
       "      <td>172792.000000</td>\n",
       "      <td>2.454930e+00</td>\n",
       "      <td>2.205773e+01</td>\n",
       "      <td>3.161220e+01</td>\n",
       "      <td>3.384781e+01</td>\n",
       "      <td>25691.160000</td>\n",
       "      <td>1.000000</td>\n",
       "    </tr>\n",
       "  </tbody>\n",
       "</table>\n",
       "</div>"
      ],
      "text/plain": [
       "                Time            V1            V2           V27           V28  \\\n",
       "count  284807.000000  2.848070e+05  2.848070e+05  2.848070e+05  2.848070e+05   \n",
       "mean    94813.859575  3.919560e-15  5.688174e-16 -3.660161e-16 -1.206049e-16   \n",
       "std     47488.145955  1.958696e+00  1.651309e+00  4.036325e-01  3.300833e-01   \n",
       "min         0.000000 -5.640751e+01 -7.271573e+01 -2.256568e+01 -1.543008e+01   \n",
       "25%     54201.500000 -9.203734e-01 -5.985499e-01 -7.083953e-02 -5.295979e-02   \n",
       "50%     84692.000000  1.810880e-02  6.548556e-02  1.342146e-03  1.124383e-02   \n",
       "75%    139320.500000  1.315642e+00  8.037239e-01  9.104512e-02  7.827995e-02   \n",
       "max    172792.000000  2.454930e+00  2.205773e+01  3.161220e+01  3.384781e+01   \n",
       "\n",
       "              Amount          Class  \n",
       "count  284807.000000  284807.000000  \n",
       "mean       88.349619       0.001727  \n",
       "std       250.120109       0.041527  \n",
       "min         0.000000       0.000000  \n",
       "25%         5.600000       0.000000  \n",
       "50%        22.000000       0.000000  \n",
       "75%        77.165000       0.000000  \n",
       "max     25691.160000       1.000000  "
      ]
     },
     "execution_count": 3,
     "metadata": {},
     "output_type": "execute_result"
    }
   ],
   "source": [
    "df[['Time', 'V1', 'V2', 'V27', 'V28', 'Amount', 'Class']].describe()"
   ]
  },
  {
   "cell_type": "markdown",
   "metadata": {
    "id": "738aexZRt3x-"
   },
   "source": [
    "### 클래스 레이블 불균형 조사"
   ]
  },
  {
   "cell_type": "code",
   "execution_count": 4,
   "metadata": {
    "colab": {
     "base_uri": "https://localhost:8080/"
    },
    "id": "2nnddVRjGIpU",
    "outputId": "4e828529-e5fb-482d-b6ba-37e63f6f000b"
   },
   "outputs": [
    {
     "data": {
      "text/plain": [
       "0    284315\n",
       "1       492\n",
       "Name: Class, dtype: int64"
      ]
     },
     "execution_count": 4,
     "metadata": {},
     "output_type": "execute_result"
    }
   ],
   "source": [
    "df['Class'].value_counts()"
   ]
  },
  {
   "cell_type": "code",
   "execution_count": 5,
   "metadata": {
    "colab": {
     "base_uri": "https://localhost:8080/"
    },
    "id": "k_Q_Zwbkt3x_",
    "outputId": "2521c35e-71a3-451e-c5cc-3f92d50b11c3"
   },
   "outputs": [
    {
     "name": "stdout",
     "output_type": "stream",
     "text": [
      "Total = 284,807\n",
      "Fraud = 0.17%\n",
      "Normal = 99.83%\n"
     ]
    }
   ],
   "source": [
    "fraud = (df['Class'] == 1).sum()\n",
    "normal = (df['Class'] == 0).sum()\n",
    "\n",
    "total = fraud + normal\n",
    "\n",
    "print(f\"Total = {total:,}\")\n",
    "print(f\"Fraud = {fraud/total*100:,.2f}%\")\n",
    "print(f\"Normal = {normal/total*100:,.2f}%\")"
   ]
  },
  {
   "cell_type": "markdown",
   "metadata": {
    "id": "USH9Dhvjt3yG"
   },
   "source": [
    "### Clean, split and normalize the data"
   ]
  },
  {
   "cell_type": "code",
   "execution_count": 6,
   "metadata": {},
   "outputs": [
    {
     "data": {
      "text/html": [
       "<div>\n",
       "<style scoped>\n",
       "    .dataframe tbody tr th:only-of-type {\n",
       "        vertical-align: middle;\n",
       "    }\n",
       "\n",
       "    .dataframe tbody tr th {\n",
       "        vertical-align: top;\n",
       "    }\n",
       "\n",
       "    .dataframe thead th {\n",
       "        text-align: right;\n",
       "    }\n",
       "</style>\n",
       "<table border=\"1\" class=\"dataframe\">\n",
       "  <thead>\n",
       "    <tr style=\"text-align: right;\">\n",
       "      <th></th>\n",
       "      <th>Time</th>\n",
       "      <th>V1</th>\n",
       "      <th>V2</th>\n",
       "      <th>V3</th>\n",
       "      <th>V4</th>\n",
       "      <th>V5</th>\n",
       "      <th>V6</th>\n",
       "      <th>V7</th>\n",
       "      <th>V8</th>\n",
       "      <th>V9</th>\n",
       "      <th>...</th>\n",
       "      <th>V21</th>\n",
       "      <th>V22</th>\n",
       "      <th>V23</th>\n",
       "      <th>V24</th>\n",
       "      <th>V25</th>\n",
       "      <th>V26</th>\n",
       "      <th>V27</th>\n",
       "      <th>V28</th>\n",
       "      <th>Class</th>\n",
       "      <th>Amount</th>\n",
       "    </tr>\n",
       "  </thead>\n",
       "  <tbody>\n",
       "    <tr>\n",
       "      <th>0</th>\n",
       "      <td>0.000000</td>\n",
       "      <td>-1.359807</td>\n",
       "      <td>-0.072781</td>\n",
       "      <td>2.536347</td>\n",
       "      <td>1.378155</td>\n",
       "      <td>-0.338321</td>\n",
       "      <td>0.462388</td>\n",
       "      <td>0.239599</td>\n",
       "      <td>0.098698</td>\n",
       "      <td>0.363787</td>\n",
       "      <td>...</td>\n",
       "      <td>-0.018307</td>\n",
       "      <td>0.277838</td>\n",
       "      <td>-0.110474</td>\n",
       "      <td>0.066928</td>\n",
       "      <td>0.128539</td>\n",
       "      <td>-0.189115</td>\n",
       "      <td>0.133558</td>\n",
       "      <td>-0.021053</td>\n",
       "      <td>0</td>\n",
       "      <td>5.008105</td>\n",
       "    </tr>\n",
       "    <tr>\n",
       "      <th>1</th>\n",
       "      <td>0.000000</td>\n",
       "      <td>1.191857</td>\n",
       "      <td>0.266151</td>\n",
       "      <td>0.166480</td>\n",
       "      <td>0.448154</td>\n",
       "      <td>0.060018</td>\n",
       "      <td>-0.082361</td>\n",
       "      <td>-0.078803</td>\n",
       "      <td>0.085102</td>\n",
       "      <td>-0.255425</td>\n",
       "      <td>...</td>\n",
       "      <td>-0.225775</td>\n",
       "      <td>-0.638672</td>\n",
       "      <td>0.101288</td>\n",
       "      <td>-0.339846</td>\n",
       "      <td>0.167170</td>\n",
       "      <td>0.125895</td>\n",
       "      <td>-0.008983</td>\n",
       "      <td>0.014724</td>\n",
       "      <td>0</td>\n",
       "      <td>0.989913</td>\n",
       "    </tr>\n",
       "    <tr>\n",
       "      <th>2</th>\n",
       "      <td>0.000278</td>\n",
       "      <td>-1.358354</td>\n",
       "      <td>-1.340163</td>\n",
       "      <td>1.773209</td>\n",
       "      <td>0.379780</td>\n",
       "      <td>-0.503198</td>\n",
       "      <td>1.800499</td>\n",
       "      <td>0.791461</td>\n",
       "      <td>0.247676</td>\n",
       "      <td>-1.514654</td>\n",
       "      <td>...</td>\n",
       "      <td>0.247998</td>\n",
       "      <td>0.771679</td>\n",
       "      <td>0.909412</td>\n",
       "      <td>-0.689281</td>\n",
       "      <td>-0.327642</td>\n",
       "      <td>-0.139097</td>\n",
       "      <td>-0.055353</td>\n",
       "      <td>-0.059752</td>\n",
       "      <td>0</td>\n",
       "      <td>5.936641</td>\n",
       "    </tr>\n",
       "    <tr>\n",
       "      <th>3</th>\n",
       "      <td>0.000278</td>\n",
       "      <td>-0.966272</td>\n",
       "      <td>-0.185226</td>\n",
       "      <td>1.792993</td>\n",
       "      <td>-0.863291</td>\n",
       "      <td>-0.010309</td>\n",
       "      <td>1.247203</td>\n",
       "      <td>0.237609</td>\n",
       "      <td>0.377436</td>\n",
       "      <td>-1.387024</td>\n",
       "      <td>...</td>\n",
       "      <td>-0.108300</td>\n",
       "      <td>0.005274</td>\n",
       "      <td>-0.190321</td>\n",
       "      <td>-1.175575</td>\n",
       "      <td>0.647376</td>\n",
       "      <td>-0.221929</td>\n",
       "      <td>0.062723</td>\n",
       "      <td>0.061458</td>\n",
       "      <td>0</td>\n",
       "      <td>4.816249</td>\n",
       "    </tr>\n",
       "    <tr>\n",
       "      <th>4</th>\n",
       "      <td>0.000556</td>\n",
       "      <td>-1.158233</td>\n",
       "      <td>0.877737</td>\n",
       "      <td>1.548718</td>\n",
       "      <td>0.403034</td>\n",
       "      <td>-0.407193</td>\n",
       "      <td>0.095921</td>\n",
       "      <td>0.592941</td>\n",
       "      <td>-0.270533</td>\n",
       "      <td>0.817739</td>\n",
       "      <td>...</td>\n",
       "      <td>-0.009431</td>\n",
       "      <td>0.798278</td>\n",
       "      <td>-0.137458</td>\n",
       "      <td>0.141267</td>\n",
       "      <td>-0.206010</td>\n",
       "      <td>0.502292</td>\n",
       "      <td>0.219422</td>\n",
       "      <td>0.215153</td>\n",
       "      <td>0</td>\n",
       "      <td>4.248367</td>\n",
       "    </tr>\n",
       "  </tbody>\n",
       "</table>\n",
       "<p>5 rows × 31 columns</p>\n",
       "</div>"
      ],
      "text/plain": [
       "       Time        V1        V2        V3        V4        V5        V6  \\\n",
       "0  0.000000 -1.359807 -0.072781  2.536347  1.378155 -0.338321  0.462388   \n",
       "1  0.000000  1.191857  0.266151  0.166480  0.448154  0.060018 -0.082361   \n",
       "2  0.000278 -1.358354 -1.340163  1.773209  0.379780 -0.503198  1.800499   \n",
       "3  0.000278 -0.966272 -0.185226  1.792993 -0.863291 -0.010309  1.247203   \n",
       "4  0.000556 -1.158233  0.877737  1.548718  0.403034 -0.407193  0.095921   \n",
       "\n",
       "         V7        V8        V9  ...       V21       V22       V23       V24  \\\n",
       "0  0.239599  0.098698  0.363787  ... -0.018307  0.277838 -0.110474  0.066928   \n",
       "1 -0.078803  0.085102 -0.255425  ... -0.225775 -0.638672  0.101288 -0.339846   \n",
       "2  0.791461  0.247676 -1.514654  ...  0.247998  0.771679  0.909412 -0.689281   \n",
       "3  0.237609  0.377436 -1.387024  ... -0.108300  0.005274 -0.190321 -1.175575   \n",
       "4  0.592941 -0.270533  0.817739  ... -0.009431  0.798278 -0.137458  0.141267   \n",
       "\n",
       "        V25       V26       V27       V28  Class    Amount  \n",
       "0  0.128539 -0.189115  0.133558 -0.021053      0  5.008105  \n",
       "1  0.167170  0.125895 -0.008983  0.014724      0  0.989913  \n",
       "2 -0.327642 -0.139097 -0.055353 -0.059752      0  5.936641  \n",
       "3  0.647376 -0.221929  0.062723  0.061458      0  4.816249  \n",
       "4 -0.206010  0.502292  0.219422  0.215153      0  4.248367  \n",
       "\n",
       "[5 rows x 31 columns]"
      ]
     },
     "execution_count": 6,
     "metadata": {},
     "output_type": "execute_result"
    }
   ],
   "source": [
    "cleaned_df = df.copy()\n",
    "\n",
    "# Time 을 일중 시간으로 변환\n",
    "cleaned_df.loc[:, \"Time\"] = cleaned_df.loc[:, \"Time\"].apply(lambda x : x / 3600 % 24) \n",
    "\n",
    "# Amount column 은 편차가 크므로 log-scale 로 변환\n",
    "eps=0.001      # 0 => 0.1¢\n",
    "cleaned_df['Amount'] = np.log(cleaned_df.pop('Amount') + eps)\n",
    "\n",
    "cleaned_df.head()"
   ]
  },
  {
   "cell_type": "code",
   "execution_count": 7,
   "metadata": {
    "colab": {
     "base_uri": "https://localhost:8080/"
    },
    "id": "EdHm44M2GIpW",
    "outputId": "aa97468d-b398-4d1a-a413-ea177cd9f37b"
   },
   "outputs": [
    {
     "data": {
      "text/plain": [
       "count    284807.000000\n",
       "mean          2.942089\n",
       "std           2.023685\n",
       "min          -6.907755\n",
       "25%           1.722945\n",
       "50%           3.091088\n",
       "75%           4.345959\n",
       "max          10.153902\n",
       "Name: Amount, dtype: float64"
      ]
     },
     "execution_count": 7,
     "metadata": {},
     "output_type": "execute_result"
    }
   ],
   "source": [
    "cleaned_df['Amount'].describe()"
   ]
  },
  {
   "cell_type": "code",
   "execution_count": 8,
   "metadata": {
    "id": "4IEMWwojt3yO"
   },
   "outputs": [
    {
     "data": {
      "text/plain": [
       "array([0, 0, 0, ..., 0, 0, 0], dtype=int64)"
      ]
     },
     "execution_count": 8,
     "metadata": {},
     "output_type": "execute_result"
    }
   ],
   "source": [
    "labels = np.array(cleaned_df.pop('Class'))\n",
    "labels"
   ]
  },
  {
   "cell_type": "code",
   "execution_count": 9,
   "metadata": {
    "colab": {
     "base_uri": "https://localhost:8080/"
    },
    "id": "_hqAVRiWt3yV",
    "outputId": "6db09c65-c78f-4ba5-d373-b6ce8cac54b7"
   },
   "outputs": [
    {
     "data": {
      "text/plain": [
       "(284807, 30)"
      ]
     },
     "execution_count": 9,
     "metadata": {},
     "output_type": "execute_result"
    }
   ],
   "source": [
    "X = cleaned_df.values\n",
    "X.shape"
   ]
  },
  {
   "cell_type": "code",
   "execution_count": 10,
   "metadata": {
    "colab": {
     "base_uri": "https://localhost:8080/"
    },
    "id": "RLiKtnt7t3ya",
    "outputId": "896da316-72f9-468b-865d-ba9535d66123"
   },
   "outputs": [
    {
     "data": {
      "text/plain": [
       "((227845, 30), (56962, 30), (227845,), (56962,))"
      ]
     },
     "execution_count": 10,
     "metadata": {},
     "output_type": "execute_result"
    }
   ],
   "source": [
    "X_train, X_test, y_train, y_test = train_test_split(X, labels, \n",
    "                                        test_size=0.2, random_state=0)\n",
    "\n",
    "X_train.shape, X_test.shape, y_train.shape, y_test.shape"
   ]
  },
  {
   "cell_type": "code",
   "execution_count": 11,
   "metadata": {
    "id": "QwUNis6Zt3yc"
   },
   "outputs": [],
   "source": [
    "sc = StandardScaler()\n",
    "X_train = sc.fit_transform(X_train)\n",
    "X_test  = sc.transform(X_test)"
   ]
  },
  {
   "cell_type": "markdown",
   "metadata": {
    "id": "V7qJCSiht3yi"
   },
   "source": [
    "### metrics 정의\n",
    "\n",
    "- Accuracy 로 예측하면 항상 99.8%+ 정확성을 달성하므로, 다양한 metrics 활용하여 측정"
   ]
  },
  {
   "cell_type": "code",
   "execution_count": 12,
   "metadata": {
    "id": "zmRaL5sDt3yj"
   },
   "outputs": [],
   "source": [
    "METRICS = [\n",
    "      tf.keras.metrics.TruePositives(name='tp'),\n",
    "      tf.keras.metrics.FalsePositives(name='fp'),\n",
    "      tf.keras.metrics.TrueNegatives(name='tn'),\n",
    "      tf.keras.metrics.FalseNegatives(name='fn'), \n",
    "      tf.keras.metrics.BinaryAccuracy(name='accuracy'),\n",
    "      tf.keras.metrics.Precision(name='precision'),\n",
    "      tf.keras.metrics.Recall(name='recall'),\n",
    "      tf.keras.metrics.AUC(name='auc'),\n",
    "]"
   ]
  },
  {
   "cell_type": "markdown",
   "metadata": {
    "id": "ejjpZM9Kt3ym"
   },
   "source": [
    "## Simple NN model 정의 - 이진 분류 모델"
   ]
  },
  {
   "cell_type": "code",
   "execution_count": 13,
   "metadata": {
    "id": "IbbI4SZat3yn"
   },
   "outputs": [],
   "source": [
    "def make_model(metrics = METRICS):\n",
    "    \n",
    "    model = tf.keras.Sequential([\n",
    "      tf.keras.layers.Dense(32, activation='relu', \n",
    "                            input_shape=(X_train.shape[-1],)),\n",
    "      tf.keras.layers.Dropout(0.2),\n",
    "      tf.keras.layers.Dense(16, activation='relu'),\n",
    "      tf.keras.layers.Dropout(0.2),\n",
    "      tf.keras.layers.Dense(1, activation='sigmoid'),\n",
    "  ])\n",
    "\n",
    "    model.compile(\n",
    "      optimizer = tf.keras.optimizers.Adam(learning_rate=1e-3),\n",
    "      loss = 'binary_crossentropy',\n",
    "      metrics=metrics)\n",
    "\n",
    "    return model"
   ]
  },
  {
   "cell_type": "markdown",
   "metadata": {
    "id": "YuB7VrmAt3yr"
   },
   "source": [
    "## Baseline model build"
   ]
  },
  {
   "cell_type": "code",
   "execution_count": 14,
   "metadata": {
    "id": "gTRT9eKnt3ys"
   },
   "outputs": [],
   "source": [
    "EPOCHS = 100\n",
    "BATCH_SIZE = 2048\n",
    "\n",
    "early_stopping = tf.keras.callbacks.EarlyStopping(\n",
    "    monitor='val_auc', \n",
    "    verbose=1,\n",
    "    patience=10, # no of epochs of no improvement          \n",
    "    mode='max',  #val_auc 가 10 번 연속 증가 안하면 stop           \n",
    "    restore_best_weights=True)  # epoch 의 best weight 저장"
   ]
  },
  {
   "cell_type": "code",
   "execution_count": 15,
   "metadata": {
    "colab": {
     "base_uri": "https://localhost:8080/"
    },
    "id": "i3qmzy34t3yw",
    "outputId": "685ee0cf-6f5b-4703-9b6f-1ecaeb36e5c2",
    "scrolled": true
   },
   "outputs": [
    {
     "name": "stdout",
     "output_type": "stream",
     "text": [
      "Model: \"sequential\"\n",
      "_________________________________________________________________\n",
      "Layer (type)                 Output Shape              Param #   \n",
      "=================================================================\n",
      "dense (Dense)                (None, 32)                992       \n",
      "_________________________________________________________________\n",
      "dropout (Dropout)            (None, 32)                0         \n",
      "_________________________________________________________________\n",
      "dense_1 (Dense)              (None, 16)                528       \n",
      "_________________________________________________________________\n",
      "dropout_1 (Dropout)          (None, 16)                0         \n",
      "_________________________________________________________________\n",
      "dense_2 (Dense)              (None, 1)                 17        \n",
      "=================================================================\n",
      "Total params: 1,537\n",
      "Trainable params: 1,537\n",
      "Non-trainable params: 0\n",
      "_________________________________________________________________\n"
     ]
    }
   ],
   "source": [
    "model = make_model()\n",
    "model.summary()"
   ]
  },
  {
   "cell_type": "markdown",
   "metadata": {
    "id": "B-Ftgdtct3zb"
   },
   "source": [
    "## Train the model"
   ]
  },
  {
   "cell_type": "code",
   "execution_count": 16,
   "metadata": {
    "colab": {
     "base_uri": "https://localhost:8080/"
    },
    "id": "qyxi6P6Pt3zd",
    "outputId": "50a898e3-e427-47f9-9cea-57974d61b914",
    "scrolled": true
   },
   "outputs": [
    {
     "name": "stdout",
     "output_type": "stream",
     "text": [
      "Epoch 1/100\n",
      "112/112 [==============================] - 5s 30ms/step - loss: 0.4482 - tp: 24.1858 - fp: 15144.7522 - tn: 101335.6283 - fn: 186.2124 - accuracy: 0.7982 - precision: 0.0016 - recall: 0.1641 - auc: 0.2942 - val_loss: 0.0400 - val_tp: 0.0000e+00 - val_fp: 0.0000e+00 - val_tn: 56861.0000 - val_fn: 101.0000 - val_accuracy: 0.9982 - val_precision: 0.0000e+00 - val_recall: 0.0000e+00 - val_auc: 0.2461\n",
      "Epoch 2/100\n",
      "112/112 [==============================] - 1s 7ms/step - loss: 0.0441 - tp: 2.2478 - fp: 9.3540 - tn: 116487.8142 - fn: 191.3628 - accuracy: 0.9983 - precision: 0.1678 - recall: 0.0111 - auc: 0.4802 - val_loss: 0.0104 - val_tp: 0.0000e+00 - val_fp: 0.0000e+00 - val_tn: 56861.0000 - val_fn: 101.0000 - val_accuracy: 0.9982 - val_precision: 0.0000e+00 - val_recall: 0.0000e+00 - val_auc: 0.8685\n",
      "Epoch 3/100\n",
      "112/112 [==============================] - 1s 7ms/step - loss: 0.0177 - tp: 9.3451 - fp: 5.6903 - tn: 116495.7080 - fn: 180.0354 - accuracy: 0.9985 - precision: 0.5506 - recall: 0.0415 - auc: 0.7858 - val_loss: 0.0063 - val_tp: 10.0000 - val_fp: 0.0000e+00 - val_tn: 56861.0000 - val_fn: 91.0000 - val_accuracy: 0.9984 - val_precision: 1.0000 - val_recall: 0.0990 - val_auc: 0.9004\n",
      "Epoch 4/100\n",
      "112/112 [==============================] - 1s 7ms/step - loss: 0.0116 - tp: 34.1327 - fp: 6.4690 - tn: 116476.7965 - fn: 173.3805 - accuracy: 0.9984 - precision: 0.8798 - recall: 0.1486 - auc: 0.8560 - val_loss: 0.0050 - val_tp: 35.0000 - val_fp: 6.0000 - val_tn: 56855.0000 - val_fn: 66.0000 - val_accuracy: 0.9987 - val_precision: 0.8537 - val_recall: 0.3465 - val_auc: 0.9091\n",
      "Epoch 5/100\n",
      "112/112 [==============================] - 1s 7ms/step - loss: 0.0082 - tp: 58.4690 - fp: 6.4425 - tn: 116483.9204 - fn: 141.9469 - accuracy: 0.9987 - precision: 0.8768 - recall: 0.2654 - auc: 0.9019 - val_loss: 0.0045 - val_tp: 48.0000 - val_fp: 8.0000 - val_tn: 56853.0000 - val_fn: 53.0000 - val_accuracy: 0.9989 - val_precision: 0.8571 - val_recall: 0.4752 - val_auc: 0.9099\n",
      "Epoch 6/100\n",
      "112/112 [==============================] - 1s 7ms/step - loss: 0.0070 - tp: 66.7876 - fp: 13.6549 - tn: 116480.9469 - fn: 129.3894 - accuracy: 0.9988 - precision: 0.8221 - recall: 0.3361 - auc: 0.9065 - val_loss: 0.0041 - val_tp: 62.0000 - val_fp: 8.0000 - val_tn: 56853.0000 - val_fn: 39.0000 - val_accuracy: 0.9992 - val_precision: 0.8857 - val_recall: 0.6139 - val_auc: 0.9101\n",
      "Epoch 7/100\n",
      "112/112 [==============================] - 1s 7ms/step - loss: 0.0069 - tp: 83.7168 - fp: 16.1416 - tn: 116468.2478 - fn: 122.6726 - accuracy: 0.9987 - precision: 0.8490 - recall: 0.3959 - auc: 0.9103 - val_loss: 0.0040 - val_tp: 69.0000 - val_fp: 9.0000 - val_tn: 56852.0000 - val_fn: 32.0000 - val_accuracy: 0.9993 - val_precision: 0.8846 - val_recall: 0.6832 - val_auc: 0.9103\n",
      "Epoch 8/100\n",
      "112/112 [==============================] - 1s 7ms/step - loss: 0.0060 - tp: 102.6372 - fp: 17.6549 - tn: 116478.4336 - fn: 92.0531 - accuracy: 0.9990 - precision: 0.8473 - recall: 0.5248 - auc: 0.9141 - val_loss: 0.0039 - val_tp: 73.0000 - val_fp: 11.0000 - val_tn: 56850.0000 - val_fn: 28.0000 - val_accuracy: 0.9993 - val_precision: 0.8690 - val_recall: 0.7228 - val_auc: 0.9153\n",
      "Epoch 9/100\n",
      "112/112 [==============================] - 1s 7ms/step - loss: 0.0056 - tp: 107.4513 - fp: 17.7876 - tn: 116481.9027 - fn: 83.6372 - accuracy: 0.9992 - precision: 0.8409 - recall: 0.5448 - auc: 0.8888 - val_loss: 0.0038 - val_tp: 73.0000 - val_fp: 11.0000 - val_tn: 56850.0000 - val_fn: 28.0000 - val_accuracy: 0.9993 - val_precision: 0.8690 - val_recall: 0.7228 - val_auc: 0.9153\n",
      "Epoch 10/100\n",
      "112/112 [==============================] - 1s 7ms/step - loss: 0.0048 - tp: 120.9381 - fp: 19.1681 - tn: 116480.1947 - fn: 70.4779 - accuracy: 0.9993 - precision: 0.8583 - recall: 0.6460 - auc: 0.9269 - val_loss: 0.0037 - val_tp: 75.0000 - val_fp: 11.0000 - val_tn: 56850.0000 - val_fn: 26.0000 - val_accuracy: 0.9994 - val_precision: 0.8721 - val_recall: 0.7426 - val_auc: 0.9154\n",
      "Epoch 11/100\n",
      "112/112 [==============================] - 1s 7ms/step - loss: 0.0049 - tp: 124.5487 - fp: 23.6814 - tn: 116469.0708 - fn: 73.4779 - accuracy: 0.9992 - precision: 0.8419 - recall: 0.6385 - auc: 0.9228 - val_loss: 0.0037 - val_tp: 75.0000 - val_fp: 11.0000 - val_tn: 56850.0000 - val_fn: 26.0000 - val_accuracy: 0.9994 - val_precision: 0.8721 - val_recall: 0.7426 - val_auc: 0.9154\n",
      "Epoch 12/100\n",
      "112/112 [==============================] - 1s 7ms/step - loss: 0.0049 - tp: 135.0265 - fp: 18.4867 - tn: 116476.7965 - fn: 60.4690 - accuracy: 0.9993 - precision: 0.8651 - recall: 0.6834 - auc: 0.9280 - val_loss: 0.0036 - val_tp: 77.0000 - val_fp: 11.0000 - val_tn: 56850.0000 - val_fn: 24.0000 - val_accuracy: 0.9994 - val_precision: 0.8750 - val_recall: 0.7624 - val_auc: 0.9203\n",
      "Epoch 13/100\n",
      "112/112 [==============================] - 1s 7ms/step - loss: 0.0047 - tp: 130.1504 - fp: 23.5221 - tn: 116469.2212 - fn: 67.8850 - accuracy: 0.9992 - precision: 0.8335 - recall: 0.6647 - auc: 0.9307 - val_loss: 0.0036 - val_tp: 78.0000 - val_fp: 11.0000 - val_tn: 56850.0000 - val_fn: 23.0000 - val_accuracy: 0.9994 - val_precision: 0.8764 - val_recall: 0.7723 - val_auc: 0.9302\n",
      "Epoch 14/100\n",
      "112/112 [==============================] - 1s 7ms/step - loss: 0.0049 - tp: 137.2655 - fp: 20.2389 - tn: 116469.7345 - fn: 63.5398 - accuracy: 0.9993 - precision: 0.8867 - recall: 0.6708 - auc: 0.9315 - val_loss: 0.0035 - val_tp: 77.0000 - val_fp: 11.0000 - val_tn: 56850.0000 - val_fn: 24.0000 - val_accuracy: 0.9994 - val_precision: 0.8750 - val_recall: 0.7624 - val_auc: 0.9303\n",
      "Epoch 15/100\n",
      "112/112 [==============================] - 1s 7ms/step - loss: 0.0037 - tp: 131.4071 - fp: 22.4159 - tn: 116478.1504 - fn: 58.8053 - accuracy: 0.9993 - precision: 0.8395 - recall: 0.6949 - auc: 0.9472 - val_loss: 0.0035 - val_tp: 79.0000 - val_fp: 11.0000 - val_tn: 56850.0000 - val_fn: 22.0000 - val_accuracy: 0.9994 - val_precision: 0.8778 - val_recall: 0.7822 - val_auc: 0.9352\n",
      "Epoch 16/100\n",
      "112/112 [==============================] - 1s 7ms/step - loss: 0.0044 - tp: 143.1681 - fp: 21.0708 - tn: 116469.7080 - fn: 56.8319 - accuracy: 0.9993 - precision: 0.8555 - recall: 0.7093 - auc: 0.9293 - val_loss: 0.0034 - val_tp: 80.0000 - val_fp: 11.0000 - val_tn: 56850.0000 - val_fn: 21.0000 - val_accuracy: 0.9994 - val_precision: 0.8791 - val_recall: 0.7921 - val_auc: 0.9352\n",
      "Epoch 17/100\n",
      "112/112 [==============================] - 1s 7ms/step - loss: 0.0043 - tp: 146.6106 - fp: 22.5841 - tn: 116467.2124 - fn: 54.3717 - accuracy: 0.9993 - precision: 0.8661 - recall: 0.7284 - auc: 0.9301 - val_loss: 0.0034 - val_tp: 80.0000 - val_fp: 11.0000 - val_tn: 56850.0000 - val_fn: 21.0000 - val_accuracy: 0.9994 - val_precision: 0.8791 - val_recall: 0.7921 - val_auc: 0.9353\n",
      "Epoch 18/100\n",
      "112/112 [==============================] - ETA: 0s - loss: 0.0042 - tp: 124.0660 - fp: 22.0472 - tn: 109364.5377 - fn: 57.3491 - accuracy: 0.9992 - precision: 0.8251 - recall: 0.6695 - auc: 0.93 - 1s 7ms/step - loss: 0.0041 - tp: 132.8761 - fp: 23.1062 - tn: 116473.6372 - fn: 61.1593 - accuracy: 0.9992 - precision: 0.8280 - recall: 0.6708 - auc: 0.9333 - val_loss: 0.0034 - val_tp: 80.0000 - val_fp: 11.0000 - val_tn: 56850.0000 - val_fn: 21.0000 - val_accuracy: 0.9994 - val_precision: 0.8791 - val_recall: 0.7921 - val_auc: 0.9353\n",
      "Epoch 19/100\n",
      "112/112 [==============================] - 1s 7ms/step - loss: 0.0039 - tp: 141.0177 - fp: 20.7168 - tn: 116474.8053 - fn: 54.2389 - accuracy: 0.9993 - precision: 0.8554 - recall: 0.7289 - auc: 0.9352 - val_loss: 0.0034 - val_tp: 80.0000 - val_fp: 11.0000 - val_tn: 56850.0000 - val_fn: 21.0000 - val_accuracy: 0.9994 - val_precision: 0.8791 - val_recall: 0.7921 - val_auc: 0.9353\n",
      "Epoch 20/100\n",
      "112/112 [==============================] - 1s 7ms/step - loss: 0.0042 - tp: 149.0885 - fp: 22.8673 - tn: 116455.1239 - fn: 63.6991 - accuracy: 0.9992 - precision: 0.8681 - recall: 0.6922 - auc: 0.9391 - val_loss: 0.0034 - val_tp: 81.0000 - val_fp: 12.0000 - val_tn: 56849.0000 - val_fn: 20.0000 - val_accuracy: 0.9994 - val_precision: 0.8710 - val_recall: 0.8020 - val_auc: 0.9354\n",
      "Epoch 21/100\n",
      "112/112 [==============================] - 1s 7ms/step - loss: 0.0037 - tp: 142.1504 - fp: 21.1947 - tn: 116469.0354 - fn: 58.3982 - accuracy: 0.9993 - precision: 0.8604 - recall: 0.6980 - auc: 0.9433 - val_loss: 0.0033 - val_tp: 81.0000 - val_fp: 11.0000 - val_tn: 56850.0000 - val_fn: 20.0000 - val_accuracy: 0.9995 - val_precision: 0.8804 - val_recall: 0.8020 - val_auc: 0.9354\n",
      "Epoch 22/100\n",
      "112/112 [==============================] - 1s 7ms/step - loss: 0.0036 - tp: 141.8230 - fp: 22.2566 - tn: 116476.2035 - fn: 50.4956 - accuracy: 0.9994 - precision: 0.8647 - recall: 0.7294 - auc: 0.9373 - val_loss: 0.0033 - val_tp: 81.0000 - val_fp: 11.0000 - val_tn: 56850.0000 - val_fn: 20.0000 - val_accuracy: 0.9995 - val_precision: 0.8804 - val_recall: 0.8020 - val_auc: 0.9403\n",
      "Epoch 23/100\n",
      "112/112 [==============================] - 1s 7ms/step - loss: 0.0039 - tp: 157.5664 - fp: 22.0088 - tn: 116454.7257 - fn: 56.4779 - accuracy: 0.9993 - precision: 0.8707 - recall: 0.7357 - auc: 0.9440 - val_loss: 0.0034 - val_tp: 81.0000 - val_fp: 11.0000 - val_tn: 56850.0000 - val_fn: 20.0000 - val_accuracy: 0.9995 - val_precision: 0.8804 - val_recall: 0.8020 - val_auc: 0.9354\n",
      "Epoch 24/100\n",
      "112/112 [==============================] - 1s 7ms/step - loss: 0.0031 - tp: 137.3009 - fp: 18.3274 - tn: 116477.0265 - fn: 58.1239 - accuracy: 0.9994 - precision: 0.8974 - recall: 0.6967 - auc: 0.9468 - val_loss: 0.0033 - val_tp: 81.0000 - val_fp: 12.0000 - val_tn: 56849.0000 - val_fn: 20.0000 - val_accuracy: 0.9994 - val_precision: 0.8710 - val_recall: 0.8020 - val_auc: 0.9402\n",
      "Epoch 25/100\n",
      "112/112 [==============================] - 1s 7ms/step - loss: 0.0033 - tp: 155.2566 - fp: 22.1416 - tn: 116459.9912 - fn: 53.3894 - accuracy: 0.9993 - precision: 0.8797 - recall: 0.7260 - auc: 0.9632 - val_loss: 0.0033 - val_tp: 81.0000 - val_fp: 12.0000 - val_tn: 56849.0000 - val_fn: 20.0000 - val_accuracy: 0.9994 - val_precision: 0.8710 - val_recall: 0.8020 - val_auc: 0.9403\n",
      "Epoch 26/100\n",
      "112/112 [==============================] - 1s 7ms/step - loss: 0.0036 - tp: 150.4602 - fp: 19.9646 - tn: 116466.1681 - fn: 54.1858 - accuracy: 0.9994 - precision: 0.8897 - recall: 0.7289 - auc: 0.9453 - val_loss: 0.0033 - val_tp: 81.0000 - val_fp: 12.0000 - val_tn: 56849.0000 - val_fn: 20.0000 - val_accuracy: 0.9994 - val_precision: 0.8710 - val_recall: 0.8020 - val_auc: 0.9403\n",
      "Epoch 27/100\n",
      "112/112 [==============================] - 1s 7ms/step - loss: 0.0035 - tp: 161.0885 - fp: 21.0531 - tn: 116460.9823 - fn: 47.6549 - accuracy: 0.9994 - precision: 0.8743 - recall: 0.7561 - auc: 0.9515 - val_loss: 0.0033 - val_tp: 80.0000 - val_fp: 11.0000 - val_tn: 56850.0000 - val_fn: 21.0000 - val_accuracy: 0.9994 - val_precision: 0.8791 - val_recall: 0.7921 - val_auc: 0.9403\n",
      "Epoch 28/100\n",
      "112/112 [==============================] - 1s 7ms/step - loss: 0.0032 - tp: 153.3186 - fp: 18.7257 - tn: 116476.0088 - fn: 42.7257 - accuracy: 0.9995 - precision: 0.9028 - recall: 0.7880 - auc: 0.9501 - val_loss: 0.0032 - val_tp: 81.0000 - val_fp: 10.0000 - val_tn: 56851.0000 - val_fn: 20.0000 - val_accuracy: 0.9995 - val_precision: 0.8901 - val_recall: 0.8020 - val_auc: 0.9403\n",
      "Epoch 29/100\n",
      "112/112 [==============================] - 1s 7ms/step - loss: 0.0034 - tp: 139.8053 - fp: 21.1947 - tn: 116475.9292 - fn: 53.8496 - accuracy: 0.9994 - precision: 0.8740 - recall: 0.7027 - auc: 0.9454 - val_loss: 0.0032 - val_tp: 81.0000 - val_fp: 12.0000 - val_tn: 56849.0000 - val_fn: 20.0000 - val_accuracy: 0.9994 - val_precision: 0.8710 - val_recall: 0.8020 - val_auc: 0.9403\n",
      "Epoch 30/100\n",
      "112/112 [==============================] - 1s 7ms/step - loss: 0.0033 - tp: 151.5487 - fp: 23.6991 - tn: 116464.1062 - fn: 51.4248 - accuracy: 0.9993 - precision: 0.8551 - recall: 0.7472 - auc: 0.9576 - val_loss: 0.0032 - val_tp: 80.0000 - val_fp: 12.0000 - val_tn: 56849.0000 - val_fn: 21.0000 - val_accuracy: 0.9994 - val_precision: 0.8696 - val_recall: 0.7921 - val_auc: 0.9403\n",
      "Epoch 31/100\n",
      "112/112 [==============================] - 1s 8ms/step - loss: 0.0031 - tp: 147.9469 - fp: 25.9823 - tn: 116464.9292 - fn: 51.9204 - accuracy: 0.9993 - precision: 0.8414 - recall: 0.7378 - auc: 0.9523 - val_loss: 0.0032 - val_tp: 80.0000 - val_fp: 13.0000 - val_tn: 56848.0000 - val_fn: 21.0000 - val_accuracy: 0.9994 - val_precision: 0.8602 - val_recall: 0.7921 - val_auc: 0.9453\n",
      "Epoch 32/100\n",
      "112/112 [==============================] - 1s 7ms/step - loss: 0.0032 - tp: 145.8319 - fp: 23.9823 - tn: 116472.7965 - fn: 48.1681 - accuracy: 0.9994 - precision: 0.8682 - recall: 0.7488 - auc: 0.9500 - val_loss: 0.0032 - val_tp: 79.0000 - val_fp: 13.0000 - val_tn: 56848.0000 - val_fn: 22.0000 - val_accuracy: 0.9994 - val_precision: 0.8587 - val_recall: 0.7822 - val_auc: 0.9452\n",
      "Epoch 33/100\n",
      "112/112 [==============================] - 1s 7ms/step - loss: 0.0031 - tp: 159.8496 - fp: 23.6637 - tn: 116458.1504 - fn: 49.1150 - accuracy: 0.9993 - precision: 0.8750 - recall: 0.7566 - auc: 0.9599 - val_loss: 0.0032 - val_tp: 80.0000 - val_fp: 12.0000 - val_tn: 56849.0000 - val_fn: 21.0000 - val_accuracy: 0.9994 - val_precision: 0.8696 - val_recall: 0.7921 - val_auc: 0.9453\n",
      "Epoch 34/100\n",
      "112/112 [==============================] - 1s 7ms/step - loss: 0.0032 - tp: 161.1416 - fp: 23.1504 - tn: 116461.2212 - fn: 45.2655 - accuracy: 0.9994 - precision: 0.8841 - recall: 0.7891 - auc: 0.9516 - val_loss: 0.0032 - val_tp: 80.0000 - val_fp: 13.0000 - val_tn: 56848.0000 - val_fn: 21.0000 - val_accuracy: 0.9994 - val_precision: 0.8602 - val_recall: 0.7921 - val_auc: 0.9453\n",
      "Epoch 35/100\n",
      "112/112 [==============================] - 1s 7ms/step - loss: 0.0029 - tp: 149.6549 - fp: 24.0796 - tn: 116467.0708 - fn: 49.9735 - accuracy: 0.9994 - precision: 0.8614 - recall: 0.7549 - auc: 0.9620 - val_loss: 0.0032 - val_tp: 80.0000 - val_fp: 11.0000 - val_tn: 56850.0000 - val_fn: 21.0000 - val_accuracy: 0.9994 - val_precision: 0.8791 - val_recall: 0.7921 - val_auc: 0.9453\n",
      "Epoch 36/100\n",
      "112/112 [==============================] - 1s 7ms/step - loss: 0.0030 - tp: 161.5398 - fp: 25.6637 - tn: 116458.0796 - fn: 45.4956 - accuracy: 0.9993 - precision: 0.8388 - recall: 0.7728 - auc: 0.9582 - val_loss: 0.0032 - val_tp: 80.0000 - val_fp: 11.0000 - val_tn: 56850.0000 - val_fn: 21.0000 - val_accuracy: 0.9994 - val_precision: 0.8791 - val_recall: 0.7921 - val_auc: 0.9453\n",
      "Epoch 37/100\n",
      "112/112 [==============================] - 1s 7ms/step - loss: 0.0030 - tp: 155.6903 - fp: 19.7345 - tn: 116461.0354 - fn: 54.3186 - accuracy: 0.9994 - precision: 0.8804 - recall: 0.7331 - auc: 0.9502 - val_loss: 0.0033 - val_tp: 80.0000 - val_fp: 11.0000 - val_tn: 56850.0000 - val_fn: 21.0000 - val_accuracy: 0.9994 - val_precision: 0.8791 - val_recall: 0.7921 - val_auc: 0.9453\n",
      "Epoch 38/100\n",
      "112/112 [==============================] - 1s 7ms/step - loss: 0.0030 - tp: 149.1504 - fp: 19.2743 - tn: 116473.4159 - fn: 48.9381 - accuracy: 0.9994 - precision: 0.8632 - recall: 0.7157 - auc: 0.9490 - val_loss: 0.0032 - val_tp: 81.0000 - val_fp: 13.0000 - val_tn: 56848.0000 - val_fn: 20.0000 - val_accuracy: 0.9994 - val_precision: 0.8617 - val_recall: 0.8020 - val_auc: 0.9453\n",
      "Epoch 39/100\n",
      "112/112 [==============================] - 1s 7ms/step - loss: 0.0030 - tp: 156.1416 - fp: 21.9469 - tn: 116467.5221 - fn: 45.1681 - accuracy: 0.9994 - precision: 0.8738 - recall: 0.7672 - auc: 0.9485 - val_loss: 0.0032 - val_tp: 81.0000 - val_fp: 14.0000 - val_tn: 56847.0000 - val_fn: 20.0000 - val_accuracy: 0.9994 - val_precision: 0.8526 - val_recall: 0.8020 - val_auc: 0.9453\n",
      "Epoch 40/100\n",
      "112/112 [==============================] - 1s 7ms/step - loss: 0.0029 - tp: 144.4779 - fp: 22.6372 - tn: 116475.0354 - fn: 48.6283 - accuracy: 0.9994 - precision: 0.8712 - recall: 0.7349 - auc: 0.9519 - val_loss: 0.0032 - val_tp: 81.0000 - val_fp: 13.0000 - val_tn: 56848.0000 - val_fn: 20.0000 - val_accuracy: 0.9994 - val_precision: 0.8617 - val_recall: 0.8020 - val_auc: 0.9404\n",
      "Epoch 41/100\n",
      "112/112 [==============================] - 1s 7ms/step - loss: 0.0028 - tp: 153.5133 - fp: 18.9912 - tn: 116471.9381 - fn: 46.3363 - accuracy: 0.9995 - precision: 0.8958 - recall: 0.7743 - auc: 0.9545 - val_loss: 0.0032 - val_tp: 81.0000 - val_fp: 13.0000 - val_tn: 56848.0000 - val_fn: 20.0000 - val_accuracy: 0.9994 - val_precision: 0.8617 - val_recall: 0.8020 - val_auc: 0.9403\n"
     ]
    },
    {
     "name": "stdout",
     "output_type": "stream",
     "text": [
      "Epoch 42/100\n",
      "112/112 [==============================] - 1s 7ms/step - loss: 0.0025 - tp: 160.2743 - fp: 21.9823 - tn: 116464.2655 - fn: 44.2566 - accuracy: 0.9995 - precision: 0.8889 - recall: 0.7852 - auc: 0.9633 - val_loss: 0.0032 - val_tp: 80.0000 - val_fp: 13.0000 - val_tn: 56848.0000 - val_fn: 21.0000 - val_accuracy: 0.9994 - val_precision: 0.8602 - val_recall: 0.7921 - val_auc: 0.9354\n",
      "Epoch 43/100\n",
      "112/112 [==============================] - 1s 7ms/step - loss: 0.0027 - tp: 155.4159 - fp: 22.0619 - tn: 116464.6460 - fn: 48.6549 - accuracy: 0.9994 - precision: 0.8684 - recall: 0.7635 - auc: 0.9614 - val_loss: 0.0031 - val_tp: 81.0000 - val_fp: 14.0000 - val_tn: 56847.0000 - val_fn: 20.0000 - val_accuracy: 0.9994 - val_precision: 0.8526 - val_recall: 0.8020 - val_auc: 0.9404\n",
      "Epoch 44/100\n",
      "112/112 [==============================] - 1s 7ms/step - loss: 0.0022 - tp: 166.5664 - fp: 21.5929 - tn: 116467.2743 - fn: 35.3451 - accuracy: 0.9995 - precision: 0.8792 - recall: 0.8486 - auc: 0.9760 - val_loss: 0.0032 - val_tp: 81.0000 - val_fp: 15.0000 - val_tn: 56846.0000 - val_fn: 20.0000 - val_accuracy: 0.9994 - val_precision: 0.8438 - val_recall: 0.8020 - val_auc: 0.9354\n",
      "Epoch 45/100\n",
      "112/112 [==============================] - 1s 7ms/step - loss: 0.0031 - tp: 156.6637 - fp: 25.0442 - tn: 116463.2832 - fn: 45.7876 - accuracy: 0.9994 - precision: 0.8725 - recall: 0.7561 - auc: 0.9499 - val_loss: 0.0032 - val_tp: 80.0000 - val_fp: 11.0000 - val_tn: 56850.0000 - val_fn: 21.0000 - val_accuracy: 0.9994 - val_precision: 0.8791 - val_recall: 0.7921 - val_auc: 0.9404\n",
      "Epoch 46/100\n",
      "112/112 [==============================] - 1s 7ms/step - loss: 0.0024 - tp: 155.5044 - fp: 19.6018 - tn: 116467.3982 - fn: 48.2743 - accuracy: 0.9994 - precision: 0.8737 - recall: 0.7412 - auc: 0.9587 - val_loss: 0.0031 - val_tp: 81.0000 - val_fp: 10.0000 - val_tn: 56851.0000 - val_fn: 20.0000 - val_accuracy: 0.9995 - val_precision: 0.8901 - val_recall: 0.8020 - val_auc: 0.9453\n",
      "Epoch 47/100\n",
      "112/112 [==============================] - 1s 7ms/step - loss: 0.0026 - tp: 151.2478 - fp: 19.7345 - tn: 116472.9469 - fn: 46.8496 - accuracy: 0.9994 - precision: 0.8937 - recall: 0.7643 - auc: 0.9566 - val_loss: 0.0031 - val_tp: 81.0000 - val_fp: 14.0000 - val_tn: 56847.0000 - val_fn: 20.0000 - val_accuracy: 0.9994 - val_precision: 0.8526 - val_recall: 0.8020 - val_auc: 0.9404\n",
      "Epoch 48/100\n",
      "112/112 [==============================] - 1s 7ms/step - loss: 0.0025 - tp: 160.9735 - fp: 23.9912 - tn: 116467.3274 - fn: 38.4867 - accuracy: 0.9995 - precision: 0.8703 - recall: 0.8118 - auc: 0.9648 - val_loss: 0.0031 - val_tp: 81.0000 - val_fp: 14.0000 - val_tn: 56847.0000 - val_fn: 20.0000 - val_accuracy: 0.9994 - val_precision: 0.8526 - val_recall: 0.8020 - val_auc: 0.9453\n",
      "Epoch 49/100\n",
      "112/112 [==============================] - 1s 7ms/step - loss: 0.0025 - tp: 159.1504 - fp: 19.8938 - tn: 116471.0531 - fn: 40.6814 - accuracy: 0.9995 - precision: 0.8995 - recall: 0.8017 - auc: 0.9633 - val_loss: 0.0031 - val_tp: 80.0000 - val_fp: 12.0000 - val_tn: 56849.0000 - val_fn: 21.0000 - val_accuracy: 0.9994 - val_precision: 0.8696 - val_recall: 0.7921 - val_auc: 0.9355\n",
      "Epoch 50/100\n",
      "112/112 [==============================] - 1s 7ms/step - loss: 0.0021 - tp: 157.6549 - fp: 23.0088 - tn: 116471.6991 - fn: 38.4159 - accuracy: 0.9995 - precision: 0.8655 - recall: 0.8136 - auc: 0.9650 - val_loss: 0.0031 - val_tp: 81.0000 - val_fp: 14.0000 - val_tn: 56847.0000 - val_fn: 20.0000 - val_accuracy: 0.9994 - val_precision: 0.8526 - val_recall: 0.8020 - val_auc: 0.9453\n",
      "Epoch 51/100\n",
      "112/112 [==============================] - 1s 7ms/step - loss: 0.0024 - tp: 157.8938 - fp: 24.0973 - tn: 116464.6726 - fn: 44.1150 - accuracy: 0.9994 - precision: 0.8757 - recall: 0.7895 - auc: 0.9714 - val_loss: 0.0031 - val_tp: 82.0000 - val_fp: 13.0000 - val_tn: 56848.0000 - val_fn: 19.0000 - val_accuracy: 0.9994 - val_precision: 0.8632 - val_recall: 0.8119 - val_auc: 0.9403\n",
      "Epoch 52/100\n",
      "112/112 [==============================] - 1s 7ms/step - loss: 0.0023 - tp: 162.4248 - fp: 25.6018 - tn: 116461.7345 - fn: 41.0177 - accuracy: 0.9994 - precision: 0.8626 - recall: 0.8008 - auc: 0.9791 - val_loss: 0.0031 - val_tp: 81.0000 - val_fp: 12.0000 - val_tn: 56849.0000 - val_fn: 20.0000 - val_accuracy: 0.9994 - val_precision: 0.8710 - val_recall: 0.8020 - val_auc: 0.9453\n",
      "Epoch 53/100\n",
      "112/112 [==============================] - 1s 7ms/step - loss: 0.0025 - tp: 155.4071 - fp: 26.2655 - tn: 116468.7345 - fn: 40.3717 - accuracy: 0.9993 - precision: 0.8131 - recall: 0.7614 - auc: 0.9575 - val_loss: 0.0032 - val_tp: 81.0000 - val_fp: 13.0000 - val_tn: 56848.0000 - val_fn: 20.0000 - val_accuracy: 0.9994 - val_precision: 0.8617 - val_recall: 0.8020 - val_auc: 0.9355\n",
      "Epoch 54/100\n",
      "112/112 [==============================] - 1s 7ms/step - loss: 0.0021 - tp: 154.9735 - fp: 22.2566 - tn: 116472.5487 - fn: 41.0000 - accuracy: 0.9995 - precision: 0.8816 - recall: 0.8091 - auc: 0.9662 - val_loss: 0.0031 - val_tp: 82.0000 - val_fp: 12.0000 - val_tn: 56849.0000 - val_fn: 19.0000 - val_accuracy: 0.9995 - val_precision: 0.8723 - val_recall: 0.8119 - val_auc: 0.9403\n",
      "Epoch 55/100\n",
      "112/112 [==============================] - 1s 7ms/step - loss: 0.0025 - tp: 159.3097 - fp: 20.5487 - tn: 116471.8319 - fn: 39.0885 - accuracy: 0.9995 - precision: 0.8837 - recall: 0.7813 - auc: 0.9636 - val_loss: 0.0031 - val_tp: 82.0000 - val_fp: 13.0000 - val_tn: 56848.0000 - val_fn: 19.0000 - val_accuracy: 0.9994 - val_precision: 0.8632 - val_recall: 0.8119 - val_auc: 0.9453\n",
      "Epoch 56/100\n",
      "112/112 [==============================] - 1s 7ms/step - loss: 0.0024 - tp: 163.9115 - fp: 23.5221 - tn: 116464.6106 - fn: 38.7345 - accuracy: 0.9994 - precision: 0.8717 - recall: 0.8094 - auc: 0.9664 - val_loss: 0.0031 - val_tp: 83.0000 - val_fp: 13.0000 - val_tn: 56848.0000 - val_fn: 18.0000 - val_accuracy: 0.9995 - val_precision: 0.8646 - val_recall: 0.8218 - val_auc: 0.9453\n",
      "Restoring model weights from the end of the best epoch.\n",
      "Epoch 00056: early stopping\n"
     ]
    }
   ],
   "source": [
    "model = make_model()\n",
    "baseline_history = model.fit(X_train, y_train, batch_size=BATCH_SIZE,\n",
    "                             epochs=EPOCHS, \n",
    "                        callbacks=[early_stopping], \n",
    "                             validation_data=(X_test, y_test))"
   ]
  },
  {
   "cell_type": "code",
   "execution_count": 17,
   "metadata": {},
   "outputs": [
    {
     "data": {
      "text/plain": [
       "0.9994557499885559"
      ]
     },
     "execution_count": 17,
     "metadata": {},
     "output_type": "execute_result"
    }
   ],
   "source": [
    "baseline_history.history['val_accuracy'][-1]"
   ]
  },
  {
   "cell_type": "markdown",
   "metadata": {
    "id": "EEf7OlXQt3zf"
   },
   "source": [
    "## Plot trainig history"
   ]
  },
  {
   "cell_type": "code",
   "execution_count": 18,
   "metadata": {
    "id": "OnYt_2T3t3zg"
   },
   "outputs": [],
   "source": [
    "def plot_metrics(history):\n",
    "    metrics = ['loss', 'auc', 'precision', 'recall']\n",
    "    \n",
    "    plt.figure(figsize=(12, 8))\n",
    "    for i, metric in enumerate(metrics):\n",
    "        name = metric.capitalize()\n",
    "        plt.subplot(2, 2, i+1)\n",
    "        plt.plot(history.history[metric], label='Train')\n",
    "        plt.plot(history.history['val_' + metric], label='Val')\n",
    "        plt.title(metric)\n",
    "        plt.xlabel('Epoch')\n",
    "        plt.ylabel(name)\n",
    "        if metric == 'loss':\n",
    "            plt.ylim([0, plt.ylim()[1]])\n",
    "        elif metric == 'auc':\n",
    "            plt.ylim([0.8, 1])\n",
    "        else:\n",
    "            plt.ylim([0, 1])\n",
    "        plt.legend()\n",
    "    plt.tight_layout()"
   ]
  },
  {
   "cell_type": "code",
   "execution_count": 19,
   "metadata": {
    "colab": {
     "base_uri": "https://localhost:8080/",
     "height": 585
    },
    "id": "8H3Omag9t3zj",
    "outputId": "e4e7b06f-05d4-44dc-80c8-63c7a6d00225"
   },
   "outputs": [
    {
     "data": {
      "image/png": "[encoded data removed]",
      "text/plain": [
       "<Figure size 864x576 with 4 Axes>"
      ]
     },
     "metadata": {
      "needs_background": "light"
     },
     "output_type": "display_data"
    }
   ],
   "source": [
    "plot_metrics(baseline_history)"
   ]
  },
  {
   "cell_type": "markdown",
   "metadata": {
    "id": "PROwAK95t3zl"
   },
   "source": [
    "## Evaluate Metric\n",
    "\n",
    "- confusion matrix 를 이용하여 metrics 요약"
   ]
  },
  {
   "cell_type": "code",
   "execution_count": 20,
   "metadata": {
    "colab": {
     "base_uri": "https://localhost:8080/"
    },
    "id": "ZSXfIygjGIpe",
    "outputId": "32f14f0f-3a47-421c-eb6a-c9b391b58298"
   },
   "outputs": [
    {
     "data": {
      "text/plain": [
       "(56962, 1)"
      ]
     },
     "execution_count": 20,
     "metadata": {},
     "output_type": "execute_result"
    }
   ],
   "source": [
    "predictions_baseline  = model.predict(X_test, batch_size=BATCH_SIZE)\n",
    "\n",
    "predictions_baseline.shape"
   ]
  },
  {
   "cell_type": "code",
   "execution_count": 21,
   "metadata": {
    "id": "GKBFC56Nt3zq"
   },
   "outputs": [],
   "source": [
    "def plot_cm(labels, pred_proba, threshold=0.5):\n",
    "    \n",
    "    y_predict = pred_proba > threshold\n",
    "    \n",
    "    cm = confusion_matrix(y_test, y_predict)\n",
    "    \n",
    "    print(\"confution matrix\\n\", cm)\n",
    "    print()\n",
    "    print(\"f1 score\\n\", f1_score(y_test, y_predict))\n",
    "    print()\n",
    "    print(\"Accuracy: {:.5f}\".format(accuracy_score(y_test, y_predict)))\n",
    "    print(\"Precision: {:.5f}\".format(precision_score(y_test, y_predict)))\n",
    "    print(\"Recall: {:.5f}\".format(recall_score(y_test, y_predict)))\n",
    "    \n",
    "    plt.figure(figsize=(5,5))\n",
    "\n",
    "    sns.heatmap(cm, annot=True, fmt=\"d\")\n",
    "    plt.title('Confusion matrix @>{:.2f} '.format(threshold))\n",
    "    plt.ylabel('Actual label')\n",
    "    plt.xlabel('Predicted label')"
   ]
  },
  {
   "cell_type": "markdown",
   "metadata": {
    "id": "LWD-EIM7t3zt"
   },
   "source": [
    "### Test dataset 으로 evaluate 하고, confusion matrix 를 그린다"
   ]
  },
  {
   "cell_type": "code",
   "execution_count": 22,
   "metadata": {
    "colab": {
     "base_uri": "https://localhost:8080/",
     "height": 440
    },
    "id": "Y3nVjXCUt3zu",
    "outputId": "fabb6530-d1c9-40c9-d67b-faaeaafedd7e"
   },
   "outputs": [
    {
     "name": "stdout",
     "output_type": "stream",
     "text": [
      "confution matrix\n",
      " [[56851    10]\n",
      " [   20    81]]\n",
      "\n",
      "f1 score\n",
      " 0.84375\n",
      "\n",
      "Accuracy: 0.99947\n",
      "Precision: 0.89011\n",
      "Recall: 0.80198\n"
     ]
    },
    {
     "data": {
      "image/png": "[encoded data removed]",
      "text/plain": [
       "<Figure size 360x360 with 2 Axes>"
      ]
     },
     "metadata": {
      "needs_background": "light"
     },
     "output_type": "display_data"
    }
   ],
   "source": [
    "plot_cm(y_test, predictions_baseline, threshold=0.5)"
   ]
  },
  {
   "cell_type": "markdown",
   "metadata": {
    "id": "8F2krKGSt3zx"
   },
   "source": [
    "## Plot ROC"
   ]
  },
  {
   "cell_type": "code",
   "execution_count": 23,
   "metadata": {
    "id": "gAeL0U1et3zy"
   },
   "outputs": [],
   "source": [
    "def plot_roc(name, labels, predictions, **kwargs):\n",
    "    \n",
    "    fp, tp, _ = roc_curve(labels, predictions)\n",
    "    auc = roc_auc_score(y_test, predictions)\n",
    "    \n",
    "    plt.plot(100*fp, 100*tp, label=f\"auc of {name}={auc:.5f}\", linewidth=2, **kwargs)\n",
    "    plt.xlabel('FP [%]')\n",
    "    plt.ylabel('TP [%]')\n",
    "    plt.xlim([-0.5,20])\n",
    "    plt.ylim([80,100.5])\n",
    "    plt.grid(True)\n",
    "    ax = plt.gca()\n",
    "    ax.set_aspect('equal')\n",
    "    fig = plt.gcf()\n",
    "    fig.set_size_inches(8, 6)"
   ]
  },
  {
   "cell_type": "code",
   "execution_count": 24,
   "metadata": {
    "colab": {
     "base_uri": "https://localhost:8080/",
     "height": 406
    },
    "id": "_-fDmxMTt3z0",
    "outputId": "d31d7e5b-546e-4b74-9288-ebe04f30dbcd"
   },
   "outputs": [
    {
     "data": {
      "text/plain": [
       "<matplotlib.legend.Legend at 0x28082b701c0>"
      ]
     },
     "execution_count": 24,
     "metadata": {},
     "output_type": "execute_result"
    },
    {
     "data": {
      "image/png": "[encoded data removed]",
      "text/plain": [
       "<Figure size 576x432 with 1 Axes>"
      ]
     },
     "metadata": {
      "needs_background": "light"
     },
     "output_type": "display_data"
    }
   ],
   "source": [
    "plot_roc(\"Test Baseline\", y_test, predictions_baseline, color='blue', linestyle='--')\n",
    "plt.legend(loc='lower right')"
   ]
  },
  {
   "cell_type": "markdown",
   "metadata": {
    "id": "_d83CAb9t3z5"
   },
   "source": [
    "정밀도가 비교적 높은 것처럼 보이지만 리콜 및 ROC 곡선 아래 면적 (AUC)은 원하는만큼 높지 않습니다. 분류기는 종종 정밀도와 재현율을 모두 극대화하려고 할 때 어려움에 직면합니다. 특히 불균형 데이터 세트로 작업 할 때는 더욱 그렇습니다. "
   ]
  },
  {
   "cell_type": "markdown",
   "metadata": {
    "id": "-P-iJJ1pt3z5"
   },
   "source": [
    "## Class Weight 조정\n",
    "\n",
    "사용할 positive 샘플이 많지 않기 때문에 가용한 적은 수의 sample 에 classifier 가 더 비중을 두도록 할 수 있다. \n",
    "\n",
    "step1 - 레이블 및 관련 가중치로 dictionary 정의 \n",
    "```\n",
    "class_weight = {0: 1.,\n",
    "                        1: 50.,\n",
    "                        2: 2.}\n",
    "```                \n",
    "step2 - dictionary를 매개 변수로 공급:  \n",
    "```\n",
    "    model.fit(X_train, Y_train, nb_epoch=5, batch_size=32, class_weight=class_weight)\n",
    "```\n",
    "\n",
    "- class 1 하나를 50 개의 classs 0 로 취급 $\\rightarrow$ loss function 계산 시 class_weight 에 지정된 대로 가중 평균"
   ]
  },
  {
   "cell_type": "code",
   "execution_count": 25,
   "metadata": {},
   "outputs": [
    {
     "data": {
      "text/plain": [
       "(284315, 492, 284807)"
      ]
     },
     "execution_count": 25,
     "metadata": {},
     "output_type": "execute_result"
    }
   ],
   "source": [
    "normal, fraud, total"
   ]
  },
  {
   "cell_type": "code",
   "execution_count": 26,
   "metadata": {
    "colab": {
     "base_uri": "https://localhost:8080/"
    },
    "id": "8VevE6hHt3z6",
    "outputId": "d8f19e43-42a8-4db7-ade0-7031c685c343"
   },
   "outputs": [
    {
     "name": "stdout",
     "output_type": "stream",
     "text": [
      "Weight for class 0: 0.50\n",
      "Weight for class 1: 289.44\n"
     ]
    }
   ],
   "source": [
    "# total/2 로 scale 하면 loss를 비슷한 크기로 유지하는 데 도움이됩니다.\n",
    "# 모든 example의 가중치 합계는 동일하게 유지됩니다.\n",
    "\n",
    "weight_for_0 = (1 / normal)*(total) / 2.0 \n",
    "weight_for_1 = (1 / fraud)*(total) / 2.0\n",
    "\n",
    "class_weight = {0: weight_for_0, 1: weight_for_1}\n",
    "\n",
    "print('Weight for class 0: {:.2f}'.format(weight_for_0))\n",
    "print('Weight for class 1: {:.2f}'.format(weight_for_1))"
   ]
  },
  {
   "cell_type": "markdown",
   "metadata": {},
   "source": [
    "class_weight  \n",
    "\n",
    "    학습 클래스의 샘플에 대한 모델 손실에 적용할 가중치에 대한 사전 매핑 클래스 인덱스(정수). 이는 모델이 과소 표현된 클래스의 샘플에 \"더 많은주의를 기울이도록\"지시하는 데 유용."
   ]
  },
  {
   "cell_type": "code",
   "execution_count": 27,
   "metadata": {
    "colab": {
     "base_uri": "https://localhost:8080/"
    },
    "id": "Am_veDXSt3z9",
    "outputId": "ec4394d4-b43b-4096-c253-27cd3e36af29",
    "scrolled": true
   },
   "outputs": [
    {
     "name": "stdout",
     "output_type": "stream",
     "text": [
      "Epoch 1/100\n",
      "112/112 [==============================] - 4s 15ms/step - loss: 0.5460 - tp: 268.3628 - fp: 62599.9735 - tn: 110748.5221 - fn: 35.9204 - accuracy: 0.6544 - precision: 0.0052 - recall: 0.8732 - auc: 0.8970 - val_loss: 0.4258 - val_tp: 90.0000 - val_fp: 1570.0000 - val_tn: 55291.0000 - val_fn: 11.0000 - val_accuracy: 0.9722 - val_precision: 0.0542 - val_recall: 0.8911 - val_auc: 0.9486\n",
      "Epoch 2/100\n",
      "112/112 [==============================] - 1s 7ms/step - loss: 0.3614 - tp: 172.2212 - fp: 6855.6637 - tn: 109633.2478 - fn: 29.6460 - accuracy: 0.9353 - precision: 0.0227 - recall: 0.8294 - auc: 0.9183 - val_loss: 0.1955 - val_tp: 89.0000 - val_fp: 616.0000 - val_tn: 56245.0000 - val_fn: 12.0000 - val_accuracy: 0.9890 - val_precision: 0.1262 - val_recall: 0.8812 - val_auc: 0.9615\n",
      "Epoch 3/100\n",
      "112/112 [==============================] - 1s 7ms/step - loss: 0.2024 - tp: 165.6106 - fp: 2680.1770 - tn: 113821.7434 - fn: 23.2478 - accuracy: 0.9774 - precision: 0.0588 - recall: 0.8877 - auc: 0.9639 - val_loss: 0.1669 - val_tp: 92.0000 - val_fp: 1026.0000 - val_tn: 55835.0000 - val_fn: 9.0000 - val_accuracy: 0.9818 - val_precision: 0.0823 - val_recall: 0.9109 - val_auc: 0.9709\n",
      "Epoch 4/100\n",
      "112/112 [==============================] - 1s 7ms/step - loss: 0.1942 - tp: 177.8584 - fp: 3698.3186 - tn: 112792.9292 - fn: 21.6726 - accuracy: 0.9681 - precision: 0.0478 - recall: 0.9007 - auc: 0.9674 - val_loss: 0.1556 - val_tp: 94.0000 - val_fp: 1285.0000 - val_tn: 55576.0000 - val_fn: 7.0000 - val_accuracy: 0.9773 - val_precision: 0.0682 - val_recall: 0.9307 - val_auc: 0.9762\n",
      "Epoch 5/100\n",
      "112/112 [==============================] - 1s 7ms/step - loss: 0.1811 - tp: 172.6814 - fp: 3717.0973 - tn: 112780.7965 - fn: 20.2035 - accuracy: 0.9678 - precision: 0.0431 - recall: 0.8979 - auc: 0.9714 - val_loss: 0.1258 - val_tp: 93.0000 - val_fp: 1189.0000 - val_tn: 55672.0000 - val_fn: 8.0000 - val_accuracy: 0.9790 - val_precision: 0.0725 - val_recall: 0.9208 - val_auc: 0.9791\n",
      "Epoch 6/100\n",
      "112/112 [==============================] - 1s 7ms/step - loss: 0.1421 - tp: 180.7965 - fp: 3250.2832 - tn: 113242.8142 - fn: 16.8850 - accuracy: 0.9718 - precision: 0.0530 - recall: 0.9290 - auc: 0.9855 - val_loss: 0.1172 - val_tp: 93.0000 - val_fp: 1250.0000 - val_tn: 55611.0000 - val_fn: 8.0000 - val_accuracy: 0.9779 - val_precision: 0.0692 - val_recall: 0.9208 - val_auc: 0.9788\n",
      "Epoch 7/100\n",
      "112/112 [==============================] - 1s 7ms/step - loss: 0.1581 - tp: 178.4602 - fp: 3445.8584 - tn: 113046.8142 - fn: 19.6460 - accuracy: 0.9699 - precision: 0.0453 - recall: 0.8844 - auc: 0.9799 - val_loss: 0.1063 - val_tp: 93.0000 - val_fp: 1245.0000 - val_tn: 55616.0000 - val_fn: 8.0000 - val_accuracy: 0.9780 - val_precision: 0.0695 - val_recall: 0.9208 - val_auc: 0.9804\n",
      "Epoch 8/100\n",
      "112/112 [==============================] - 1s 7ms/step - loss: 0.1610 - tp: 183.6018 - fp: 3515.5221 - tn: 112977.8938 - fn: 13.7611 - accuracy: 0.9702 - precision: 0.0484 - recall: 0.9263 - auc: 0.9657 - val_loss: 0.0996 - val_tp: 93.0000 - val_fp: 1151.0000 - val_tn: 55710.0000 - val_fn: 8.0000 - val_accuracy: 0.9797 - val_precision: 0.0748 - val_recall: 0.9208 - val_auc: 0.9834\n",
      "Epoch 9/100\n",
      "112/112 [==============================] - 1s 7ms/step - loss: 0.1424 - tp: 184.1150 - fp: 3316.3274 - tn: 113173.7522 - fn: 16.5841 - accuracy: 0.9714 - precision: 0.0527 - recall: 0.9214 - auc: 0.9851 - val_loss: 0.0898 - val_tp: 93.0000 - val_fp: 1082.0000 - val_tn: 55779.0000 - val_fn: 8.0000 - val_accuracy: 0.9809 - val_precision: 0.0791 - val_recall: 0.9208 - val_auc: 0.9832\n",
      "Epoch 10/100\n",
      "112/112 [==============================] - 1s 7ms/step - loss: 0.1548 - tp: 184.2743 - fp: 3058.0708 - tn: 113431.4867 - fn: 16.9469 - accuracy: 0.9739 - precision: 0.0577 - recall: 0.9061 - auc: 0.9834 - val_loss: 0.0779 - val_tp: 92.0000 - val_fp: 886.0000 - val_tn: 55975.0000 - val_fn: 9.0000 - val_accuracy: 0.9843 - val_precision: 0.0941 - val_recall: 0.9109 - val_auc: 0.9853\n",
      "Epoch 11/100\n",
      "112/112 [==============================] - 1s 7ms/step - loss: 0.1710 - tp: 189.1062 - fp: 3268.1062 - tn: 113214.6106 - fn: 18.9558 - accuracy: 0.9728 - precision: 0.0606 - recall: 0.9048 - auc: 0.9822 - val_loss: 0.0810 - val_tp: 93.0000 - val_fp: 993.0000 - val_tn: 55868.0000 - val_fn: 8.0000 - val_accuracy: 0.9824 - val_precision: 0.0856 - val_recall: 0.9208 - val_auc: 0.9848\n",
      "Epoch 12/100\n",
      "112/112 [==============================] - 1s 7ms/step - loss: 0.1160 - tp: 185.4336 - fp: 2955.5133 - tn: 113538.4690 - fn: 11.3628 - accuracy: 0.9747 - precision: 0.0589 - recall: 0.9507 - auc: 0.9905 - val_loss: 0.0821 - val_tp: 92.0000 - val_fp: 1123.0000 - val_tn: 55738.0000 - val_fn: 9.0000 - val_accuracy: 0.9801 - val_precision: 0.0757 - val_recall: 0.9109 - val_auc: 0.9854\n",
      "Epoch 13/100\n",
      "112/112 [==============================] - 1s 7ms/step - loss: 0.1151 - tp: 189.6991 - fp: 3493.1239 - tn: 112993.0088 - fn: 14.9469 - accuracy: 0.9707 - precision: 0.0522 - recall: 0.9349 - auc: 0.9928 - val_loss: 0.0784 - val_tp: 92.0000 - val_fp: 1099.0000 - val_tn: 55762.0000 - val_fn: 9.0000 - val_accuracy: 0.9805 - val_precision: 0.0772 - val_recall: 0.9109 - val_auc: 0.9859\n",
      "Epoch 14/100\n",
      "112/112 [==============================] - 1s 7ms/step - loss: 0.1133 - tp: 181.8230 - fp: 3387.9823 - tn: 113108.0442 - fn: 12.9292 - accuracy: 0.9715 - precision: 0.0514 - recall: 0.9318 - auc: 0.9828 - val_loss: 0.0776 - val_tp: 92.0000 - val_fp: 1147.0000 - val_tn: 55714.0000 - val_fn: 9.0000 - val_accuracy: 0.9797 - val_precision: 0.0743 - val_recall: 0.9109 - val_auc: 0.9861\n",
      "Epoch 15/100\n",
      "112/112 [==============================] - 1s 7ms/step - loss: 0.1057 - tp: 180.9735 - fp: 3342.3894 - tn: 113154.6106 - fn: 12.8053 - accuracy: 0.9721 - precision: 0.0520 - recall: 0.9412 - auc: 0.9932 - val_loss: 0.0806 - val_tp: 93.0000 - val_fp: 1315.0000 - val_tn: 55546.0000 - val_fn: 8.0000 - val_accuracy: 0.9768 - val_precision: 0.0661 - val_recall: 0.9208 - val_auc: 0.9872\n",
      "Epoch 16/100\n",
      "112/112 [==============================] - 1s 8ms/step - loss: 0.1141 - tp: 196.3982 - fp: 4148.3805 - tn: 112333.0354 - fn: 12.9646 - accuracy: 0.9650 - precision: 0.0487 - recall: 0.9484 - auc: 0.9921 - val_loss: 0.0789 - val_tp: 93.0000 - val_fp: 1221.0000 - val_tn: 55640.0000 - val_fn: 8.0000 - val_accuracy: 0.9784 - val_precision: 0.0708 - val_recall: 0.9208 - val_auc: 0.9868\n",
      "Epoch 17/100\n",
      "112/112 [==============================] - 1s 8ms/step - loss: 0.1087 - tp: 188.9204 - fp: 3351.9735 - tn: 113136.1504 - fn: 13.7345 - accuracy: 0.9711 - precision: 0.0528 - recall: 0.9349 - auc: 0.9926 - val_loss: 0.0786 - val_tp: 93.0000 - val_fp: 1291.0000 - val_tn: 55570.0000 - val_fn: 8.0000 - val_accuracy: 0.9772 - val_precision: 0.0672 - val_recall: 0.9208 - val_auc: 0.9864\n",
      "Epoch 18/100\n",
      "112/112 [==============================] - 1s 8ms/step - loss: 0.1008 - tp: 182.4071 - fp: 3412.7345 - tn: 113085.2212 - fn: 10.4159 - accuracy: 0.9703 - precision: 0.0494 - recall: 0.9529 - auc: 0.9940 - val_loss: 0.0719 - val_tp: 92.0000 - val_fp: 1139.0000 - val_tn: 55722.0000 - val_fn: 9.0000 - val_accuracy: 0.9798 - val_precision: 0.0747 - val_recall: 0.9109 - val_auc: 0.9860\n",
      "Epoch 19/100\n",
      "112/112 [==============================] - 1s 8ms/step - loss: 0.1116 - tp: 184.5752 - fp: 3258.9381 - tn: 113235.9646 - fn: 11.3009 - accuracy: 0.9724 - precision: 0.0541 - recall: 0.9463 - auc: 0.9910 - val_loss: 0.0701 - val_tp: 93.0000 - val_fp: 1145.0000 - val_tn: 55716.0000 - val_fn: 8.0000 - val_accuracy: 0.9798 - val_precision: 0.0751 - val_recall: 0.9208 - val_auc: 0.9873\n",
      "Epoch 20/100\n",
      "112/112 [==============================] - 1s 8ms/step - loss: 0.1069 - tp: 172.7876 - fp: 3039.0088 - tn: 113466.8938 - fn: 12.0885 - accuracy: 0.9733 - precision: 0.0537 - recall: 0.9278 - auc: 0.9925 - val_loss: 0.0699 - val_tp: 93.0000 - val_fp: 1171.0000 - val_tn: 55690.0000 - val_fn: 8.0000 - val_accuracy: 0.9793 - val_precision: 0.0736 - val_recall: 0.9208 - val_auc: 0.9886\n",
      "Epoch 21/100\n",
      "112/112 [==============================] - 1s 8ms/step - loss: 0.0992 - tp: 185.7788 - fp: 3261.1681 - tn: 113232.8053 - fn: 11.0265 - accuracy: 0.9716 - precision: 0.0531 - recall: 0.9349 - auc: 0.9944 - val_loss: 0.0673 - val_tp: 93.0000 - val_fp: 1117.0000 - val_tn: 55744.0000 - val_fn: 8.0000 - val_accuracy: 0.9803 - val_precision: 0.0769 - val_recall: 0.9208 - val_auc: 0.9890\n"
     ]
    },
    {
     "name": "stdout",
     "output_type": "stream",
     "text": [
      "Epoch 22/100\n",
      "112/112 [==============================] - 1s 7ms/step - loss: 0.1081 - tp: 194.4071 - fp: 3265.0531 - tn: 113218.9646 - fn: 12.3540 - accuracy: 0.9721 - precision: 0.0564 - recall: 0.9392 - auc: 0.9924 - val_loss: 0.0613 - val_tp: 92.0000 - val_fp: 1018.0000 - val_tn: 55843.0000 - val_fn: 9.0000 - val_accuracy: 0.9820 - val_precision: 0.0829 - val_recall: 0.9109 - val_auc: 0.9884\n",
      "Epoch 23/100\n",
      "112/112 [==============================] - 1s 7ms/step - loss: 0.1067 - tp: 182.4602 - fp: 2977.1593 - tn: 113516.7080 - fn: 14.4513 - accuracy: 0.9745 - precision: 0.0541 - recall: 0.9166 - auc: 0.9929 - val_loss: 0.0582 - val_tp: 91.0000 - val_fp: 942.0000 - val_tn: 55919.0000 - val_fn: 10.0000 - val_accuracy: 0.9833 - val_precision: 0.0881 - val_recall: 0.9010 - val_auc: 0.9898\n",
      "Epoch 24/100\n",
      "112/112 [==============================] - 1s 8ms/step - loss: 0.0928 - tp: 186.2478 - fp: 2960.8584 - tn: 113530.3982 - fn: 13.2743 - accuracy: 0.9752 - precision: 0.0603 - recall: 0.9334 - auc: 0.9945 - val_loss: 0.0637 - val_tp: 92.0000 - val_fp: 1091.0000 - val_tn: 55770.0000 - val_fn: 9.0000 - val_accuracy: 0.9807 - val_precision: 0.0778 - val_recall: 0.9109 - val_auc: 0.9899\n",
      "Epoch 25/100\n",
      "112/112 [==============================] - 1s 8ms/step - loss: 0.0976 - tp: 198.8407 - fp: 3024.9292 - tn: 113456.0796 - fn: 10.9292 - accuracy: 0.9741 - precision: 0.0630 - recall: 0.9581 - auc: 0.9938 - val_loss: 0.0657 - val_tp: 92.0000 - val_fp: 1119.0000 - val_tn: 55742.0000 - val_fn: 9.0000 - val_accuracy: 0.9802 - val_precision: 0.0760 - val_recall: 0.9109 - val_auc: 0.9905\n",
      "Epoch 26/100\n",
      "112/112 [==============================] - 1s 7ms/step - loss: 0.1064 - tp: 185.8673 - fp: 3196.0531 - tn: 113300.2035 - fn: 8.6549 - accuracy: 0.9723 - precision: 0.0548 - recall: 0.9501 - auc: 0.9932 - val_loss: 0.0689 - val_tp: 92.0000 - val_fp: 1204.0000 - val_tn: 55657.0000 - val_fn: 9.0000 - val_accuracy: 0.9787 - val_precision: 0.0710 - val_recall: 0.9109 - val_auc: 0.9900\n",
      "Epoch 27/100\n",
      "112/112 [==============================] - 1s 8ms/step - loss: 0.0914 - tp: 194.4425 - fp: 3390.9823 - tn: 113095.7522 - fn: 9.6018 - accuracy: 0.9703 - precision: 0.0530 - recall: 0.9442 - auc: 0.9958 - val_loss: 0.0540 - val_tp: 92.0000 - val_fp: 889.0000 - val_tn: 55972.0000 - val_fn: 9.0000 - val_accuracy: 0.9842 - val_precision: 0.0938 - val_recall: 0.9109 - val_auc: 0.9884\n",
      "Epoch 28/100\n",
      "112/112 [==============================] - 1s 7ms/step - loss: 0.0858 - tp: 200.2389 - fp: 2979.5929 - tn: 113504.2301 - fn: 6.7168 - accuracy: 0.9745 - precision: 0.0656 - recall: 0.9733 - auc: 0.9956 - val_loss: 0.0551 - val_tp: 92.0000 - val_fp: 924.0000 - val_tn: 55937.0000 - val_fn: 9.0000 - val_accuracy: 0.9836 - val_precision: 0.0906 - val_recall: 0.9109 - val_auc: 0.9886\n",
      "Epoch 29/100\n",
      "112/112 [==============================] - 1s 7ms/step - loss: 0.0738 - tp: 187.7788 - fp: 2817.1681 - tn: 113678.3097 - fn: 7.5221 - accuracy: 0.9762 - precision: 0.0637 - recall: 0.9674 - auc: 0.9969 - val_loss: 0.0573 - val_tp: 91.0000 - val_fp: 1009.0000 - val_tn: 55852.0000 - val_fn: 10.0000 - val_accuracy: 0.9821 - val_precision: 0.0827 - val_recall: 0.9010 - val_auc: 0.9887\n",
      "Epoch 30/100\n",
      "112/112 [==============================] - 1s 7ms/step - loss: 0.0879 - tp: 197.4513 - fp: 2895.6018 - tn: 113590.7345 - fn: 6.9912 - accuracy: 0.9749 - precision: 0.0655 - recall: 0.9632 - auc: 0.9961 - val_loss: 0.0509 - val_tp: 92.0000 - val_fp: 877.0000 - val_tn: 55984.0000 - val_fn: 9.0000 - val_accuracy: 0.9844 - val_precision: 0.0949 - val_recall: 0.9109 - val_auc: 0.9891\n",
      "Epoch 31/100\n",
      "112/112 [==============================] - 1s 7ms/step - loss: 0.1033 - tp: 202.6106 - fp: 2759.8673 - tn: 113722.3540 - fn: 5.9469 - accuracy: 0.9763 - precision: 0.0705 - recall: 0.9690 - auc: 0.9928 - val_loss: 0.0558 - val_tp: 92.0000 - val_fp: 991.0000 - val_tn: 55870.0000 - val_fn: 9.0000 - val_accuracy: 0.9824 - val_precision: 0.0849 - val_recall: 0.9109 - val_auc: 0.9886\n",
      "Epoch 32/100\n",
      "112/112 [==============================] - 1s 7ms/step - loss: 0.1018 - tp: 192.4690 - fp: 3295.2478 - tn: 113194.0177 - fn: 9.0442 - accuracy: 0.9718 - precision: 0.0560 - recall: 0.9518 - auc: 0.9940 - val_loss: 0.0547 - val_tp: 92.0000 - val_fp: 967.0000 - val_tn: 55894.0000 - val_fn: 9.0000 - val_accuracy: 0.9829 - val_precision: 0.0869 - val_recall: 0.9109 - val_auc: 0.9876\n",
      "Epoch 33/100\n",
      "112/112 [==============================] - 1s 7ms/step - loss: 0.0622 - tp: 187.7965 - fp: 2553.8319 - tn: 113943.2124 - fn: 5.9381 - accuracy: 0.9777 - precision: 0.0645 - recall: 0.9748 - auc: 0.9978 - val_loss: 0.0501 - val_tp: 91.0000 - val_fp: 883.0000 - val_tn: 55978.0000 - val_fn: 10.0000 - val_accuracy: 0.9843 - val_precision: 0.0934 - val_recall: 0.9010 - val_auc: 0.9873\n",
      "Epoch 34/100\n",
      "112/112 [==============================] - 1s 7ms/step - loss: 0.0763 - tp: 192.8319 - fp: 2576.4513 - tn: 113914.1239 - fn: 7.3717 - accuracy: 0.9775 - precision: 0.0707 - recall: 0.9592 - auc: 0.9970 - val_loss: 0.0536 - val_tp: 92.0000 - val_fp: 977.0000 - val_tn: 55884.0000 - val_fn: 9.0000 - val_accuracy: 0.9827 - val_precision: 0.0861 - val_recall: 0.9109 - val_auc: 0.9872\n",
      "Epoch 35/100\n",
      "112/112 [==============================] - 1s 7ms/step - loss: 0.0642 - tp: 199.8584 - fp: 2904.3894 - tn: 113582.1593 - fn: 4.3717 - accuracy: 0.9748 - precision: 0.0656 - recall: 0.9835 - auc: 0.9979 - val_loss: 0.0530 - val_tp: 92.0000 - val_fp: 981.0000 - val_tn: 55880.0000 - val_fn: 9.0000 - val_accuracy: 0.9826 - val_precision: 0.0857 - val_recall: 0.9109 - val_auc: 0.9887\n",
      "Restoring model weights from the end of the best epoch.\n",
      "Epoch 00035: early stopping\n"
     ]
    }
   ],
   "source": [
    "weighted_model = make_model()\n",
    "\n",
    "weighted_history = weighted_model.fit(X_train, y_train, \n",
    "                                    batch_size=BATCH_SIZE,\n",
    "                                    epochs=EPOCHS, \n",
    "                                    callbacks = [early_stopping], \n",
    "                                    validation_data=(X_test, y_test),\n",
    "                                    class_weight=class_weight) "
   ]
  },
  {
   "cell_type": "code",
   "execution_count": 28,
   "metadata": {
    "colab": {
     "base_uri": "https://localhost:8080/",
     "height": 585
    },
    "id": "N5iUrVe6t30B",
    "outputId": "73ab4843-065b-489b-bd35-ce02d1e499fd"
   },
   "outputs": [
    {
     "data": {
      "image/png": "[encoded data removed]",
      "text/plain": [
       "<Figure size 864x576 with 4 Axes>"
      ]
     },
     "metadata": {
      "needs_background": "light"
     },
     "output_type": "display_data"
    }
   ],
   "source": [
    "plot_metrics(weighted_history)"
   ]
  },
  {
   "cell_type": "code",
   "execution_count": 29,
   "metadata": {
    "id": "ErH9Ehhct30D"
   },
   "outputs": [],
   "source": [
    "predictions_weighted = weighted_model.predict(X_test, batch_size=BATCH_SIZE)"
   ]
  },
  {
   "cell_type": "code",
   "execution_count": 30,
   "metadata": {
    "colab": {
     "base_uri": "https://localhost:8080/",
     "height": 619
    },
    "id": "59NLR77Kt30E",
    "outputId": "67696d4f-c3b8-44b9-8dfe-2b977c2d25d1"
   },
   "outputs": [
    {
     "name": "stdout",
     "output_type": "stream",
     "text": [
      "loss :  0.06570450216531754\n",
      "tp :  92.0\n",
      "fp :  1119.0\n",
      "tn :  55742.0\n",
      "fn :  9.0\n",
      "accuracy :  0.9801973104476929\n",
      "precision :  0.07597026973962784\n",
      "recall :  0.9108911156654358\n",
      "auc :  0.9905160665512085\n",
      "\n",
      "confution matrix\n",
      " [[55742  1119]\n",
      " [    9    92]]\n",
      "\n",
      "f1 score\n",
      " 0.14024390243902438\n",
      "\n",
      "Accuracy: 0.98020\n",
      "Precision: 0.07597\n",
      "Recall: 0.91089\n"
     ]
    },
    {
     "data": {
      "image/png": "[encoded data removed]",
      "text/plain": [
       "<Figure size 360x360 with 2 Axes>"
      ]
     },
     "metadata": {
      "needs_background": "light"
     },
     "output_type": "display_data"
    }
   ],
   "source": [
    "weighted_results = weighted_model.evaluate(X_test, y_test,\n",
    "                                           batch_size=BATCH_SIZE, verbose=0)\n",
    "\n",
    "for name, value in zip(weighted_model.metrics_names, weighted_results):\n",
    "    print(name, ': ', value)\n",
    "    \n",
    "print()\n",
    "\n",
    "plot_cm(y_test, predictions_weighted, threshold=0.5)"
   ]
  },
  {
   "cell_type": "markdown",
   "metadata": {
    "id": "FF42Tjcdt30K"
   },
   "source": [
    "## Plot the ROC"
   ]
  },
  {
   "cell_type": "code",
   "execution_count": 31,
   "metadata": {
    "colab": {
     "base_uri": "https://localhost:8080/",
     "height": 406
    },
    "id": "DmZ5bpDEt30N",
    "outputId": "827d1526-1fec-4da4-cc93-0e74b6b38657"
   },
   "outputs": [
    {
     "data": {
      "text/plain": [
       "<matplotlib.legend.Legend at 0x280864504c0>"
      ]
     },
     "execution_count": 31,
     "metadata": {},
     "output_type": "execute_result"
    },
    {
     "data": {
      "image/png": "[encoded data removed]",
      "text/plain": [
       "<Figure size 576x432 with 1 Axes>"
      ]
     },
     "metadata": {
      "needs_background": "light"
     },
     "output_type": "display_data"
    }
   ],
   "source": [
    "plot_roc(\"Baseline ROC\", y_test, predictions_baseline, color='blue', linestyle='--')\n",
    "\n",
    "plot_roc(\"Weighted ROC\", y_test, predictions_weighted, color='red', linestyle='--')\n",
    "\n",
    "plt.legend(loc='lower right')"
   ]
  },
  {
   "cell_type": "code",
   "execution_count": null,
   "metadata": {
    "id": "rcbHFEtjGzxD"
   },
   "outputs": [],
   "source": []
  }
 ],
 "metadata": {
  "accelerator": "GPU",
  "colab": {
   "collapsed_sections": [],
   "machine_shape": "hm",
   "name": "120_DNN_Highly_Imbalanced_Data_fraud_detection.ipynb",
   "provenance": []
  },
  "kernelspec": {
   "display_name": "Python 3 (ipykernel)",
   "language": "python",
   "name": "python3"
  },
  "language_info": {
   "codemirror_mode": {
    "name": "ipython",
    "version": 3
   },
   "file_extension": ".py",
   "mimetype": "text/x-python",
   "name": "python",
   "nbconvert_exporter": "python",
   "pygments_lexer": "ipython3",
   "version": "3.8.12"
  }
 },
 "nbformat": 4,
 "nbformat_minor": 1
}
