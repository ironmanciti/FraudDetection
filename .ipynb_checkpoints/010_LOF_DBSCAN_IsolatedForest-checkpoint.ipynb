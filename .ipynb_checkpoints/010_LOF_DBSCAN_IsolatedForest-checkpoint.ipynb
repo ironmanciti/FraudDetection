{
 "cells": [
  {
   "cell_type": "markdown",
   "id": "filled-marriage",
   "metadata": {},
   "source": [
    "# LOF (Local Outlier Factor) 알고리즘\n",
    "\n",
    "- LOF (Local Outlier Factor) 알고리즘은 이웃과 관련하여 주어진 데이터 포인트의 로컬 밀도 편차를 계산하는 비지도 학습 이상 탐지 방법입니다.\n",
    "\n",
    "- 이웃 보다 밀도가 상당히 낮은 샘플을 특이치로 간주합니다.  \n",
    "\n",
    "\n",
    "- LOF가 이상치 감지에 사용되는 경우에는 predict 메소드가 없습니다. \n",
    "\n",
    "\n",
    "- 고려되는 neighbor 수 (파라미터 n_neighbors)는 일반적으로  \n",
    "\n",
    "    1) 클러스터에 포함해야하는 최소 샘플 수보다 크게 설정되어 다른 샘플이 이 클러스터에 상대적인 로컬 이상치가 될 수 있도록 하고,    \n",
    "    2) 잠재적 로컬 이상치가 될 수 있는 샘플 수보다 크게 설정됩니다.  \n",
    "    \n",
    "    neighbor 를 몇개로 하는지 정해진 것은 없으며 n_neighbors = 20을 사용하면 일반적으로 잘 작동하는 것으로 보입니다."
   ]
  },
  {
   "cell_type": "code",
   "execution_count": 1,
   "id": "lovely-tunisia",
   "metadata": {},
   "outputs": [],
   "source": [
    "import numpy as np\n",
    "import matplotlib.pyplot as plt\n",
    "from sklearn.metrics import accuracy_score, precision_score, \\\n",
    "                            recall_score, confusion_matrix, classification_report\n",
    "import seaborn as sns\n",
    "import time\n",
    "\n",
    "from sklearn.neighbors import LocalOutlierFactor\n",
    "from sklearn.ensemble import IsolationForest\n",
    "from sklearn.cluster import DBSCAN"
   ]
  },
  {
   "cell_type": "markdown",
   "id": "acquired-knife",
   "metadata": {},
   "source": [
    "## Data 생성"
   ]
  },
  {
   "cell_type": "markdown",
   "id": "decent-keeping",
   "metadata": {},
   "source": [
    "```\n",
    "np.r_[np.array([1, 2, 3]), np.array([4, 5, 6])]\n",
    "array([1, 2, 3, 4, 5, 6])\n",
    "\n",
    "np.c_[np.array([1, 2, 3]), np.array([4, 5, 6])]\n",
    "array([[1, 4],\n",
    "       [2, 5],\n",
    "       [3, 6]])\n",
    "```"
   ]
  },
  {
   "cell_type": "code",
   "execution_count": 2,
   "id": "reasonable-joseph",
   "metadata": {},
   "outputs": [
    {
     "name": "stdout",
     "output_type": "stream",
     "text": [
      "(200, 2)\n",
      "(220, 2)\n",
      "0.09\n"
     ]
    }
   ],
   "source": [
    "np.random.seed(42)\n",
    "\n",
    "# train data 생성\n",
    "X_inliers = 0.3 * np.random.randn(100, 2)\n",
    "X_inliers = np.r_[X_inliers + 2, X_inliers - 2]\n",
    "print(X_inliers.shape)\n",
    "\n",
    "# some outliers 생성\n",
    "X_outliers = np.random.uniform(low=-4, high=4, size=(20, 2))\n",
    "X = np.r_[X_inliers, X_outliers]\n",
    "print(X.shape)\n",
    "\n",
    "n_outliers = len(X_outliers)\n",
    "ground_truth = np.ones(len(X), dtype=int)\n",
    "ground_truth[-n_outliers:] = -1\n",
    "\n",
    "# 이상치 비율\n",
    "print(\"{:.2f}\".format(len(X_outliers) / len(X)))"
   ]
  },
  {
   "cell_type": "code",
   "execution_count": 3,
   "id": "amended-responsibility",
   "metadata": {},
   "outputs": [
    {
     "data": {
      "text/plain": [
       "array([ 1,  1,  1,  1,  1,  1,  1,  1,  1,  1,  1,  1,  1,  1,  1,  1,  1,\n",
       "        1,  1,  1,  1,  1,  1,  1,  1,  1,  1,  1,  1,  1,  1,  1,  1,  1,\n",
       "        1,  1,  1,  1,  1,  1,  1,  1,  1,  1,  1,  1,  1,  1,  1,  1,  1,\n",
       "        1,  1,  1,  1,  1,  1,  1,  1,  1,  1,  1,  1,  1,  1,  1,  1,  1,\n",
       "        1,  1,  1,  1,  1,  1,  1,  1,  1,  1,  1,  1,  1,  1,  1,  1,  1,\n",
       "        1,  1,  1,  1,  1,  1,  1,  1,  1,  1,  1,  1,  1,  1,  1,  1,  1,\n",
       "        1,  1,  1,  1,  1,  1,  1,  1,  1,  1,  1,  1,  1,  1,  1,  1,  1,\n",
       "        1,  1,  1,  1,  1,  1,  1,  1,  1,  1,  1,  1,  1,  1,  1,  1,  1,\n",
       "        1,  1,  1,  1,  1,  1,  1,  1,  1,  1,  1,  1,  1,  1,  1,  1,  1,\n",
       "        1,  1,  1,  1,  1,  1,  1,  1,  1,  1,  1,  1,  1,  1,  1,  1,  1,\n",
       "        1,  1,  1,  1,  1,  1,  1,  1,  1,  1,  1,  1,  1,  1,  1,  1,  1,\n",
       "        1,  1,  1,  1,  1,  1,  1,  1,  1,  1,  1,  1,  1, -1, -1, -1, -1,\n",
       "       -1, -1, -1, -1, -1, -1, -1, -1, -1, -1, -1, -1, -1, -1, -1, -1])"
      ]
     },
     "execution_count": 3,
     "metadata": {},
     "output_type": "execute_result"
    }
   ],
   "source": [
    "ground_truth"
   ]
  },
  {
   "cell_type": "code",
   "execution_count": 4,
   "id": "worldwide-hypothetical",
   "metadata": {},
   "outputs": [
    {
     "data": {
      "text/plain": [
       "<matplotlib.legend.Legend at 0x7fea7bc1eb50>"
      ]
     },
     "execution_count": 4,
     "metadata": {},
     "output_type": "execute_result"
    },
    {
     "data": {
      "image/png": "[encoded data removed]",
      "text/plain": [
       "<Figure size 432x288 with 1 Axes>"
      ]
     },
     "metadata": {
      "needs_background": "light"
     },
     "output_type": "display_data"
    }
   ],
   "source": [
    "plt.scatter(X_inliers[:, 0], X_inliers[:, 1], color='b', s=3., label='Inliers')\n",
    "plt.scatter(X_outliers[:, 0], X_outliers[:, 1], color='r', s=3., label='Outliers')\n",
    "plt.axis('tight')\n",
    "plt.xlim((-5, 5))\n",
    "plt.ylim((-5, 5))\n",
    "plt.legend()"
   ]
  },
  {
   "cell_type": "markdown",
   "id": "joined-allah",
   "metadata": {},
   "source": [
    "## Model Train\n",
    "\n",
    "n_neighbors : int, default=20  \n",
    "contamination : 데이터 세트의 이상치 비율. 피팅할 때 샘플 점수에 대한 임계값을 정의하는 데 사용. float 인 경우 오염은 [0, 0.5] 범위에 있어야합니다.\n",
    "\n",
    "negative_outlier_factor_ : LOF가 아닌 정도. 숫자가 높을수록 정상 sample.  \n",
    "\n",
    "    - 훈련 샘플 중 LOF의 반대. 높을수록 더 정상.  \n",
    "    - Inliers 의 LOF score 는 -1 에 가깝고, outliers 는 LOF score 가 크다. "
   ]
  },
  {
   "cell_type": "code",
   "execution_count": 5,
   "id": "numerous-venue",
   "metadata": {},
   "outputs": [
    {
     "data": {
      "text/plain": [
       "LocalOutlierFactor(contamination=0.1)"
      ]
     },
     "execution_count": 5,
     "metadata": {},
     "output_type": "execute_result"
    }
   ],
   "source": [
    "# fit the model for outlier detection (default)\n",
    "lof = LocalOutlierFactor(n_neighbors=20, contamination=0.1)\n",
    "lof"
   ]
  },
  {
   "cell_type": "markdown",
   "id": "stuffed-cooking",
   "metadata": {},
   "source": [
    "- LOF가 outlier 탐지에 사용될 때 `fit_predict`를 사용하여 훈련 샘플의 예측된 레이블을 계산합니다.  \n",
    "- estimator는 `predict`이 없습니다."
   ]
  },
  {
   "cell_type": "code",
   "execution_count": 6,
   "id": "covered-crown",
   "metadata": {},
   "outputs": [
    {
     "data": {
      "text/plain": [
       "array([ 1,  1,  1,  1,  1,  1,  1,  1,  1,  1,  1,  1,  1,  1,  1,  1,  1,\n",
       "        1,  1,  1,  1,  1,  1,  1,  1,  1,  1,  1,  1,  1,  1,  1,  1,  1,\n",
       "        1,  1,  1, -1,  1,  1,  1,  1,  1,  1,  1,  1,  1,  1,  1,  1,  1,\n",
       "        1,  1,  1,  1,  1,  1,  1,  1,  1,  1,  1,  1,  1,  1,  1,  1,  1,\n",
       "        1,  1,  1,  1,  1,  1,  1,  1,  1,  1,  1,  1,  1,  1,  1,  1,  1,\n",
       "        1,  1,  1,  1, -1,  1,  1,  1,  1,  1,  1,  1,  1,  1,  1,  1,  1,\n",
       "        1,  1,  1,  1,  1,  1,  1,  1,  1,  1,  1,  1,  1,  1,  1,  1,  1,\n",
       "        1,  1,  1,  1,  1,  1,  1,  1,  1,  1,  1,  1,  1,  1,  1,  1,  1,\n",
       "        1, -1,  1,  1,  1,  1,  1,  1,  1,  1,  1,  1,  1,  1,  1,  1,  1,\n",
       "        1,  1,  1, -1,  1,  1,  1,  1,  1,  1,  1,  1,  1,  1,  1,  1,  1,\n",
       "        1,  1,  1,  1,  1,  1,  1,  1,  1,  1,  1,  1,  1,  1,  1,  1,  1,\n",
       "        1,  1, -1,  1,  1,  1,  1,  1,  1,  1,  1,  1,  1, -1,  1, -1,  1,\n",
       "       -1, -1, -1,  1, -1, -1, -1, -1, -1, -1, -1, -1, -1, -1, -1, -1])"
      ]
     },
     "execution_count": 6,
     "metadata": {},
     "output_type": "execute_result"
    }
   ],
   "source": [
    "y_pred_lof = lof.fit_predict(X)\n",
    "y_pred_lof"
   ]
  },
  {
   "cell_type": "code",
   "execution_count": 7,
   "id": "velvet-facial",
   "metadata": {},
   "outputs": [
    {
     "name": "stdout",
     "output_type": "stream",
     "text": [
      "8\n",
      "(220,)\n",
      "[-0.99994411 -1.14405944 -0.97422441 -1.29043229 -0.96406015] [-5.75753448 -6.284507   -6.35571743 -6.88230317 -4.8455449 ]\n"
     ]
    }
   ],
   "source": [
    "n_errors = (y_pred_lof != ground_truth).sum()\n",
    "print(n_errors)\n",
    "\n",
    "X_scores = lof.negative_outlier_factor_\n",
    "print(X_scores.shape)\n",
    "print(X_scores[:5], X_scores[-5:])"
   ]
  },
  {
   "cell_type": "code",
   "execution_count": 8,
   "id": "streaming-birmingham",
   "metadata": {},
   "outputs": [
    {
     "data": {
      "image/png": "[encoded data removed]",
      "text/plain": [
       "<Figure size 432x288 with 1 Axes>"
      ]
     },
     "metadata": {
      "needs_background": "light"
     },
     "output_type": "display_data"
    }
   ],
   "source": [
    "plt.title(\"Local Outlier Factor (LOF)\")\n",
    "plt.scatter(X[:, 0], X[:, 1], color='k', s=3., label='Data points')\n",
    "\n",
    "# 반지름이 outlier score에 비례하는 circle 플로팅\n",
    "radius = (X_scores.max() - X_scores) / (X_scores.max() - X_scores.min())\n",
    "\n",
    "plt.scatter(X[:, 0], X[:, 1], s=1000 * radius, edgecolors='r',\n",
    "            facecolors='none', label='Outlier scores')\n",
    "\n",
    "plt.xlim((-5, 5))\n",
    "plt.ylim((-5, 5))\n",
    "plt.xlabel(\"prediction errors: %d\" % (n_errors))\n",
    "legend = plt.legend(loc='upper left')\n",
    "legend.legendHandles[0]._sizes = [20]\n",
    "legend.legendHandles[1]._sizes = [20]\n",
    "plt.show()"
   ]
  },
  {
   "cell_type": "code",
   "execution_count": 9,
   "id": "brilliant-loading",
   "metadata": {},
   "outputs": [
    {
     "name": "stdout",
     "output_type": "stream",
     "text": [
      "              precision    recall  f1-score   support\n",
      "\n",
      "          -1       0.77      0.85      0.81        20\n",
      "           1       0.98      0.97      0.98       200\n",
      "\n",
      "    accuracy                           0.96       220\n",
      "   macro avg       0.88      0.91      0.89       220\n",
      "weighted avg       0.97      0.96      0.96       220\n",
      "\n"
     ]
    }
   ],
   "source": [
    "print(classification_report(ground_truth, y_pred_lof))"
   ]
  },
  {
   "cell_type": "markdown",
   "id": "structured-dancing",
   "metadata": {},
   "source": [
    "# DBSCAN\n",
    "\n",
    "- 노이즈가있는 애플리케이션의 밀도 기반 공간 클러스터링   \n",
    "\n",
    "\n",
    "- 고밀도의 핵심 샘플을 찾아서 클러스터를 확장합니다. 밀도가 비슷한 클러스터를 포함하는 데이터에 적합합니다.  \n",
    "\n",
    "\n",
    "- eps : float, default=0.5 $\\rightarrow$ 가장 중요한 DBSCAN 매개 변수. 다른 샘플과 인접하는 것으로 간주될 두 sample 사이의 최대 거리\n",
    "\n",
    "\n",
    "- min_samplesint, default=5  \n",
    "    핵심 포인트로 간주 할 포인트에 대한 이웃의 샘플 수 (또는 총 가중치)입니다. 여기에는 포인트 자체가 포함됩니다.  \n",
    "    \n",
    "    \n",
    "- core_sample_indices : core sample 의 index  \n",
    "\n",
    "- labels_ : 데이터 세트의 각 point에 대한 클러스터 레이블. outlier 에는 -1 이 지정."
   ]
  },
  {
   "cell_type": "code",
   "execution_count": 10,
   "id": "professional-buffer",
   "metadata": {},
   "outputs": [
    {
     "name": "stdout",
     "output_type": "stream",
     "text": [
      "(220,)\n",
      "[ 0  0  0  0  0  0  0  0  0  0  0  0  0  0  0  0  0  0  0  0  0  0  0  0\n",
      "  0  0  0  0  0  0  0  0  0  0  0  0  0 -1  0  0  0  0  0  0  0  0  0  0\n",
      "  0  0  0  0  0  0  0  0  0  0  0  0  0  0  0  0  0  0  0  0  0  0  0  0\n",
      "  0  0  0  0  0  0  0  0  0  0  0  0  0  0  0  0  0  0  0  0  0  0  0  0\n",
      "  0  0  0  0  1  1  1  1  1  1  1  1  1  1  1  1  1  1  1  1  1  1  1  1\n",
      "  1  1  1  1  1  1  1  1  1  1  1  1  1  1  1  1  1 -1  1  1  1  1  1  1\n",
      "  1  1  1  1  1  1  1  1  1  1  1  1  1  1  1  1  1  1  1  1  1  1  1  1\n",
      "  1  1  1  1  1  1  1  1  1  1  1  1  1  1  1  1  1  1  1  1  1  1  1  1\n",
      "  1  1  1  1  1  1  1  1 -1  0 -1  0 -1 -1 -1  0 -1 -1 -1 -1 -1 -1 -1 -1\n",
      " -1 -1 -1 -1]\n",
      "(199,)\n",
      "[0 1 2 3 4] [198 199 201 203 207]\n"
     ]
    }
   ],
   "source": [
    "epsilon = 0.3\n",
    "minimumSamples = 7\n",
    "\n",
    "db = DBSCAN(eps=epsilon, min_samples=minimumSamples).fit(X)\n",
    "\n",
    "labels = db.labels_\n",
    "\n",
    "print(labels.shape)\n",
    "print(labels)\n",
    "print(db.core_sample_indices_.shape)\n",
    "print(db.core_sample_indices_[:5], db.core_sample_indices_[-5:])"
   ]
  },
  {
   "cell_type": "code",
   "execution_count": 11,
   "id": "executive-dating",
   "metadata": {},
   "outputs": [
    {
     "data": {
      "text/plain": [
       "{-1, 0, 1}"
      ]
     },
     "execution_count": 11,
     "metadata": {},
     "output_type": "execute_result"
    }
   ],
   "source": [
    "unique_labels = set(labels)       # -1 : outlier\n",
    "unique_labels"
   ]
  },
  {
   "cell_type": "code",
   "execution_count": 12,
   "id": "forced-rebound",
   "metadata": {},
   "outputs": [
    {
     "name": "stdout",
     "output_type": "stream",
     "text": [
      "predicted as outlier : 19\n"
     ]
    }
   ],
   "source": [
    "print(\"predicted as outlier : {}\".format(sum(labels == -1)))"
   ]
  },
  {
   "cell_type": "code",
   "execution_count": 13,
   "id": "annoying-radical",
   "metadata": {},
   "outputs": [
    {
     "data": {
      "image/png": "[encoded data removed]",
      "text/plain": [
       "<Figure size 576x432 with 1 Axes>"
      ]
     },
     "metadata": {
      "needs_background": "light"
     },
     "output_type": "display_data"
    }
   ],
   "source": [
    "colors = plt.cm.Spectral(np.linspace(0, 10, len(unique_labels)))\n",
    "\n",
    "plt.figure(figsize=(8, 6))\n",
    "\n",
    "for k, col in zip(unique_labels, colors):\n",
    "    members = (labels == k)\n",
    "    if k == -1:\n",
    "        plt.scatter(X[members, 0], X[members, 1], color='r', marker='o', s=30)\n",
    "    else:\n",
    "        plt.scatter(X[members, 0], X[members, 1], color=col, marker='o', s=10)\n",
    "\n",
    "plt.title('DBSCAN')\n",
    "plt.show()"
   ]
  },
  {
   "cell_type": "code",
   "execution_count": 14,
   "id": "parallel-works",
   "metadata": {},
   "outputs": [
    {
     "name": "stdout",
     "output_type": "stream",
     "text": [
      "              precision    recall  f1-score   support\n",
      "\n",
      "          -1       0.89      0.85      0.87        20\n",
      "           1       0.99      0.99      0.99       200\n",
      "\n",
      "    accuracy                           0.98       220\n",
      "   macro avg       0.94      0.92      0.93       220\n",
      "weighted avg       0.98      0.98      0.98       220\n",
      "\n"
     ]
    }
   ],
   "source": [
    "y_pred_db = labels\n",
    "y_pred_db[y_pred_db == 0] = 1\n",
    "\n",
    "print(classification_report(ground_truth, y_pred_db))"
   ]
  },
  {
   "cell_type": "markdown",
   "id": "killing-youth",
   "metadata": {},
   "source": [
    "# Isolation Forest 알고리즘\n",
    "\n",
    "- 이상을 감지하는 최신 기술 중 하나는 Isolation Forest 입니다. 이 알고리즘은 anomaly data가 few and different 데이터 포인트라는 사실을 기반으로 합니다. 이러한 속성의 결과로 anomaly data는 isolation 이라는 메커니즘에 영향을 받기 쉽습니다.  \n",
    "\n",
    "- 이 방법은 매우 유용하며 기존의 모든 방법과 근본적으로 다릅니다. 일반적으로 사용되는 기본 거리 및 밀도 측정 보다 이상을 감지하는 더 효과적이고 효율적인 수단으로 isolation을 사용합니다. 또한 이 방법은 선형 시간 복잡도가 낮고 메모리 요구 사항이 적은 알고리즘입니다. 데이터 세트의 크기에 관계없이 고정 크기의 작은 하위 샘플을 사용하여 적은 수의 트리로 우수한 성능의 모델을 구축합니다.\n",
    "\n",
    "- IsolationForest는 feature를 무작위로 선택한 다음 선택한 feature의 최대값과 최소값 사이의 분할 값을 무작위로 선택하여 관측치를 isolate 합니다.\n",
    "\n",
    "- 재귀 분할은 트리 구조로 나타낼 수 있으므로 샘플을 분리하는 데 필요한 분할 수는 루트 노드에서 종료 노드까지의 경로 길이와 동일합니다.\n",
    "\n",
    "- 이러한 random tree forest에서 평균을 낸 경로 길이는 정상성 판단과 결정 기능의 척도입니다.\n",
    "\n",
    "- 랜덤 파티셔닝은 anomaly에 대해 더 짧은 경로를 생성합니다. 따라서 random tree forest가 집합적으로 특정 샘플에 대해 더 짧은 경로 길이를 생성하면 anomaly일 가능성이 높습니다.\n",
    "\n",
    "- 일반적인 기계 학습 방법은 학습하려는 패턴이 균형을 이룰 때 더 잘 작동하는 경향이 있습니다.\n",
    "\n",
    "\n",
    "### 격리 포리스트의 작동 방식\n",
    "\n",
    "- Isolation Forest 알고리즘은 feature를 무작위로 선택한 다음 선택한 feature의 최대값과 최소값 사이의 분할 값을 무작위로 선택하여 관측치를 분리합니다. \n",
    "\n",
    "- Isolation forest는 기본적으로 데이터셋을 의사결정나무(Decision Tree) 형태로 표현해 정상값을 분리하기 위해서는 의사결정나무를 깊숙하게 타고 내려가야 하고, 반대로 이상값은 의사결정나무 상단부에서 분리할 수 있다는 것을 이용합니다. 이 특성을 사용해 의사결정나무를 몇 회 타고 내려가야 분리되는가를 기준으로 정상과 이상을 분리합니다.\n",
    "\n",
    "- 알고리즘이 분리를 구성하는 방법은 먼저 isolation tree 또는 random decision tree 를 만드는 것입니다. 그런 다음 sample을 분리하기 위한 path의 길이로 score 를 계산합니다.\n",
    "\n",
    "- Isolation forest의 장점\n",
    "\n",
    "    - 군집기반 이상탐지 알고리즘에 비해 계산량이 매우 적다   \n",
    "    - 강건한(Robust)한 모델을 만들 수 있다\n",
    "    "
   ]
  },
  {
   "cell_type": "code",
   "execution_count": 15,
   "id": "mechanical-shark",
   "metadata": {},
   "outputs": [
    {
     "name": "stdout",
     "output_type": "stream",
     "text": [
      "predicted as outlier : 22\n"
     ]
    }
   ],
   "source": [
    "isof = IsolationForest(random_state=0).fit(X)\n",
    "\n",
    "y_pred_isof = isof.predict(X)  # 1: inlier, -1: outlier\n",
    "\n",
    "print(\"predicted as outlier : {}\".format(sum(y_pred_isof == -1)))"
   ]
  },
  {
   "cell_type": "code",
   "execution_count": 16,
   "id": "ceramic-bailey",
   "metadata": {},
   "outputs": [
    {
     "data": {
      "image/png": "[encoded data removed]",
      "text/plain": [
       "<Figure size 576x432 with 1 Axes>"
      ]
     },
     "metadata": {
      "needs_background": "light"
     },
     "output_type": "display_data"
    }
   ],
   "source": [
    "plt.figure(figsize=(8, 6))\n",
    "\n",
    "for i in [-1, 1]:\n",
    "    members = (y_pred_isof == i)\n",
    "    if i == -1:\n",
    "        plt.scatter(X[members, 0], X[members, 1], color='r', marker='o', s=30)\n",
    "    else:\n",
    "        plt.scatter(X[members, 0], X[members, 1], color=col, marker='o', s=10)\n",
    "\n",
    "plt.title('Isolated Forest')\n",
    "plt.show()"
   ]
  },
  {
   "cell_type": "markdown",
   "id": "wired-announcement",
   "metadata": {},
   "source": [
    "## Models 비교"
   ]
  },
  {
   "cell_type": "code",
   "execution_count": 17,
   "id": "southwest-compression",
   "metadata": {},
   "outputs": [],
   "source": [
    "predictions = {\"lof\": y_pred_lof, \"isof\": y_pred_isof, \"dbscan\": y_pred_db}"
   ]
  },
  {
   "cell_type": "code",
   "execution_count": 20,
   "id": "determined-cartridge",
   "metadata": {
    "scrolled": false
   },
   "outputs": [
    {
     "name": "stdout",
     "output_type": "stream",
     "text": [
      "lof: 8\n",
      "Accuracy Score : 0.96364\n",
      "Precision Score: 0.98485\n",
      "Recall Score   : 0.97500\n",
      "\n"
     ]
    },
    {
     "data": {
      "image/png": "[encoded data removed]",
      "text/plain": [
       "<Figure size 432x288 with 2 Axes>"
      ]
     },
     "metadata": {
      "needs_background": "light"
     },
     "output_type": "display_data"
    },
    {
     "name": "stdout",
     "output_type": "stream",
     "text": [
      "isof: 6\n",
      "Accuracy Score : 0.97273\n",
      "Precision Score: 0.98990\n",
      "Recall Score   : 0.98000\n",
      "\n"
     ]
    },
    {
     "data": {
      "image/png": "[encoded data removed]",
      "text/plain": [
       "<Figure size 432x288 with 2 Axes>"
      ]
     },
     "metadata": {
      "needs_background": "light"
     },
     "output_type": "display_data"
    },
    {
     "name": "stdout",
     "output_type": "stream",
     "text": [
      "dbscan: 5\n",
      "Accuracy Score : 0.97727\n",
      "Precision Score: 0.98507\n",
      "Recall Score   : 0.99000\n",
      "\n"
     ]
    },
    {
     "data": {
      "image/png": "[encoded data removed]",
      "text/plain": [
       "<Figure size 432x288 with 2 Axes>"
      ]
     },
     "metadata": {
      "needs_background": "light"
     },
     "output_type": "display_data"
    }
   ],
   "source": [
    "y = ground_truth\n",
    "\n",
    "for clf_name, y_pred in predictions.items():\n",
    "    \n",
    "    n_errors = (y_pred != ground_truth).sum()\n",
    "    \n",
    "    # Run Classification Metrics\n",
    "    print(f\"{clf_name}: {n_errors}\")\n",
    "    print(f\"Accuracy Score : {accuracy_score(y, y_pred):.5f}\")\n",
    "    print(f\"Precision Score: {precision_score(y, y_pred):.5f}\")\n",
    "    print(f\"Recall Score   : {recall_score(y, y_pred):.5f}\")\n",
    "    print()\n",
    "\n",
    "    cm = confusion_matrix(y, y_pred)\n",
    "    plt.figure()\n",
    "    ax = sns.heatmap(cm, annot=True, fmt='d')\n",
    "    ax.set_title(clf_name)\n",
    "    ax.set_ylabel('True')\n",
    "    ax.set_xlabel('Predicted')\n",
    "    plt.show()"
   ]
  },
  {
   "cell_type": "code",
   "execution_count": null,
   "id": "current-lodge",
   "metadata": {},
   "outputs": [],
   "source": []
  }
 ],
 "metadata": {
  "kernelspec": {
   "display_name": "Python 3",
   "language": "python",
   "name": "python3"
  },
  "language_info": {
   "codemirror_mode": {
    "name": "ipython",
    "version": 3
   },
   "file_extension": ".py",
   "mimetype": "text/x-python",
   "name": "python",
   "nbconvert_exporter": "python",
   "pygments_lexer": "ipython3",
   "version": "3.7.10"
  }
 },
 "nbformat": 4,
 "nbformat_minor": 5
}
