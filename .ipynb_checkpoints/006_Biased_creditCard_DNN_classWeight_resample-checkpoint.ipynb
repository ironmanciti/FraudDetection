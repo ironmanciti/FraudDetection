{
 "cells": [
  {
   "cell_type": "markdown",
   "metadata": {
    "id": "SyQuWKAJt3xq"
   },
   "source": [
    "# Highly Imbalanced Fraud Data 의 분류\n",
    "## DNN 이용, Class Weight 조정, OverSampling\n",
    "## ROC 비교\n",
    "\n",
    "- [Credit Card Fraud Detection](https://www.kaggle.com/mlg-ulb/creditcardfraud) - Kaggle\n",
    "\n",
    "\n",
    "- Highly Imbalanced Dataset - dataset는 2013 년 9 월 유럽 카드 소지자 신용 카드 거래로 만들었습니다. 이 dataset는 2 일 동안 발생한 거래를 보여 주며, 284,807 건의 거래 중 492 건의 fraud가 있습니다. 데이터세트는 매우 불균형하며 포지티브 클래스(사기)는 모든 거래의 0.172 %를 차지합니다.\n",
    "\n",
    "\n",
    "- 이 dataset는 PCA 변환의 결과인 숫자 입력 변수만 포함합니다. 안타깝게도 기밀 유지 문제로 인해 데이터에 대한 원래 feature와 추가 background 정보를 제공할 수 없습니다. 특성 V1, V2, ... V28은 PCA로 얻은 principal component이며 PCA로 변환되지 않은 유일한 기능은 'Time' 과 'Amount' 입니다. '시간' 특성은 각 트랜잭션과 데이터 세트의 첫 번째 트랜잭션 사이에 경과된 시간(초) 입니다. 'Amount' 특성은 거래금액 입니다.  'Class'는 사기의 경우 1, 그렇지 않으면 0 입니다.\n",
    "\n",
    "\n",
    "- 클래스 불균형 비율이 주어지면 Area Under the Precision-Recall Curve (AUPRC)을 사용하여 정확도를 측정하는 것이 좋습니다. 불균형 data 분류에는 confusion matrix 정확도가 의미가 없습니다."
   ]
  },
  {
   "cell_type": "code",
   "execution_count": 1,
   "metadata": {
    "id": "dH4wHxmzt3xy"
   },
   "outputs": [],
   "source": [
    "import tensorflow as tf\n",
    "\n",
    "import matplotlib as mpl\n",
    "import matplotlib.pyplot as plt\n",
    "import numpy as np\n",
    "import pandas as pd\n",
    "import seaborn as sns\n",
    "from sklearn.metrics import confusion_matrix, f1_score\n",
    "from sklearn.metrics import  accuracy_score, precision_score, recall_score, \\\n",
    "                            roc_curve, roc_auc_score\n",
    "\n",
    "from sklearn.model_selection import train_test_split\n",
    "from sklearn.preprocessing import StandardScaler\n",
    "\n",
    "mpl.rcParams['figure.figsize'] = (12, 10)"
   ]
  },
  {
   "cell_type": "markdown",
   "metadata": {
    "id": "IdW269nBt3x2"
   },
   "source": [
    "### Download the Kaggle Credit Card Fraud data set\n",
    "\n",
    "- [kaggle creditcard csv file](https://storage.googleapis.com/download.tensorflow.org/data/creditcard.csv)"
   ]
  },
  {
   "cell_type": "code",
   "execution_count": 2,
   "metadata": {
    "colab": {
     "base_uri": "https://localhost:8080/",
     "height": 225
    },
    "id": "Zo_ucpfIt3x4",
    "outputId": "77cd1f87-2881-49cc-a97b-c254e6baa327"
   },
   "outputs": [
    {
     "data": {
      "text/html": [
       "<div>\n",
       "<style scoped>\n",
       "    .dataframe tbody tr th:only-of-type {\n",
       "        vertical-align: middle;\n",
       "    }\n",
       "\n",
       "    .dataframe tbody tr th {\n",
       "        vertical-align: top;\n",
       "    }\n",
       "\n",
       "    .dataframe thead th {\n",
       "        text-align: right;\n",
       "    }\n",
       "</style>\n",
       "<table border=\"1\" class=\"dataframe\">\n",
       "  <thead>\n",
       "    <tr style=\"text-align: right;\">\n",
       "      <th></th>\n",
       "      <th>Time</th>\n",
       "      <th>V1</th>\n",
       "      <th>V2</th>\n",
       "      <th>V3</th>\n",
       "      <th>V4</th>\n",
       "      <th>V5</th>\n",
       "      <th>V6</th>\n",
       "      <th>V7</th>\n",
       "      <th>V8</th>\n",
       "      <th>V9</th>\n",
       "      <th>...</th>\n",
       "      <th>V21</th>\n",
       "      <th>V22</th>\n",
       "      <th>V23</th>\n",
       "      <th>V24</th>\n",
       "      <th>V25</th>\n",
       "      <th>V26</th>\n",
       "      <th>V27</th>\n",
       "      <th>V28</th>\n",
       "      <th>Amount</th>\n",
       "      <th>Class</th>\n",
       "    </tr>\n",
       "  </thead>\n",
       "  <tbody>\n",
       "    <tr>\n",
       "      <th>0</th>\n",
       "      <td>0.0</td>\n",
       "      <td>-1.359807</td>\n",
       "      <td>-0.072781</td>\n",
       "      <td>2.536347</td>\n",
       "      <td>1.378155</td>\n",
       "      <td>-0.338321</td>\n",
       "      <td>0.462388</td>\n",
       "      <td>0.239599</td>\n",
       "      <td>0.098698</td>\n",
       "      <td>0.363787</td>\n",
       "      <td>...</td>\n",
       "      <td>-0.018307</td>\n",
       "      <td>0.277838</td>\n",
       "      <td>-0.110474</td>\n",
       "      <td>0.066928</td>\n",
       "      <td>0.128539</td>\n",
       "      <td>-0.189115</td>\n",
       "      <td>0.133558</td>\n",
       "      <td>-0.021053</td>\n",
       "      <td>149.62</td>\n",
       "      <td>0</td>\n",
       "    </tr>\n",
       "    <tr>\n",
       "      <th>1</th>\n",
       "      <td>0.0</td>\n",
       "      <td>1.191857</td>\n",
       "      <td>0.266151</td>\n",
       "      <td>0.166480</td>\n",
       "      <td>0.448154</td>\n",
       "      <td>0.060018</td>\n",
       "      <td>-0.082361</td>\n",
       "      <td>-0.078803</td>\n",
       "      <td>0.085102</td>\n",
       "      <td>-0.255425</td>\n",
       "      <td>...</td>\n",
       "      <td>-0.225775</td>\n",
       "      <td>-0.638672</td>\n",
       "      <td>0.101288</td>\n",
       "      <td>-0.339846</td>\n",
       "      <td>0.167170</td>\n",
       "      <td>0.125895</td>\n",
       "      <td>-0.008983</td>\n",
       "      <td>0.014724</td>\n",
       "      <td>2.69</td>\n",
       "      <td>0</td>\n",
       "    </tr>\n",
       "    <tr>\n",
       "      <th>2</th>\n",
       "      <td>1.0</td>\n",
       "      <td>-1.358354</td>\n",
       "      <td>-1.340163</td>\n",
       "      <td>1.773209</td>\n",
       "      <td>0.379780</td>\n",
       "      <td>-0.503198</td>\n",
       "      <td>1.800499</td>\n",
       "      <td>0.791461</td>\n",
       "      <td>0.247676</td>\n",
       "      <td>-1.514654</td>\n",
       "      <td>...</td>\n",
       "      <td>0.247998</td>\n",
       "      <td>0.771679</td>\n",
       "      <td>0.909412</td>\n",
       "      <td>-0.689281</td>\n",
       "      <td>-0.327642</td>\n",
       "      <td>-0.139097</td>\n",
       "      <td>-0.055353</td>\n",
       "      <td>-0.059752</td>\n",
       "      <td>378.66</td>\n",
       "      <td>0</td>\n",
       "    </tr>\n",
       "    <tr>\n",
       "      <th>3</th>\n",
       "      <td>1.0</td>\n",
       "      <td>-0.966272</td>\n",
       "      <td>-0.185226</td>\n",
       "      <td>1.792993</td>\n",
       "      <td>-0.863291</td>\n",
       "      <td>-0.010309</td>\n",
       "      <td>1.247203</td>\n",
       "      <td>0.237609</td>\n",
       "      <td>0.377436</td>\n",
       "      <td>-1.387024</td>\n",
       "      <td>...</td>\n",
       "      <td>-0.108300</td>\n",
       "      <td>0.005274</td>\n",
       "      <td>-0.190321</td>\n",
       "      <td>-1.175575</td>\n",
       "      <td>0.647376</td>\n",
       "      <td>-0.221929</td>\n",
       "      <td>0.062723</td>\n",
       "      <td>0.061458</td>\n",
       "      <td>123.50</td>\n",
       "      <td>0</td>\n",
       "    </tr>\n",
       "    <tr>\n",
       "      <th>4</th>\n",
       "      <td>2.0</td>\n",
       "      <td>-1.158233</td>\n",
       "      <td>0.877737</td>\n",
       "      <td>1.548718</td>\n",
       "      <td>0.403034</td>\n",
       "      <td>-0.407193</td>\n",
       "      <td>0.095921</td>\n",
       "      <td>0.592941</td>\n",
       "      <td>-0.270533</td>\n",
       "      <td>0.817739</td>\n",
       "      <td>...</td>\n",
       "      <td>-0.009431</td>\n",
       "      <td>0.798278</td>\n",
       "      <td>-0.137458</td>\n",
       "      <td>0.141267</td>\n",
       "      <td>-0.206010</td>\n",
       "      <td>0.502292</td>\n",
       "      <td>0.219422</td>\n",
       "      <td>0.215153</td>\n",
       "      <td>69.99</td>\n",
       "      <td>0</td>\n",
       "    </tr>\n",
       "  </tbody>\n",
       "</table>\n",
       "<p>5 rows × 31 columns</p>\n",
       "</div>"
      ],
      "text/plain": [
       "   Time        V1        V2        V3        V4        V5        V6        V7  \\\n",
       "0   0.0 -1.359807 -0.072781  2.536347  1.378155 -0.338321  0.462388  0.239599   \n",
       "1   0.0  1.191857  0.266151  0.166480  0.448154  0.060018 -0.082361 -0.078803   \n",
       "2   1.0 -1.358354 -1.340163  1.773209  0.379780 -0.503198  1.800499  0.791461   \n",
       "3   1.0 -0.966272 -0.185226  1.792993 -0.863291 -0.010309  1.247203  0.237609   \n",
       "4   2.0 -1.158233  0.877737  1.548718  0.403034 -0.407193  0.095921  0.592941   \n",
       "\n",
       "         V8        V9  ...       V21       V22       V23       V24       V25  \\\n",
       "0  0.098698  0.363787  ... -0.018307  0.277838 -0.110474  0.066928  0.128539   \n",
       "1  0.085102 -0.255425  ... -0.225775 -0.638672  0.101288 -0.339846  0.167170   \n",
       "2  0.247676 -1.514654  ...  0.247998  0.771679  0.909412 -0.689281 -0.327642   \n",
       "3  0.377436 -1.387024  ... -0.108300  0.005274 -0.190321 -1.175575  0.647376   \n",
       "4 -0.270533  0.817739  ... -0.009431  0.798278 -0.137458  0.141267 -0.206010   \n",
       "\n",
       "        V26       V27       V28  Amount  Class  \n",
       "0 -0.189115  0.133558 -0.021053  149.62      0  \n",
       "1  0.125895 -0.008983  0.014724    2.69      0  \n",
       "2 -0.139097 -0.055353 -0.059752  378.66      0  \n",
       "3 -0.221929  0.062723  0.061458  123.50      0  \n",
       "4  0.502292  0.219422  0.215153   69.99      0  \n",
       "\n",
       "[5 rows x 31 columns]"
      ]
     },
     "execution_count": 2,
     "metadata": {},
     "output_type": "execute_result"
    }
   ],
   "source": [
    "# df = pd.read_csv('https://storage.googleapis.com/download.tensorflow.org/data/creditcard.csv')\n",
    "df = pd.read_csv('data/creditcard.csv')\n",
    "\n",
    "df.head()"
   ]
  },
  {
   "cell_type": "code",
   "execution_count": 3,
   "metadata": {
    "colab": {
     "base_uri": "https://localhost:8080/",
     "height": 319
    },
    "id": "5V8JNJZVt3x7",
    "outputId": "b6c18214-2d9e-4cfa-8619-487589d8c40a"
   },
   "outputs": [
    {
     "data": {
      "text/html": [
       "<div>\n",
       "<style scoped>\n",
       "    .dataframe tbody tr th:only-of-type {\n",
       "        vertical-align: middle;\n",
       "    }\n",
       "\n",
       "    .dataframe tbody tr th {\n",
       "        vertical-align: top;\n",
       "    }\n",
       "\n",
       "    .dataframe thead th {\n",
       "        text-align: right;\n",
       "    }\n",
       "</style>\n",
       "<table border=\"1\" class=\"dataframe\">\n",
       "  <thead>\n",
       "    <tr style=\"text-align: right;\">\n",
       "      <th></th>\n",
       "      <th>Time</th>\n",
       "      <th>V1</th>\n",
       "      <th>V2</th>\n",
       "      <th>V27</th>\n",
       "      <th>V28</th>\n",
       "      <th>Amount</th>\n",
       "      <th>Class</th>\n",
       "    </tr>\n",
       "  </thead>\n",
       "  <tbody>\n",
       "    <tr>\n",
       "      <th>count</th>\n",
       "      <td>284807.000000</td>\n",
       "      <td>2.848070e+05</td>\n",
       "      <td>2.848070e+05</td>\n",
       "      <td>2.848070e+05</td>\n",
       "      <td>2.848070e+05</td>\n",
       "      <td>284807.000000</td>\n",
       "      <td>284807.000000</td>\n",
       "    </tr>\n",
       "    <tr>\n",
       "      <th>mean</th>\n",
       "      <td>94813.859575</td>\n",
       "      <td>3.918649e-15</td>\n",
       "      <td>5.682686e-16</td>\n",
       "      <td>-3.662252e-16</td>\n",
       "      <td>-1.217809e-16</td>\n",
       "      <td>88.349619</td>\n",
       "      <td>0.001727</td>\n",
       "    </tr>\n",
       "    <tr>\n",
       "      <th>std</th>\n",
       "      <td>47488.145955</td>\n",
       "      <td>1.958696e+00</td>\n",
       "      <td>1.651309e+00</td>\n",
       "      <td>4.036325e-01</td>\n",
       "      <td>3.300833e-01</td>\n",
       "      <td>250.120109</td>\n",
       "      <td>0.041527</td>\n",
       "    </tr>\n",
       "    <tr>\n",
       "      <th>min</th>\n",
       "      <td>0.000000</td>\n",
       "      <td>-5.640751e+01</td>\n",
       "      <td>-7.271573e+01</td>\n",
       "      <td>-2.256568e+01</td>\n",
       "      <td>-1.543008e+01</td>\n",
       "      <td>0.000000</td>\n",
       "      <td>0.000000</td>\n",
       "    </tr>\n",
       "    <tr>\n",
       "      <th>25%</th>\n",
       "      <td>54201.500000</td>\n",
       "      <td>-9.203734e-01</td>\n",
       "      <td>-5.985499e-01</td>\n",
       "      <td>-7.083953e-02</td>\n",
       "      <td>-5.295979e-02</td>\n",
       "      <td>5.600000</td>\n",
       "      <td>0.000000</td>\n",
       "    </tr>\n",
       "    <tr>\n",
       "      <th>50%</th>\n",
       "      <td>84692.000000</td>\n",
       "      <td>1.810880e-02</td>\n",
       "      <td>6.548556e-02</td>\n",
       "      <td>1.342146e-03</td>\n",
       "      <td>1.124383e-02</td>\n",
       "      <td>22.000000</td>\n",
       "      <td>0.000000</td>\n",
       "    </tr>\n",
       "    <tr>\n",
       "      <th>75%</th>\n",
       "      <td>139320.500000</td>\n",
       "      <td>1.315642e+00</td>\n",
       "      <td>8.037239e-01</td>\n",
       "      <td>9.104512e-02</td>\n",
       "      <td>7.827995e-02</td>\n",
       "      <td>77.165000</td>\n",
       "      <td>0.000000</td>\n",
       "    </tr>\n",
       "    <tr>\n",
       "      <th>max</th>\n",
       "      <td>172792.000000</td>\n",
       "      <td>2.454930e+00</td>\n",
       "      <td>2.205773e+01</td>\n",
       "      <td>3.161220e+01</td>\n",
       "      <td>3.384781e+01</td>\n",
       "      <td>25691.160000</td>\n",
       "      <td>1.000000</td>\n",
       "    </tr>\n",
       "  </tbody>\n",
       "</table>\n",
       "</div>"
      ],
      "text/plain": [
       "                Time            V1            V2           V27           V28  \\\n",
       "count  284807.000000  2.848070e+05  2.848070e+05  2.848070e+05  2.848070e+05   \n",
       "mean    94813.859575  3.918649e-15  5.682686e-16 -3.662252e-16 -1.217809e-16   \n",
       "std     47488.145955  1.958696e+00  1.651309e+00  4.036325e-01  3.300833e-01   \n",
       "min         0.000000 -5.640751e+01 -7.271573e+01 -2.256568e+01 -1.543008e+01   \n",
       "25%     54201.500000 -9.203734e-01 -5.985499e-01 -7.083953e-02 -5.295979e-02   \n",
       "50%     84692.000000  1.810880e-02  6.548556e-02  1.342146e-03  1.124383e-02   \n",
       "75%    139320.500000  1.315642e+00  8.037239e-01  9.104512e-02  7.827995e-02   \n",
       "max    172792.000000  2.454930e+00  2.205773e+01  3.161220e+01  3.384781e+01   \n",
       "\n",
       "              Amount          Class  \n",
       "count  284807.000000  284807.000000  \n",
       "mean       88.349619       0.001727  \n",
       "std       250.120109       0.041527  \n",
       "min         0.000000       0.000000  \n",
       "25%         5.600000       0.000000  \n",
       "50%        22.000000       0.000000  \n",
       "75%        77.165000       0.000000  \n",
       "max     25691.160000       1.000000  "
      ]
     },
     "execution_count": 3,
     "metadata": {},
     "output_type": "execute_result"
    }
   ],
   "source": [
    "df[['Time', 'V1', 'V2', 'V27', 'V28', 'Amount', 'Class']].describe()"
   ]
  },
  {
   "cell_type": "markdown",
   "metadata": {
    "id": "738aexZRt3x-"
   },
   "source": [
    "### 클래스 레이블 불균형 조사"
   ]
  },
  {
   "cell_type": "code",
   "execution_count": 4,
   "metadata": {
    "colab": {
     "base_uri": "https://localhost:8080/"
    },
    "id": "2nnddVRjGIpU",
    "outputId": "4e828529-e5fb-482d-b6ba-37e63f6f000b"
   },
   "outputs": [
    {
     "data": {
      "text/plain": [
       "0    284315\n",
       "1       492\n",
       "Name: Class, dtype: int64"
      ]
     },
     "execution_count": 4,
     "metadata": {},
     "output_type": "execute_result"
    }
   ],
   "source": [
    "df['Class'].value_counts()"
   ]
  },
  {
   "cell_type": "code",
   "execution_count": 5,
   "metadata": {
    "colab": {
     "base_uri": "https://localhost:8080/"
    },
    "id": "k_Q_Zwbkt3x_",
    "outputId": "2521c35e-71a3-451e-c5cc-3f92d50b11c3"
   },
   "outputs": [
    {
     "name": "stdout",
     "output_type": "stream",
     "text": [
      "Total = 284,807\n",
      "Fraud = 0.17%\n",
      "Normal = 99.83%\n"
     ]
    }
   ],
   "source": [
    "fraud = (df['Class'] == 1).sum()\n",
    "normal = (df['Class'] == 0).sum()\n",
    "\n",
    "total = fraud + normal\n",
    "\n",
    "print(f\"Total = {total:,}\")\n",
    "print(f\"Fraud = {fraud/total*100:,.2f}%\")\n",
    "print(f\"Normal = {normal/total*100:,.2f}%\")"
   ]
  },
  {
   "cell_type": "markdown",
   "metadata": {
    "id": "USH9Dhvjt3yG"
   },
   "source": [
    "### Clean, split and normalize the data"
   ]
  },
  {
   "cell_type": "code",
   "execution_count": 6,
   "metadata": {},
   "outputs": [
    {
     "data": {
      "text/html": [
       "<div>\n",
       "<style scoped>\n",
       "    .dataframe tbody tr th:only-of-type {\n",
       "        vertical-align: middle;\n",
       "    }\n",
       "\n",
       "    .dataframe tbody tr th {\n",
       "        vertical-align: top;\n",
       "    }\n",
       "\n",
       "    .dataframe thead th {\n",
       "        text-align: right;\n",
       "    }\n",
       "</style>\n",
       "<table border=\"1\" class=\"dataframe\">\n",
       "  <thead>\n",
       "    <tr style=\"text-align: right;\">\n",
       "      <th></th>\n",
       "      <th>Time</th>\n",
       "      <th>V1</th>\n",
       "      <th>V2</th>\n",
       "      <th>V3</th>\n",
       "      <th>V4</th>\n",
       "      <th>V5</th>\n",
       "      <th>V6</th>\n",
       "      <th>V7</th>\n",
       "      <th>V8</th>\n",
       "      <th>V9</th>\n",
       "      <th>...</th>\n",
       "      <th>V21</th>\n",
       "      <th>V22</th>\n",
       "      <th>V23</th>\n",
       "      <th>V24</th>\n",
       "      <th>V25</th>\n",
       "      <th>V26</th>\n",
       "      <th>V27</th>\n",
       "      <th>V28</th>\n",
       "      <th>Class</th>\n",
       "      <th>Amount</th>\n",
       "    </tr>\n",
       "  </thead>\n",
       "  <tbody>\n",
       "    <tr>\n",
       "      <th>0</th>\n",
       "      <td>0.000000</td>\n",
       "      <td>-1.359807</td>\n",
       "      <td>-0.072781</td>\n",
       "      <td>2.536347</td>\n",
       "      <td>1.378155</td>\n",
       "      <td>-0.338321</td>\n",
       "      <td>0.462388</td>\n",
       "      <td>0.239599</td>\n",
       "      <td>0.098698</td>\n",
       "      <td>0.363787</td>\n",
       "      <td>...</td>\n",
       "      <td>-0.018307</td>\n",
       "      <td>0.277838</td>\n",
       "      <td>-0.110474</td>\n",
       "      <td>0.066928</td>\n",
       "      <td>0.128539</td>\n",
       "      <td>-0.189115</td>\n",
       "      <td>0.133558</td>\n",
       "      <td>-0.021053</td>\n",
       "      <td>0</td>\n",
       "      <td>5.008105</td>\n",
       "    </tr>\n",
       "    <tr>\n",
       "      <th>1</th>\n",
       "      <td>0.000000</td>\n",
       "      <td>1.191857</td>\n",
       "      <td>0.266151</td>\n",
       "      <td>0.166480</td>\n",
       "      <td>0.448154</td>\n",
       "      <td>0.060018</td>\n",
       "      <td>-0.082361</td>\n",
       "      <td>-0.078803</td>\n",
       "      <td>0.085102</td>\n",
       "      <td>-0.255425</td>\n",
       "      <td>...</td>\n",
       "      <td>-0.225775</td>\n",
       "      <td>-0.638672</td>\n",
       "      <td>0.101288</td>\n",
       "      <td>-0.339846</td>\n",
       "      <td>0.167170</td>\n",
       "      <td>0.125895</td>\n",
       "      <td>-0.008983</td>\n",
       "      <td>0.014724</td>\n",
       "      <td>0</td>\n",
       "      <td>0.989913</td>\n",
       "    </tr>\n",
       "    <tr>\n",
       "      <th>2</th>\n",
       "      <td>0.000278</td>\n",
       "      <td>-1.358354</td>\n",
       "      <td>-1.340163</td>\n",
       "      <td>1.773209</td>\n",
       "      <td>0.379780</td>\n",
       "      <td>-0.503198</td>\n",
       "      <td>1.800499</td>\n",
       "      <td>0.791461</td>\n",
       "      <td>0.247676</td>\n",
       "      <td>-1.514654</td>\n",
       "      <td>...</td>\n",
       "      <td>0.247998</td>\n",
       "      <td>0.771679</td>\n",
       "      <td>0.909412</td>\n",
       "      <td>-0.689281</td>\n",
       "      <td>-0.327642</td>\n",
       "      <td>-0.139097</td>\n",
       "      <td>-0.055353</td>\n",
       "      <td>-0.059752</td>\n",
       "      <td>0</td>\n",
       "      <td>5.936641</td>\n",
       "    </tr>\n",
       "    <tr>\n",
       "      <th>3</th>\n",
       "      <td>0.000278</td>\n",
       "      <td>-0.966272</td>\n",
       "      <td>-0.185226</td>\n",
       "      <td>1.792993</td>\n",
       "      <td>-0.863291</td>\n",
       "      <td>-0.010309</td>\n",
       "      <td>1.247203</td>\n",
       "      <td>0.237609</td>\n",
       "      <td>0.377436</td>\n",
       "      <td>-1.387024</td>\n",
       "      <td>...</td>\n",
       "      <td>-0.108300</td>\n",
       "      <td>0.005274</td>\n",
       "      <td>-0.190321</td>\n",
       "      <td>-1.175575</td>\n",
       "      <td>0.647376</td>\n",
       "      <td>-0.221929</td>\n",
       "      <td>0.062723</td>\n",
       "      <td>0.061458</td>\n",
       "      <td>0</td>\n",
       "      <td>4.816249</td>\n",
       "    </tr>\n",
       "    <tr>\n",
       "      <th>4</th>\n",
       "      <td>0.000556</td>\n",
       "      <td>-1.158233</td>\n",
       "      <td>0.877737</td>\n",
       "      <td>1.548718</td>\n",
       "      <td>0.403034</td>\n",
       "      <td>-0.407193</td>\n",
       "      <td>0.095921</td>\n",
       "      <td>0.592941</td>\n",
       "      <td>-0.270533</td>\n",
       "      <td>0.817739</td>\n",
       "      <td>...</td>\n",
       "      <td>-0.009431</td>\n",
       "      <td>0.798278</td>\n",
       "      <td>-0.137458</td>\n",
       "      <td>0.141267</td>\n",
       "      <td>-0.206010</td>\n",
       "      <td>0.502292</td>\n",
       "      <td>0.219422</td>\n",
       "      <td>0.215153</td>\n",
       "      <td>0</td>\n",
       "      <td>4.248367</td>\n",
       "    </tr>\n",
       "  </tbody>\n",
       "</table>\n",
       "<p>5 rows × 31 columns</p>\n",
       "</div>"
      ],
      "text/plain": [
       "       Time        V1        V2        V3        V4        V5        V6  \\\n",
       "0  0.000000 -1.359807 -0.072781  2.536347  1.378155 -0.338321  0.462388   \n",
       "1  0.000000  1.191857  0.266151  0.166480  0.448154  0.060018 -0.082361   \n",
       "2  0.000278 -1.358354 -1.340163  1.773209  0.379780 -0.503198  1.800499   \n",
       "3  0.000278 -0.966272 -0.185226  1.792993 -0.863291 -0.010309  1.247203   \n",
       "4  0.000556 -1.158233  0.877737  1.548718  0.403034 -0.407193  0.095921   \n",
       "\n",
       "         V7        V8        V9  ...       V21       V22       V23       V24  \\\n",
       "0  0.239599  0.098698  0.363787  ... -0.018307  0.277838 -0.110474  0.066928   \n",
       "1 -0.078803  0.085102 -0.255425  ... -0.225775 -0.638672  0.101288 -0.339846   \n",
       "2  0.791461  0.247676 -1.514654  ...  0.247998  0.771679  0.909412 -0.689281   \n",
       "3  0.237609  0.377436 -1.387024  ... -0.108300  0.005274 -0.190321 -1.175575   \n",
       "4  0.592941 -0.270533  0.817739  ... -0.009431  0.798278 -0.137458  0.141267   \n",
       "\n",
       "        V25       V26       V27       V28  Class    Amount  \n",
       "0  0.128539 -0.189115  0.133558 -0.021053      0  5.008105  \n",
       "1  0.167170  0.125895 -0.008983  0.014724      0  0.989913  \n",
       "2 -0.327642 -0.139097 -0.055353 -0.059752      0  5.936641  \n",
       "3  0.647376 -0.221929  0.062723  0.061458      0  4.816249  \n",
       "4 -0.206010  0.502292  0.219422  0.215153      0  4.248367  \n",
       "\n",
       "[5 rows x 31 columns]"
      ]
     },
     "execution_count": 6,
     "metadata": {},
     "output_type": "execute_result"
    }
   ],
   "source": [
    "cleaned_df = df.copy()\n",
    "\n",
    "# Time 을 일중 시간으로 변환\n",
    "cleaned_df.loc[:, \"Time\"] = cleaned_df.loc[:, \"Time\"].apply(lambda x : x / 3600 % 24) \n",
    "\n",
    "# Amount column 은 편차가 크므로 log-scale 로 변환\n",
    "eps=0.001      # 0 => 0.1¢\n",
    "cleaned_df['Amount'] = np.log(cleaned_df.pop('Amount') + eps)\n",
    "\n",
    "cleaned_df.head()"
   ]
  },
  {
   "cell_type": "code",
   "execution_count": 7,
   "metadata": {
    "colab": {
     "base_uri": "https://localhost:8080/"
    },
    "id": "EdHm44M2GIpW",
    "outputId": "aa97468d-b398-4d1a-a413-ea177cd9f37b"
   },
   "outputs": [
    {
     "data": {
      "text/plain": [
       "count    284807.000000\n",
       "mean          2.942089\n",
       "std           2.023685\n",
       "min          -6.907755\n",
       "25%           1.722945\n",
       "50%           3.091088\n",
       "75%           4.345959\n",
       "max          10.153902\n",
       "Name: Amount, dtype: float64"
      ]
     },
     "execution_count": 7,
     "metadata": {},
     "output_type": "execute_result"
    }
   ],
   "source": [
    "cleaned_df['Amount'].describe()"
   ]
  },
  {
   "cell_type": "code",
   "execution_count": 8,
   "metadata": {
    "id": "4IEMWwojt3yO"
   },
   "outputs": [
    {
     "data": {
      "text/plain": [
       "array([0, 0, 0, ..., 0, 0, 0])"
      ]
     },
     "execution_count": 8,
     "metadata": {},
     "output_type": "execute_result"
    }
   ],
   "source": [
    "labels = np.array(cleaned_df.pop('Class'))\n",
    "labels"
   ]
  },
  {
   "cell_type": "code",
   "execution_count": 9,
   "metadata": {
    "colab": {
     "base_uri": "https://localhost:8080/"
    },
    "id": "_hqAVRiWt3yV",
    "outputId": "6db09c65-c78f-4ba5-d373-b6ce8cac54b7"
   },
   "outputs": [
    {
     "data": {
      "text/plain": [
       "(284807, 30)"
      ]
     },
     "execution_count": 9,
     "metadata": {},
     "output_type": "execute_result"
    }
   ],
   "source": [
    "X = cleaned_df.values\n",
    "X.shape"
   ]
  },
  {
   "cell_type": "code",
   "execution_count": 10,
   "metadata": {
    "colab": {
     "base_uri": "https://localhost:8080/"
    },
    "id": "RLiKtnt7t3ya",
    "outputId": "896da316-72f9-468b-865d-ba9535d66123"
   },
   "outputs": [
    {
     "data": {
      "text/plain": [
       "((213605, 30), (71202, 30), (213605,), (71202,))"
      ]
     },
     "execution_count": 10,
     "metadata": {},
     "output_type": "execute_result"
    }
   ],
   "source": [
    "X_train, X_test, y_train, y_test = train_test_split(X, labels, \n",
    "                                        test_size=0.25, random_state=0)\n",
    "\n",
    "X_train.shape, X_test.shape, y_train.shape, y_test.shape"
   ]
  },
  {
   "cell_type": "code",
   "execution_count": 11,
   "metadata": {
    "id": "QwUNis6Zt3yc"
   },
   "outputs": [],
   "source": [
    "sc = StandardScaler()\n",
    "X_train = sc.fit_transform(X_train)\n",
    "X_test  = sc.transform(X_test)"
   ]
  },
  {
   "cell_type": "markdown",
   "metadata": {
    "id": "V7qJCSiht3yi"
   },
   "source": [
    "### metrics 정의\n",
    "\n",
    "- Accuracy 로 예측하면 항상 99.8%+ 정확성을 달성하므로, 다양한 metrics 활용하여 측정"
   ]
  },
  {
   "cell_type": "code",
   "execution_count": 12,
   "metadata": {
    "id": "zmRaL5sDt3yj"
   },
   "outputs": [],
   "source": [
    "METRICS = [\n",
    "      tf.keras.metrics.TruePositives(name='tp'),\n",
    "      tf.keras.metrics.FalsePositives(name='fp'),\n",
    "      tf.keras.metrics.TrueNegatives(name='tn'),\n",
    "      tf.keras.metrics.FalseNegatives(name='fn'), \n",
    "      tf.keras.metrics.BinaryAccuracy(name='accuracy'),\n",
    "      tf.keras.metrics.Precision(name='precision'),\n",
    "      tf.keras.metrics.Recall(name='recall'),\n",
    "      tf.keras.metrics.AUC(name='auc'),\n",
    "]"
   ]
  },
  {
   "cell_type": "markdown",
   "metadata": {
    "id": "ejjpZM9Kt3ym"
   },
   "source": [
    "## Simple NN model 정의 - 이진 분류 모델"
   ]
  },
  {
   "cell_type": "code",
   "execution_count": 13,
   "metadata": {
    "id": "IbbI4SZat3yn"
   },
   "outputs": [],
   "source": [
    "def make_model(metrics = METRICS):\n",
    "    \n",
    "    model = tf.keras.Sequential([\n",
    "      tf.keras.layers.Dense(32, activation='relu', input_shape=(X_train.shape[-1],)),\n",
    "      tf.keras.layers.Dropout(0.2),\n",
    "      tf.keras.layers.Dense(16, activation='relu'),\n",
    "      tf.keras.layers.Dropout(0.2),\n",
    "      tf.keras.layers.Dense(1, activation='sigmoid'),\n",
    "  ])\n",
    "\n",
    "    model.compile(\n",
    "      optimizer = tf.keras.optimizers.Adam(learning_rate=1e-3),\n",
    "      loss = 'binary_crossentropy',\n",
    "      metrics=metrics)\n",
    "\n",
    "    return model"
   ]
  },
  {
   "cell_type": "markdown",
   "metadata": {
    "id": "YuB7VrmAt3yr"
   },
   "source": [
    "## Baseline model build"
   ]
  },
  {
   "cell_type": "code",
   "execution_count": 14,
   "metadata": {
    "id": "gTRT9eKnt3ys"
   },
   "outputs": [],
   "source": [
    "EPOCHS = 100\n",
    "BATCH_SIZE = 2048\n",
    "\n",
    "early_stopping = tf.keras.callbacks.EarlyStopping(\n",
    "    monitor='val_auc', \n",
    "    verbose=1,\n",
    "    patience=10, # no of epochs of no improvement          \n",
    "    mode='max',  #val_auc 가 10 번 연속 증가 안하면 stop           \n",
    "    restore_best_weights=True)  # epoch 의 best weight 저장"
   ]
  },
  {
   "cell_type": "code",
   "execution_count": 15,
   "metadata": {
    "colab": {
     "base_uri": "https://localhost:8080/"
    },
    "id": "i3qmzy34t3yw",
    "outputId": "685ee0cf-6f5b-4703-9b6f-1ecaeb36e5c2",
    "scrolled": true
   },
   "outputs": [
    {
     "name": "stdout",
     "output_type": "stream",
     "text": [
      "Model: \"sequential\"\n",
      "_________________________________________________________________\n",
      "Layer (type)                 Output Shape              Param #   \n",
      "=================================================================\n",
      "dense (Dense)                (None, 32)                992       \n",
      "_________________________________________________________________\n",
      "dropout (Dropout)            (None, 32)                0         \n",
      "_________________________________________________________________\n",
      "dense_1 (Dense)              (None, 16)                528       \n",
      "_________________________________________________________________\n",
      "dropout_1 (Dropout)          (None, 16)                0         \n",
      "_________________________________________________________________\n",
      "dense_2 (Dense)              (None, 1)                 17        \n",
      "=================================================================\n",
      "Total params: 1,537\n",
      "Trainable params: 1,537\n",
      "Non-trainable params: 0\n",
      "_________________________________________________________________\n"
     ]
    }
   ],
   "source": [
    "model = make_model()\n",
    "model.summary()"
   ]
  },
  {
   "cell_type": "markdown",
   "metadata": {
    "id": "B-Ftgdtct3zb"
   },
   "source": [
    "## Train the model"
   ]
  },
  {
   "cell_type": "code",
   "execution_count": 16,
   "metadata": {
    "colab": {
     "base_uri": "https://localhost:8080/"
    },
    "id": "qyxi6P6Pt3zd",
    "outputId": "50a898e3-e427-47f9-9cea-57974d61b914",
    "scrolled": true
   },
   "outputs": [
    {
     "name": "stdout",
     "output_type": "stream",
     "text": [
      "Epoch 1/100\n",
      "105/105 [==============================] - 3s 13ms/step - loss: 0.3083 - tp: 1.7075 - fp: 4696.0943 - tn: 104634.3396 - fn: 189.4623 - accuracy: 0.9291 - precision: 3.4222e-04 - recall: 0.0115 - auc: 0.1577 - val_loss: 0.0249 - val_tp: 0.0000e+00 - val_fp: 0.0000e+00 - val_tn: 71082.0000 - val_fn: 120.0000 - val_accuracy: 0.9983 - val_precision: 0.0000e+00 - val_recall: 0.0000e+00 - val_auc: 0.5090\n",
      "Epoch 2/100\n",
      "105/105 [==============================] - 0s 4ms/step - loss: 0.0333 - tp: 10.8774 - fp: 11.8396 - tn: 109308.0755 - fn: 190.8113 - accuracy: 0.9980 - precision: 0.3321 - recall: 0.0387 - auc: 0.6267 - val_loss: 0.0069 - val_tp: 31.0000 - val_fp: 7.0000 - val_tn: 71075.0000 - val_fn: 89.0000 - val_accuracy: 0.9987 - val_precision: 0.8158 - val_recall: 0.2583 - val_auc: 0.8972\n",
      "Epoch 3/100\n",
      "105/105 [==============================] - 0s 4ms/step - loss: 0.0134 - tp: 50.3585 - fp: 13.1132 - tn: 109317.7736 - fn: 140.3585 - accuracy: 0.9986 - precision: 0.7927 - recall: 0.2599 - auc: 0.8549 - val_loss: 0.0047 - val_tp: 64.0000 - val_fp: 10.0000 - val_tn: 71072.0000 - val_fn: 56.0000 - val_accuracy: 0.9991 - val_precision: 0.8649 - val_recall: 0.5333 - val_auc: 0.9057\n",
      "Epoch 4/100\n",
      "105/105 [==============================] - 0s 4ms/step - loss: 0.0093 - tp: 95.5189 - fp: 16.6792 - tn: 109306.2830 - fn: 103.1226 - accuracy: 0.9988 - precision: 0.8431 - recall: 0.4604 - auc: 0.8827 - val_loss: 0.0040 - val_tp: 81.0000 - val_fp: 11.0000 - val_tn: 71071.0000 - val_fn: 39.0000 - val_accuracy: 0.9993 - val_precision: 0.8804 - val_recall: 0.6750 - val_auc: 0.9074\n",
      "Epoch 5/100\n",
      "105/105 [==============================] - 0s 4ms/step - loss: 0.0076 - tp: 115.5189 - fp: 20.8868 - tn: 109302.1132 - fn: 83.0849 - accuracy: 0.9990 - precision: 0.8203 - recall: 0.5457 - auc: 0.9033 - val_loss: 0.0038 - val_tp: 87.0000 - val_fp: 13.0000 - val_tn: 71069.0000 - val_fn: 33.0000 - val_accuracy: 0.9994 - val_precision: 0.8700 - val_recall: 0.7250 - val_auc: 0.9119\n",
      "Epoch 6/100\n",
      "105/105 [==============================] - 0s 4ms/step - loss: 0.0059 - tp: 107.2642 - fp: 17.0472 - tn: 109330.5283 - fn: 66.7642 - accuracy: 0.9993 - precision: 0.8639 - recall: 0.6115 - auc: 0.8999 - val_loss: 0.0037 - val_tp: 90.0000 - val_fp: 13.0000 - val_tn: 71069.0000 - val_fn: 30.0000 - val_accuracy: 0.9994 - val_precision: 0.8738 - val_recall: 0.7500 - val_auc: 0.9162\n",
      "Epoch 7/100\n",
      "105/105 [==============================] - 0s 4ms/step - loss: 0.0059 - tp: 129.3113 - fp: 19.7830 - tn: 109305.4340 - fn: 67.0755 - accuracy: 0.9992 - precision: 0.8492 - recall: 0.6385 - auc: 0.9081 - val_loss: 0.0037 - val_tp: 93.0000 - val_fp: 13.0000 - val_tn: 71069.0000 - val_fn: 27.0000 - val_accuracy: 0.9994 - val_precision: 0.8774 - val_recall: 0.7750 - val_auc: 0.9204\n",
      "Epoch 8/100\n",
      "105/105 [==============================] - 0s 4ms/step - loss: 0.0057 - tp: 133.4623 - fp: 17.9245 - tn: 109306.3585 - fn: 63.8585 - accuracy: 0.9992 - precision: 0.8971 - recall: 0.6603 - auc: 0.9141 - val_loss: 0.0036 - val_tp: 94.0000 - val_fp: 14.0000 - val_tn: 71068.0000 - val_fn: 26.0000 - val_accuracy: 0.9994 - val_precision: 0.8704 - val_recall: 0.7833 - val_auc: 0.9204\n",
      "Epoch 9/100\n",
      "105/105 [==============================] - 0s 4ms/step - loss: 0.0050 - tp: 128.3868 - fp: 24.1509 - tn: 109305.9434 - fn: 63.1226 - accuracy: 0.9992 - precision: 0.8231 - recall: 0.6815 - auc: 0.9224 - val_loss: 0.0036 - val_tp: 95.0000 - val_fp: 14.0000 - val_tn: 71068.0000 - val_fn: 25.0000 - val_accuracy: 0.9995 - val_precision: 0.8716 - val_recall: 0.7917 - val_auc: 0.9287\n",
      "Epoch 10/100\n",
      "105/105 [==============================] - 0s 4ms/step - loss: 0.0039 - tp: 135.8679 - fp: 21.5283 - tn: 109314.5660 - fn: 49.6415 - accuracy: 0.9994 - precision: 0.8436 - recall: 0.7364 - auc: 0.9475 - val_loss: 0.0036 - val_tp: 95.0000 - val_fp: 14.0000 - val_tn: 71068.0000 - val_fn: 25.0000 - val_accuracy: 0.9995 - val_precision: 0.8716 - val_recall: 0.7917 - val_auc: 0.9288\n",
      "Epoch 11/100\n",
      "105/105 [==============================] - 0s 4ms/step - loss: 0.0048 - tp: 134.1321 - fp: 24.5000 - tn: 109306.5472 - fn: 56.4245 - accuracy: 0.9993 - precision: 0.8416 - recall: 0.6868 - auc: 0.9235 - val_loss: 0.0037 - val_tp: 95.0000 - val_fp: 14.0000 - val_tn: 71068.0000 - val_fn: 25.0000 - val_accuracy: 0.9995 - val_precision: 0.8716 - val_recall: 0.7917 - val_auc: 0.9289\n",
      "Epoch 12/100\n",
      "105/105 [==============================] - 0s 4ms/step - loss: 0.0044 - tp: 143.9623 - fp: 25.4717 - tn: 109301.9245 - fn: 50.2453 - accuracy: 0.9993 - precision: 0.8508 - recall: 0.7371 - auc: 0.9370 - val_loss: 0.0036 - val_tp: 95.0000 - val_fp: 14.0000 - val_tn: 71068.0000 - val_fn: 25.0000 - val_accuracy: 0.9995 - val_precision: 0.8716 - val_recall: 0.7917 - val_auc: 0.9288\n",
      "Epoch 13/100\n",
      "105/105 [==============================] - 0s 4ms/step - loss: 0.0044 - tp: 137.8679 - fp: 21.4245 - tn: 109309.8962 - fn: 52.4151 - accuracy: 0.9993 - precision: 0.8516 - recall: 0.7100 - auc: 0.9415 - val_loss: 0.0036 - val_tp: 95.0000 - val_fp: 14.0000 - val_tn: 71068.0000 - val_fn: 25.0000 - val_accuracy: 0.9995 - val_precision: 0.8716 - val_recall: 0.7917 - val_auc: 0.9288\n",
      "Epoch 14/100\n",
      "105/105 [==============================] - 0s 4ms/step - loss: 0.0041 - tp: 137.3679 - fp: 19.9811 - tn: 109314.0189 - fn: 50.2358 - accuracy: 0.9994 - precision: 0.8698 - recall: 0.7280 - auc: 0.9396 - val_loss: 0.0037 - val_tp: 95.0000 - val_fp: 14.0000 - val_tn: 71068.0000 - val_fn: 25.0000 - val_accuracy: 0.9995 - val_precision: 0.8716 - val_recall: 0.7917 - val_auc: 0.9289\n",
      "Epoch 15/100\n",
      "105/105 [==============================] - 0s 4ms/step - loss: 0.0040 - tp: 137.0094 - fp: 25.0943 - tn: 109314.0094 - fn: 45.4906 - accuracy: 0.9994 - precision: 0.8288 - recall: 0.7528 - auc: 0.9285 - val_loss: 0.0036 - val_tp: 95.0000 - val_fp: 15.0000 - val_tn: 71067.0000 - val_fn: 25.0000 - val_accuracy: 0.9994 - val_precision: 0.8636 - val_recall: 0.7917 - val_auc: 0.9289\n",
      "Epoch 16/100\n",
      "105/105 [==============================] - 0s 4ms/step - loss: 0.0036 - tp: 141.6981 - fp: 25.9528 - tn: 109305.4245 - fn: 48.5283 - accuracy: 0.9993 - precision: 0.8341 - recall: 0.7440 - auc: 0.9542 - val_loss: 0.0036 - val_tp: 95.0000 - val_fp: 16.0000 - val_tn: 71066.0000 - val_fn: 25.0000 - val_accuracy: 0.9994 - val_precision: 0.8559 - val_recall: 0.7917 - val_auc: 0.9289\n",
      "Epoch 17/100\n",
      "105/105 [==============================] - 0s 4ms/step - loss: 0.0040 - tp: 144.5094 - fp: 23.6509 - tn: 109302.8208 - fn: 50.6226 - accuracy: 0.9994 - precision: 0.8751 - recall: 0.7449 - auc: 0.9308 - val_loss: 0.0036 - val_tp: 95.0000 - val_fp: 15.0000 - val_tn: 71067.0000 - val_fn: 25.0000 - val_accuracy: 0.9994 - val_precision: 0.8636 - val_recall: 0.7917 - val_auc: 0.9289\n",
      "Epoch 18/100\n",
      "105/105 [==============================] - 0s 4ms/step - loss: 0.0038 - tp: 146.0849 - fp: 22.0094 - tn: 109306.3868 - fn: 47.1226 - accuracy: 0.9993 - precision: 0.8527 - recall: 0.7559 - auc: 0.9506 - val_loss: 0.0036 - val_tp: 95.0000 - val_fp: 17.0000 - val_tn: 71065.0000 - val_fn: 25.0000 - val_accuracy: 0.9994 - val_precision: 0.8482 - val_recall: 0.7917 - val_auc: 0.9289\n",
      "Epoch 19/100\n",
      "105/105 [==============================] - 0s 4ms/step - loss: 0.0037 - tp: 139.8113 - fp: 21.8491 - tn: 109312.1981 - fn: 47.7453 - accuracy: 0.9993 - precision: 0.8660 - recall: 0.7385 - auc: 0.9420 - val_loss: 0.0036 - val_tp: 95.0000 - val_fp: 16.0000 - val_tn: 71066.0000 - val_fn: 25.0000 - val_accuracy: 0.9994 - val_precision: 0.8559 - val_recall: 0.7917 - val_auc: 0.9289\n",
      "Epoch 20/100\n",
      "105/105 [==============================] - 0s 4ms/step - loss: 0.0038 - tp: 136.3868 - fp: 21.6604 - tn: 109310.8113 - fn: 52.7453 - accuracy: 0.9993 - precision: 0.8616 - recall: 0.7291 - auc: 0.9373 - val_loss: 0.0036 - val_tp: 95.0000 - val_fp: 16.0000 - val_tn: 71066.0000 - val_fn: 25.0000 - val_accuracy: 0.9994 - val_precision: 0.8559 - val_recall: 0.7917 - val_auc: 0.9289\n",
      "Epoch 21/100\n",
      "105/105 [==============================] - 0s 4ms/step - loss: 0.0035 - tp: 137.1981 - fp: 26.9245 - tn: 109312.3868 - fn: 45.0943 - accuracy: 0.9994 - precision: 0.8323 - recall: 0.7323 - auc: 0.9395 - val_loss: 0.0035 - val_tp: 96.0000 - val_fp: 16.0000 - val_tn: 71066.0000 - val_fn: 24.0000 - val_accuracy: 0.9994 - val_precision: 0.8571 - val_recall: 0.8000 - val_auc: 0.9288\n"
     ]
    },
    {
     "name": "stdout",
     "output_type": "stream",
     "text": [
      "Epoch 22/100\n",
      "105/105 [==============================] - 0s 4ms/step - loss: 0.0030 - tp: 146.5849 - fp: 22.8208 - tn: 109307.8113 - fn: 44.3868 - accuracy: 0.9994 - precision: 0.8577 - recall: 0.7637 - auc: 0.9608 - val_loss: 0.0036 - val_tp: 95.0000 - val_fp: 16.0000 - val_tn: 71066.0000 - val_fn: 25.0000 - val_accuracy: 0.9994 - val_precision: 0.8559 - val_recall: 0.7917 - val_auc: 0.9289\n",
      "Epoch 23/100\n",
      "105/105 [==============================] - 0s 4ms/step - loss: 0.0031 - tp: 149.2170 - fp: 25.1226 - tn: 109308.8113 - fn: 38.4528 - accuracy: 0.9995 - precision: 0.8631 - recall: 0.8111 - auc: 0.9542 - val_loss: 0.0035 - val_tp: 95.0000 - val_fp: 17.0000 - val_tn: 71065.0000 - val_fn: 25.0000 - val_accuracy: 0.9994 - val_precision: 0.8482 - val_recall: 0.7917 - val_auc: 0.9288\n",
      "Epoch 24/100\n",
      "105/105 [==============================] - 0s 4ms/step - loss: 0.0038 - tp: 133.4811 - fp: 26.5189 - tn: 109315.6415 - fn: 45.9623 - accuracy: 0.9993 - precision: 0.8027 - recall: 0.7417 - auc: 0.9391 - val_loss: 0.0036 - val_tp: 95.0000 - val_fp: 16.0000 - val_tn: 71066.0000 - val_fn: 25.0000 - val_accuracy: 0.9994 - val_precision: 0.8559 - val_recall: 0.7917 - val_auc: 0.9289\n",
      "Epoch 25/100\n",
      "105/105 [==============================] - 0s 4ms/step - loss: 0.0030 - tp: 146.2547 - fp: 23.3679 - tn: 109306.1226 - fn: 45.8585 - accuracy: 0.9994 - precision: 0.8749 - recall: 0.7678 - auc: 0.9629 - val_loss: 0.0035 - val_tp: 95.0000 - val_fp: 16.0000 - val_tn: 71066.0000 - val_fn: 25.0000 - val_accuracy: 0.9994 - val_precision: 0.8559 - val_recall: 0.7917 - val_auc: 0.9289\n",
      "Epoch 26/100\n",
      "105/105 [==============================] - 0s 4ms/step - loss: 0.0031 - tp: 149.2170 - fp: 23.8019 - tn: 109306.7925 - fn: 41.7925 - accuracy: 0.9994 - precision: 0.8593 - recall: 0.7876 - auc: 0.9659 - val_loss: 0.0035 - val_tp: 95.0000 - val_fp: 17.0000 - val_tn: 71065.0000 - val_fn: 25.0000 - val_accuracy: 0.9994 - val_precision: 0.8482 - val_recall: 0.7917 - val_auc: 0.9289\n",
      "Epoch 27/100\n",
      "105/105 [==============================] - 0s 4ms/step - loss: 0.0030 - tp: 149.5943 - fp: 25.4434 - tn: 109306.1981 - fn: 40.3679 - accuracy: 0.9994 - precision: 0.8578 - recall: 0.7808 - auc: 0.9564 - val_loss: 0.0035 - val_tp: 95.0000 - val_fp: 16.0000 - val_tn: 71066.0000 - val_fn: 25.0000 - val_accuracy: 0.9994 - val_precision: 0.8559 - val_recall: 0.7917 - val_auc: 0.9289\n",
      "Epoch 28/100\n",
      "105/105 [==============================] - 0s 4ms/step - loss: 0.0034 - tp: 143.9623 - fp: 23.4434 - tn: 109311.2170 - fn: 42.9811 - accuracy: 0.9994 - precision: 0.8714 - recall: 0.7701 - auc: 0.9496 - val_loss: 0.0035 - val_tp: 95.0000 - val_fp: 16.0000 - val_tn: 71066.0000 - val_fn: 25.0000 - val_accuracy: 0.9994 - val_precision: 0.8559 - val_recall: 0.7917 - val_auc: 0.9289\n",
      "Epoch 29/100\n",
      "105/105 [==============================] - 0s 4ms/step - loss: 0.0034 - tp: 149.1698 - fp: 19.5000 - tn: 109313.4245 - fn: 39.5094 - accuracy: 0.9994 - precision: 0.8898 - recall: 0.7748 - auc: 0.9521 - val_loss: 0.0035 - val_tp: 95.0000 - val_fp: 16.0000 - val_tn: 71066.0000 - val_fn: 25.0000 - val_accuracy: 0.9994 - val_precision: 0.8559 - val_recall: 0.7917 - val_auc: 0.9289\n",
      "Epoch 30/100\n",
      "105/105 [==============================] - 0s 4ms/step - loss: 0.0030 - tp: 153.6226 - fp: 20.5566 - tn: 109303.8113 - fn: 43.6132 - accuracy: 0.9994 - precision: 0.8866 - recall: 0.7738 - auc: 0.9576 - val_loss: 0.0035 - val_tp: 95.0000 - val_fp: 16.0000 - val_tn: 71066.0000 - val_fn: 25.0000 - val_accuracy: 0.9994 - val_precision: 0.8559 - val_recall: 0.7917 - val_auc: 0.9330\n",
      "Epoch 31/100\n",
      "105/105 [==============================] - 0s 4ms/step - loss: 0.0031 - tp: 145.0755 - fp: 23.0377 - tn: 109315.7830 - fn: 37.7075 - accuracy: 0.9994 - precision: 0.8581 - recall: 0.7837 - auc: 0.9456 - val_loss: 0.0034 - val_tp: 96.0000 - val_fp: 16.0000 - val_tn: 71066.0000 - val_fn: 24.0000 - val_accuracy: 0.9994 - val_precision: 0.8571 - val_recall: 0.8000 - val_auc: 0.9330\n",
      "Epoch 32/100\n",
      "105/105 [==============================] - 0s 4ms/step - loss: 0.0028 - tp: 152.5566 - fp: 26.0755 - tn: 109307.1226 - fn: 35.8491 - accuracy: 0.9994 - precision: 0.8393 - recall: 0.8247 - auc: 0.9591 - val_loss: 0.0034 - val_tp: 95.0000 - val_fp: 16.0000 - val_tn: 71066.0000 - val_fn: 25.0000 - val_accuracy: 0.9994 - val_precision: 0.8559 - val_recall: 0.7917 - val_auc: 0.9331\n",
      "Epoch 33/100\n",
      "105/105 [==============================] - 0s 4ms/step - loss: 0.0029 - tp: 153.4245 - fp: 20.5849 - tn: 109310.9245 - fn: 36.6698 - accuracy: 0.9995 - precision: 0.8894 - recall: 0.7968 - auc: 0.9585 - val_loss: 0.0034 - val_tp: 95.0000 - val_fp: 16.0000 - val_tn: 71066.0000 - val_fn: 25.0000 - val_accuracy: 0.9994 - val_precision: 0.8559 - val_recall: 0.7917 - val_auc: 0.9330\n",
      "Epoch 34/100\n",
      "105/105 [==============================] - 0s 4ms/step - loss: 0.0034 - tp: 150.8585 - fp: 19.4340 - tn: 109309.0472 - fn: 42.2642 - accuracy: 0.9994 - precision: 0.8961 - recall: 0.7813 - auc: 0.9485 - val_loss: 0.0034 - val_tp: 95.0000 - val_fp: 16.0000 - val_tn: 71066.0000 - val_fn: 25.0000 - val_accuracy: 0.9994 - val_precision: 0.8559 - val_recall: 0.7917 - val_auc: 0.9289\n",
      "Epoch 35/100\n",
      "105/105 [==============================] - 0s 4ms/step - loss: 0.0029 - tp: 160.3491 - fp: 21.4717 - tn: 109299.2358 - fn: 40.5472 - accuracy: 0.9994 - precision: 0.8889 - recall: 0.7917 - auc: 0.9702 - val_loss: 0.0034 - val_tp: 95.0000 - val_fp: 16.0000 - val_tn: 71066.0000 - val_fn: 25.0000 - val_accuracy: 0.9994 - val_precision: 0.8559 - val_recall: 0.7917 - val_auc: 0.9289\n",
      "Epoch 36/100\n",
      "105/105 [==============================] - 0s 4ms/step - loss: 0.0027 - tp: 145.4717 - fp: 20.8396 - tn: 109312.1038 - fn: 43.1887 - accuracy: 0.9994 - precision: 0.8809 - recall: 0.7815 - auc: 0.9688 - val_loss: 0.0034 - val_tp: 95.0000 - val_fp: 16.0000 - val_tn: 71066.0000 - val_fn: 25.0000 - val_accuracy: 0.9994 - val_precision: 0.8559 - val_recall: 0.7917 - val_auc: 0.9290\n",
      "Epoch 37/100\n",
      "105/105 [==============================] - 0s 4ms/step - loss: 0.0026 - tp: 144.5000 - fp: 20.2358 - tn: 109320.5755 - fn: 36.2925 - accuracy: 0.9995 - precision: 0.8777 - recall: 0.8066 - auc: 0.9622 - val_loss: 0.0033 - val_tp: 95.0000 - val_fp: 17.0000 - val_tn: 71065.0000 - val_fn: 25.0000 - val_accuracy: 0.9994 - val_precision: 0.8482 - val_recall: 0.7917 - val_auc: 0.9289\n",
      "Epoch 38/100\n",
      "105/105 [==============================] - 0s 4ms/step - loss: 0.0024 - tp: 155.1887 - fp: 23.9717 - tn: 109306.8962 - fn: 35.5472 - accuracy: 0.9995 - precision: 0.8693 - recall: 0.8254 - auc: 0.9731 - val_loss: 0.0033 - val_tp: 95.0000 - val_fp: 17.0000 - val_tn: 71065.0000 - val_fn: 25.0000 - val_accuracy: 0.9994 - val_precision: 0.8482 - val_recall: 0.7917 - val_auc: 0.9289\n",
      "Epoch 39/100\n",
      "105/105 [==============================] - 0s 4ms/step - loss: 0.0025 - tp: 149.3774 - fp: 18.5283 - tn: 109315.1415 - fn: 38.5566 - accuracy: 0.9995 - precision: 0.8929 - recall: 0.7981 - auc: 0.9631 - val_loss: 0.0034 - val_tp: 95.0000 - val_fp: 17.0000 - val_tn: 71065.0000 - val_fn: 25.0000 - val_accuracy: 0.9994 - val_precision: 0.8482 - val_recall: 0.7917 - val_auc: 0.9289\n",
      "Epoch 40/100\n",
      "105/105 [==============================] - 0s 4ms/step - loss: 0.0029 - tp: 147.9245 - fp: 23.8113 - tn: 109311.3113 - fn: 38.5566 - accuracy: 0.9994 - precision: 0.8444 - recall: 0.7878 - auc: 0.9495 - val_loss: 0.0034 - val_tp: 95.0000 - val_fp: 17.0000 - val_tn: 71065.0000 - val_fn: 25.0000 - val_accuracy: 0.9994 - val_precision: 0.8482 - val_recall: 0.7917 - val_auc: 0.9289\n",
      "Epoch 41/100\n",
      "105/105 [==============================] - 0s 4ms/step - loss: 0.0027 - tp: 145.0189 - fp: 22.6509 - tn: 109313.4906 - fn: 40.4434 - accuracy: 0.9994 - precision: 0.8602 - recall: 0.7846 - auc: 0.9572 - val_loss: 0.0034 - val_tp: 95.0000 - val_fp: 17.0000 - val_tn: 71065.0000 - val_fn: 25.0000 - val_accuracy: 0.9994 - val_precision: 0.8482 - val_recall: 0.7917 - val_auc: 0.9290\n",
      "Epoch 42/100\n",
      "105/105 [==============================] - 0s 4ms/step - loss: 0.0024 - tp: 154.0849 - fp: 24.5472 - tn: 109303.6226 - fn: 39.3491 - accuracy: 0.9994 - precision: 0.8479 - recall: 0.8063 - auc: 0.9698 - val_loss: 0.0033 - val_tp: 96.0000 - val_fp: 17.0000 - val_tn: 71065.0000 - val_fn: 24.0000 - val_accuracy: 0.9994 - val_precision: 0.8496 - val_recall: 0.8000 - val_auc: 0.9289\n"
     ]
    },
    {
     "name": "stdout",
     "output_type": "stream",
     "text": [
      "Restoring model weights from the end of the best epoch.\n",
      "Epoch 00042: early stopping\n"
     ]
    }
   ],
   "source": [
    "model = make_model()\n",
    "baseline_history = model.fit(X_train, y_train, batch_size=BATCH_SIZE, epochs=EPOCHS, \n",
    "                        callbacks=[early_stopping], validation_data=(X_test, y_test))"
   ]
  },
  {
   "cell_type": "code",
   "execution_count": 17,
   "metadata": {},
   "outputs": [
    {
     "data": {
      "text/plain": [
       "0.999424159526825"
      ]
     },
     "execution_count": 17,
     "metadata": {},
     "output_type": "execute_result"
    }
   ],
   "source": [
    "baseline_history.history['val_accuracy'][-1]"
   ]
  },
  {
   "cell_type": "markdown",
   "metadata": {
    "id": "EEf7OlXQt3zf"
   },
   "source": [
    "## Plot trainig history"
   ]
  },
  {
   "cell_type": "code",
   "execution_count": 18,
   "metadata": {
    "id": "OnYt_2T3t3zg"
   },
   "outputs": [],
   "source": [
    "def plot_metrics(history):\n",
    "    metrics = ['loss', 'auc', 'precision', 'recall']\n",
    "    \n",
    "    plt.figure(figsize=(12, 8))\n",
    "    for i, metric in enumerate(metrics):\n",
    "        name = metric.capitalize()\n",
    "        plt.subplot(2, 2, i+1)\n",
    "        plt.plot(history.history[metric], label='Train')\n",
    "        plt.plot(history.history['val_' + metric], label='Val')\n",
    "        plt.title(metric)\n",
    "        plt.xlabel('Epoch')\n",
    "        plt.ylabel(name)\n",
    "        if metric == 'loss':\n",
    "            plt.ylim([0, plt.ylim()[1]])\n",
    "        elif metric == 'auc':\n",
    "            plt.ylim([0.8, 1])\n",
    "        else:\n",
    "            plt.ylim([0, 1])\n",
    "        plt.legend()\n",
    "    plt.tight_layout()"
   ]
  },
  {
   "cell_type": "code",
   "execution_count": 19,
   "metadata": {
    "colab": {
     "base_uri": "https://localhost:8080/",
     "height": 585
    },
    "id": "8H3Omag9t3zj",
    "outputId": "e4e7b06f-05d4-44dc-80c8-63c7a6d00225"
   },
   "outputs": [
    {
     "data": {
      "image/png": "[encoded data removed]",
      "text/plain": [
       "<Figure size 864x576 with 4 Axes>"
      ]
     },
     "metadata": {
      "needs_background": "light"
     },
     "output_type": "display_data"
    }
   ],
   "source": [
    "plot_metrics(baseline_history)"
   ]
  },
  {
   "cell_type": "markdown",
   "metadata": {
    "id": "PROwAK95t3zl"
   },
   "source": [
    "## Evaluate Metric\n",
    "\n",
    "- confusion matrix 를 이용하여 metrics 요약"
   ]
  },
  {
   "cell_type": "code",
   "execution_count": 20,
   "metadata": {
    "colab": {
     "base_uri": "https://localhost:8080/"
    },
    "id": "ZSXfIygjGIpe",
    "outputId": "32f14f0f-3a47-421c-eb6a-c9b391b58298"
   },
   "outputs": [
    {
     "data": {
      "text/plain": [
       "(71202, 1)"
      ]
     },
     "execution_count": 20,
     "metadata": {},
     "output_type": "execute_result"
    }
   ],
   "source": [
    "predictions_baseline  = model.predict(X_test, batch_size=BATCH_SIZE)\n",
    "\n",
    "predictions_baseline.shape"
   ]
  },
  {
   "cell_type": "code",
   "execution_count": 21,
   "metadata": {
    "id": "GKBFC56Nt3zq"
   },
   "outputs": [],
   "source": [
    "def plot_cm(labels, pred_proba, threshold=0.5):\n",
    "    \n",
    "    y_predict = pred_proba > threshold\n",
    "    \n",
    "    cm = confusion_matrix(y_test, y_predict)\n",
    "    \n",
    "    print(\"confution matrix\\n\", cm)\n",
    "    print()\n",
    "    print(\"f1 score\\n\", f1_score(y_test, y_predict))\n",
    "    print()\n",
    "    print(\"Accuracy: {:.5f}\".format(accuracy_score(y_test, y_predict)))\n",
    "    print(\"Precision: {:.5f}\".format(precision_score(y_test, y_predict)))\n",
    "    print(\"Recall: {:.5f}\".format(recall_score(y_test, y_predict)))\n",
    "    \n",
    "    plt.figure(figsize=(5,5))\n",
    "\n",
    "    sns.heatmap(cm, annot=True, fmt=\"d\")\n",
    "    plt.title('Confusion matrix @>{:.2f} '.format(threshold))\n",
    "    plt.ylabel('Actual label')\n",
    "    plt.xlabel('Predicted label')"
   ]
  },
  {
   "cell_type": "markdown",
   "metadata": {
    "id": "LWD-EIM7t3zt"
   },
   "source": [
    "### Test dataset 으로 evaluate 하고, confusion matrix 를 그린다"
   ]
  },
  {
   "cell_type": "code",
   "execution_count": 22,
   "metadata": {
    "colab": {
     "base_uri": "https://localhost:8080/",
     "height": 440
    },
    "id": "Y3nVjXCUt3zu",
    "outputId": "fabb6530-d1c9-40c9-d67b-faaeaafedd7e"
   },
   "outputs": [
    {
     "name": "stdout",
     "output_type": "stream",
     "text": [
      "confution matrix\n",
      " [[71066    16]\n",
      " [   25    95]]\n",
      "\n",
      "f1 score\n",
      " 0.8225108225108225\n",
      "\n",
      "Accuracy: 0.99942\n",
      "Precision: 0.85586\n",
      "Recall: 0.79167\n"
     ]
    },
    {
     "data": {
      "image/png": "[encoded data removed]",
      "text/plain": [
       "<Figure size 360x360 with 2 Axes>"
      ]
     },
     "metadata": {
      "needs_background": "light"
     },
     "output_type": "display_data"
    }
   ],
   "source": [
    "plot_cm(y_test, predictions_baseline, threshold=0.5)"
   ]
  },
  {
   "cell_type": "markdown",
   "metadata": {
    "id": "8F2krKGSt3zx"
   },
   "source": [
    "## Plot ROC"
   ]
  },
  {
   "cell_type": "code",
   "execution_count": 23,
   "metadata": {
    "id": "gAeL0U1et3zy"
   },
   "outputs": [],
   "source": [
    "def plot_roc(name, labels, predictions, **kwargs):\n",
    "    \n",
    "    fp, tp, _ = roc_curve(labels, predictions)\n",
    "    auc = roc_auc_score(y_test, predictions)\n",
    "    \n",
    "    plt.plot(100*fp, 100*tp, label=f\"auc of {name}={auc:.5f}\", linewidth=2, **kwargs)\n",
    "    plt.xlabel('FP [%]')\n",
    "    plt.ylabel('TP [%]')\n",
    "    plt.xlim([-0.5,20])\n",
    "    plt.ylim([80,100.5])\n",
    "    plt.grid(True)\n",
    "    ax = plt.gca()\n",
    "    ax.set_aspect('equal')\n",
    "    fig = plt.gcf()\n",
    "    fig.set_size_inches(8, 6)"
   ]
  },
  {
   "cell_type": "code",
   "execution_count": 24,
   "metadata": {
    "colab": {
     "base_uri": "https://localhost:8080/",
     "height": 406
    },
    "id": "_-fDmxMTt3z0",
    "outputId": "d31d7e5b-546e-4b74-9288-ebe04f30dbcd"
   },
   "outputs": [
    {
     "data": {
      "text/plain": [
       "<matplotlib.legend.Legend at 0x7fe683c6b450>"
      ]
     },
     "execution_count": 24,
     "metadata": {},
     "output_type": "execute_result"
    },
    {
     "data": {
      "image/png": "[encoded data removed]",
      "text/plain": [
       "<Figure size 576x432 with 1 Axes>"
      ]
     },
     "metadata": {
      "needs_background": "light"
     },
     "output_type": "display_data"
    }
   ],
   "source": [
    "plot_roc(\"Test Baseline\", y_test, predictions_baseline, color='blue', linestyle='--')\n",
    "plt.legend(loc='lower right')"
   ]
  },
  {
   "cell_type": "markdown",
   "metadata": {
    "id": "_d83CAb9t3z5"
   },
   "source": [
    "정밀도가 비교적 높은 것처럼 보이지만 리콜 및 ROC 곡선 아래 면적 (AUC)은 원하는만큼 높지 않습니다. 분류기는 종종 정밀도와 재현율을 모두 극대화하려고 할 때 어려움에 직면합니다. 특히 불균형 데이터 세트로 작업 할 때는 더욱 그렇습니다. "
   ]
  },
  {
   "cell_type": "markdown",
   "metadata": {
    "id": "-P-iJJ1pt3z5"
   },
   "source": [
    "## Class Weight 조정\n",
    "\n",
    "사용할 positive 샘플이 많지 않기 때문에 가용한 적은 수의 sample 에 classifier 가 더 비중을 두도록 할 수 있다. \n",
    "\n",
    "step1 - 레이블 및 관련 가중치로 dictionary 정의 \n",
    "```\n",
    "class_weight = {0: 1.,\n",
    "                1: 50.,\n",
    "                2: 2.}\n",
    "```                \n",
    "step2 - dictionary를 매개 변수로 공급:  \n",
    "```\n",
    "    model.fit(X_train, Y_train, nb_epoch=5, batch_size=32, class_weight=class_weight)\n",
    "```\n",
    "\n",
    "- class 1 하나를 50 개의 classs 0 로 취급 $\\rightarrow$ loss function 계산 시 class_weight 에 지정된 대로 가중 평균"
   ]
  },
  {
   "cell_type": "code",
   "execution_count": 25,
   "metadata": {},
   "outputs": [
    {
     "data": {
      "text/plain": [
       "(284315, 492, 284807)"
      ]
     },
     "execution_count": 25,
     "metadata": {},
     "output_type": "execute_result"
    }
   ],
   "source": [
    "normal, fraud, total"
   ]
  },
  {
   "cell_type": "code",
   "execution_count": 26,
   "metadata": {
    "colab": {
     "base_uri": "https://localhost:8080/"
    },
    "id": "8VevE6hHt3z6",
    "outputId": "d8f19e43-42a8-4db7-ade0-7031c685c343"
   },
   "outputs": [
    {
     "name": "stdout",
     "output_type": "stream",
     "text": [
      "Weight for class 0: 0.50\n",
      "Weight for class 1: 289.44\n"
     ]
    }
   ],
   "source": [
    "# total/2 로 scale 하면 loss를 비슷한 크기로 유지하는 데 도움이됩니다.\n",
    "# 모든 example의 가중치 합계는 동일하게 유지됩니다.\n",
    "\n",
    "weight_for_0 = (1 / normal)*(total) / 2.0 \n",
    "weight_for_1 = (1 / fraud)*(total) / 2.0\n",
    "\n",
    "class_weight = {0: weight_for_0, 1: weight_for_1}\n",
    "\n",
    "print('Weight for class 0: {:.2f}'.format(weight_for_0))\n",
    "print('Weight for class 1: {:.2f}'.format(weight_for_1))"
   ]
  },
  {
   "cell_type": "markdown",
   "metadata": {},
   "source": [
    "class_weight  \n",
    "\n",
    "    학습 클래스의 샘플에 대한 모델 손실에 적용할 가중치에 대한 사전 매핑 클래스 인덱스(정수). 이는 모델이 과소 표현된 클래스의 샘플에 \"더 많은주의를 기울이도록\"지시하는 데 유용."
   ]
  },
  {
   "cell_type": "code",
   "execution_count": 27,
   "metadata": {
    "colab": {
     "base_uri": "https://localhost:8080/"
    },
    "id": "Am_veDXSt3z9",
    "outputId": "ec4394d4-b43b-4096-c253-27cd3e36af29",
    "scrolled": true
   },
   "outputs": [
    {
     "name": "stdout",
     "output_type": "stream",
     "text": [
      "Epoch 1/100\n",
      "105/105 [==============================] - 2s 10ms/step - loss: 0.8125 - tp: 224.6415 - fp: 34645.5000 - tn: 145763.2170 - fn: 90.2453 - accuracy: 0.8259 - precision: 0.0104 - recall: 0.7057 - auc: 0.8385 - val_loss: 0.4745 - val_tp: 105.0000 - val_fp: 8763.0000 - val_tn: 62319.0000 - val_fn: 15.0000 - val_accuracy: 0.8767 - val_precision: 0.0118 - val_recall: 0.8750 - val_auc: 0.9452\n",
      "Epoch 2/100\n",
      "105/105 [==============================] - 0s 4ms/step - loss: 0.3502 - tp: 165.7453 - fp: 12443.4245 - tn: 96886.2075 - fn: 26.2264 - accuracy: 0.8761 - precision: 0.0126 - recall: 0.8686 - auc: 0.9295 - val_loss: 0.2979 - val_tp: 107.0000 - val_fp: 2823.0000 - val_tn: 68259.0000 - val_fn: 13.0000 - val_accuracy: 0.9602 - val_precision: 0.0365 - val_recall: 0.8917 - val_auc: 0.9652\n",
      "Epoch 3/100\n",
      "105/105 [==============================] - 0s 4ms/step - loss: 0.2526 - tp: 161.7358 - fp: 6003.6415 - tn: 103333.5094 - fn: 22.7170 - accuracy: 0.9421 - precision: 0.0245 - recall: 0.8894 - auc: 0.9594 - val_loss: 0.2156 - val_tp: 108.0000 - val_fp: 2008.0000 - val_tn: 69074.0000 - val_fn: 12.0000 - val_accuracy: 0.9716 - val_precision: 0.0510 - val_recall: 0.9000 - val_auc: 0.9677\n",
      "Epoch 4/100\n",
      "105/105 [==============================] - 0s 4ms/step - loss: 0.2374 - tp: 169.4528 - fp: 4090.3774 - tn: 105241.9340 - fn: 19.8396 - accuracy: 0.9611 - precision: 0.0398 - recall: 0.8980 - auc: 0.9629 - val_loss: 0.1617 - val_tp: 109.0000 - val_fp: 1639.0000 - val_tn: 69443.0000 - val_fn: 11.0000 - val_accuracy: 0.9768 - val_precision: 0.0624 - val_recall: 0.9083 - val_auc: 0.9703\n",
      "Epoch 5/100\n",
      "105/105 [==============================] - 0s 4ms/step - loss: 0.1939 - tp: 167.7170 - fp: 3776.1226 - tn: 105560.8491 - fn: 16.9151 - accuracy: 0.9655 - precision: 0.0442 - recall: 0.9109 - auc: 0.9736 - val_loss: 0.1379 - val_tp: 108.0000 - val_fp: 1635.0000 - val_tn: 69447.0000 - val_fn: 12.0000 - val_accuracy: 0.9769 - val_precision: 0.0620 - val_recall: 0.9000 - val_auc: 0.9711\n",
      "Epoch 6/100\n",
      "105/105 [==============================] - 0s 4ms/step - loss: 0.1932 - tp: 177.5566 - fp: 3667.8679 - tn: 105656.2170 - fn: 19.9623 - accuracy: 0.9659 - precision: 0.0456 - recall: 0.8903 - auc: 0.9740 - val_loss: 0.1251 - val_tp: 109.0000 - val_fp: 1694.0000 - val_tn: 69388.0000 - val_fn: 11.0000 - val_accuracy: 0.9761 - val_precision: 0.0605 - val_recall: 0.9083 - val_auc: 0.9726\n",
      "Epoch 7/100\n",
      "105/105 [==============================] - 0s 4ms/step - loss: 0.1625 - tp: 173.9717 - fp: 3229.7453 - tn: 106102.0189 - fn: 15.8679 - accuracy: 0.9703 - precision: 0.0524 - recall: 0.9157 - auc: 0.9793 - val_loss: 0.1182 - val_tp: 110.0000 - val_fp: 1745.0000 - val_tn: 69337.0000 - val_fn: 10.0000 - val_accuracy: 0.9754 - val_precision: 0.0593 - val_recall: 0.9167 - val_auc: 0.9742\n",
      "Epoch 8/100\n",
      "105/105 [==============================] - 0s 4ms/step - loss: 0.1690 - tp: 173.4623 - fp: 3677.2075 - tn: 105654.7925 - fn: 16.1415 - accuracy: 0.9663 - precision: 0.0444 - recall: 0.9166 - auc: 0.9771 - val_loss: 0.1048 - val_tp: 109.0000 - val_fp: 1543.0000 - val_tn: 69539.0000 - val_fn: 11.0000 - val_accuracy: 0.9782 - val_precision: 0.0660 - val_recall: 0.9083 - val_auc: 0.9750\n",
      "Epoch 9/100\n",
      "105/105 [==============================] - 0s 4ms/step - loss: 0.1599 - tp: 172.4245 - fp: 3216.1038 - tn: 106119.2547 - fn: 13.8208 - accuracy: 0.9709 - precision: 0.0532 - recall: 0.9273 - auc: 0.9794 - val_loss: 0.1007 - val_tp: 109.0000 - val_fp: 1593.0000 - val_tn: 69489.0000 - val_fn: 11.0000 - val_accuracy: 0.9775 - val_precision: 0.0640 - val_recall: 0.9083 - val_auc: 0.9745\n",
      "Epoch 10/100\n",
      "105/105 [==============================] - 0s 4ms/step - loss: 0.1230 - tp: 173.4434 - fp: 3282.3962 - tn: 106052.1321 - fn: 13.6321 - accuracy: 0.9696 - precision: 0.0490 - recall: 0.9367 - auc: 0.9891 - val_loss: 0.1125 - val_tp: 112.0000 - val_fp: 1955.0000 - val_tn: 69127.0000 - val_fn: 8.0000 - val_accuracy: 0.9724 - val_precision: 0.0542 - val_recall: 0.9333 - val_auc: 0.9782\n",
      "Epoch 11/100\n",
      "105/105 [==============================] - 0s 4ms/step - loss: 0.1596 - tp: 168.2736 - fp: 3761.1604 - tn: 105578.1132 - fn: 14.0566 - accuracy: 0.9646 - precision: 0.0421 - recall: 0.9201 - auc: 0.9780 - val_loss: 0.0966 - val_tp: 109.0000 - val_fp: 1524.0000 - val_tn: 69558.0000 - val_fn: 11.0000 - val_accuracy: 0.9784 - val_precision: 0.0667 - val_recall: 0.9083 - val_auc: 0.9797\n",
      "Epoch 12/100\n",
      "105/105 [==============================] - 0s 4ms/step - loss: 0.1539 - tp: 183.4057 - fp: 3358.4340 - tn: 105964.7736 - fn: 14.9906 - accuracy: 0.9690 - precision: 0.0551 - recall: 0.9221 - auc: 0.9838 - val_loss: 0.0957 - val_tp: 109.0000 - val_fp: 1544.0000 - val_tn: 69538.0000 - val_fn: 11.0000 - val_accuracy: 0.9782 - val_precision: 0.0659 - val_recall: 0.9083 - val_auc: 0.9809\n",
      "Epoch 13/100\n",
      "105/105 [==============================] - 0s 4ms/step - loss: 0.1285 - tp: 171.4340 - fp: 3159.4434 - tn: 106176.4151 - fn: 14.3113 - accuracy: 0.9712 - precision: 0.0524 - recall: 0.9197 - auc: 0.9897 - val_loss: 0.0969 - val_tp: 110.0000 - val_fp: 1733.0000 - val_tn: 69349.0000 - val_fn: 10.0000 - val_accuracy: 0.9755 - val_precision: 0.0597 - val_recall: 0.9167 - val_auc: 0.9827\n",
      "Epoch 14/100\n",
      "105/105 [==============================] - 0s 4ms/step - loss: 0.1169 - tp: 182.2264 - fp: 3375.0660 - tn: 105952.4245 - fn: 11.8868 - accuracy: 0.9685 - precision: 0.0513 - recall: 0.9524 - auc: 0.9917 - val_loss: 0.0929 - val_tp: 109.0000 - val_fp: 1659.0000 - val_tn: 69423.0000 - val_fn: 11.0000 - val_accuracy: 0.9765 - val_precision: 0.0617 - val_recall: 0.9083 - val_auc: 0.9831\n",
      "Epoch 15/100\n",
      "105/105 [==============================] - 0s 4ms/step - loss: 0.1301 - tp: 173.1509 - fp: 3217.1792 - tn: 106118.0943 - fn: 13.1792 - accuracy: 0.9693 - precision: 0.0480 - recall: 0.9135 - auc: 0.9880 - val_loss: 0.0867 - val_tp: 108.0000 - val_fp: 1573.0000 - val_tn: 69509.0000 - val_fn: 12.0000 - val_accuracy: 0.9777 - val_precision: 0.0642 - val_recall: 0.9000 - val_auc: 0.9848\n",
      "Epoch 16/100\n",
      "105/105 [==============================] - 0s 4ms/step - loss: 0.0981 - tp: 180.5283 - fp: 2938.8302 - tn: 106388.8019 - fn: 13.4434 - accuracy: 0.9725 - precision: 0.0571 - recall: 0.9479 - auc: 0.9943 - val_loss: 0.0972 - val_tp: 111.0000 - val_fp: 1961.0000 - val_tn: 69121.0000 - val_fn: 9.0000 - val_accuracy: 0.9723 - val_precision: 0.0536 - val_recall: 0.9250 - val_auc: 0.9850\n",
      "Epoch 17/100\n",
      "105/105 [==============================] - 0s 4ms/step - loss: 0.1211 - tp: 174.8491 - fp: 3367.9434 - tn: 105967.1509 - fn: 11.6604 - accuracy: 0.9681 - precision: 0.0459 - recall: 0.9324 - auc: 0.9890 - val_loss: 0.0808 - val_tp: 108.0000 - val_fp: 1481.0000 - val_tn: 69601.0000 - val_fn: 12.0000 - val_accuracy: 0.9790 - val_precision: 0.0680 - val_recall: 0.9000 - val_auc: 0.9854\n",
      "Epoch 18/100\n",
      "105/105 [==============================] - 0s 4ms/step - loss: 0.1229 - tp: 173.6415 - fp: 3202.8774 - tn: 106133.9623 - fn: 11.1226 - accuracy: 0.9706 - precision: 0.0525 - recall: 0.9391 - auc: 0.9883 - val_loss: 0.0807 - val_tp: 108.0000 - val_fp: 1500.0000 - val_tn: 69582.0000 - val_fn: 12.0000 - val_accuracy: 0.9788 - val_precision: 0.0672 - val_recall: 0.9000 - val_auc: 0.9862\n",
      "Epoch 19/100\n",
      "105/105 [==============================] - 0s 4ms/step - loss: 0.1018 - tp: 177.7547 - fp: 2975.8774 - tn: 106358.3774 - fn: 9.5943 - accuracy: 0.9727 - precision: 0.0562 - recall: 0.9510 - auc: 0.9931 - val_loss: 0.0741 - val_tp: 108.0000 - val_fp: 1378.0000 - val_tn: 69704.0000 - val_fn: 12.0000 - val_accuracy: 0.9805 - val_precision: 0.0727 - val_recall: 0.9000 - val_auc: 0.9869\n",
      "Epoch 20/100\n",
      "105/105 [==============================] - 0s 4ms/step - loss: 0.1281 - tp: 178.3302 - fp: 2861.7075 - tn: 106469.1038 - fn: 12.4623 - accuracy: 0.9742 - precision: 0.0567 - recall: 0.9214 - auc: 0.9874 - val_loss: 0.0712 - val_tp: 108.0000 - val_fp: 1287.0000 - val_tn: 69795.0000 - val_fn: 12.0000 - val_accuracy: 0.9818 - val_precision: 0.0774 - val_recall: 0.9000 - val_auc: 0.9872\n",
      "Epoch 21/100\n",
      "105/105 [==============================] - 0s 4ms/step - loss: 0.1309 - tp: 184.6604 - fp: 2882.0943 - tn: 106442.7453 - fn: 12.1038 - accuracy: 0.9739 - precision: 0.0632 - recall: 0.9381 - auc: 0.9884 - val_loss: 0.0699 - val_tp: 108.0000 - val_fp: 1254.0000 - val_tn: 69828.0000 - val_fn: 12.0000 - val_accuracy: 0.9822 - val_precision: 0.0793 - val_recall: 0.9000 - val_auc: 0.9879\n"
     ]
    },
    {
     "name": "stdout",
     "output_type": "stream",
     "text": [
      "Epoch 22/100\n",
      "105/105 [==============================] - 0s 4ms/step - loss: 0.0911 - tp: 185.5377 - fp: 2931.1415 - tn: 106396.6509 - fn: 8.2736 - accuracy: 0.9734 - precision: 0.0584 - recall: 0.9691 - auc: 0.9951 - val_loss: 0.0707 - val_tp: 108.0000 - val_fp: 1307.0000 - val_tn: 69775.0000 - val_fn: 12.0000 - val_accuracy: 0.9815 - val_precision: 0.0763 - val_recall: 0.9000 - val_auc: 0.9874\n",
      "Epoch 23/100\n",
      "105/105 [==============================] - 0s 4ms/step - loss: 0.1042 - tp: 185.8396 - fp: 2847.8585 - tn: 106477.3491 - fn: 10.5566 - accuracy: 0.9738 - precision: 0.0638 - recall: 0.9497 - auc: 0.9940 - val_loss: 0.0647 - val_tp: 108.0000 - val_fp: 1205.0000 - val_tn: 69877.0000 - val_fn: 12.0000 - val_accuracy: 0.9829 - val_precision: 0.0823 - val_recall: 0.9000 - val_auc: 0.9876\n",
      "Epoch 24/100\n",
      "105/105 [==============================] - 0s 4ms/step - loss: 0.1222 - tp: 182.2547 - fp: 2771.7170 - tn: 106558.0377 - fn: 9.5943 - accuracy: 0.9746 - precision: 0.0612 - recall: 0.9409 - auc: 0.9899 - val_loss: 0.0659 - val_tp: 108.0000 - val_fp: 1255.0000 - val_tn: 69827.0000 - val_fn: 12.0000 - val_accuracy: 0.9822 - val_precision: 0.0792 - val_recall: 0.9000 - val_auc: 0.9859\n",
      "Epoch 25/100\n",
      "105/105 [==============================] - 0s 4ms/step - loss: 0.0912 - tp: 180.5849 - fp: 2975.5943 - tn: 106354.7453 - fn: 10.6792 - accuracy: 0.9734 - precision: 0.0577 - recall: 0.9376 - auc: 0.9953 - val_loss: 0.0759 - val_tp: 108.0000 - val_fp: 1522.0000 - val_tn: 69560.0000 - val_fn: 12.0000 - val_accuracy: 0.9785 - val_precision: 0.0663 - val_recall: 0.9000 - val_auc: 0.9878\n",
      "Epoch 26/100\n",
      "105/105 [==============================] - 0s 4ms/step - loss: 0.0849 - tp: 178.8679 - fp: 2796.9245 - tn: 106537.3302 - fn: 8.4811 - accuracy: 0.9739 - precision: 0.0579 - recall: 0.9608 - auc: 0.9956 - val_loss: 0.0693 - val_tp: 108.0000 - val_fp: 1366.0000 - val_tn: 69716.0000 - val_fn: 12.0000 - val_accuracy: 0.9806 - val_precision: 0.0733 - val_recall: 0.9000 - val_auc: 0.9863\n",
      "Epoch 27/100\n",
      "105/105 [==============================] - 0s 4ms/step - loss: 0.0939 - tp: 183.4717 - fp: 3211.5755 - tn: 106117.5189 - fn: 9.0377 - accuracy: 0.9702 - precision: 0.0521 - recall: 0.9467 - auc: 0.9949 - val_loss: 0.0661 - val_tp: 108.0000 - val_fp: 1223.0000 - val_tn: 69859.0000 - val_fn: 12.0000 - val_accuracy: 0.9827 - val_precision: 0.0811 - val_recall: 0.9000 - val_auc: 0.9860\n",
      "Epoch 28/100\n",
      "105/105 [==============================] - 0s 4ms/step - loss: 0.0911 - tp: 178.0094 - fp: 2529.6509 - tn: 106806.9811 - fn: 6.9623 - accuracy: 0.9767 - precision: 0.0619 - recall: 0.9630 - auc: 0.9949 - val_loss: 0.0571 - val_tp: 108.0000 - val_fp: 1010.0000 - val_tn: 70072.0000 - val_fn: 12.0000 - val_accuracy: 0.9856 - val_precision: 0.0966 - val_recall: 0.9000 - val_auc: 0.9855\n",
      "Epoch 29/100\n",
      "105/105 [==============================] - 0s 4ms/step - loss: 0.0710 - tp: 185.6226 - fp: 2288.2075 - tn: 107043.3491 - fn: 4.4245 - accuracy: 0.9790 - precision: 0.0732 - recall: 0.9846 - auc: 0.9973 - val_loss: 0.0591 - val_tp: 108.0000 - val_fp: 1122.0000 - val_tn: 69960.0000 - val_fn: 12.0000 - val_accuracy: 0.9841 - val_precision: 0.0878 - val_recall: 0.9000 - val_auc: 0.9828\n",
      "Epoch 30/100\n",
      "105/105 [==============================] - 0s 4ms/step - loss: 0.0798 - tp: 182.5377 - fp: 2491.2358 - tn: 106838.7264 - fn: 9.1038 - accuracy: 0.9773 - precision: 0.0704 - recall: 0.9621 - auc: 0.9967 - val_loss: 0.0599 - val_tp: 108.0000 - val_fp: 1176.0000 - val_tn: 69906.0000 - val_fn: 12.0000 - val_accuracy: 0.9833 - val_precision: 0.0841 - val_recall: 0.9000 - val_auc: 0.9837\n",
      "Epoch 31/100\n",
      "105/105 [==============================] - 0s 4ms/step - loss: 0.1022 - tp: 183.0189 - fp: 2933.5094 - tn: 106395.6604 - fn: 9.4151 - accuracy: 0.9732 - precision: 0.0569 - recall: 0.9352 - auc: 0.9940 - val_loss: 0.0594 - val_tp: 108.0000 - val_fp: 1171.0000 - val_tn: 69911.0000 - val_fn: 12.0000 - val_accuracy: 0.9834 - val_precision: 0.0844 - val_recall: 0.9000 - val_auc: 0.9834\n",
      "Restoring model weights from the end of the best epoch.\n",
      "Epoch 00031: early stopping\n"
     ]
    }
   ],
   "source": [
    "weighted_model = make_model()\n",
    "\n",
    "weighted_history = weighted_model.fit(X_train, y_train, \n",
    "                                    batch_size=BATCH_SIZE,\n",
    "                                    epochs=EPOCHS, \n",
    "                                    callbacks = [early_stopping], \n",
    "                                    validation_data=(X_test, y_test),\n",
    "                                    class_weight=class_weight) "
   ]
  },
  {
   "cell_type": "code",
   "execution_count": 28,
   "metadata": {
    "colab": {
     "base_uri": "https://localhost:8080/",
     "height": 585
    },
    "id": "N5iUrVe6t30B",
    "outputId": "73ab4843-065b-489b-bd35-ce02d1e499fd"
   },
   "outputs": [
    {
     "data": {
      "image/png": "[encoded data removed]",
      "text/plain": [
       "<Figure size 864x576 with 4 Axes>"
      ]
     },
     "metadata": {
      "needs_background": "light"
     },
     "output_type": "display_data"
    }
   ],
   "source": [
    "plot_metrics(weighted_history)"
   ]
  },
  {
   "cell_type": "code",
   "execution_count": 29,
   "metadata": {
    "id": "ErH9Ehhct30D"
   },
   "outputs": [],
   "source": [
    "predictions_weighted = weighted_model.predict(X_test, batch_size=BATCH_SIZE)"
   ]
  },
  {
   "cell_type": "code",
   "execution_count": 30,
   "metadata": {
    "colab": {
     "base_uri": "https://localhost:8080/",
     "height": 619
    },
    "id": "59NLR77Kt30E",
    "outputId": "67696d4f-c3b8-44b9-8dfe-2b977c2d25d1"
   },
   "outputs": [
    {
     "name": "stdout",
     "output_type": "stream",
     "text": [
      "loss :  0.06987810879945755\n",
      "tp :  108.0\n",
      "fp :  1254.0\n",
      "tn :  69828.0\n",
      "fn :  12.0\n",
      "accuracy :  0.9822195768356323\n",
      "precision :  0.07929515093564987\n",
      "recall :  0.8999999761581421\n",
      "auc :  0.9878673553466797\n",
      "\n",
      "confution matrix\n",
      " [[69828  1254]\n",
      " [   12   108]]\n",
      "\n",
      "f1 score\n",
      " 0.145748987854251\n",
      "\n",
      "Accuracy: 0.98222\n",
      "Precision: 0.07930\n",
      "Recall: 0.90000\n"
     ]
    },
    {
     "data": {
      "image/png": "[encoded data removed]",
      "text/plain": [
       "<Figure size 360x360 with 2 Axes>"
      ]
     },
     "metadata": {
      "needs_background": "light"
     },
     "output_type": "display_data"
    }
   ],
   "source": [
    "weighted_results = weighted_model.evaluate(X_test, y_test,\n",
    "                                           batch_size=BATCH_SIZE, verbose=0)\n",
    "\n",
    "for name, value in zip(weighted_model.metrics_names, weighted_results):\n",
    "    print(name, ': ', value)\n",
    "    \n",
    "print()\n",
    "\n",
    "plot_cm(y_test, predictions_weighted, threshold=0.5)"
   ]
  },
  {
   "cell_type": "markdown",
   "metadata": {
    "id": "FF42Tjcdt30K"
   },
   "source": [
    "## Plot the ROC"
   ]
  },
  {
   "cell_type": "code",
   "execution_count": 31,
   "metadata": {
    "colab": {
     "base_uri": "https://localhost:8080/",
     "height": 406
    },
    "id": "DmZ5bpDEt30N",
    "outputId": "827d1526-1fec-4da4-cc93-0e74b6b38657"
   },
   "outputs": [
    {
     "data": {
      "text/plain": [
       "<matplotlib.legend.Legend at 0x7fe67fa67390>"
      ]
     },
     "execution_count": 31,
     "metadata": {},
     "output_type": "execute_result"
    },
    {
     "data": {
      "image/png": "[encoded data removed]",
      "text/plain": [
       "<Figure size 576x432 with 1 Axes>"
      ]
     },
     "metadata": {
      "needs_background": "light"
     },
     "output_type": "display_data"
    }
   ],
   "source": [
    "plot_roc(\"Baseline ROC\", y_test, predictions_baseline, color='blue', linestyle='--')\n",
    "\n",
    "plot_roc(\"Weighted ROC\", y_test, predictions_weighted, color='red', linestyle='--')\n",
    "\n",
    "plt.legend(loc='lower right')"
   ]
  },
  {
   "cell_type": "markdown",
   "metadata": {
    "id": "_Bo3WQn8t30P"
   },
   "source": [
    "## Oversampling\n",
    "\n",
    "- 다른 접근 방식은 소수 클래스를 오버 샘플링하여 데이터 세트를 다시 샘플링하는 것\n",
    "\n",
    "\n",
    "- tf.data를 사용하는 경우 균형 잡힌 예제를 생성하는 가장 쉬운 방법은 positive 및 negative 데이터 세트로 따로 시작하여 병합하는 것"
   ]
  },
  {
   "cell_type": "code",
   "execution_count": 32,
   "metadata": {
    "colab": {
     "base_uri": "https://localhost:8080/"
    },
    "id": "xON8b28zt30R",
    "outputId": "2f24f108-c7fa-4fc9-c717-f31782c515e6"
   },
   "outputs": [
    {
     "data": {
      "text/plain": [
       "array([False, False, False, ..., False, False, False])"
      ]
     },
     "execution_count": 32,
     "metadata": {},
     "output_type": "execute_result"
    }
   ],
   "source": [
    "# train_labels != 0\n",
    "bool_train_labels = y_train != 0\n",
    "bool_train_labels"
   ]
  },
  {
   "cell_type": "markdown",
   "metadata": {
    "id": "RVOBJOrQt30V"
   },
   "source": [
    "### positive, negative dataset 분리"
   ]
  },
  {
   "cell_type": "code",
   "execution_count": 33,
   "metadata": {
    "id": "dtG0_5s_t30W"
   },
   "outputs": [],
   "source": [
    "pos_features = X_train[bool_train_labels]\n",
    "neg_features = X_train[~bool_train_labels]\n",
    "\n",
    "pos_labels = y_train[bool_train_labels]\n",
    "neg_labels = y_train[~bool_train_labels]"
   ]
  },
  {
   "cell_type": "code",
   "execution_count": 34,
   "metadata": {
    "id": "-z7HdAFkt30c"
   },
   "outputs": [],
   "source": [
    "BUFFER_SIZE = 100000\n",
    "\n",
    "def make_ds(features, labels):\n",
    "    ds = tf.data.Dataset.from_tensor_slices((features, labels)).cache()\n",
    "    ds = ds.shuffle(BUFFER_SIZE).repeat()\n",
    "    return ds\n",
    "\n",
    "pos_ds = make_ds(pos_features, pos_labels)\n",
    "neg_ds = make_ds(neg_features, neg_labels)"
   ]
  },
  {
   "cell_type": "code",
   "execution_count": 35,
   "metadata": {
    "colab": {
     "base_uri": "https://localhost:8080/"
    },
    "id": "wOWE8Lvst30d",
    "outputId": "a36d11f9-8981-465c-dcb6-2aa8b77a7948"
   },
   "outputs": [
    {
     "name": "stdout",
     "output_type": "stream",
     "text": [
      "<RepeatDataset shapes: ((30,), ()), types: (tf.float64, tf.int64)>\n",
      "<RepeatDataset shapes: ((30,), ()), types: (tf.float64, tf.int64)>\n"
     ]
    }
   ],
   "source": [
    "print(pos_ds)\n",
    "print(neg_ds)"
   ]
  },
  {
   "cell_type": "code",
   "execution_count": 36,
   "metadata": {
    "colab": {
     "base_uri": "https://localhost:8080/"
    },
    "id": "vIv9xPDht30h",
    "outputId": "644df925-a40d-44e4-8d00-1e159c4d1265"
   },
   "outputs": [
    {
     "name": "stdout",
     "output_type": "stream",
     "text": [
      "Features:\n",
      " [ 0.41738309 -0.82301778 -0.24521372 -2.52466436  4.407069   -2.45435861\n",
      "  0.86513323  1.51518203  0.39406157 -3.48661796 -1.32436849  2.07368775\n",
      " -3.26611645 -0.31727606 -1.89083809 -0.81087321 -3.41026972 -5.65988178\n",
      " -1.51772125  2.08636822  3.15101259  1.67884162  0.84677126  3.60575978\n",
      " -0.11022544  1.03305633  1.12465609 -0.33764027 -0.0306989   1.95736989]\n",
      "\n",
      "Label:  1\n"
     ]
    }
   ],
   "source": [
    "for features, label in pos_ds.take(1):\n",
    "    print(\"Features:\\n\", features.numpy())\n",
    "    print()\n",
    "    print(\"Label: \", label.numpy())"
   ]
  },
  {
   "cell_type": "markdown",
   "metadata": {
    "id": "10_X71jgt30k"
   },
   "source": [
    "### experimental.sample_from_datasets 을 이용하여 두 dataset merge"
   ]
  },
  {
   "cell_type": "code",
   "execution_count": 37,
   "metadata": {
    "id": "aYdcZKGnt30l"
   },
   "outputs": [],
   "source": [
    "resampled_ds = tf.data.experimental.sample_from_datasets(\n",
    "            [pos_ds, neg_ds], weights=[0.5, 0.5])\n",
    "resampled_ds = resampled_ds.batch(BATCH_SIZE).prefetch(2)"
   ]
  },
  {
   "cell_type": "code",
   "execution_count": 38,
   "metadata": {
    "colab": {
     "base_uri": "https://localhost:8080/"
    },
    "id": "bZaJHPkst30o",
    "outputId": "20a1d039-edfe-4aae-9a0d-5a728460747d"
   },
   "outputs": [
    {
     "name": "stdout",
     "output_type": "stream",
     "text": [
      "2048\n",
      "(2048,)\n",
      "0.49365234375\n"
     ]
    }
   ],
   "source": [
    "print(BATCH_SIZE)\n",
    "\n",
    "for features, label in resampled_ds.take(1):\n",
    "    print(label.numpy().shape)\n",
    "    print(label.numpy().mean())"
   ]
  },
  {
   "cell_type": "markdown",
   "metadata": {
    "id": "z77D49Fft30s"
   },
   "source": [
    "- tf.data.Dataset 을 사용하려면 에포크 당 step 수 계산 필요  \n",
    "\n",
    "\n",
    "- steps_per_epoch : 훈련 에포크가 완료되기 전의 배치 반복 횟수. 고정된 크기의 트레이닝 세트가 있는 경우 이를 무시할 수 있지만 큰 데이터 세트거나 random data augmentation 을 하는 경우 (즉, 트레이닝 세트의 크기가 무한대로 생성된 경우) 유용할 수 있음. 전체 training 세트를 진행할 시간이있는 경우 이 매개 변수를 건너 뛰는 것이 좋음.  \n",
    "\n",
    "\n",
    "- steps_per_epoch는 generator 를 steps_per_epoch 번 호출하여 전체 데이터 세트를 한 번 generate 하는 데 사용  "
   ]
  },
  {
   "cell_type": "markdown",
   "metadata": {
    "id": "BkMc17S8t30w"
   },
   "source": [
    "## Train on the oversampled data\n",
    "\n",
    "- 클래스 가중치를 사용하는 대신 리샘플링 된 데이터 세트로 모델을 학습하여 이러한 방법을 비교\n",
    "\n",
    "- 트레이닝 프로세스가 각 그라디언트 업데이트에서 전체 데이터 세트를 고려하는 경우, oversampling 은 기본적으로 class weight 방식과 동일.  \n",
    "\n",
    "- 그러나 모델을 배치 방식으로 학습 할 때,  데이터를 오버 샘플링 하는 방식은 보다 부드러운 gradient signal 을 제공. 하나의 배치에 각 positive example 이 큰 가중치로  표시되는 대신 많은 다른 배치에 작은 weight 로 나타남.   \n",
    "- 이 smooth 한 gradient signal 은 모델 훈련을 더 쉽게 만듬. \n",
    "\n",
    "- 균형 잡힌 데이터에 대한 train 이 더 쉬우므로 빠르게 과적합 될 수 있음.\n",
    "\n",
    "- 따라서 에포크를 분해하여 callback.EarlyStopping 의 train 중단 시점을보다 세밀하게 제어  \n",
    "\n",
    "- overfitting 을 빨리 감지하기 위해, epoch 은 10 배로 늘리고, epoch 당 step 수는 20 으로 줄여 patience=10 이 쉽게 만족되도록 함\n",
    "\n",
    "참고 : positive example 을 복제하여 데이터의 균형을 맞추 었으므로 전체 데이터 세트 크기가 더 크고 각 epoch 는 더 많은 training step 을 실행"
   ]
  },
  {
   "cell_type": "code",
   "execution_count": 39,
   "metadata": {
    "colab": {
     "base_uri": "https://localhost:8080/"
    },
    "id": "qnTwva6wt30y",
    "outputId": "71f53d7a-9e0d-460f-8492-f6d526367b36",
    "scrolled": true
   },
   "outputs": [
    {
     "name": "stdout",
     "output_type": "stream",
     "text": [
      "Epoch 1/1000\n",
      "20/20 [==============================] - 2s 55ms/step - loss: 0.6775 - tp: 7359.2381 - fp: 3935.2857 - tn: 78386.6667 - fn: 3951.2857 - accuracy: 0.9191 - precision: 0.6048 - recall: 0.6193 - auc: 0.9261 - val_loss: 0.5227 - val_tp: 105.0000 - val_fp: 11257.0000 - val_tn: 59825.0000 - val_fn: 15.0000 - val_accuracy: 0.8417 - val_precision: 0.0092 - val_recall: 0.8750 - val_auc: 0.9309\n",
      "Epoch 2/1000\n",
      "20/20 [==============================] - 0s 24ms/step - loss: 0.4173 - tp: 9426.4286 - fp: 2300.9048 - tn: 8940.7619 - fn: 1762.3810 - accuracy: 0.8127 - precision: 0.7973 - recall: 0.8393 - auc: 0.8907 - val_loss: 0.4119 - val_tp: 105.0000 - val_fp: 4298.0000 - val_tn: 66784.0000 - val_fn: 15.0000 - val_accuracy: 0.9394 - val_precision: 0.0238 - val_recall: 0.8750 - val_auc: 0.9414\n",
      "Epoch 3/1000\n",
      "20/20 [==============================] - 0s 24ms/step - loss: 0.3354 - tp: 9670.0476 - fp: 1190.1905 - tn: 9969.9048 - fn: 1600.3333 - accuracy: 0.8718 - precision: 0.8841 - recall: 0.8571 - auc: 0.9264 - val_loss: 0.2998 - val_tp: 105.0000 - val_fp: 1895.0000 - val_tn: 69187.0000 - val_fn: 15.0000 - val_accuracy: 0.9732 - val_precision: 0.0525 - val_recall: 0.8750 - val_auc: 0.9503\n",
      "Epoch 4/1000\n",
      "20/20 [==============================] - 0s 24ms/step - loss: 0.2778 - tp: 9724.6190 - fp: 652.0000 - tn: 10559.2381 - fn: 1494.6190 - accuracy: 0.9034 - precision: 0.9361 - recall: 0.8663 - auc: 0.9460 - val_loss: 0.2251 - val_tp: 105.0000 - val_fp: 1514.0000 - val_tn: 69568.0000 - val_fn: 15.0000 - val_accuracy: 0.9785 - val_precision: 0.0649 - val_recall: 0.8750 - val_auc: 0.9625\n",
      "Epoch 5/1000\n",
      "20/20 [==============================] - 0s 23ms/step - loss: 0.2358 - tp: 9904.1905 - fp: 456.0000 - tn: 10728.3810 - fn: 1341.9048 - accuracy: 0.9188 - precision: 0.9544 - recall: 0.8804 - auc: 0.9594 - val_loss: 0.1746 - val_tp: 105.0000 - val_fp: 1487.0000 - val_tn: 69595.0000 - val_fn: 15.0000 - val_accuracy: 0.9789 - val_precision: 0.0660 - val_recall: 0.8750 - val_auc: 0.9703\n",
      "Epoch 6/1000\n",
      "20/20 [==============================] - 0s 23ms/step - loss: 0.2054 - tp: 9981.8571 - fp: 372.1905 - tn: 10786.9524 - fn: 1289.4762 - accuracy: 0.9253 - precision: 0.9639 - recall: 0.8847 - auc: 0.9691 - val_loss: 0.1448 - val_tp: 106.0000 - val_fp: 1557.0000 - val_tn: 69525.0000 - val_fn: 14.0000 - val_accuracy: 0.9779 - val_precision: 0.0637 - val_recall: 0.8833 - val_auc: 0.9757\n",
      "Epoch 7/1000\n",
      "20/20 [==============================] - 0s 21ms/step - loss: 0.1825 - tp: 10057.5238 - fp: 393.5238 - tn: 10839.9524 - fn: 1139.4762 - accuracy: 0.9316 - precision: 0.9633 - recall: 0.8973 - auc: 0.9764 - val_loss: 0.1230 - val_tp: 105.0000 - val_fp: 1544.0000 - val_tn: 69538.0000 - val_fn: 15.0000 - val_accuracy: 0.9781 - val_precision: 0.0637 - val_recall: 0.8750 - val_auc: 0.9796\n",
      "Epoch 8/1000\n",
      "20/20 [==============================] - 0s 22ms/step - loss: 0.1643 - tp: 10106.9524 - fp: 353.6667 - tn: 10913.6190 - fn: 1056.2381 - accuracy: 0.9372 - precision: 0.9664 - recall: 0.9052 - auc: 0.9813 - val_loss: 0.1076 - val_tp: 106.0000 - val_fp: 1531.0000 - val_tn: 69551.0000 - val_fn: 14.0000 - val_accuracy: 0.9783 - val_precision: 0.0648 - val_recall: 0.8833 - val_auc: 0.9823\n",
      "Epoch 9/1000\n",
      "20/20 [==============================] - 0s 21ms/step - loss: 0.1502 - tp: 10322.1429 - fp: 354.5714 - tn: 10779.4762 - fn: 974.2857 - accuracy: 0.9405 - precision: 0.9673 - recall: 0.9131 - auc: 0.9852 - val_loss: 0.0985 - val_tp: 106.0000 - val_fp: 1536.0000 - val_tn: 69546.0000 - val_fn: 14.0000 - val_accuracy: 0.9782 - val_precision: 0.0646 - val_recall: 0.8833 - val_auc: 0.9836\n",
      "Epoch 10/1000\n",
      "20/20 [==============================] - 0s 22ms/step - loss: 0.1398 - tp: 10415.0000 - fp: 332.0000 - tn: 10768.5714 - fn: 914.9048 - accuracy: 0.9439 - precision: 0.9688 - recall: 0.9187 - auc: 0.9874 - val_loss: 0.0902 - val_tp: 106.0000 - val_fp: 1480.0000 - val_tn: 69602.0000 - val_fn: 14.0000 - val_accuracy: 0.9790 - val_precision: 0.0668 - val_recall: 0.8833 - val_auc: 0.9845\n",
      "Epoch 11/1000\n",
      "20/20 [==============================] - 0s 21ms/step - loss: 0.1316 - tp: 10348.5714 - fp: 331.3810 - tn: 10916.1905 - fn: 834.3333 - accuracy: 0.9475 - precision: 0.9676 - recall: 0.9256 - auc: 0.9889 - val_loss: 0.0847 - val_tp: 106.0000 - val_fp: 1483.0000 - val_tn: 69599.0000 - val_fn: 14.0000 - val_accuracy: 0.9790 - val_precision: 0.0667 - val_recall: 0.8833 - val_auc: 0.9858\n",
      "Epoch 12/1000\n",
      "20/20 [==============================] - 0s 21ms/step - loss: 0.1260 - tp: 10435.7143 - fp: 345.9524 - tn: 10837.0952 - fn: 811.7143 - accuracy: 0.9481 - precision: 0.9683 - recall: 0.9271 - auc: 0.9900 - val_loss: 0.0785 - val_tp: 106.0000 - val_fp: 1397.0000 - val_tn: 69685.0000 - val_fn: 14.0000 - val_accuracy: 0.9802 - val_precision: 0.0705 - val_recall: 0.8833 - val_auc: 0.9865\n",
      "Epoch 13/1000\n",
      "20/20 [==============================] - 0s 21ms/step - loss: 0.1200 - tp: 10466.3810 - fp: 321.3810 - tn: 10892.3333 - fn: 750.3810 - accuracy: 0.9516 - precision: 0.9689 - recall: 0.9333 - auc: 0.9913 - val_loss: 0.0739 - val_tp: 106.0000 - val_fp: 1382.0000 - val_tn: 69700.0000 - val_fn: 14.0000 - val_accuracy: 0.9804 - val_precision: 0.0712 - val_recall: 0.8833 - val_auc: 0.9869\n",
      "Epoch 14/1000\n",
      "20/20 [==============================] - 0s 21ms/step - loss: 0.1128 - tp: 10468.8095 - fp: 306.1905 - tn: 10954.0000 - fn: 701.4762 - accuracy: 0.9550 - precision: 0.9711 - recall: 0.9372 - auc: 0.9923 - val_loss: 0.0709 - val_tp: 107.0000 - val_fp: 1341.0000 - val_tn: 69741.0000 - val_fn: 13.0000 - val_accuracy: 0.9810 - val_precision: 0.0739 - val_recall: 0.8917 - val_auc: 0.9874\n",
      "Epoch 15/1000\n",
      "20/20 [==============================] - 0s 22ms/step - loss: 0.1061 - tp: 10453.4762 - fp: 297.4286 - tn: 11022.2857 - fn: 657.2857 - accuracy: 0.9575 - precision: 0.9723 - recall: 0.9412 - auc: 0.9936 - val_loss: 0.0666 - val_tp: 107.0000 - val_fp: 1290.0000 - val_tn: 69792.0000 - val_fn: 13.0000 - val_accuracy: 0.9817 - val_precision: 0.0766 - val_recall: 0.8917 - val_auc: 0.9879\n",
      "Epoch 16/1000\n",
      "20/20 [==============================] - 0s 22ms/step - loss: 0.1047 - tp: 10607.7619 - fp: 310.3333 - tn: 10868.1429 - fn: 644.2381 - accuracy: 0.9567 - precision: 0.9708 - recall: 0.9417 - auc: 0.9936 - val_loss: 0.0641 - val_tp: 107.0000 - val_fp: 1275.0000 - val_tn: 69807.0000 - val_fn: 13.0000 - val_accuracy: 0.9819 - val_precision: 0.0774 - val_recall: 0.8917 - val_auc: 0.9881\n",
      "Epoch 17/1000\n",
      "20/20 [==============================] - 0s 21ms/step - loss: 0.0972 - tp: 10680.6190 - fp: 294.8571 - tn: 10883.8095 - fn: 571.1905 - accuracy: 0.9613 - precision: 0.9731 - recall: 0.9491 - auc: 0.9945 - val_loss: 0.0620 - val_tp: 107.0000 - val_fp: 1250.0000 - val_tn: 69832.0000 - val_fn: 13.0000 - val_accuracy: 0.9823 - val_precision: 0.0789 - val_recall: 0.8917 - val_auc: 0.9878\n",
      "Epoch 18/1000\n",
      "20/20 [==============================] - 0s 22ms/step - loss: 0.0910 - tp: 10751.0476 - fp: 276.7143 - tn: 10860.8571 - fn: 541.8571 - accuracy: 0.9637 - precision: 0.9755 - recall: 0.9522 - auc: 0.9954 - val_loss: 0.0574 - val_tp: 107.0000 - val_fp: 1179.0000 - val_tn: 69903.0000 - val_fn: 13.0000 - val_accuracy: 0.9833 - val_precision: 0.0832 - val_recall: 0.8917 - val_auc: 0.9879\n",
      "Epoch 19/1000\n",
      "20/20 [==============================] - 0s 22ms/step - loss: 0.0888 - tp: 10647.0476 - fp: 282.3810 - tn: 10984.7619 - fn: 516.2857 - accuracy: 0.9645 - precision: 0.9742 - recall: 0.9537 - auc: 0.9957 - val_loss: 0.0548 - val_tp: 107.0000 - val_fp: 1158.0000 - val_tn: 69924.0000 - val_fn: 13.0000 - val_accuracy: 0.9836 - val_precision: 0.0846 - val_recall: 0.8917 - val_auc: 0.9882\n",
      "Epoch 20/1000\n",
      "20/20 [==============================] - 0s 21ms/step - loss: 0.0879 - tp: 10737.0476 - fp: 296.8095 - tn: 10890.3333 - fn: 506.2857 - accuracy: 0.9638 - precision: 0.9726 - recall: 0.9544 - auc: 0.9958 - val_loss: 0.0550 - val_tp: 107.0000 - val_fp: 1206.0000 - val_tn: 69876.0000 - val_fn: 13.0000 - val_accuracy: 0.9829 - val_precision: 0.0815 - val_recall: 0.8917 - val_auc: 0.9881\n",
      "Epoch 21/1000\n"
     ]
    },
    {
     "name": "stdout",
     "output_type": "stream",
     "text": [
      "20/20 [==============================] - 0s 21ms/step - loss: 0.0815 - tp: 10726.3333 - fp: 287.0952 - tn: 10946.9048 - fn: 470.1429 - accuracy: 0.9664 - precision: 0.9743 - recall: 0.9580 - auc: 0.9965 - val_loss: 0.0521 - val_tp: 107.0000 - val_fp: 1141.0000 - val_tn: 69941.0000 - val_fn: 13.0000 - val_accuracy: 0.9838 - val_precision: 0.0857 - val_recall: 0.8917 - val_auc: 0.9884\n",
      "Epoch 22/1000\n",
      "20/20 [==============================] - 0s 21ms/step - loss: 0.0839 - tp: 10849.4762 - fp: 270.2857 - tn: 10859.3810 - fn: 451.3333 - accuracy: 0.9671 - precision: 0.9749 - recall: 0.9595 - auc: 0.9962 - val_loss: 0.0501 - val_tp: 107.0000 - val_fp: 1092.0000 - val_tn: 69990.0000 - val_fn: 13.0000 - val_accuracy: 0.9845 - val_precision: 0.0892 - val_recall: 0.8917 - val_auc: 0.9886\n",
      "Epoch 23/1000\n",
      "20/20 [==============================] - 0s 22ms/step - loss: 0.0730 - tp: 10809.1905 - fp: 250.9524 - tn: 10976.6190 - fn: 393.7143 - accuracy: 0.9715 - precision: 0.9771 - recall: 0.9652 - auc: 0.9972 - val_loss: 0.0492 - val_tp: 107.0000 - val_fp: 1084.0000 - val_tn: 69998.0000 - val_fn: 13.0000 - val_accuracy: 0.9846 - val_precision: 0.0898 - val_recall: 0.8917 - val_auc: 0.9878\n",
      "Epoch 24/1000\n",
      "20/20 [==============================] - 0s 21ms/step - loss: 0.0691 - tp: 10773.5714 - fp: 244.7619 - tn: 11023.0000 - fn: 389.1429 - accuracy: 0.9716 - precision: 0.9777 - recall: 0.9647 - auc: 0.9974 - val_loss: 0.0472 - val_tp: 107.0000 - val_fp: 1046.0000 - val_tn: 70036.0000 - val_fn: 13.0000 - val_accuracy: 0.9851 - val_precision: 0.0928 - val_recall: 0.8917 - val_auc: 0.9848\n",
      "Epoch 25/1000\n",
      "20/20 [==============================] - 0s 21ms/step - loss: 0.0729 - tp: 10807.1429 - fp: 265.0952 - tn: 10980.4762 - fn: 377.7619 - accuracy: 0.9711 - precision: 0.9762 - recall: 0.9657 - auc: 0.9972 - val_loss: 0.0445 - val_tp: 106.0000 - val_fp: 979.0000 - val_tn: 70103.0000 - val_fn: 14.0000 - val_accuracy: 0.9861 - val_precision: 0.0977 - val_recall: 0.8833 - val_auc: 0.9842\n",
      "Epoch 26/1000\n",
      "20/20 [==============================] - 0s 22ms/step - loss: 0.0633 - tp: 10897.4286 - fp: 234.7619 - tn: 10951.0952 - fn: 347.1905 - accuracy: 0.9742 - precision: 0.9788 - recall: 0.9694 - auc: 0.9979 - val_loss: 0.0449 - val_tp: 106.0000 - val_fp: 1012.0000 - val_tn: 70070.0000 - val_fn: 14.0000 - val_accuracy: 0.9856 - val_precision: 0.0948 - val_recall: 0.8833 - val_auc: 0.9853\n",
      "Epoch 27/1000\n",
      "20/20 [==============================] - 0s 22ms/step - loss: 0.0682 - tp: 10853.7143 - fp: 230.2381 - tn: 10997.8095 - fn: 348.7143 - accuracy: 0.9743 - precision: 0.9801 - recall: 0.9683 - auc: 0.9977 - val_loss: 0.0425 - val_tp: 106.0000 - val_fp: 956.0000 - val_tn: 70126.0000 - val_fn: 14.0000 - val_accuracy: 0.9864 - val_precision: 0.0998 - val_recall: 0.8833 - val_auc: 0.9848\n",
      "Epoch 28/1000\n",
      "20/20 [==============================] - 0s 21ms/step - loss: 0.0602 - tp: 10997.6667 - fp: 218.2381 - tn: 10912.0476 - fn: 302.5238 - accuracy: 0.9769 - precision: 0.9805 - recall: 0.9735 - auc: 0.9981 - val_loss: 0.0415 - val_tp: 106.0000 - val_fp: 941.0000 - val_tn: 70141.0000 - val_fn: 14.0000 - val_accuracy: 0.9866 - val_precision: 0.1012 - val_recall: 0.8833 - val_auc: 0.9849\n",
      "Epoch 29/1000\n",
      "20/20 [==============================] - 0s 21ms/step - loss: 0.0685 - tp: 10918.0952 - fp: 227.6190 - tn: 10976.4762 - fn: 308.2857 - accuracy: 0.9758 - precision: 0.9795 - recall: 0.9720 - auc: 0.9975 - val_loss: 0.0410 - val_tp: 106.0000 - val_fp: 936.0000 - val_tn: 70146.0000 - val_fn: 14.0000 - val_accuracy: 0.9867 - val_precision: 0.1017 - val_recall: 0.8833 - val_auc: 0.9818\n",
      "Epoch 30/1000\n",
      "20/20 [==============================] - 0s 21ms/step - loss: 0.0584 - tp: 10986.7619 - fp: 237.0952 - tn: 10932.2381 - fn: 274.3810 - accuracy: 0.9774 - precision: 0.9790 - recall: 0.9759 - auc: 0.9980 - val_loss: 0.0385 - val_tp: 106.0000 - val_fp: 859.0000 - val_tn: 70223.0000 - val_fn: 14.0000 - val_accuracy: 0.9877 - val_precision: 0.1098 - val_recall: 0.8833 - val_auc: 0.9815\n",
      "Epoch 31/1000\n",
      "20/20 [==============================] - 0s 21ms/step - loss: 0.0569 - tp: 10926.3810 - fp: 213.3810 - tn: 11028.5714 - fn: 262.1429 - accuracy: 0.9787 - precision: 0.9805 - recall: 0.9765 - auc: 0.9982 - val_loss: 0.0392 - val_tp: 106.0000 - val_fp: 891.0000 - val_tn: 70191.0000 - val_fn: 14.0000 - val_accuracy: 0.9873 - val_precision: 0.1063 - val_recall: 0.8833 - val_auc: 0.9817\n",
      "Epoch 32/1000\n",
      "20/20 [==============================] - 0s 22ms/step - loss: 0.0537 - tp: 10967.8571 - fp: 226.0952 - tn: 10972.9524 - fn: 263.5714 - accuracy: 0.9778 - precision: 0.9793 - recall: 0.9763 - auc: 0.9982 - val_loss: 0.0384 - val_tp: 106.0000 - val_fp: 872.0000 - val_tn: 70210.0000 - val_fn: 14.0000 - val_accuracy: 0.9876 - val_precision: 0.1084 - val_recall: 0.8833 - val_auc: 0.9820\n",
      "Restoring model weights from the end of the best epoch.\n",
      "Epoch 00032: early stopping\n"
     ]
    }
   ],
   "source": [
    "resampled_model = make_model()\n",
    "\n",
    "val_ds = tf.data.Dataset.from_tensor_slices((X_test, y_test)).cache()\n",
    "val_ds = val_ds.batch(BATCH_SIZE).prefetch(2) \n",
    "\n",
    "resampled_history = resampled_model.fit(\n",
    "    resampled_ds,\n",
    "    steps_per_epoch = 20,\n",
    "    epochs= 1000,   # These are not real epochs\n",
    "    callbacks = [early_stopping],\n",
    "    validation_data=val_ds)"
   ]
  },
  {
   "cell_type": "markdown",
   "metadata": {
    "id": "ej7yQd_1t302"
   },
   "source": [
    "### Check training history\n",
    "\n",
    "training 데이터와 validation data 가 완전히 다른 분포이므로 metric 의 분포가 이전과 다름"
   ]
  },
  {
   "cell_type": "code",
   "execution_count": 40,
   "metadata": {
    "colab": {
     "base_uri": "https://localhost:8080/",
     "height": 585
    },
    "id": "3t1RKbxqt302",
    "outputId": "1f6e37ae-081a-41a3-e833-2dd7721ae3d0"
   },
   "outputs": [
    {
     "data": {
      "image/png": "[encoded data removed]",
      "text/plain": [
       "<Figure size 864x576 with 4 Axes>"
      ]
     },
     "metadata": {
      "needs_background": "light"
     },
     "output_type": "display_data"
    }
   ],
   "source": [
    "plot_metrics(resampled_history )"
   ]
  },
  {
   "cell_type": "markdown",
   "metadata": {
    "id": "-FgiHPOnt309"
   },
   "source": [
    "### Evaluate metrics"
   ]
  },
  {
   "cell_type": "code",
   "execution_count": 41,
   "metadata": {
    "id": "w-ADY1dEt30-"
   },
   "outputs": [],
   "source": [
    "predictions_resampled = resampled_model.predict(X_test, batch_size=BATCH_SIZE)"
   ]
  },
  {
   "cell_type": "code",
   "execution_count": 42,
   "metadata": {
    "colab": {
     "base_uri": "https://localhost:8080/",
     "height": 619
    },
    "id": "ELxTP2Ext31B",
    "outputId": "69db5caa-352b-457e-f483-6f462024824b"
   },
   "outputs": [
    {
     "name": "stdout",
     "output_type": "stream",
     "text": [
      "loss :  0.05008514225482941\n",
      "tp :  107.0\n",
      "fp :  1092.0\n",
      "tn :  69990.0\n",
      "fn :  13.0\n",
      "accuracy :  0.9844807982444763\n",
      "precision :  0.08924103528261185\n",
      "recall :  0.8916666507720947\n",
      "auc :  0.9886078238487244\n",
      "\n",
      "confution matrix\n",
      " [[69990  1092]\n",
      " [   13   107]]\n",
      "\n",
      "f1 score\n",
      " 0.16224412433661864\n",
      "\n",
      "Accuracy: 0.98448\n",
      "Precision: 0.08924\n",
      "Recall: 0.89167\n"
     ]
    },
    {
     "data": {
      "image/png": "[encoded data removed]",
      "text/plain": [
       "<Figure size 360x360 with 2 Axes>"
      ]
     },
     "metadata": {
      "needs_background": "light"
     },
     "output_type": "display_data"
    }
   ],
   "source": [
    "resampled_results = resampled_model.evaluate(X_test, y_test,\n",
    "                                             batch_size=BATCH_SIZE, verbose=0)\n",
    "for name, value in zip(resampled_model.metrics_names, resampled_results):\n",
    "    print(name, ': ', value)\n",
    "    \n",
    "print()\n",
    "\n",
    "plot_cm(y_test, predictions_resampled)"
   ]
  },
  {
   "cell_type": "markdown",
   "metadata": {
    "id": "ebH9JoZ6t31D"
   },
   "source": [
    "### Plot the ROC"
   ]
  },
  {
   "cell_type": "code",
   "execution_count": 43,
   "metadata": {
    "colab": {
     "base_uri": "https://localhost:8080/",
     "height": 406
    },
    "id": "Q8vOWAQ_t31E",
    "outputId": "ff396f4d-c146-4907-95ae-e1f14bfaa6df"
   },
   "outputs": [
    {
     "data": {
      "text/plain": [
       "<matplotlib.legend.Legend at 0x7fe670b1e510>"
      ]
     },
     "execution_count": 43,
     "metadata": {},
     "output_type": "execute_result"
    },
    {
     "data": {
      "image/png": "[encoded data removed]",
      "text/plain": [
       "<Figure size 576x432 with 1 Axes>"
      ]
     },
     "metadata": {
      "needs_background": "light"
     },
     "output_type": "display_data"
    }
   ],
   "source": [
    "plot_roc(\"Baseline\", y_test, predictions_baseline, color='blue', linestyle='--')\n",
    "\n",
    "plot_roc(\"Weighted\", y_test, predictions_weighted, color='green', linestyle='--')\n",
    "\n",
    "plot_roc(\"Resampled\", y_test, predictions_resampled,  color='red', linestyle='--')\n",
    "plt.legend(loc='lower right')"
   ]
  },
  {
   "cell_type": "markdown",
   "metadata": {
    "id": "sRpf21k4t31H"
   },
   "source": [
    "### 실제 문제 적용시 유의점\n",
    "\n",
    "- 불균형 데이터 분류는 배울 샘플이 거의 없기 때문에 본질적으로 어려운 작업임\n",
    "\n",
    "- 항상 데이터부터 먼저 시작하고 가능한 많은 샘플을 수집하고 어떤 feature 가 minority sample 분류에 관련될지 구체적으로 고민  \n",
    "\n",
    "- 어떤 시점에서 모델이 원하는 결과를 개선하고 도출하는 데 어려움을 겪을 수 있으므로 오류 유형 간의 trade-off 를 염두에 두는 것이 중요"
   ]
  },
  {
   "cell_type": "code",
   "execution_count": null,
   "metadata": {
    "id": "rcbHFEtjGzxD"
   },
   "outputs": [],
   "source": []
  }
 ],
 "metadata": {
  "accelerator": "GPU",
  "colab": {
   "collapsed_sections": [],
   "machine_shape": "hm",
   "name": "120_DNN_Highly_Imbalanced_Data_fraud_detection.ipynb",
   "provenance": []
  },
  "kernelspec": {
   "display_name": "Python 3",
   "language": "python",
   "name": "python3"
  },
  "language_info": {
   "codemirror_mode": {
    "name": "ipython",
    "version": 3
   },
   "file_extension": ".py",
   "mimetype": "text/x-python",
   "name": "python",
   "nbconvert_exporter": "python",
   "pygments_lexer": "ipython3",
   "version": "3.7.10"
  }
 },
 "nbformat": 4,
 "nbformat_minor": 1
}
