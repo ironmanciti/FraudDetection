{
 "cells": [
  {
   "cell_type": "markdown",
   "metadata": {
    "id": "iEl3ncgPc0sv"
   },
   "source": [
    "\n",
    "# Autoencoder 와 KNN 을 이용한 Credit Card Fraud Detection\n",
    "\n",
    "- [Credit Card Fraud Detection](https://www.kaggle.com/mlg-ulb/creditcardfraud) - Kaggle\n",
    "\n",
    "\n",
    "- Highly Imbalanced Dataset - dataset는 2013 년 9 월 유럽 카드 소지자 신용 카드 거래로 만들었습니다. 이 dataset는 2 일 동안 발생한 거래를 보여 주며, 284,807 건의 거래 중 492 건의 fraud가 있습니다. 데이터세트는 매우 불균형하며 포지티브 클래스(사기)는 모든 거래의 0.172 %를 차지합니다.\n",
    "\n",
    "\n",
    "- 이 dataset는 PCA 변환의 결과인 숫자 입력 변수만 포함합니다. 안타깝게도 기밀 유지 문제로 인해 데이터에 대한 원래 feature와 추가 background 정보를 제공할 수 없습니다. 특성 V1, V2, ... V28은 PCA로 얻은 principal component이며 PCA로 변환되지 않은 유일한 기능은 'Time' 과 'Amount' 입니다. 'time' 특성은 각 트랜잭션과 데이터 세트의 첫 번째 트랜잭션 사이에 경과된 시간(초) 입니다. 'Amount' 특성은 거래금액 입니다. \n",
    "\n",
    "\n",
    "\n",
    "- 'Class'는 사기의 경우 1, 그렇지 않으면 0 입니다."
   ]
  },
  {
   "cell_type": "code",
   "execution_count": 1,
   "metadata": {
    "id": "YRbN35YNJjUN"
   },
   "outputs": [],
   "source": [
    "import pandas as pd\n",
    "import numpy as np\n",
    "import seaborn as sns\n",
    "import matplotlib.pyplot as plt \n",
    "import matplotlib.ticker as ticker\n",
    "\n",
    "from sklearn.model_selection import train_test_split\n",
    "from sklearn import metrics\n",
    "from sklearn.preprocessing import StandardScaler\n",
    "\n",
    "import tensorflow as tf\n",
    "from tensorflow.keras.models import Model, load_model\n",
    "from tensorflow.keras.layers import Input, Dense\n",
    "from tensorflow.keras.utils import plot_model\n",
    "\n",
    "np.random.seed(0)\n",
    "tf.random.set_seed(0)"
   ]
  },
  {
   "cell_type": "markdown",
   "metadata": {
    "id": "WTrPa78OJjUN"
   },
   "source": [
    "## Downloading of dataset"
   ]
  },
  {
   "cell_type": "code",
   "execution_count": 2,
   "metadata": {
    "colab": {
     "base_uri": "https://localhost:8080/",
     "height": 225
    },
    "id": "gT2psZNVvB9U",
    "outputId": "1920effb-b5f7-46a2-b65c-c10ee2820956"
   },
   "outputs": [
    {
     "data": {
      "text/html": [
       "<div>\n",
       "<style scoped>\n",
       "    .dataframe tbody tr th:only-of-type {\n",
       "        vertical-align: middle;\n",
       "    }\n",
       "\n",
       "    .dataframe tbody tr th {\n",
       "        vertical-align: top;\n",
       "    }\n",
       "\n",
       "    .dataframe thead th {\n",
       "        text-align: right;\n",
       "    }\n",
       "</style>\n",
       "<table border=\"1\" class=\"dataframe\">\n",
       "  <thead>\n",
       "    <tr style=\"text-align: right;\">\n",
       "      <th></th>\n",
       "      <th>Time</th>\n",
       "      <th>V1</th>\n",
       "      <th>V2</th>\n",
       "      <th>V3</th>\n",
       "      <th>V4</th>\n",
       "      <th>V5</th>\n",
       "      <th>V6</th>\n",
       "      <th>V7</th>\n",
       "      <th>V8</th>\n",
       "      <th>V9</th>\n",
       "      <th>...</th>\n",
       "      <th>V21</th>\n",
       "      <th>V22</th>\n",
       "      <th>V23</th>\n",
       "      <th>V24</th>\n",
       "      <th>V25</th>\n",
       "      <th>V26</th>\n",
       "      <th>V27</th>\n",
       "      <th>V28</th>\n",
       "      <th>Amount</th>\n",
       "      <th>Class</th>\n",
       "    </tr>\n",
       "  </thead>\n",
       "  <tbody>\n",
       "    <tr>\n",
       "      <th>0</th>\n",
       "      <td>0.0</td>\n",
       "      <td>-1.359807</td>\n",
       "      <td>-0.072781</td>\n",
       "      <td>2.536347</td>\n",
       "      <td>1.378155</td>\n",
       "      <td>-0.338321</td>\n",
       "      <td>0.462388</td>\n",
       "      <td>0.239599</td>\n",
       "      <td>0.098698</td>\n",
       "      <td>0.363787</td>\n",
       "      <td>...</td>\n",
       "      <td>-0.018307</td>\n",
       "      <td>0.277838</td>\n",
       "      <td>-0.110474</td>\n",
       "      <td>0.066928</td>\n",
       "      <td>0.128539</td>\n",
       "      <td>-0.189115</td>\n",
       "      <td>0.133558</td>\n",
       "      <td>-0.021053</td>\n",
       "      <td>149.62</td>\n",
       "      <td>0</td>\n",
       "    </tr>\n",
       "    <tr>\n",
       "      <th>1</th>\n",
       "      <td>0.0</td>\n",
       "      <td>1.191857</td>\n",
       "      <td>0.266151</td>\n",
       "      <td>0.166480</td>\n",
       "      <td>0.448154</td>\n",
       "      <td>0.060018</td>\n",
       "      <td>-0.082361</td>\n",
       "      <td>-0.078803</td>\n",
       "      <td>0.085102</td>\n",
       "      <td>-0.255425</td>\n",
       "      <td>...</td>\n",
       "      <td>-0.225775</td>\n",
       "      <td>-0.638672</td>\n",
       "      <td>0.101288</td>\n",
       "      <td>-0.339846</td>\n",
       "      <td>0.167170</td>\n",
       "      <td>0.125895</td>\n",
       "      <td>-0.008983</td>\n",
       "      <td>0.014724</td>\n",
       "      <td>2.69</td>\n",
       "      <td>0</td>\n",
       "    </tr>\n",
       "    <tr>\n",
       "      <th>2</th>\n",
       "      <td>1.0</td>\n",
       "      <td>-1.358354</td>\n",
       "      <td>-1.340163</td>\n",
       "      <td>1.773209</td>\n",
       "      <td>0.379780</td>\n",
       "      <td>-0.503198</td>\n",
       "      <td>1.800499</td>\n",
       "      <td>0.791461</td>\n",
       "      <td>0.247676</td>\n",
       "      <td>-1.514654</td>\n",
       "      <td>...</td>\n",
       "      <td>0.247998</td>\n",
       "      <td>0.771679</td>\n",
       "      <td>0.909412</td>\n",
       "      <td>-0.689281</td>\n",
       "      <td>-0.327642</td>\n",
       "      <td>-0.139097</td>\n",
       "      <td>-0.055353</td>\n",
       "      <td>-0.059752</td>\n",
       "      <td>378.66</td>\n",
       "      <td>0</td>\n",
       "    </tr>\n",
       "    <tr>\n",
       "      <th>3</th>\n",
       "      <td>1.0</td>\n",
       "      <td>-0.966272</td>\n",
       "      <td>-0.185226</td>\n",
       "      <td>1.792993</td>\n",
       "      <td>-0.863291</td>\n",
       "      <td>-0.010309</td>\n",
       "      <td>1.247203</td>\n",
       "      <td>0.237609</td>\n",
       "      <td>0.377436</td>\n",
       "      <td>-1.387024</td>\n",
       "      <td>...</td>\n",
       "      <td>-0.108300</td>\n",
       "      <td>0.005274</td>\n",
       "      <td>-0.190321</td>\n",
       "      <td>-1.175575</td>\n",
       "      <td>0.647376</td>\n",
       "      <td>-0.221929</td>\n",
       "      <td>0.062723</td>\n",
       "      <td>0.061458</td>\n",
       "      <td>123.50</td>\n",
       "      <td>0</td>\n",
       "    </tr>\n",
       "    <tr>\n",
       "      <th>4</th>\n",
       "      <td>2.0</td>\n",
       "      <td>-1.158233</td>\n",
       "      <td>0.877737</td>\n",
       "      <td>1.548718</td>\n",
       "      <td>0.403034</td>\n",
       "      <td>-0.407193</td>\n",
       "      <td>0.095921</td>\n",
       "      <td>0.592941</td>\n",
       "      <td>-0.270533</td>\n",
       "      <td>0.817739</td>\n",
       "      <td>...</td>\n",
       "      <td>-0.009431</td>\n",
       "      <td>0.798278</td>\n",
       "      <td>-0.137458</td>\n",
       "      <td>0.141267</td>\n",
       "      <td>-0.206010</td>\n",
       "      <td>0.502292</td>\n",
       "      <td>0.219422</td>\n",
       "      <td>0.215153</td>\n",
       "      <td>69.99</td>\n",
       "      <td>0</td>\n",
       "    </tr>\n",
       "  </tbody>\n",
       "</table>\n",
       "<p>5 rows × 31 columns</p>\n",
       "</div>"
      ],
      "text/plain": [
       "   Time        V1        V2        V3        V4        V5        V6        V7  \\\n",
       "0   0.0 -1.359807 -0.072781  2.536347  1.378155 -0.338321  0.462388  0.239599   \n",
       "1   0.0  1.191857  0.266151  0.166480  0.448154  0.060018 -0.082361 -0.078803   \n",
       "2   1.0 -1.358354 -1.340163  1.773209  0.379780 -0.503198  1.800499  0.791461   \n",
       "3   1.0 -0.966272 -0.185226  1.792993 -0.863291 -0.010309  1.247203  0.237609   \n",
       "4   2.0 -1.158233  0.877737  1.548718  0.403034 -0.407193  0.095921  0.592941   \n",
       "\n",
       "         V8        V9  ...       V21       V22       V23       V24       V25  \\\n",
       "0  0.098698  0.363787  ... -0.018307  0.277838 -0.110474  0.066928  0.128539   \n",
       "1  0.085102 -0.255425  ... -0.225775 -0.638672  0.101288 -0.339846  0.167170   \n",
       "2  0.247676 -1.514654  ...  0.247998  0.771679  0.909412 -0.689281 -0.327642   \n",
       "3  0.377436 -1.387024  ... -0.108300  0.005274 -0.190321 -1.175575  0.647376   \n",
       "4 -0.270533  0.817739  ... -0.009431  0.798278 -0.137458  0.141267 -0.206010   \n",
       "\n",
       "        V26       V27       V28  Amount  Class  \n",
       "0 -0.189115  0.133558 -0.021053  149.62      0  \n",
       "1  0.125895 -0.008983  0.014724    2.69      0  \n",
       "2 -0.139097 -0.055353 -0.059752  378.66      0  \n",
       "3 -0.221929  0.062723  0.061458  123.50      0  \n",
       "4  0.502292  0.219422  0.215153   69.99      0  \n",
       "\n",
       "[5 rows x 31 columns]"
      ]
     },
     "execution_count": 2,
     "metadata": {},
     "output_type": "execute_result"
    }
   ],
   "source": [
    "df = pd.read_csv(\"data/creditcard.csv\")\n",
    "# df = pd.read_csv( 'https://storage.googleapis.com/download.tensorflow.org/data/creditcard.csv')\n",
    "df.head()"
   ]
  },
  {
   "cell_type": "markdown",
   "metadata": {
    "id": "5Y0a-xNMeDEA"
   },
   "source": [
    "- the dataset is highly unbalanced"
   ]
  },
  {
   "cell_type": "code",
   "execution_count": 3,
   "metadata": {
    "colab": {
     "base_uri": "https://localhost:8080/"
    },
    "id": "l3TwIbGCvmz9",
    "outputId": "e3816d74-e549-482c-85fa-193c5ab4fa4c"
   },
   "outputs": [
    {
     "data": {
      "text/plain": [
       "0    284315\n",
       "1       492\n",
       "Name: Class, dtype: int64"
      ]
     },
     "execution_count": 3,
     "metadata": {},
     "output_type": "execute_result"
    }
   ],
   "source": [
    "df['Class'].value_counts()"
   ]
  },
  {
   "cell_type": "code",
   "execution_count": 4,
   "metadata": {
    "colab": {
     "base_uri": "https://localhost:8080/"
    },
    "id": "L4KRErdPvt1A",
    "outputId": "c1c55371-128c-4bdb-93c0-fb8aa7ee3b73"
   },
   "outputs": [
    {
     "name": "stdout",
     "output_type": "stream",
     "text": [
      "Total = 284,807\n",
      "Fraud = 0.17%\n",
      "Normal = 99.83%\n"
     ]
    }
   ],
   "source": [
    "fraud = (df['Class'] == 1).sum()\n",
    "normal = (df['Class'] == 0).sum()\n",
    "\n",
    "total = fraud + normal\n",
    "\n",
    "print(f\"Total = {total:,}\")\n",
    "print(f\"Fraud = {fraud/total*100:,.2f}%\")\n",
    "print(f\"Normal = {normal/total*100:,.2f}%\")"
   ]
  },
  {
   "cell_type": "markdown",
   "metadata": {},
   "source": [
    "- Time 필드를 일중 시간으로 변환합니다.   \n",
    "- Amount 필드는 로그 스케일로 변환합니다."
   ]
  },
  {
   "cell_type": "code",
   "execution_count": 5,
   "metadata": {},
   "outputs": [],
   "source": [
    "df.loc[:, \"Time\"]   = df.loc[:, \"Time\"].apply(lambda x : x / 3600 % 24) #일중 시간\n",
    "df.loc[:, 'Amount'] = np.log(df.loc[:, 'Amount'] + 1)"
   ]
  },
  {
   "cell_type": "markdown",
   "metadata": {
    "id": "6vzbL3QfJjUQ"
   },
   "source": [
    "- class 1 이 너무 적으므로 통상적인 7:3 대신 5:5 비율로 train, test set 분리"
   ]
  },
  {
   "cell_type": "code",
   "execution_count": 20,
   "metadata": {
    "colab": {
     "base_uri": "https://localhost:8080/"
    },
    "id": "1T3X-3wFv001",
    "outputId": "b27646c6-0689-44ea-dc46-97b879b7f855"
   },
   "outputs": [
    {
     "data": {
      "text/plain": [
       "((142403, 30), (142404, 30), (142403,), (142404,))"
      ]
     },
     "execution_count": 20,
     "metadata": {},
     "output_type": "execute_result"
    }
   ],
   "source": [
    "X_train, X_test, y_train, y_test = train_test_split(df.drop('Class', axis=1), df['Class'], \n",
    "                                                    test_size=0.5, random_state=0)\n",
    "X_train.shape, X_test.shape, y_train.shape, y_test.shape"
   ]
  },
  {
   "cell_type": "code",
   "execution_count": 21,
   "metadata": {},
   "outputs": [],
   "source": [
    "sc = StandardScaler()\n",
    "X_train = sc.fit_transform(X_train.values)\n",
    "X_test  = sc.transform(X_test.values)"
   ]
  },
  {
   "cell_type": "code",
   "execution_count": 22,
   "metadata": {
    "colab": {
     "base_uri": "https://localhost:8080/"
    },
    "id": "ooXM9UEwv3QX",
    "outputId": "53670599-ba53-4c1a-b0a3-a73b0d984dff"
   },
   "outputs": [
    {
     "data": {
      "text/plain": [
       "0    0.998294\n",
       "1    0.001706\n",
       "Name: Class, dtype: float64"
      ]
     },
     "execution_count": 22,
     "metadata": {},
     "output_type": "execute_result"
    }
   ],
   "source": [
    "y_test.value_counts() / y_test.count()"
   ]
  },
  {
   "cell_type": "code",
   "execution_count": 23,
   "metadata": {
    "colab": {
     "base_uri": "https://localhost:8080/"
    },
    "id": "K3YUftDjv5z-",
    "outputId": "f62c8b49-f54a-44b9-d7c2-16df3829ffda"
   },
   "outputs": [
    {
     "data": {
      "text/plain": [
       "0    0.998251\n",
       "1    0.001749\n",
       "Name: Class, dtype: float64"
      ]
     },
     "execution_count": 23,
     "metadata": {},
     "output_type": "execute_result"
    }
   ],
   "source": [
    "y_train.value_counts() / y_train.count()"
   ]
  },
  {
   "cell_type": "markdown",
   "metadata": {
    "id": "otvOl-HcevoG"
   },
   "source": [
    "## 첫번째 방법 : 오토인코더의 reconstruction error threshold 사용"
   ]
  },
  {
   "cell_type": "markdown",
   "metadata": {
    "id": "xPpRAl0TeQR8"
   },
   "source": [
    "- 정상 거래로만 오토 인코더를 교육합니다.   \n",
    "\n",
    "- 사기성(비정상) 거래의 재구성 error 가 비사기성 거래보다 높을 것으로 기대합니다."
   ]
  },
  {
   "cell_type": "code",
   "execution_count": 24,
   "metadata": {
    "colab": {
     "base_uri": "https://localhost:8080/"
    },
    "id": "mMzBdaAdv7rE",
    "outputId": "3bec34f1-6d31-45f9-f31a-dc9821ad2d59"
   },
   "outputs": [
    {
     "data": {
      "text/plain": [
       "((142154, 30), (249, 30))"
      ]
     },
     "execution_count": 24,
     "metadata": {},
     "output_type": "execute_result"
    }
   ],
   "source": [
    "X_train_normal = X_train[y_train == 0]\n",
    "X_train_fraud = X_train[y_train == 1]\n",
    "\n",
    "X_train_normal.shape, X_train_fraud.shape"
   ]
  },
  {
   "cell_type": "code",
   "execution_count": 25,
   "metadata": {
    "colab": {
     "base_uri": "https://localhost:8080/"
    },
    "id": "yeOaUz5cJ793",
    "outputId": "d20fd9fc-5765-45e7-9934-9d35bcf8d048"
   },
   "outputs": [
    {
     "data": {
      "text/plain": [
       "((142161, 30), (243, 30))"
      ]
     },
     "execution_count": 25,
     "metadata": {},
     "output_type": "execute_result"
    }
   ],
   "source": [
    "X_test_normal = X_test[y_test == 0]\n",
    "X_test_fraud = X_test[y_test == 1]\n",
    "\n",
    "X_test_normal.shape, X_test_fraud.shape"
   ]
  },
  {
   "cell_type": "markdown",
   "metadata": {
    "id": "CbX1U5aheSla"
   },
   "source": [
    "Building an autoencoder with\n",
    "- an input layer with 29 features,\n",
    "- a hidden layer with 12 neurons,\n",
    "- an output layer with 29 neurons"
   ]
  },
  {
   "cell_type": "code",
   "execution_count": 26,
   "metadata": {
    "id": "euBPgiamw2R6"
   },
   "outputs": [],
   "source": [
    "input_layer = Input(shape=(30, ))\n",
    "encoded_normal = Dense(12, activation='relu')(input_layer)\n",
    "decoded_normal = Dense(30, activation='linear')(encoded_normal)\n",
    "\n",
    "autoencoder_normal = Model(input_layer, decoded_normal)"
   ]
  },
  {
   "cell_type": "code",
   "execution_count": 27,
   "metadata": {
    "id": "fY42GWDWyoxL"
   },
   "outputs": [],
   "source": [
    "autoencoder_normal.compile(optimizer='adam', loss='mse')"
   ]
  },
  {
   "cell_type": "code",
   "execution_count": 28,
   "metadata": {
    "colab": {
     "base_uri": "https://localhost:8080/",
     "height": 312
    },
    "id": "_KCypy0uwbql",
    "outputId": "17a2b985-6350-424f-a9ff-12b933ec39d0"
   },
   "outputs": [
    {
     "data": {
      "image/png": "[encoded data removed]",
      "text/plain": [
       "<IPython.core.display.Image object>"
      ]
     },
     "execution_count": 28,
     "metadata": {},
     "output_type": "execute_result"
    }
   ],
   "source": [
    "plot_model(autoencoder_normal, show_shapes=True)"
   ]
  },
  {
   "cell_type": "markdown",
   "metadata": {
    "id": "GMG2m7rYJjUT"
   },
   "source": [
    "### non-fraudulent data로 만 train  "
   ]
  },
  {
   "cell_type": "code",
   "execution_count": 29,
   "metadata": {
    "colab": {
     "base_uri": "https://localhost:8080/"
    },
    "id": "ZC2j3eXJxM-B",
    "outputId": "173d35ac-707b-45ee-8363-b197fcae8374",
    "scrolled": false
   },
   "outputs": [
    {
     "name": "stdout",
     "output_type": "stream",
     "text": [
      "Epoch 1/30\n",
      "1111/1111 [==============================] - 1s 917us/step - loss: 0.8722 - val_loss: 0.5774\n",
      "Epoch 2/30\n",
      "1111/1111 [==============================] - 1s 822us/step - loss: 0.5642 - val_loss: 0.5339\n",
      "Epoch 3/30\n",
      "1111/1111 [==============================] - 1s 818us/step - loss: 0.5238 - val_loss: 0.5294\n",
      "Epoch 4/30\n",
      "1111/1111 [==============================] - 1s 818us/step - loss: 0.5259 - val_loss: 0.5276\n",
      "Epoch 5/30\n",
      "1111/1111 [==============================] - 1s 865us/step - loss: 0.5224 - val_loss: 0.5285\n",
      "Epoch 6/30\n",
      "1111/1111 [==============================] - 1s 823us/step - loss: 0.5188 - val_loss: 0.5266\n",
      "Epoch 7/30\n",
      "1111/1111 [==============================] - 1s 823us/step - loss: 0.5274 - val_loss: 0.5264\n",
      "Epoch 8/30\n",
      "1111/1111 [==============================] - 1s 820us/step - loss: 0.5220 - val_loss: 0.5255\n",
      "Epoch 9/30\n",
      "1111/1111 [==============================] - 1s 820us/step - loss: 0.5284 - val_loss: 0.5256\n",
      "Epoch 10/30\n",
      "1111/1111 [==============================] - 1s 826us/step - loss: 0.5226 - val_loss: 0.5257\n",
      "Epoch 11/30\n",
      "1111/1111 [==============================] - 1s 829us/step - loss: 0.5176 - val_loss: 0.5250\n",
      "Epoch 12/30\n",
      "1111/1111 [==============================] - 1s 835us/step - loss: 0.5272 - val_loss: 0.5255\n",
      "Epoch 13/30\n",
      "1111/1111 [==============================] - 1s 834us/step - loss: 0.5248 - val_loss: 0.5252\n",
      "Epoch 14/30\n",
      "1111/1111 [==============================] - 1s 845us/step - loss: 0.5198 - val_loss: 0.5253\n",
      "Epoch 15/30\n",
      "1111/1111 [==============================] - 1s 833us/step - loss: 0.5281 - val_loss: 0.5243\n",
      "Epoch 16/30\n",
      "1111/1111 [==============================] - 1s 866us/step - loss: 0.5270 - val_loss: 0.5248\n",
      "Epoch 17/30\n",
      "1111/1111 [==============================] - 1s 836us/step - loss: 0.5236 - val_loss: 0.5242\n",
      "Epoch 18/30\n",
      "1111/1111 [==============================] - 1s 851us/step - loss: 0.5182 - val_loss: 0.5241\n",
      "Epoch 19/30\n",
      "1111/1111 [==============================] - 1s 875us/step - loss: 0.5179 - val_loss: 0.5241\n",
      "Epoch 20/30\n",
      "1111/1111 [==============================] - 1s 843us/step - loss: 0.5164 - val_loss: 0.5248\n",
      "Epoch 21/30\n",
      "1111/1111 [==============================] - 1s 839us/step - loss: 0.5227 - val_loss: 0.5240\n",
      "Epoch 22/30\n",
      "1111/1111 [==============================] - 1s 844us/step - loss: 0.5180 - val_loss: 0.5239\n",
      "Epoch 23/30\n",
      "1111/1111 [==============================] - 1s 852us/step - loss: 0.5230 - val_loss: 0.5250\n",
      "Epoch 24/30\n",
      "1111/1111 [==============================] - 1s 867us/step - loss: 0.5121 - val_loss: 0.5237\n",
      "Epoch 25/30\n",
      "1111/1111 [==============================] - 1s 889us/step - loss: 0.5168 - val_loss: 0.5237\n",
      "Epoch 26/30\n",
      "1111/1111 [==============================] - 1s 864us/step - loss: 0.5114 - val_loss: 0.5244\n",
      "Epoch 27/30\n",
      "1111/1111 [==============================] - 1s 842us/step - loss: 0.5123 - val_loss: 0.5243\n",
      "Epoch 28/30\n",
      "1111/1111 [==============================] - 1s 846us/step - loss: 0.5163 - val_loss: 0.5238\n",
      "Epoch 29/30\n",
      "1111/1111 [==============================] - 1s 847us/step - loss: 0.5213 - val_loss: 0.5234\n",
      "Epoch 30/30\n",
      "1111/1111 [==============================] - 1s 855us/step - loss: 0.5258 - val_loss: 0.5235\n"
     ]
    }
   ],
   "source": [
    "history = autoencoder_normal.fit(X_train_normal, X_train_normal, \n",
    "                                 epochs = 30, batch_size=128,\n",
    "                                 validation_data=(X_test_normal, X_test_normal))"
   ]
  },
  {
   "cell_type": "code",
   "execution_count": 30,
   "metadata": {
    "colab": {
     "base_uri": "https://localhost:8080/",
     "height": 282
    },
    "id": "t2puAJNe4CVu",
    "outputId": "27b17ac3-6a00-4cfc-ca9f-3c72eff55e8d"
   },
   "outputs": [
    {
     "data": {
      "text/plain": [
       "[<matplotlib.lines.Line2D at 0x7fad3f4b2b10>]"
      ]
     },
     "execution_count": 30,
     "metadata": {},
     "output_type": "execute_result"
    },
    {
     "data": {
      "image/png": "[encoded data removed]",
      "text/plain": [
       "<Figure size 432x288 with 1 Axes>"
      ]
     },
     "metadata": {
      "needs_background": "light"
     },
     "output_type": "display_data"
    }
   ],
   "source": [
    "plt.plot(history.history['loss'])\n",
    "plt.plot(history.history['val_loss'])"
   ]
  },
  {
   "cell_type": "markdown",
   "metadata": {
    "id": "wztaRRboxZuc"
   },
   "source": [
    "## Reconstruction Error 시각화"
   ]
  },
  {
   "cell_type": "markdown",
   "metadata": {
    "id": "X6_eJfzzU5L7"
   },
   "source": [
    "- Anomaly data 와의 bar char 비교를 위해 정상 abnormal data 갯수 만큼의 임의의 normal sample 을 선택"
   ]
  },
  {
   "cell_type": "code",
   "execution_count": 31,
   "metadata": {
    "colab": {
     "base_uri": "https://localhost:8080/"
    },
    "id": "skna205_URab",
    "outputId": "2d97eb84-05d0-4a5c-d2a4-1031d0a5daa4"
   },
   "outputs": [
    {
     "data": {
      "text/plain": [
       "(250, 30)"
      ]
     },
     "execution_count": 31,
     "metadata": {},
     "output_type": "execute_result"
    }
   ],
   "source": [
    "indices = np.random.choice(len(X_train_normal), 250, replace=False)\n",
    "Nom_data = X_train_normal[indices]\n",
    "Nom_data.shape "
   ]
  },
  {
   "cell_type": "markdown",
   "metadata": {
    "id": "P8APIzpjVzQJ"
   },
   "source": [
    "- 정상 data 및 fraud data 의 autoencoder 재 구성값"
   ]
  },
  {
   "cell_type": "code",
   "execution_count": 33,
   "metadata": {
    "colab": {
     "base_uri": "https://localhost:8080/"
    },
    "id": "W1d4aaqVV0Zq",
    "outputId": "05db456b-2c1c-48cc-fae5-3f06e7f09a0e"
   },
   "outputs": [
    {
     "name": "stdout",
     "output_type": "stream",
     "text": [
      "Normal Metric\n",
      "       Normal_mse\n",
      "count  250.000000\n",
      "mean     0.434098\n",
      "std      0.425102\n",
      "min      0.059708\n",
      "25%      0.223029\n",
      "50%      0.324475\n",
      "75%      0.492219\n",
      "max      4.230013\n"
     ]
    }
   ],
   "source": [
    "Nom_pred = autoencoder_normal.predict(Nom_data)    # AE 결과값 \n",
    "Nom_pred_mse = np.mean(np.power(Nom_data - Nom_pred, 2), axis=1) # input - output 간의 MSE 구하기\n",
    "\n",
    "print('Normal Metric')\n",
    "Nom_pred_mse_df = pd.DataFrame({'Normal_mse':Nom_pred_mse})\n",
    "print(Nom_pred_mse_df.describe())"
   ]
  },
  {
   "cell_type": "code",
   "execution_count": 35,
   "metadata": {
    "colab": {
     "base_uri": "https://localhost:8080/"
    },
    "id": "L5z22LHWWGyH",
    "outputId": "498af4e4-5349-409d-a29e-a1071fb377ba"
   },
   "outputs": [
    {
     "name": "stdout",
     "output_type": "stream",
     "text": [
      "Anomaly Metric\n",
      "       Anomaly_mse\n",
      "count   249.000000\n",
      "mean     22.766468\n",
      "std      28.599303\n",
      "min       0.177502\n",
      "25%       4.072207\n",
      "50%       8.874640\n",
      "75%      26.523765\n",
      "max     154.830236\n"
     ]
    }
   ],
   "source": [
    "# Abnormal data \n",
    "ANom_pred = autoencoder_normal.predict(X_train_fraud)   # AE 결과값 \n",
    "ANom_pred_mse = np.mean(np.power(X_train_fraud - ANom_pred, 2), axis=1) # input - output 간의 MSE 구하기\n",
    "\n",
    "print('Anomaly Metric')\n",
    "ANom_pred_mse_df = pd.DataFrame({'Anomaly_mse':ANom_pred_mse})\n",
    "print(ANom_pred_mse_df.describe())"
   ]
  },
  {
   "cell_type": "markdown",
   "metadata": {
    "id": "In0qGo81Wz0Z"
   },
   "source": [
    "- 정상 data 와 anomaly data 간의 MSE 차이 시각화"
   ]
  },
  {
   "cell_type": "code",
   "execution_count": 36,
   "metadata": {
    "colab": {
     "base_uri": "https://localhost:8080/",
     "height": 295
    },
    "id": "U8qf8rgsW02D",
    "outputId": "5351c68d-8dcd-4771-afe6-b0396e155dc7"
   },
   "outputs": [
    {
     "data": {
      "image/png": "[encoded data removed]",
      "text/plain": [
       "<Figure size 432x288 with 1 Axes>"
      ]
     },
     "metadata": {
      "needs_background": "light"
     },
     "output_type": "display_data"
    }
   ],
   "source": [
    "plt.title('MSE compare') \n",
    "plt.hist(Nom_pred_mse, bins=10, color='blue', histtype='step', label='normal') \n",
    "plt.hist(ANom_pred_mse, bins=10, color='red', histtype='step', label='abnormal') \n",
    "plt.xlabel('MSE')\n",
    "plt.legend()\n",
    "plt.show()"
   ]
  },
  {
   "cell_type": "markdown",
   "metadata": {
    "id": "CXOYnoZvW7dE"
   },
   "source": [
    "- 정상, 비정상 data 의 box plot 비교"
   ]
  },
  {
   "cell_type": "code",
   "execution_count": 37,
   "metadata": {
    "colab": {
     "base_uri": "https://localhost:8080/",
     "height": 335
    },
    "id": "EKUEIfg5W8bb",
    "outputId": "3aab32cf-5db6-4156-f770-b7d36b2be861"
   },
   "outputs": [
    {
     "data": {
      "image/png": "[encoded data removed]",
      "text/plain": [
       "<Figure size 432x288 with 1 Axes>"
      ]
     },
     "metadata": {
      "needs_background": "light"
     },
     "output_type": "display_data"
    }
   ],
   "source": [
    "plt.boxplot([Nom_pred_mse, ANom_pred_mse])\n",
    "plt.title('Normal vs Fraud')\n",
    "plt.xticks(ticks=[1, 2], labels=['Normal', 'Fraud'])\n",
    "plt.show()"
   ]
  },
  {
   "cell_type": "markdown",
   "metadata": {
    "id": "DzM40bzmU-UT"
   },
   "source": [
    "## 첫번째 방법 : reconstruction error threshold 결정"
   ]
  },
  {
   "cell_type": "code",
   "execution_count": 39,
   "metadata": {
    "id": "BRG-lHJFJjUU"
   },
   "outputs": [],
   "source": [
    "predictions = autoencoder_normal.predict(X_train)\n",
    "\n",
    "mse = np.mean(np.power(X_train - predictions, 2), axis=1)\n",
    "\n",
    "error_df = pd.DataFrame({'reconstruction_error': mse, 'true_class': y_train})"
   ]
  },
  {
   "cell_type": "code",
   "execution_count": 40,
   "metadata": {
    "colab": {
     "base_uri": "https://localhost:8080/",
     "height": 175
    },
    "id": "qzcu7y3nxsw3",
    "outputId": "f194d22b-aba4-4643-ad19-67fbd084611a"
   },
   "outputs": [
    {
     "data": {
      "text/html": [
       "<div>\n",
       "<style scoped>\n",
       "    .dataframe tbody tr th:only-of-type {\n",
       "        vertical-align: middle;\n",
       "    }\n",
       "\n",
       "    .dataframe tbody tr th {\n",
       "        vertical-align: top;\n",
       "    }\n",
       "\n",
       "    .dataframe thead tr th {\n",
       "        text-align: left;\n",
       "    }\n",
       "\n",
       "    .dataframe thead tr:last-of-type th {\n",
       "        text-align: right;\n",
       "    }\n",
       "</style>\n",
       "<table border=\"1\" class=\"dataframe\">\n",
       "  <thead>\n",
       "    <tr>\n",
       "      <th></th>\n",
       "      <th colspan=\"8\" halign=\"left\">reconstruction_error</th>\n",
       "    </tr>\n",
       "    <tr>\n",
       "      <th></th>\n",
       "      <th>count</th>\n",
       "      <th>mean</th>\n",
       "      <th>std</th>\n",
       "      <th>min</th>\n",
       "      <th>25%</th>\n",
       "      <th>50%</th>\n",
       "      <th>75%</th>\n",
       "      <th>max</th>\n",
       "    </tr>\n",
       "    <tr>\n",
       "      <th>true_class</th>\n",
       "      <th></th>\n",
       "      <th></th>\n",
       "      <th></th>\n",
       "      <th></th>\n",
       "      <th></th>\n",
       "      <th></th>\n",
       "      <th></th>\n",
       "      <th></th>\n",
       "    </tr>\n",
       "  </thead>\n",
       "  <tbody>\n",
       "    <tr>\n",
       "      <th>0</th>\n",
       "      <td>142154.0</td>\n",
       "      <td>0.517880</td>\n",
       "      <td>1.703472</td>\n",
       "      <td>0.039921</td>\n",
       "      <td>0.226573</td>\n",
       "      <td>0.324945</td>\n",
       "      <td>0.481837</td>\n",
       "      <td>139.375206</td>\n",
       "    </tr>\n",
       "    <tr>\n",
       "      <th>1</th>\n",
       "      <td>249.0</td>\n",
       "      <td>22.766468</td>\n",
       "      <td>28.599303</td>\n",
       "      <td>0.177502</td>\n",
       "      <td>4.072207</td>\n",
       "      <td>8.874640</td>\n",
       "      <td>26.523765</td>\n",
       "      <td>154.830236</td>\n",
       "    </tr>\n",
       "  </tbody>\n",
       "</table>\n",
       "</div>"
      ],
      "text/plain": [
       "           reconstruction_error                                            \\\n",
       "                          count       mean        std       min       25%   \n",
       "true_class                                                                  \n",
       "0                      142154.0   0.517880   1.703472  0.039921  0.226573   \n",
       "1                         249.0  22.766468  28.599303  0.177502  4.072207   \n",
       "\n",
       "                                             \n",
       "                 50%        75%         max  \n",
       "true_class                                   \n",
       "0           0.324945   0.481837  139.375206  \n",
       "1           8.874640  26.523765  154.830236  "
      ]
     },
     "execution_count": 40,
     "metadata": {},
     "output_type": "execute_result"
    }
   ],
   "source": [
    "desc = error_df.groupby('true_class').describe()\n",
    "desc"
   ]
  },
  {
   "cell_type": "markdown",
   "metadata": {
    "id": "rRQepwFre9UM"
   },
   "source": [
    "- 위에서 볼 수 있듯이 사기성이 아닌 경우의 오류는 사기성 사례의 오류보다 낮습니다.   \n",
    "\n",
    "\n",
    "- mean + 3 * std 를 threshold 로 사용하여 test set 의 재구성 error (squared error) 가 threshold 보다 크면 fraud 거래로 분류합니다.  \n",
    "\n",
    "- 1 std - 68%, 2 std - 96%, 3std - 99.8%"
   ]
  },
  {
   "cell_type": "code",
   "execution_count": 41,
   "metadata": {
    "colab": {
     "base_uri": "https://localhost:8080/"
    },
    "id": "3esGEzLyzCrL",
    "outputId": "432e2568-2e40-41a4-ea0f-f30e0602f952"
   },
   "outputs": [
    {
     "data": {
      "text/plain": [
       "(0.5178799113074462,\n",
       " 1.703472322619262,\n",
       " {'3sigma': 5.628296879165232,\n",
       "  '2.5sigma': 4.7765607178556015,\n",
       "  '2sigma': 3.9248245565459703})"
      ]
     },
     "execution_count": 41,
     "metadata": {},
     "output_type": "execute_result"
    }
   ],
   "source": [
    "mean = desc['reconstruction_error']['mean'][0] \n",
    "std    = desc['reconstruction_error']['std'][0] \n",
    "thresholds = {\"3sigma\": mean + 3*std, \"2.5sigma\": mean + 2.5*std, \"2sigma\": mean + 2*std}\n",
    "mean, std, thresholds"
   ]
  },
  {
   "cell_type": "code",
   "execution_count": 43,
   "metadata": {
    "colab": {
     "base_uri": "https://localhost:8080/",
     "height": 955
    },
    "id": "-zAII8DQxw-B",
    "outputId": "5c4fb0b8-40ab-4247-e85e-af31bed26879"
   },
   "outputs": [
    {
     "data": {
      "image/png": "[encoded data removed]",
      "text/plain": [
       "<Figure size 432x288 with 2 Axes>"
      ]
     },
     "metadata": {
      "needs_background": "light"
     },
     "output_type": "display_data"
    },
    {
     "name": "stdout",
     "output_type": "stream",
     "text": [
      "Precision 0.13\n",
      "Recall 0.76\n"
     ]
    },
    {
     "data": {
      "image/png": "[encoded data removed]",
      "text/plain": [
       "<Figure size 432x288 with 2 Axes>"
      ]
     },
     "metadata": {
      "needs_background": "light"
     },
     "output_type": "display_data"
    },
    {
     "name": "stdout",
     "output_type": "stream",
     "text": [
      "Precision 0.13\n",
      "Recall 0.65\n"
     ]
    },
    {
     "data": {
      "image/png": "[encoded data removed]",
      "text/plain": [
       "<Figure size 432x288 with 2 Axes>"
      ]
     },
     "metadata": {
      "needs_background": "light"
     },
     "output_type": "display_data"
    },
    {
     "name": "stdout",
     "output_type": "stream",
     "text": [
      "Precision 0.15\n",
      "Recall 0.61\n"
     ]
    }
   ],
   "source": [
    "ths = sorted(thresholds.items(), key=lambda kv: kv[1])\n",
    "\n",
    "for k, threshold in ths:\n",
    "\n",
    "    test_predictions = autoencoder_normal.predict(X_test)\n",
    "    mse = np.mean(np.power(X_test - test_predictions, 2), axis=1)\n",
    "    y_pred = [(lambda er: 1 if er >= threshold  else 0)(er) for er in mse]\n",
    "\n",
    "    cm = metrics.confusion_matrix(y_test, y_pred)\n",
    "\n",
    "    ax = sns.heatmap(cm, annot=True, fmt=',')\n",
    "    ax.set_xlabel('Predicted labels'); \n",
    "    ax.set_ylabel('True labels')\n",
    "    ax.xaxis.set_ticklabels(['Normal', 'Fraud']); \n",
    "    ax.yaxis.set_ticklabels(['Normal', 'Fraud']);\n",
    "    ax.set(yticks=[0.5, 1.5], \n",
    "          xticks=[0.5, 1.5])\n",
    "    ax.set_title(k)\n",
    "    plt.show()\n",
    "\n",
    "    print(\"Precision {:.2f}\".format(metrics.precision_score(y_test, y_pred)))\n",
    "    print(\"Recall {:.2f}\".format(metrics.recall_score(y_test, y_pred)))"
   ]
  },
  {
   "cell_type": "markdown",
   "metadata": {
    "id": "Nh2xw3tcfng9"
   },
   "source": [
    "## 두번째 방법 : autoencoder의 인코더 부분 및 k-NN  사용\n",
    "\n",
    "훈련 데이터세트의 모든 사례 (사기/정상)를 사용하여 훈련하고 그 결과를 사용하여 인스턴스들을 12 차원 공간에 매핑합니다. 매핑된 케이스는 분류를 위해 k-NN 혹은 SVM에 공급됩니다."
   ]
  },
  {
   "cell_type": "code",
   "execution_count": 44,
   "metadata": {
    "id": "JqFxT3AmJjUV"
   },
   "outputs": [],
   "source": [
    "input_layer = Input(shape=(30, ))\n",
    "\n",
    "encoded_all = Dense(12, activation='relu')(input_layer)\n",
    "decoded_all = Dense(30, activation='linear')(encoded_all)\n",
    "\n",
    "encoder_all = Model(input_layer, encoded_all)\n",
    "autoencoder_all = Model(input_layer, decoded_all)"
   ]
  },
  {
   "cell_type": "code",
   "execution_count": 45,
   "metadata": {
    "colab": {
     "base_uri": "https://localhost:8080/"
    },
    "id": "B7SnYf1KFVm9",
    "outputId": "c558c512-e913-4123-f464-6e4c08cb89ea"
   },
   "outputs": [
    {
     "name": "stdout",
     "output_type": "stream",
     "text": [
      "Epoch 1/30\n",
      "1113/1113 [==============================] - 1s 972us/step - loss: 0.9118 - val_loss: 0.6105\n",
      "Epoch 2/30\n",
      "1113/1113 [==============================] - 1s 845us/step - loss: 0.5973 - val_loss: 0.5676\n",
      "Epoch 3/30\n",
      "1113/1113 [==============================] - 1s 825us/step - loss: 0.5588 - val_loss: 0.5597\n",
      "Epoch 4/30\n",
      "1113/1113 [==============================] - 1s 818us/step - loss: 0.5613 - val_loss: 0.5614\n",
      "Epoch 5/30\n",
      "1113/1113 [==============================] - 1s 819us/step - loss: 0.5591 - val_loss: 0.5590\n",
      "Epoch 6/30\n",
      "1113/1113 [==============================] - 1s 856us/step - loss: 0.5704 - val_loss: 0.5617\n",
      "Epoch 7/30\n",
      "1113/1113 [==============================] - 1s 824us/step - loss: 0.5557 - val_loss: 0.5596\n",
      "Epoch 8/30\n",
      "1113/1113 [==============================] - 1s 819us/step - loss: 0.5553 - val_loss: 0.5600\n",
      "Epoch 9/30\n",
      "1113/1113 [==============================] - 1s 817us/step - loss: 0.5488 - val_loss: 0.5606\n",
      "Epoch 10/30\n",
      "1113/1113 [==============================] - 1s 838us/step - loss: 0.5524 - val_loss: 0.5600\n",
      "Epoch 11/30\n",
      "1113/1113 [==============================] - 1s 898us/step - loss: 0.5529 - val_loss: 0.5611\n",
      "Epoch 12/30\n",
      "1113/1113 [==============================] - 1s 859us/step - loss: 0.5511 - val_loss: 0.5611\n",
      "Epoch 13/30\n",
      "1113/1113 [==============================] - 1s 829us/step - loss: 0.5483 - val_loss: 0.5606\n",
      "Epoch 14/30\n",
      "1113/1113 [==============================] - 1s 878us/step - loss: 0.5511 - val_loss: 0.5608\n",
      "Epoch 15/30\n",
      "1113/1113 [==============================] - 1s 826us/step - loss: 0.5529 - val_loss: 0.5605\n",
      "Epoch 16/30\n",
      "1113/1113 [==============================] - 1s 815us/step - loss: 0.5589 - val_loss: 0.5607\n",
      "Epoch 17/30\n",
      "1113/1113 [==============================] - 1s 817us/step - loss: 0.5586 - val_loss: 0.5611\n",
      "Epoch 18/30\n",
      "1113/1113 [==============================] - 1s 846us/step - loss: 0.5497 - val_loss: 0.5611\n",
      "Epoch 19/30\n",
      "1113/1113 [==============================] - 1s 865us/step - loss: 0.5596 - val_loss: 0.5611\n",
      "Epoch 20/30\n",
      "1113/1113 [==============================] - 1s 835us/step - loss: 0.5588 - val_loss: 0.5616\n",
      "Epoch 21/30\n",
      "1113/1113 [==============================] - 1s 826us/step - loss: 0.5503 - val_loss: 0.5620\n",
      "Epoch 22/30\n",
      "1113/1113 [==============================] - 1s 881us/step - loss: 0.5532 - val_loss: 0.5615\n",
      "Epoch 23/30\n",
      "1113/1113 [==============================] - 1s 841us/step - loss: 0.5502 - val_loss: 0.5614\n",
      "Epoch 24/30\n",
      "1113/1113 [==============================] - 1s 826us/step - loss: 0.5526 - val_loss: 0.5619\n",
      "Epoch 25/30\n",
      "1113/1113 [==============================] - 1s 868us/step - loss: 0.5527 - val_loss: 0.5623\n",
      "Epoch 26/30\n",
      "1113/1113 [==============================] - 1s 831us/step - loss: 0.5558 - val_loss: 0.5616\n",
      "Epoch 27/30\n",
      "1113/1113 [==============================] - 1s 873us/step - loss: 0.5617 - val_loss: 0.5612\n",
      "Epoch 28/30\n",
      "1113/1113 [==============================] - 1s 873us/step - loss: 0.5554 - val_loss: 0.5614\n",
      "Epoch 29/30\n",
      "1113/1113 [==============================] - 1s 831us/step - loss: 0.5515 - val_loss: 0.5617\n",
      "Epoch 30/30\n",
      "1113/1113 [==============================] - 1s 882us/step - loss: 0.5504 - val_loss: 0.5617\n"
     ]
    }
   ],
   "source": [
    "autoencoder_all.compile(optimizer='adam', loss='mse')\n",
    "history = autoencoder_all.fit(X_train, X_train, epochs = 30, \n",
    "                              batch_size=128, validation_data=(X_test, X_test))"
   ]
  },
  {
   "cell_type": "code",
   "execution_count": 46,
   "metadata": {
    "colab": {
     "base_uri": "https://localhost:8080/",
     "height": 282
    },
    "id": "BNMAPIJs3vJb",
    "outputId": "0048489f-791a-47b7-fc7f-aa00c2b8960c"
   },
   "outputs": [
    {
     "data": {
      "text/plain": [
       "[<matplotlib.lines.Line2D at 0x7fad3f2c6dd0>]"
      ]
     },
     "execution_count": 46,
     "metadata": {},
     "output_type": "execute_result"
    },
    {
     "data": {
      "image/png": "[encoded data removed]",
      "text/plain": [
       "<Figure size 432x288 with 1 Axes>"
      ]
     },
     "metadata": {
      "needs_background": "light"
     },
     "output_type": "display_data"
    }
   ],
   "source": [
    "plt.plot(history.history['loss'])\n",
    "plt.plot(history.history['val_loss'])"
   ]
  },
  {
   "cell_type": "markdown",
   "metadata": {
    "id": "hYRDsZ6ygSJq"
   },
   "source": [
    "## KNN, SVC\n",
    "- train input 으로 사용하기 위한 encoder output 출력"
   ]
  },
  {
   "cell_type": "code",
   "execution_count": 47,
   "metadata": {
    "id": "lqauE5yiMzo2"
   },
   "outputs": [
    {
     "data": {
      "text/plain": [
       "(142403, 12)"
      ]
     },
     "execution_count": 47,
     "metadata": {},
     "output_type": "execute_result"
    }
   ],
   "source": [
    "enc_all = encoder_all.predict(X_train)\n",
    "enc_all.shape"
   ]
  },
  {
   "cell_type": "code",
   "execution_count": 48,
   "metadata": {
    "id": "CaDHQXxt5iCg"
   },
   "outputs": [],
   "source": [
    "from sklearn.neighbors import KNeighborsClassifier\n",
    "from sklearn.svm import SVC\n",
    "\n",
    "model_svc = SVC()\n",
    "model_knn = KNeighborsClassifier(n_neighbors=3)"
   ]
  },
  {
   "cell_type": "code",
   "execution_count": 49,
   "metadata": {},
   "outputs": [
    {
     "data": {
      "text/plain": [
       "SVC()"
      ]
     },
     "execution_count": 49,
     "metadata": {},
     "output_type": "execute_result"
    }
   ],
   "source": [
    "# Train the model using the training sets\n",
    "model_svc.fit(enc_all, y_train)"
   ]
  },
  {
   "cell_type": "code",
   "execution_count": 50,
   "metadata": {
    "colab": {
     "base_uri": "https://localhost:8080/"
    },
    "id": "YjqB805u9XqF",
    "outputId": "50d07723-f8f0-4603-f312-1e8ecc1f387c"
   },
   "outputs": [
    {
     "data": {
      "text/plain": [
       "KNeighborsClassifier(n_neighbors=3)"
      ]
     },
     "execution_count": 50,
     "metadata": {},
     "output_type": "execute_result"
    }
   ],
   "source": [
    "model_knn.fit(enc_all, y_train)"
   ]
  },
  {
   "cell_type": "code",
   "execution_count": 51,
   "metadata": {},
   "outputs": [
    {
     "name": "stdout",
     "output_type": "stream",
     "text": [
      "CPU times: user 18.9 s, sys: 217 ms, total: 19.2 s\n",
      "Wall time: 18.7 s\n"
     ]
    },
    {
     "data": {
      "text/plain": [
       "array([0, 0, 0, ..., 0, 0, 0])"
      ]
     },
     "execution_count": 51,
     "metadata": {},
     "output_type": "execute_result"
    }
   ],
   "source": [
    "%%time\n",
    "predicted_svc = model_svc.predict(encoder_all.predict(X_test))\n",
    "predicted_svc"
   ]
  },
  {
   "cell_type": "code",
   "execution_count": 58,
   "metadata": {
    "colab": {
     "base_uri": "https://localhost:8080/"
    },
    "id": "80H7xbeSBvWc",
    "outputId": "4ed44523-d925-4992-be27-735a129d1dc6"
   },
   "outputs": [
    {
     "name": "stdout",
     "output_type": "stream",
     "text": [
      "CPU times: user 52.6 s, sys: 302 ms, total: 52.9 s\n",
      "Wall time: 52.5 s\n"
     ]
    },
    {
     "data": {
      "text/plain": [
       "array([0, 0, 0, ..., 0, 0, 0])"
      ]
     },
     "execution_count": 58,
     "metadata": {},
     "output_type": "execute_result"
    }
   ],
   "source": [
    "%%time\n",
    "predicted_knn = model_knn.predict(encoder_all.predict(X_test))\n",
    "predicted_knn"
   ]
  },
  {
   "cell_type": "markdown",
   "metadata": {},
   "source": [
    "## DNN"
   ]
  },
  {
   "cell_type": "code",
   "execution_count": 53,
   "metadata": {},
   "outputs": [],
   "source": [
    "model_dnn = tf.keras.Sequential([\n",
    "      tf.keras.layers.Dense(32, activation='relu', input_shape=(enc_all.shape[-1],)),\n",
    "      tf.keras.layers.Dropout(0.2),\n",
    "      tf.keras.layers.Dense(16, activation='relu'),\n",
    "      tf.keras.layers.Dropout(0.2),\n",
    "      tf.keras.layers.Dense(1, activation='sigmoid'),\n",
    "  ])\n",
    "\n",
    "model_dnn.compile(\n",
    "      optimizer = tf.keras.optimizers.Adam(learning_rate=1e-3),\n",
    "      loss = 'binary_crossentropy', metrics=['accuracy'])"
   ]
  },
  {
   "cell_type": "code",
   "execution_count": 54,
   "metadata": {},
   "outputs": [],
   "source": [
    "enc_test = encoder_all.predict(X_test)"
   ]
  },
  {
   "cell_type": "code",
   "execution_count": 55,
   "metadata": {},
   "outputs": [
    {
     "name": "stdout",
     "output_type": "stream",
     "text": [
      "Epoch 1/50\n",
      "140/140 [==============================] - 1s 2ms/step - loss: 0.2393 - accuracy: 0.9395 - val_loss: 0.0355 - val_accuracy: 0.9983\n",
      "Epoch 2/50\n",
      "140/140 [==============================] - 0s 1ms/step - loss: 0.0451 - accuracy: 0.9982 - val_loss: 0.0201 - val_accuracy: 0.9983\n",
      "Epoch 3/50\n",
      "140/140 [==============================] - 0s 1ms/step - loss: 0.0206 - accuracy: 0.9983 - val_loss: 0.0097 - val_accuracy: 0.9984\n",
      "Epoch 4/50\n",
      "140/140 [==============================] - 0s 1ms/step - loss: 0.0158 - accuracy: 0.9982 - val_loss: 0.0086 - val_accuracy: 0.9986\n",
      "Epoch 5/50\n",
      "140/140 [==============================] - 0s 1ms/step - loss: 0.0139 - accuracy: 0.9983 - val_loss: 0.0073 - val_accuracy: 0.9988\n",
      "Epoch 6/50\n",
      "140/140 [==============================] - 0s 1ms/step - loss: 0.0096 - accuracy: 0.9985 - val_loss: 0.0067 - val_accuracy: 0.9990\n",
      "Epoch 7/50\n",
      "140/140 [==============================] - 0s 1ms/step - loss: 0.0090 - accuracy: 0.9986 - val_loss: 0.0065 - val_accuracy: 0.9991\n",
      "Epoch 8/50\n",
      "140/140 [==============================] - 0s 1ms/step - loss: 0.0088 - accuracy: 0.9985 - val_loss: 0.0061 - val_accuracy: 0.9992\n",
      "Epoch 9/50\n",
      "140/140 [==============================] - 0s 1ms/step - loss: 0.0086 - accuracy: 0.9986 - val_loss: 0.0058 - val_accuracy: 0.9992\n",
      "Epoch 10/50\n",
      "140/140 [==============================] - 0s 1ms/step - loss: 0.0076 - accuracy: 0.9987 - val_loss: 0.0059 - val_accuracy: 0.9991\n",
      "Epoch 11/50\n",
      "140/140 [==============================] - 0s 1ms/step - loss: 0.0083 - accuracy: 0.9987 - val_loss: 0.0058 - val_accuracy: 0.9992\n",
      "Epoch 12/50\n",
      "140/140 [==============================] - 0s 1ms/step - loss: 0.0065 - accuracy: 0.9991 - val_loss: 0.0054 - val_accuracy: 0.9992\n",
      "Epoch 13/50\n",
      "140/140 [==============================] - 0s 1ms/step - loss: 0.0065 - accuracy: 0.9990 - val_loss: 0.0051 - val_accuracy: 0.9993\n",
      "Epoch 14/50\n",
      "140/140 [==============================] - 0s 1ms/step - loss: 0.0062 - accuracy: 0.9990 - val_loss: 0.0052 - val_accuracy: 0.9993\n",
      "Epoch 15/50\n",
      "140/140 [==============================] - 0s 1ms/step - loss: 0.0063 - accuracy: 0.9991 - val_loss: 0.0050 - val_accuracy: 0.9993\n",
      "Epoch 16/50\n",
      "140/140 [==============================] - 0s 1ms/step - loss: 0.0057 - accuracy: 0.9992 - val_loss: 0.0050 - val_accuracy: 0.9993\n",
      "Epoch 17/50\n",
      "140/140 [==============================] - 0s 1ms/step - loss: 0.0068 - accuracy: 0.9992 - val_loss: 0.0048 - val_accuracy: 0.9993\n",
      "Epoch 18/50\n",
      "140/140 [==============================] - 0s 1ms/step - loss: 0.0055 - accuracy: 0.9991 - val_loss: 0.0049 - val_accuracy: 0.9993\n",
      "Epoch 19/50\n",
      "140/140 [==============================] - 0s 1ms/step - loss: 0.0046 - accuracy: 0.9993 - val_loss: 0.0046 - val_accuracy: 0.9993\n",
      "Epoch 20/50\n",
      "140/140 [==============================] - 0s 1ms/step - loss: 0.0060 - accuracy: 0.9991 - val_loss: 0.0047 - val_accuracy: 0.9993\n",
      "Epoch 21/50\n",
      "140/140 [==============================] - 0s 1ms/step - loss: 0.0041 - accuracy: 0.9994 - val_loss: 0.0045 - val_accuracy: 0.9993\n",
      "Epoch 22/50\n",
      "140/140 [==============================] - 0s 1ms/step - loss: 0.0051 - accuracy: 0.9992 - val_loss: 0.0046 - val_accuracy: 0.9993\n",
      "Epoch 23/50\n",
      "140/140 [==============================] - 0s 1ms/step - loss: 0.0049 - accuracy: 0.9991 - val_loss: 0.0046 - val_accuracy: 0.9992\n",
      "Epoch 24/50\n",
      "140/140 [==============================] - 0s 1ms/step - loss: 0.0050 - accuracy: 0.9992 - val_loss: 0.0043 - val_accuracy: 0.9993\n",
      "Epoch 25/50\n",
      "140/140 [==============================] - 0s 2ms/step - loss: 0.0051 - accuracy: 0.9992 - val_loss: 0.0044 - val_accuracy: 0.9993\n",
      "Epoch 26/50\n",
      "140/140 [==============================] - 0s 1ms/step - loss: 0.0037 - accuracy: 0.9993 - val_loss: 0.0043 - val_accuracy: 0.9993\n",
      "Epoch 27/50\n",
      "140/140 [==============================] - 0s 1ms/step - loss: 0.0048 - accuracy: 0.9992 - val_loss: 0.0045 - val_accuracy: 0.9992\n",
      "Epoch 28/50\n",
      "140/140 [==============================] - 0s 1ms/step - loss: 0.0047 - accuracy: 0.9992 - val_loss: 0.0045 - val_accuracy: 0.9993\n",
      "Epoch 29/50\n",
      "140/140 [==============================] - 0s 1ms/step - loss: 0.0035 - accuracy: 0.9993 - val_loss: 0.0043 - val_accuracy: 0.9993\n",
      "Epoch 30/50\n",
      "140/140 [==============================] - 0s 1ms/step - loss: 0.0052 - accuracy: 0.9993 - val_loss: 0.0045 - val_accuracy: 0.9992\n",
      "Epoch 31/50\n",
      "140/140 [==============================] - 0s 1ms/step - loss: 0.0040 - accuracy: 0.9993 - val_loss: 0.0042 - val_accuracy: 0.9993\n",
      "Epoch 32/50\n",
      "140/140 [==============================] - 0s 1ms/step - loss: 0.0048 - accuracy: 0.9992 - val_loss: 0.0044 - val_accuracy: 0.9992\n",
      "Epoch 33/50\n",
      "140/140 [==============================] - 0s 1ms/step - loss: 0.0046 - accuracy: 0.9993 - val_loss: 0.0042 - val_accuracy: 0.9993\n",
      "Epoch 34/50\n",
      "140/140 [==============================] - 0s 1ms/step - loss: 0.0043 - accuracy: 0.9993 - val_loss: 0.0044 - val_accuracy: 0.9992\n",
      "Epoch 35/50\n",
      "140/140 [==============================] - 0s 1ms/step - loss: 0.0041 - accuracy: 0.9993 - val_loss: 0.0041 - val_accuracy: 0.9993\n",
      "Epoch 36/50\n",
      "140/140 [==============================] - 0s 2ms/step - loss: 0.0047 - accuracy: 0.9992 - val_loss: 0.0041 - val_accuracy: 0.9993\n",
      "Epoch 37/50\n",
      "140/140 [==============================] - 0s 1ms/step - loss: 0.0037 - accuracy: 0.9993 - val_loss: 0.0040 - val_accuracy: 0.9993\n",
      "Epoch 38/50\n",
      "140/140 [==============================] - 0s 1ms/step - loss: 0.0042 - accuracy: 0.9994 - val_loss: 0.0042 - val_accuracy: 0.9992\n",
      "Epoch 39/50\n",
      "140/140 [==============================] - 0s 1ms/step - loss: 0.0049 - accuracy: 0.9992 - val_loss: 0.0042 - val_accuracy: 0.9993\n",
      "Epoch 40/50\n",
      "140/140 [==============================] - 0s 1ms/step - loss: 0.0035 - accuracy: 0.9994 - val_loss: 0.0040 - val_accuracy: 0.9993\n",
      "Epoch 41/50\n",
      "140/140 [==============================] - 0s 1ms/step - loss: 0.0038 - accuracy: 0.9994 - val_loss: 0.0042 - val_accuracy: 0.9992\n",
      "Epoch 42/50\n",
      "140/140 [==============================] - 0s 1ms/step - loss: 0.0036 - accuracy: 0.9993 - val_loss: 0.0039 - val_accuracy: 0.9993\n",
      "Epoch 43/50\n",
      "140/140 [==============================] - 0s 1ms/step - loss: 0.0036 - accuracy: 0.9994 - val_loss: 0.0044 - val_accuracy: 0.9991\n",
      "Epoch 44/50\n",
      "140/140 [==============================] - 0s 1ms/step - loss: 0.0042 - accuracy: 0.9994 - val_loss: 0.0039 - val_accuracy: 0.9993\n",
      "Epoch 45/50\n",
      "140/140 [==============================] - 0s 1ms/step - loss: 0.0044 - accuracy: 0.9993 - val_loss: 0.0040 - val_accuracy: 0.9993\n",
      "Epoch 46/50\n",
      "140/140 [==============================] - 0s 1ms/step - loss: 0.0037 - accuracy: 0.9994 - val_loss: 0.0041 - val_accuracy: 0.9992\n",
      "Epoch 47/50\n",
      "140/140 [==============================] - 0s 1ms/step - loss: 0.0045 - accuracy: 0.9993 - val_loss: 0.0042 - val_accuracy: 0.9992\n",
      "Epoch 48/50\n",
      "140/140 [==============================] - 0s 2ms/step - loss: 0.0040 - accuracy: 0.9992 - val_loss: 0.0038 - val_accuracy: 0.9993\n",
      "Epoch 49/50\n",
      "140/140 [==============================] - 0s 1ms/step - loss: 0.0030 - accuracy: 0.9995 - val_loss: 0.0037 - val_accuracy: 0.9994\n",
      "Epoch 50/50\n",
      "140/140 [==============================] - 0s 1ms/step - loss: 0.0045 - accuracy: 0.9993 - val_loss: 0.0039 - val_accuracy: 0.9993\n"
     ]
    }
   ],
   "source": [
    "history = model_dnn.fit(enc_all, y_train, epochs=50, batch_size=1024, \n",
    "                    validation_data=(enc_test, y_test))"
   ]
  },
  {
   "cell_type": "code",
   "execution_count": 59,
   "metadata": {},
   "outputs": [],
   "source": [
    "predicted_dnn = model_dnn.predict(encoder_all.predict(X_test)) > 0.5"
   ]
  },
  {
   "cell_type": "code",
   "execution_count": 60,
   "metadata": {
    "colab": {
     "base_uri": "https://localhost:8080/",
     "height": 329
    },
    "id": "6aVN3Qe-D3Oz",
    "outputId": "cfe61df5-a31d-4998-b228-5f2f7a34e440"
   },
   "outputs": [
    {
     "data": {
      "image/png": "[encoded data removed]",
      "text/plain": [
       "<Figure size 432x288 with 2 Axes>"
      ]
     },
     "metadata": {
      "needs_background": "light"
     },
     "output_type": "display_data"
    },
    {
     "name": "stdout",
     "output_type": "stream",
     "text": [
      "Precision 0.91\n",
      "Recall 0.67\n"
     ]
    },
    {
     "data": {
      "image/png": "[encoded data removed]",
      "text/plain": [
       "<Figure size 432x288 with 2 Axes>"
      ]
     },
     "metadata": {
      "needs_background": "light"
     },
     "output_type": "display_data"
    },
    {
     "name": "stdout",
     "output_type": "stream",
     "text": [
      "Precision 0.90\n",
      "Recall 0.73\n"
     ]
    },
    {
     "data": {
      "image/png": "[encoded data removed]",
      "text/plain": [
       "<Figure size 432x288 with 2 Axes>"
      ]
     },
     "metadata": {
      "needs_background": "light"
     },
     "output_type": "display_data"
    },
    {
     "name": "stdout",
     "output_type": "stream",
     "text": [
      "Precision 0.85\n",
      "Recall 0.75\n"
     ]
    }
   ],
   "source": [
    "for model, predicted in [(\"svc\", predicted_svc), (\"knn\", predicted_knn), (\"dnn\", predicted_dnn)]:\n",
    "    cm = metrics.confusion_matrix(y_test, predicted)\n",
    "\n",
    "    ax = sns.heatmap(cm, annot=True, fmt=',')\n",
    "    ax.set_xlabel('Predicted labels'); \n",
    "    ax.set_ylabel('True labels')\n",
    "    ax.set_title(model); \n",
    "    ax.xaxis.set_ticklabels(['Normal', 'Fraud']); \n",
    "    ax.yaxis.set_ticklabels(['Normal', 'Fraud']);\n",
    "    ax.set(yticks=[0.5, 1.5], \n",
    "           xticks=[0.5, 1.5])\n",
    "    plt.show()\n",
    "\n",
    "    print(\"Precision {:.2f}\".format(metrics.precision_score(y_test, predicted)))\n",
    "    print(\"Recall {:.2f}\".format(metrics.recall_score(y_test, predicted)))"
   ]
  },
  {
   "cell_type": "code",
   "execution_count": null,
   "metadata": {},
   "outputs": [],
   "source": []
  }
 ],
 "metadata": {
  "accelerator": "GPU",
  "colab": {
   "collapsed_sections": [],
   "machine_shape": "hm",
   "name": "160_Fraud_detection_autoencoder_knn.ipynb",
   "provenance": []
  },
  "kernelspec": {
   "display_name": "Python 3",
   "language": "python",
   "name": "python3"
  },
  "language_info": {
   "codemirror_mode": {
    "name": "ipython",
    "version": 3
   },
   "file_extension": ".py",
   "mimetype": "text/x-python",
   "name": "python",
   "nbconvert_exporter": "python",
   "pygments_lexer": "ipython3",
   "version": "3.7.10"
  }
 },
 "nbformat": 4,
 "nbformat_minor": 1
}
