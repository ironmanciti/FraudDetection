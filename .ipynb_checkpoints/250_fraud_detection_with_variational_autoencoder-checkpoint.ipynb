{
 "cells": [
  {
   "cell_type": "markdown",
   "metadata": {
    "_uuid": "21b9cdffef93ded4706cf9e69a091add5897d633",
    "id": "LBydBHZl7fqa"
   },
   "source": [
    "<h1 align=\"center\">Fraud Detection with Variational Autoencoder</h1>"
   ]
  },
  {
   "cell_type": "markdown",
   "metadata": {
    "_uuid": "3c96ae50f9b6526183014fd6a05e63a154519e6f",
    "id": "40TkjvAJ7fqa"
   },
   "source": [
    "- VAE는 vanilla 오토인코더에 비해 훨씬 나은 성능의 이상탐지(anomaly detection) 성능을 제공합니다. 실험을 통해 우리는 기존의 AE는 너무 큰 bottleneck을 가지면 identity function이 되며 이상탐지 성능이 떨어지는 것에 반해, VAE는 bottleneck의 크기가 커질수록 이상탐지 성능이 오르는 효과를 갖는 것을 확인할 수 있었습니다. 따라서 AE 기반의 anomaly detection을 수행할 때, 기존에는 bottleneck의 크기를 hyper-parameter로 튜닝해야 했던 반면에, VAE의 경우에는 튜닝을 할 필요가 거의 없습니다.  \n",
    "\n",
    "\n",
    "- 신용 카드 데이터를 사용하여 VAE(Variational Autoencoder)를 적용합니다. 기능적으로 Variational Autoencoder는 입력을 재구성하려고 시도하지만 잠재 표현이 입력의 임의의 인코딩이 아닌 입력의 확률 분포의 매개 변수를 학습한다는 추가 제약으로 \"Variational\"을 개선합니다.  \n",
    "\n",
    "\n",
    "- 분포를 배우는 것이 좋은 점은,  \n",
    "\n",
    "    첫째, 데이터 및 노이즈 생성 프로세스를 명시적으로 모델링함으로써 VAE는 더 robust 하게 그 두가지를 분리하는 방법을 배울 수 있습니다.   \n",
    "    둘째, disentanglement constraint가 적용되면 잠재 공간이 더 해석 가능해집니다.    \n",
    "    셋째, 잠재 벡터를 샘플링하여 새 샘플을 생성하고 디코더를 통해 파이프할 수 있습니다. \n",
    "\n",
    "\n",
    "* disentanglement : latent space가 linear한 구조를 가지게 되어서 하나의 latent vector z 를 움직였을 때 정해진 어떠한 하나의 특성이 변경되게 만들고자 하는 것. 예를 들어, latent vector z 의 specific 한 값을 변경했을 때 생성되는 이미지는 하나의 특성들(머리카락 길이, 성별, 사람의 시선)만 영향을 주게 만들었다고 하면, 이 모델의 latent space는 disentanglement 하다고 말 할 수 있다.\n",
    "\n",
    "<sup>1</sup> [Building Autoencoders in Keras - Keras Blog](https://blog.keras.io/building-autoencoders-in-keras.html)  \n",
    "<sup>2</sup> [Variational Autoencoders with Tensorflow Probability Layers - Medium](https://medium.com/tensorflow/variational-autoencoders-with-tensorflow-probability-layers-d06c658931b7)   \n",
    "<sup>3</sup> [Google Colab VAE Interactive Example](https://colab.research.google.com/github/tensorflow/probability/blob/master/tensorflow_probability/examples/jupyter_notebooks/Probabilistic_Layers_VAE.ipynb#scrollTo=9clSiUTiT3G1)  \n",
    "<sup>4</sup> [An, J., & Cho, S. (2015). Variational autoencoder based anomaly detection using reconstruction probability. Special Lecture on IE, 2, 1-18.](https://pdfs.semanticscholar.org/0611/46b1d7938d7a8dae70e3531a00fceb3c78e8.pdf)\n",
    "\n",
    "\n",
    "### Contents \n",
    "\n",
    "1. Variational Autoencoder 훈련\n",
    "2. 잠재 표현 시각화 (Visualize Latent Representations)\n",
    "3. VAE vs SVM\n",
    "4. 테스트 세트에 대한 평가\n",
    "5. Limitations "
   ]
  },
  {
   "cell_type": "code",
   "execution_count": 1,
   "metadata": {
    "execution": {
     "iopub.execute_input": "2021-06-07T12:03:00.896799Z",
     "iopub.status.busy": "2021-06-07T12:03:00.896474Z",
     "iopub.status.idle": "2021-06-07T12:03:00.901108Z",
     "shell.execute_reply": "2021-06-07T12:03:00.900299Z",
     "shell.execute_reply.started": "2021-06-07T12:03:00.896738Z"
    },
    "id": "RXd-JFGF7fqb"
   },
   "outputs": [],
   "source": [
    "import numpy as np\n",
    "import pandas as pd\n",
    "import matplotlib.pyplot as plt\n",
    "\n",
    "import tensorflow as tf\n",
    "from tensorflow.keras.models import Sequential, Model\n",
    "from tensorflow.keras.layers import Dense, InputLayer\n",
    "from tensorflow.keras.utils import plot_model\n",
    "from tensorflow.keras.callbacks import EarlyStopping, ModelCheckpoint\n",
    "\n",
    "from sklearn.model_selection import train_test_split \n",
    "from sklearn.linear_model import LogisticRegression\n",
    "from sklearn.metrics import classification_report, accuracy_score, roc_auc_score, roc_curve\n",
    "from sklearn.preprocessing import MinMaxScaler\n",
    "\n",
    "import tensorflow_probability as tfp\n",
    "tfd = tfp.distributions\n",
    "\n",
    "np.random.seed(0)\n",
    "tf.random.set_seed(0)"
   ]
  },
  {
   "cell_type": "markdown",
   "metadata": {
    "_uuid": "bdd18414d608713f44fb86d9ee8a9eae7fa77367",
    "id": "7sVQjS607fqc"
   },
   "source": [
    "## Raw Dataset\n",
    "\n",
    "model train 은 train set 만으로 합니다. test set은 최종 평가 때까지 사용되지 않습니다."
   ]
  },
  {
   "cell_type": "code",
   "execution_count": 2,
   "metadata": {
    "colab": {
     "base_uri": "https://localhost:8080/",
     "height": 225
    },
    "id": "W8g_mu277fqc",
    "outputId": "2a6f4a19-20c6-4399-ac28-a8834f135a70"
   },
   "outputs": [
    {
     "data": {
      "text/html": [
       "<div>\n",
       "<style scoped>\n",
       "    .dataframe tbody tr th:only-of-type {\n",
       "        vertical-align: middle;\n",
       "    }\n",
       "\n",
       "    .dataframe tbody tr th {\n",
       "        vertical-align: top;\n",
       "    }\n",
       "\n",
       "    .dataframe thead th {\n",
       "        text-align: right;\n",
       "    }\n",
       "</style>\n",
       "<table border=\"1\" class=\"dataframe\">\n",
       "  <thead>\n",
       "    <tr style=\"text-align: right;\">\n",
       "      <th></th>\n",
       "      <th>Time</th>\n",
       "      <th>V1</th>\n",
       "      <th>V2</th>\n",
       "      <th>V3</th>\n",
       "      <th>V4</th>\n",
       "      <th>V5</th>\n",
       "      <th>V6</th>\n",
       "      <th>V7</th>\n",
       "      <th>V8</th>\n",
       "      <th>V9</th>\n",
       "      <th>...</th>\n",
       "      <th>V21</th>\n",
       "      <th>V22</th>\n",
       "      <th>V23</th>\n",
       "      <th>V24</th>\n",
       "      <th>V25</th>\n",
       "      <th>V26</th>\n",
       "      <th>V27</th>\n",
       "      <th>V28</th>\n",
       "      <th>Amount</th>\n",
       "      <th>Class</th>\n",
       "    </tr>\n",
       "  </thead>\n",
       "  <tbody>\n",
       "    <tr>\n",
       "      <th>0</th>\n",
       "      <td>0.0</td>\n",
       "      <td>-1.359807</td>\n",
       "      <td>-0.072781</td>\n",
       "      <td>2.536347</td>\n",
       "      <td>1.378155</td>\n",
       "      <td>-0.338321</td>\n",
       "      <td>0.462388</td>\n",
       "      <td>0.239599</td>\n",
       "      <td>0.098698</td>\n",
       "      <td>0.363787</td>\n",
       "      <td>...</td>\n",
       "      <td>-0.018307</td>\n",
       "      <td>0.277838</td>\n",
       "      <td>-0.110474</td>\n",
       "      <td>0.066928</td>\n",
       "      <td>0.128539</td>\n",
       "      <td>-0.189115</td>\n",
       "      <td>0.133558</td>\n",
       "      <td>-0.021053</td>\n",
       "      <td>149.62</td>\n",
       "      <td>0</td>\n",
       "    </tr>\n",
       "    <tr>\n",
       "      <th>1</th>\n",
       "      <td>0.0</td>\n",
       "      <td>1.191857</td>\n",
       "      <td>0.266151</td>\n",
       "      <td>0.166480</td>\n",
       "      <td>0.448154</td>\n",
       "      <td>0.060018</td>\n",
       "      <td>-0.082361</td>\n",
       "      <td>-0.078803</td>\n",
       "      <td>0.085102</td>\n",
       "      <td>-0.255425</td>\n",
       "      <td>...</td>\n",
       "      <td>-0.225775</td>\n",
       "      <td>-0.638672</td>\n",
       "      <td>0.101288</td>\n",
       "      <td>-0.339846</td>\n",
       "      <td>0.167170</td>\n",
       "      <td>0.125895</td>\n",
       "      <td>-0.008983</td>\n",
       "      <td>0.014724</td>\n",
       "      <td>2.69</td>\n",
       "      <td>0</td>\n",
       "    </tr>\n",
       "    <tr>\n",
       "      <th>2</th>\n",
       "      <td>1.0</td>\n",
       "      <td>-1.358354</td>\n",
       "      <td>-1.340163</td>\n",
       "      <td>1.773209</td>\n",
       "      <td>0.379780</td>\n",
       "      <td>-0.503198</td>\n",
       "      <td>1.800499</td>\n",
       "      <td>0.791461</td>\n",
       "      <td>0.247676</td>\n",
       "      <td>-1.514654</td>\n",
       "      <td>...</td>\n",
       "      <td>0.247998</td>\n",
       "      <td>0.771679</td>\n",
       "      <td>0.909412</td>\n",
       "      <td>-0.689281</td>\n",
       "      <td>-0.327642</td>\n",
       "      <td>-0.139097</td>\n",
       "      <td>-0.055353</td>\n",
       "      <td>-0.059752</td>\n",
       "      <td>378.66</td>\n",
       "      <td>0</td>\n",
       "    </tr>\n",
       "    <tr>\n",
       "      <th>3</th>\n",
       "      <td>1.0</td>\n",
       "      <td>-0.966272</td>\n",
       "      <td>-0.185226</td>\n",
       "      <td>1.792993</td>\n",
       "      <td>-0.863291</td>\n",
       "      <td>-0.010309</td>\n",
       "      <td>1.247203</td>\n",
       "      <td>0.237609</td>\n",
       "      <td>0.377436</td>\n",
       "      <td>-1.387024</td>\n",
       "      <td>...</td>\n",
       "      <td>-0.108300</td>\n",
       "      <td>0.005274</td>\n",
       "      <td>-0.190321</td>\n",
       "      <td>-1.175575</td>\n",
       "      <td>0.647376</td>\n",
       "      <td>-0.221929</td>\n",
       "      <td>0.062723</td>\n",
       "      <td>0.061458</td>\n",
       "      <td>123.50</td>\n",
       "      <td>0</td>\n",
       "    </tr>\n",
       "    <tr>\n",
       "      <th>4</th>\n",
       "      <td>2.0</td>\n",
       "      <td>-1.158233</td>\n",
       "      <td>0.877737</td>\n",
       "      <td>1.548718</td>\n",
       "      <td>0.403034</td>\n",
       "      <td>-0.407193</td>\n",
       "      <td>0.095921</td>\n",
       "      <td>0.592941</td>\n",
       "      <td>-0.270533</td>\n",
       "      <td>0.817739</td>\n",
       "      <td>...</td>\n",
       "      <td>-0.009431</td>\n",
       "      <td>0.798278</td>\n",
       "      <td>-0.137458</td>\n",
       "      <td>0.141267</td>\n",
       "      <td>-0.206010</td>\n",
       "      <td>0.502292</td>\n",
       "      <td>0.219422</td>\n",
       "      <td>0.215153</td>\n",
       "      <td>69.99</td>\n",
       "      <td>0</td>\n",
       "    </tr>\n",
       "  </tbody>\n",
       "</table>\n",
       "<p>5 rows × 31 columns</p>\n",
       "</div>"
      ],
      "text/plain": [
       "   Time        V1        V2        V3        V4        V5        V6        V7  \\\n",
       "0   0.0 -1.359807 -0.072781  2.536347  1.378155 -0.338321  0.462388  0.239599   \n",
       "1   0.0  1.191857  0.266151  0.166480  0.448154  0.060018 -0.082361 -0.078803   \n",
       "2   1.0 -1.358354 -1.340163  1.773209  0.379780 -0.503198  1.800499  0.791461   \n",
       "3   1.0 -0.966272 -0.185226  1.792993 -0.863291 -0.010309  1.247203  0.237609   \n",
       "4   2.0 -1.158233  0.877737  1.548718  0.403034 -0.407193  0.095921  0.592941   \n",
       "\n",
       "         V8        V9  ...       V21       V22       V23       V24       V25  \\\n",
       "0  0.098698  0.363787  ... -0.018307  0.277838 -0.110474  0.066928  0.128539   \n",
       "1  0.085102 -0.255425  ... -0.225775 -0.638672  0.101288 -0.339846  0.167170   \n",
       "2  0.247676 -1.514654  ...  0.247998  0.771679  0.909412 -0.689281 -0.327642   \n",
       "3  0.377436 -1.387024  ... -0.108300  0.005274 -0.190321 -1.175575  0.647376   \n",
       "4 -0.270533  0.817739  ... -0.009431  0.798278 -0.137458  0.141267 -0.206010   \n",
       "\n",
       "        V26       V27       V28  Amount  Class  \n",
       "0 -0.189115  0.133558 -0.021053  149.62      0  \n",
       "1  0.125895 -0.008983  0.014724    2.69      0  \n",
       "2 -0.139097 -0.055353 -0.059752  378.66      0  \n",
       "3 -0.221929  0.062723  0.061458  123.50      0  \n",
       "4  0.502292  0.219422  0.215153   69.99      0  \n",
       "\n",
       "[5 rows x 31 columns]"
      ]
     },
     "execution_count": 2,
     "metadata": {},
     "output_type": "execute_result"
    }
   ],
   "source": [
    "df = pd.read_csv(\"data/creditcard.csv\")\n",
    "# df = pd.read_csv('https://storage.googleapis.com/download.tensorflow.org/data/creditcard.csv')\n",
    "\n",
    "df.head()"
   ]
  },
  {
   "cell_type": "markdown",
   "metadata": {
    "id": "Hd9vWJgAKpSc"
   },
   "source": [
    "- the dataset is highly unbalanced"
   ]
  },
  {
   "cell_type": "code",
   "execution_count": 3,
   "metadata": {
    "colab": {
     "base_uri": "https://localhost:8080/"
    },
    "id": "lv_9qemqKpSd",
    "outputId": "ebca46e8-8728-4962-a5c9-b5b925b61830"
   },
   "outputs": [
    {
     "data": {
      "text/plain": [
       "0    284315\n",
       "1       492\n",
       "Name: Class, dtype: int64"
      ]
     },
     "execution_count": 3,
     "metadata": {},
     "output_type": "execute_result"
    }
   ],
   "source": [
    "df['Class'].value_counts()"
   ]
  },
  {
   "cell_type": "code",
   "execution_count": 4,
   "metadata": {
    "colab": {
     "base_uri": "https://localhost:8080/"
    },
    "id": "jiwKNXqsKpSd",
    "outputId": "156c123f-2507-4a4a-917c-1fd2a5604f63"
   },
   "outputs": [
    {
     "name": "stdout",
     "output_type": "stream",
     "text": [
      "Total = 284,807\n",
      "Fraud = 0.17%\n",
      "Normal = 99.83%\n"
     ]
    }
   ],
   "source": [
    "fraud = (df['Class'] == 1).sum()\n",
    "normal = (df['Class'] == 0).sum()\n",
    "\n",
    "total = fraud + normal\n",
    "\n",
    "print(f\"Total = {total:,}\")\n",
    "print(f\"Fraud = {fraud/total*100:,.2f}%\")\n",
    "print(f\"Normal = {normal/total*100:,.2f}%\")"
   ]
  },
  {
   "cell_type": "markdown",
   "metadata": {
    "id": "23wCkGDrKpSe"
   },
   "source": [
    "- Time 필드를 일중 시간으로 변환합니다.   \n",
    "- Amount 필드는 로그 스케일로 변환합니다."
   ]
  },
  {
   "cell_type": "code",
   "execution_count": 5,
   "metadata": {
    "id": "9qBa4MkgKpSe"
   },
   "outputs": [],
   "source": [
    "df.loc[:, \"Time\"]   = df.loc[:, \"Time\"].apply(lambda x : x / 3600 % 24) #일중 시간\n",
    "df.loc[:, 'Amount'] = np.log(df.loc[:, 'Amount'] + 1)"
   ]
  },
  {
   "cell_type": "markdown",
   "metadata": {
    "id": "eM-TssowKpSe"
   },
   "source": [
    "- class 1 이 너무 적으므로 통상적인 7:3 대신 5:5 비율로 train, test set 분리"
   ]
  },
  {
   "cell_type": "code",
   "execution_count": 6,
   "metadata": {
    "_kg_hide-input": false,
    "_kg_hide-output": true,
    "_uuid": "cbc89746d900392dbddef6a0906e0b4fefe88523",
    "colab": {
     "base_uri": "https://localhost:8080/"
    },
    "id": "wlw9YCsp7fqd",
    "outputId": "5f23b83a-2dce-458a-e57f-ad91154cca02"
   },
   "outputs": [
    {
     "data": {
      "text/plain": [
       "((142403, 30), (142404, 30), (142403,), (142404,))"
      ]
     },
     "execution_count": 6,
     "metadata": {},
     "output_type": "execute_result"
    }
   ],
   "source": [
    "X_train, X_test, y_train, y_test = train_test_split(df.drop('Class', axis=1) , df['Class'], \n",
    "                                                    test_size=0.5, random_state=0)\n",
    "X_train.shape, X_test.shape, y_train.shape, y_test.shape"
   ]
  },
  {
   "cell_type": "code",
   "execution_count": 7,
   "metadata": {},
   "outputs": [
    {
     "data": {
      "text/plain": [
       "0    0.998251\n",
       "1    0.001749\n",
       "Name: Class, dtype: float64"
      ]
     },
     "execution_count": 7,
     "metadata": {},
     "output_type": "execute_result"
    }
   ],
   "source": [
    "y_train.value_counts() / y_train.count()"
   ]
  },
  {
   "cell_type": "code",
   "execution_count": 8,
   "metadata": {
    "colab": {
     "base_uri": "https://localhost:8080/"
    },
    "id": "PvKk0AdTKpSf",
    "outputId": "6f6914c7-d912-4ed6-9411-5ce6b4736d69"
   },
   "outputs": [
    {
     "data": {
      "text/plain": [
       "0    0.998294\n",
       "1    0.001706\n",
       "Name: Class, dtype: float64"
      ]
     },
     "execution_count": 8,
     "metadata": {},
     "output_type": "execute_result"
    }
   ],
   "source": [
    "y_test.value_counts() / y_test.count()"
   ]
  },
  {
   "cell_type": "code",
   "execution_count": 9,
   "metadata": {},
   "outputs": [],
   "source": [
    "sc = MinMaxScaler()\n",
    "X_train = sc.fit_transform(X_train)\n",
    "X_test = sc.transform(X_test)"
   ]
  },
  {
   "cell_type": "markdown",
   "metadata": {
    "_uuid": "3ae6791f9f14094bf85111601d5a56c20a5fc34d",
    "id": "4xbpTJpN7fqf"
   },
   "source": [
    "## Train a Variational Autoencoder\n",
    "\n",
    "latent variable의 prior는 latent dimension의 random unit multivariate normal vector 로 설정 합니다.\n",
    "latent dimension은 직관적인 illustration 제공을 위해 2로 설정합니다.\n",
    "\n",
    "인코더의 출력인 잠재 분포 parameter 는 0이 아닌 공분산을 가진 다변수 정규화로 선택 되었습니다. 이는 사기 거래와 정상적인 거래를 분리하는 데 영향을 미치고, 사기 거래의 공분산이 패턴을 가질 수 있기 때문입니다. 결과적으로 학습할 5 개의 distribution parameter가 있습니다 (2 개의 평균값 + 아래쪽 삼각형의 2X2 공분산 행렬에서 가져온 공분산 값 3 개).\n",
    "\n",
    "디코더의 출력인 데이터 분포 매개 변수는 feature-independent한 정규 분포를 따릅니다. 이 선택은 중요합니다. 온라인에서 찾을 수 있는 대부분의 예제는 출력이 독립적인 베르누이 분포를 따르는 MNIST 데이터 세트와 같은 이진 이미지에 적용되었습니다. 여기서 데이터는 실수 값이며 일반적으로 정규 분포를 따르므로 정규 분포 또는 유사 분포를 사용하여 출력을 모델링하는 것이 합리적입니다. 올바른 분포를 갖는 또 다른 중요한 의미는 훈련 중에 해당 로그 확률 손실을 제공한다는 것입니다. 예를 들어 이진 교차 엔트로피를 사용하여 실수 값 정규 분포를 훈련하는 것은 의미가 없습니다."
   ]
  },
  {
   "cell_type": "code",
   "execution_count": 11,
   "metadata": {
    "colab": {
     "base_uri": "https://localhost:8080/"
    },
    "id": "bFAU9qpzKpSg",
    "outputId": "8352c741-6490-465a-9709-6ee55a76fdf0"
   },
   "outputs": [
    {
     "data": {
      "text/plain": [
       "((142154, 30), (249, 30))"
      ]
     },
     "execution_count": 11,
     "metadata": {},
     "output_type": "execute_result"
    }
   ],
   "source": [
    "X_train_normal = X_train[y_train == 0]\n",
    "X_train_fraud = X_train[y_train == 1]\n",
    "\n",
    "X_train_normal.shape, X_train_fraud.shape"
   ]
  },
  {
   "cell_type": "code",
   "execution_count": 12,
   "metadata": {
    "colab": {
     "base_uri": "https://localhost:8080/"
    },
    "id": "cDV2x0-OKpSh",
    "outputId": "5049dabf-a5a8-49f6-82f6-754319f8c41a"
   },
   "outputs": [
    {
     "data": {
      "text/plain": [
       "((142161, 30), (243, 30))"
      ]
     },
     "execution_count": 12,
     "metadata": {},
     "output_type": "execute_result"
    }
   ],
   "source": [
    "X_test_normal = X_test[y_test == 0]\n",
    "X_test_fraud = X_test[y_test == 1]\n",
    "\n",
    "X_test_normal.shape, X_test_fraud.shape"
   ]
  },
  {
   "cell_type": "code",
   "execution_count": 14,
   "metadata": {
    "colab": {
     "base_uri": "https://localhost:8080/"
    },
    "id": "faoo5xliKpSh",
    "outputId": "379b9313-6587-4918-91d8-9e7ac1cffdb8"
   },
   "outputs": [
    {
     "data": {
      "text/plain": [
       "30"
      ]
     },
     "execution_count": 14,
     "metadata": {},
     "output_type": "execute_result"
    }
   ],
   "source": [
    "input_dim = X_train_normal.shape[1]\n",
    "input_dim"
   ]
  },
  {
   "cell_type": "code",
   "execution_count": 15,
   "metadata": {
    "id": "ZWe6r8CZKpSi"
   },
   "outputs": [],
   "source": [
    "intermediary_dims = [20, 10, 8]\n",
    "latent_dim = 2\n",
    "\n",
    "def dense_layers(sizes):\n",
    "    return Sequential([Dense(size, activation=tf.nn.leaky_relu) for size in sizes])"
   ]
  },
  {
   "cell_type": "code",
   "execution_count": 35,
   "metadata": {
    "colab": {
     "base_uri": "https://localhost:8080/"
    },
    "id": "3A-Zsb577fqg",
    "outputId": "a9e6ff86-75ac-4ab6-bcee-8bd9778ca090"
   },
   "outputs": [
    {
     "data": {
      "text/plain": [
       "<tfp.distributions.Independent 'IndependentNormal' batch_shape=[] event_shape=[2] dtype=float32>"
      ]
     },
     "execution_count": 35,
     "metadata": {},
     "output_type": "execute_result"
    }
   ],
   "source": [
    "prior = tfd.Independent(tfd.Normal(loc=tf.zeros(latent_dim), scale=1),\n",
    "                        reinterpreted_batch_ndims=1)\n",
    "# prior = tfd.MultivariateNormalDiag(\n",
    "#         loc=tf.zeros([latent_dim]),\n",
    "#         scale_identity_multiplier=1.0)\n",
    "prior"
   ]
  },
  {
   "cell_type": "code",
   "execution_count": 36,
   "metadata": {
    "colab": {
     "base_uri": "https://localhost:8080/"
    },
    "id": "PLcrOCfd7fqh",
    "outputId": "1dcbb158-19f3-4da1-aca6-383e639e4ac3"
   },
   "outputs": [
    {
     "data": {
      "text/plain": [
       "5"
      ]
     },
     "execution_count": 36,
     "metadata": {},
     "output_type": "execute_result"
    }
   ],
   "source": [
    "tfp.layers.MultivariateNormalTriL.params_size(latent_dim)"
   ]
  },
  {
   "cell_type": "code",
   "execution_count": 37,
   "metadata": {
    "colab": {
     "base_uri": "https://localhost:8080/"
    },
    "id": "sB3FQMOX7fqh",
    "outputId": "873a4a32-dcc0-4b73-d19c-f3779f26f50b"
   },
   "outputs": [
    {
     "name": "stdout",
     "output_type": "stream",
     "text": [
      "Model: \"encoder\"\n",
      "_________________________________________________________________\n",
      "Layer (type)                 Output Shape              Param #   \n",
      "=================================================================\n",
      "sequential_5 (Sequential)    (None, 8)                 918       \n",
      "_________________________________________________________________\n",
      "dense_23 (Dense)             (None, 5)                 45        \n",
      "_________________________________________________________________\n",
      "multivariate_normal_tri_l_3  multiple                  0         \n",
      "=================================================================\n",
      "Total params: 963\n",
      "Trainable params: 963\n",
      "Non-trainable params: 0\n",
      "_________________________________________________________________\n"
     ]
    }
   ],
   "source": [
    "encoder = Sequential([\n",
    "    InputLayer(input_shape=input_dim, name='encoder_input'),\n",
    "    dense_layers(intermediary_dims),\n",
    "    Dense(tfp.layers.MultivariateNormalTriL.params_size(latent_dim), activation=None),\n",
    "    tfp.layers.MultivariateNormalTriL(latent_dim, \n",
    "                    activity_regularizer=tfp.layers.KLDivergenceRegularizer(prior)),\n",
    "], name='encoder')\n",
    "\n",
    "encoder.summary()"
   ]
  },
  {
   "cell_type": "code",
   "execution_count": 38,
   "metadata": {},
   "outputs": [],
   "source": [
    "# X = df.drop(['Class'], axis=1).values\n",
    "\n",
    "# d2_gauss = encoder(X)\n",
    "# d2_gauss.mean().shape, d2_gauss.covariance().shape"
   ]
  },
  {
   "cell_type": "code",
   "execution_count": 39,
   "metadata": {
    "colab": {
     "base_uri": "https://localhost:8080/"
    },
    "id": "BEkWheiE7fqh",
    "outputId": "48f8e9b6-ab1d-4820-ba35-17a2e70cc8b3"
   },
   "outputs": [
    {
     "name": "stdout",
     "output_type": "stream",
     "text": [
      "Model: \"decoder\"\n",
      "_________________________________________________________________\n",
      "Layer (type)                 Output Shape              Param #   \n",
      "=================================================================\n",
      "sequential_6 (Sequential)    (None, 20)                334       \n",
      "_________________________________________________________________\n",
      "dense_27 (Dense)             (None, 60)                1260      \n",
      "_________________________________________________________________\n",
      "independent_normal_2 (Indepe multiple                  0         \n",
      "=================================================================\n",
      "Total params: 1,594\n",
      "Trainable params: 1,594\n",
      "Non-trainable params: 0\n",
      "_________________________________________________________________\n"
     ]
    }
   ],
   "source": [
    "decoder = Sequential([\n",
    "    InputLayer(input_shape=[latent_dim]),\n",
    "    dense_layers(reversed(intermediary_dims)),\n",
    "    Dense(tfp.layers.IndependentNormal.params_size(input_dim), activation=None),\n",
    "    tfp.layers.IndependentNormal(input_dim),\n",
    "], name='decoder')\n",
    "\n",
    "decoder.summary()\n",
    "# plot_model(decoder, to_file='vae_mlp_decoder.png', show_shapes=True)"
   ]
  },
  {
   "cell_type": "code",
   "execution_count": 40,
   "metadata": {
    "_uuid": "bd005b66ce9d41d43f6ff07674ebe64e3ba15717",
    "colab": {
     "base_uri": "https://localhost:8080/"
    },
    "id": "Z-hD_fRF7fqi",
    "outputId": "7ef8f085-d45c-474d-9f50-e316d7af521d"
   },
   "outputs": [
    {
     "name": "stdout",
     "output_type": "stream",
     "text": [
      "WARNING:tensorflow:Layers in a Sequential model should only have a single input tensor, but we receive a <class 'tensorflow_probability.python.util.deferred_tensor.MultivariateNormalTriL'> input: tfp.distributions.MultivariateNormalTriL(\"multivariate_normal_tri_l_3_MultivariateNormalTriL_MultivariateNormalTriL\", batch_shape=[?], event_shape=[2], dtype=float32)\n",
      "Consider rewriting this model with the Functional API.\n",
      "Model: \"model_3\"\n",
      "_________________________________________________________________\n",
      "Layer (type)                 Output Shape              Param #   \n",
      "=================================================================\n",
      "encoder_input (InputLayer)   [(None, 30)]              0         \n",
      "_________________________________________________________________\n",
      "sequential_5 (Sequential)    (None, 8)                 918       \n",
      "_________________________________________________________________\n",
      "dense_23 (Dense)             (None, 5)                 45        \n",
      "_________________________________________________________________\n",
      "multivariate_normal_tri_l_3  multiple                  0         \n",
      "_________________________________________________________________\n",
      "decoder (Sequential)         multiple                  1594      \n",
      "=================================================================\n",
      "Total params: 2,557\n",
      "Trainable params: 2,557\n",
      "Non-trainable params: 0\n",
      "_________________________________________________________________\n"
     ]
    }
   ],
   "source": [
    "vae = Model(inputs=encoder.inputs,\n",
    "            outputs=decoder(encoder.outputs[0]))\n",
    "\n",
    "negloglik = lambda x, rv_x: -rv_x.log_prob(x)\n",
    "\n",
    "vae.compile(optimizer=tf.keras.optimizers.Adam(), loss=negloglik)\n",
    "\n",
    "vae.summary()"
   ]
  },
  {
   "cell_type": "code",
   "execution_count": 42,
   "metadata": {
    "_uuid": "e623e95ed503ff048913b375948c65e3a41ed221",
    "colab": {
     "base_uri": "https://localhost:8080/"
    },
    "id": "XSujjJcL7fqi",
    "outputId": "316edcba-386d-462f-c2c0-574ff37621b7"
   },
   "outputs": [
    {
     "data": {
      "text/plain": [
       "((10000, 30), (5000, 30))"
      ]
     },
     "execution_count": 42,
     "metadata": {},
     "output_type": "execute_result"
    }
   ],
   "source": [
    "TRAIN_SAMPLE_SIZE = 10000\n",
    "TEST_SAMPLE_SIZE = 5000\n",
    "\n",
    "X_train_sample  = X_train_normal[np.random.randint(X_train_normal.shape[0], size=TRAIN_SAMPLE_SIZE), :]\n",
    "X_test_sample = X_test_normal[np.random.randint(X_test_normal.shape[0], size=TEST_SAMPLE_SIZE), :]\n",
    "\n",
    "X_train_sample.shape, X_test_sample.shape"
   ]
  },
  {
   "cell_type": "code",
   "execution_count": 43,
   "metadata": {
    "_uuid": "649171fefe27324496ebcfe73d6c620be0067fa4",
    "colab": {
     "base_uri": "https://localhost:8080/"
    },
    "id": "mEx6rcOR7fqi",
    "outputId": "66c744b8-8a6b-4330-cf62-0995033f8e15"
   },
   "outputs": [
    {
     "data": {
      "text/plain": [
       "(<ShuffleDataset shapes: ((None, 30), (None, 30)), types: (tf.float64, tf.float64)>,\n",
       " <PrefetchDataset shapes: ((None, 30), (None, 30)), types: (tf.float64, tf.float64)>)"
      ]
     },
     "execution_count": 43,
     "metadata": {},
     "output_type": "execute_result"
    }
   ],
   "source": [
    "batch_size = 128\n",
    "max_epochs = 1000\n",
    "\n",
    "tf_train = tf.data.Dataset.from_tensor_slices((X_train_sample, X_train_sample)) \\\n",
    "            .batch(batch_size).prefetch(tf.data.experimental.AUTOTUNE).shuffle(10000)\n",
    "tf_val = tf.data.Dataset.from_tensor_slices((X_test_sample, X_test_sample)) \\\n",
    "            .batch(batch_size).prefetch(tf.data.experimental.AUTOTUNE)\n",
    "tf_train, tf_val"
   ]
  },
  {
   "cell_type": "code",
   "execution_count": 44,
   "metadata": {
    "_uuid": "9a80a22488211ff67043b170218cc2489b158ef4",
    "colab": {
     "base_uri": "https://localhost:8080/"
    },
    "id": "86dI94jc7fqi",
    "outputId": "42360b52-a981-41bf-f4b2-0f79d9b66be1",
    "scrolled": true
   },
   "outputs": [
    {
     "name": "stdout",
     "output_type": "stream",
     "text": [
      "Epoch 1/1000\n",
      "WARNING:tensorflow:Layers in a Sequential model should only have a single input tensor, but we receive a <class 'tensorflow_probability.python.util.deferred_tensor.MultivariateNormalTriL'> input: tfp.distributions.MultivariateNormalTriL(\"model_3_multivariate_normal_tri_l_3_MultivariateNormalTriL_MultivariateNormalTriL\", batch_shape=[?], event_shape=[2], dtype=float32)\n",
      "Consider rewriting this model with the Functional API.\n",
      "WARNING:tensorflow:Layers in a Sequential model should only have a single input tensor, but we receive a <class 'tensorflow_probability.python.util.deferred_tensor.MultivariateNormalTriL'> input: tfp.distributions.MultivariateNormalTriL(\"model_3_multivariate_normal_tri_l_3_MultivariateNormalTriL_MultivariateNormalTriL\", batch_shape=[?], event_shape=[2], dtype=float32)\n",
      "Consider rewriting this model with the Functional API.\n",
      "43/79 [===============>..............] - ETA: 0s - loss: 27.0120  WARNING:tensorflow:Layers in a Sequential model should only have a single input tensor, but we receive a <class 'tensorflow_probability.python.util.deferred_tensor.MultivariateNormalTriL'> input: tfp.distributions.MultivariateNormalTriL(\"model_3_multivariate_normal_tri_l_3_MultivariateNormalTriL_MultivariateNormalTriL\", batch_shape=[?], event_shape=[2], dtype=float32)\n",
      "Consider rewriting this model with the Functional API.\n",
      "79/79 [==============================] - 2s 8ms/step - loss: 25.1271 - val_loss: 8.8808\n",
      "Epoch 2/1000\n",
      "79/79 [==============================] - 0s 2ms/step - loss: -2.8358 - val_loss: -38.5914\n",
      "Epoch 3/1000\n",
      "79/79 [==============================] - 0s 2ms/step - loss: -41.0667 - val_loss: -45.8152\n",
      "Epoch 4/1000\n",
      "79/79 [==============================] - 0s 2ms/step - loss: -45.8924 - val_loss: -46.5331\n",
      "Epoch 5/1000\n",
      "79/79 [==============================] - 0s 2ms/step - loss: -47.0853 - val_loss: -47.8768\n",
      "Epoch 6/1000\n",
      "79/79 [==============================] - 0s 2ms/step - loss: -47.2332 - val_loss: -48.4472\n",
      "Epoch 7/1000\n",
      "79/79 [==============================] - 0s 2ms/step - loss: -47.9487 - val_loss: -48.5156\n",
      "Epoch 8/1000\n",
      "79/79 [==============================] - 0s 2ms/step - loss: -48.3738 - val_loss: -49.3145\n",
      "Epoch 9/1000\n",
      "79/79 [==============================] - 0s 2ms/step - loss: -48.7951 - val_loss: -49.6576\n",
      "Epoch 10/1000\n",
      "79/79 [==============================] - 0s 2ms/step - loss: -48.8159 - val_loss: -49.8720\n",
      "Epoch 11/1000\n",
      "79/79 [==============================] - 0s 2ms/step - loss: -49.2391 - val_loss: -50.1243\n",
      "Epoch 12/1000\n",
      "79/79 [==============================] - 0s 2ms/step - loss: -49.6074 - val_loss: -50.0480\n",
      "Epoch 13/1000\n",
      "79/79 [==============================] - 0s 2ms/step - loss: -50.2525 - val_loss: -50.6847\n",
      "Epoch 14/1000\n",
      "79/79 [==============================] - 0s 2ms/step - loss: -50.6191 - val_loss: -51.1388\n",
      "Epoch 15/1000\n",
      "79/79 [==============================] - 0s 2ms/step - loss: -51.0558 - val_loss: -51.5394\n",
      "Epoch 16/1000\n",
      "79/79 [==============================] - 0s 2ms/step - loss: -51.5862 - val_loss: -51.9244\n",
      "Epoch 17/1000\n",
      "79/79 [==============================] - 0s 2ms/step - loss: -51.4907 - val_loss: -52.5627\n",
      "Epoch 18/1000\n",
      "79/79 [==============================] - 0s 2ms/step - loss: -52.5694 - val_loss: -53.2707\n",
      "Epoch 19/1000\n",
      "79/79 [==============================] - 0s 2ms/step - loss: -53.1151 - val_loss: -53.5269\n",
      "Epoch 20/1000\n",
      "79/79 [==============================] - 0s 2ms/step - loss: -53.7040 - val_loss: -54.1886\n",
      "Epoch 21/1000\n",
      "79/79 [==============================] - 0s 2ms/step - loss: -53.9747 - val_loss: -54.4445\n",
      "Epoch 22/1000\n",
      "79/79 [==============================] - 0s 2ms/step - loss: -54.8168 - val_loss: -54.9000\n",
      "Epoch 23/1000\n",
      "79/79 [==============================] - 0s 2ms/step - loss: -54.8039 - val_loss: -54.5500\n",
      "Epoch 24/1000\n",
      "79/79 [==============================] - 0s 2ms/step - loss: -55.0974 - val_loss: -55.5612\n",
      "Epoch 25/1000\n",
      "79/79 [==============================] - 0s 2ms/step - loss: -55.5431 - val_loss: -55.2397\n",
      "Epoch 26/1000\n",
      "79/79 [==============================] - 0s 2ms/step - loss: -55.8828 - val_loss: -55.8353\n",
      "Epoch 27/1000\n",
      "79/79 [==============================] - 0s 2ms/step - loss: -56.1557 - val_loss: -56.1252\n",
      "Epoch 28/1000\n",
      "79/79 [==============================] - 0s 2ms/step - loss: -56.1469 - val_loss: -55.3647\n",
      "Epoch 29/1000\n",
      "79/79 [==============================] - 0s 2ms/step - loss: -56.2692 - val_loss: -56.6499\n",
      "Epoch 30/1000\n",
      "79/79 [==============================] - 0s 2ms/step - loss: -57.0775 - val_loss: -57.1513\n",
      "Epoch 31/1000\n",
      "79/79 [==============================] - 0s 2ms/step - loss: -57.1893 - val_loss: -57.3369\n",
      "Epoch 32/1000\n",
      "79/79 [==============================] - 0s 2ms/step - loss: -57.4264 - val_loss: -57.3791\n",
      "Epoch 33/1000\n",
      "79/79 [==============================] - 0s 2ms/step - loss: -57.3914 - val_loss: -57.9271\n",
      "Epoch 34/1000\n",
      "79/79 [==============================] - 0s 2ms/step - loss: -57.6639 - val_loss: -57.3803\n",
      "Epoch 35/1000\n",
      "79/79 [==============================] - 0s 2ms/step - loss: -57.5354 - val_loss: -58.1111\n",
      "Epoch 36/1000\n",
      "79/79 [==============================] - 0s 2ms/step - loss: -57.9606 - val_loss: -58.1489\n",
      "Epoch 37/1000\n",
      "79/79 [==============================] - 0s 2ms/step - loss: -58.3119 - val_loss: -58.5077\n",
      "Epoch 38/1000\n",
      "79/79 [==============================] - 0s 2ms/step - loss: -58.0349 - val_loss: -58.2666\n",
      "Epoch 39/1000\n",
      "79/79 [==============================] - 0s 2ms/step - loss: -58.3754 - val_loss: -58.3834\n",
      "Epoch 40/1000\n",
      "79/79 [==============================] - 0s 2ms/step - loss: -58.6194 - val_loss: -59.0644\n",
      "Epoch 41/1000\n",
      "79/79 [==============================] - 0s 2ms/step - loss: -58.6144 - val_loss: -59.0808\n",
      "Epoch 42/1000\n",
      "79/79 [==============================] - 0s 2ms/step - loss: -58.5289 - val_loss: -58.8416\n",
      "Epoch 43/1000\n",
      "79/79 [==============================] - 0s 2ms/step - loss: -58.5474 - val_loss: -59.1734\n",
      "Epoch 44/1000\n",
      "79/79 [==============================] - 0s 2ms/step - loss: -59.1899 - val_loss: -59.1212\n",
      "Epoch 45/1000\n",
      "79/79 [==============================] - 0s 2ms/step - loss: -59.2135 - val_loss: -59.0484\n",
      "Epoch 46/1000\n",
      "79/79 [==============================] - 0s 2ms/step - loss: -59.3161 - val_loss: -59.1189\n",
      "Epoch 47/1000\n",
      "79/79 [==============================] - 0s 2ms/step - loss: -59.1842 - val_loss: -59.6009\n",
      "Epoch 48/1000\n",
      "79/79 [==============================] - 0s 2ms/step - loss: -59.1765 - val_loss: -58.6342\n",
      "Epoch 49/1000\n",
      "79/79 [==============================] - 0s 2ms/step - loss: -58.7388 - val_loss: -59.6706\n",
      "Epoch 50/1000\n",
      "79/79 [==============================] - 0s 2ms/step - loss: -59.6095 - val_loss: -59.5520\n",
      "Epoch 51/1000\n",
      "79/79 [==============================] - 0s 2ms/step - loss: -59.6352 - val_loss: -59.9063\n",
      "Epoch 52/1000\n",
      "79/79 [==============================] - 0s 2ms/step - loss: -59.4209 - val_loss: -59.4015\n",
      "Epoch 53/1000\n",
      "79/79 [==============================] - 0s 2ms/step - loss: -59.4184 - val_loss: -59.9662\n",
      "Epoch 54/1000\n",
      "79/79 [==============================] - 0s 2ms/step - loss: -59.8304 - val_loss: -60.2764\n",
      "Epoch 55/1000\n",
      "79/79 [==============================] - 0s 2ms/step - loss: -60.1107 - val_loss: -59.9174\n",
      "Epoch 56/1000\n",
      "79/79 [==============================] - 0s 2ms/step - loss: -59.5439 - val_loss: -60.3840\n",
      "Epoch 57/1000\n",
      "79/79 [==============================] - 0s 2ms/step - loss: -59.9911 - val_loss: -59.6989\n",
      "Epoch 58/1000\n",
      "79/79 [==============================] - 0s 2ms/step - loss: -59.8239 - val_loss: -60.1527\n",
      "Epoch 59/1000\n",
      "79/79 [==============================] - 0s 2ms/step - loss: -60.1043 - val_loss: -60.3518\n",
      "Epoch 60/1000\n",
      "79/79 [==============================] - 0s 2ms/step - loss: -59.9242 - val_loss: -60.1450\n",
      "Epoch 61/1000\n",
      "79/79 [==============================] - 0s 2ms/step - loss: -60.3140 - val_loss: -60.7261\n",
      "Epoch 62/1000\n",
      "79/79 [==============================] - 0s 2ms/step - loss: -59.9873 - val_loss: -60.4319\n",
      "Epoch 63/1000\n",
      "79/79 [==============================] - 0s 2ms/step - loss: -60.4438 - val_loss: -60.6446\n",
      "Epoch 64/1000\n",
      "79/79 [==============================] - 0s 2ms/step - loss: -60.4644 - val_loss: -60.6733\n",
      "Epoch 65/1000\n",
      "79/79 [==============================] - 0s 2ms/step - loss: -60.2472 - val_loss: -60.7557\n",
      "Epoch 66/1000\n"
     ]
    },
    {
     "name": "stdout",
     "output_type": "stream",
     "text": [
      "79/79 [==============================] - 0s 2ms/step - loss: -60.5749 - val_loss: -60.2249\n",
      "Epoch 67/1000\n",
      "79/79 [==============================] - 0s 2ms/step - loss: -60.8875 - val_loss: -60.7328\n",
      "Epoch 68/1000\n",
      "79/79 [==============================] - 0s 2ms/step - loss: -60.3333 - val_loss: -60.2555\n",
      "Epoch 69/1000\n",
      "79/79 [==============================] - 0s 2ms/step - loss: -60.6976 - val_loss: -61.1030\n",
      "Epoch 70/1000\n",
      "79/79 [==============================] - 0s 2ms/step - loss: -60.7188 - val_loss: -61.1453\n",
      "Epoch 71/1000\n",
      "79/79 [==============================] - 0s 2ms/step - loss: -60.7566 - val_loss: -60.9311\n",
      "Epoch 72/1000\n",
      "79/79 [==============================] - 0s 2ms/step - loss: -60.8732 - val_loss: -60.6700\n",
      "Epoch 73/1000\n",
      "79/79 [==============================] - 0s 2ms/step - loss: -60.5217 - val_loss: -61.1526\n",
      "Epoch 74/1000\n",
      "79/79 [==============================] - 0s 2ms/step - loss: -60.5820 - val_loss: -61.1066\n",
      "Epoch 75/1000\n",
      "79/79 [==============================] - 0s 2ms/step - loss: -61.0357 - val_loss: -60.9554\n",
      "Epoch 76/1000\n",
      "79/79 [==============================] - 0s 2ms/step - loss: -61.0671 - val_loss: -61.0991\n",
      "Epoch 77/1000\n",
      "79/79 [==============================] - 0s 2ms/step - loss: -60.8686 - val_loss: -61.5403\n",
      "Epoch 78/1000\n",
      "79/79 [==============================] - 0s 2ms/step - loss: -61.4931 - val_loss: -61.4451\n",
      "Epoch 79/1000\n",
      "79/79 [==============================] - 0s 2ms/step - loss: -61.1568 - val_loss: -61.1363\n",
      "Epoch 80/1000\n",
      "79/79 [==============================] - 0s 2ms/step - loss: -61.0210 - val_loss: -61.4684\n",
      "Epoch 81/1000\n",
      "79/79 [==============================] - 0s 2ms/step - loss: -61.2917 - val_loss: -61.5905\n",
      "Epoch 82/1000\n",
      "79/79 [==============================] - 0s 2ms/step - loss: -61.4499 - val_loss: -61.6237\n",
      "Epoch 83/1000\n",
      "79/79 [==============================] - 0s 2ms/step - loss: -61.0912 - val_loss: -61.3165\n",
      "Epoch 84/1000\n",
      "79/79 [==============================] - 0s 2ms/step - loss: -61.6030 - val_loss: -61.5344\n",
      "Epoch 85/1000\n",
      "79/79 [==============================] - 0s 2ms/step - loss: -61.6912 - val_loss: -61.8330\n",
      "Epoch 86/1000\n",
      "79/79 [==============================] - 0s 2ms/step - loss: -61.6530 - val_loss: -61.3767\n",
      "Epoch 87/1000\n",
      "79/79 [==============================] - 0s 2ms/step - loss: -61.5035 - val_loss: -61.4340\n",
      "Epoch 88/1000\n",
      "79/79 [==============================] - 0s 2ms/step - loss: -61.2106 - val_loss: -61.9737\n",
      "Epoch 89/1000\n",
      "79/79 [==============================] - 0s 2ms/step - loss: -61.4906 - val_loss: -61.8071\n",
      "Epoch 90/1000\n",
      "79/79 [==============================] - 0s 2ms/step - loss: -61.4838 - val_loss: -61.6740\n",
      "Epoch 91/1000\n",
      "79/79 [==============================] - 0s 2ms/step - loss: -61.5325 - val_loss: -61.0528\n",
      "Epoch 92/1000\n",
      "79/79 [==============================] - 0s 2ms/step - loss: -61.2939 - val_loss: -62.0538\n",
      "Epoch 93/1000\n",
      "79/79 [==============================] - 0s 2ms/step - loss: -61.5219 - val_loss: -62.1095\n",
      "Epoch 94/1000\n",
      "79/79 [==============================] - 0s 2ms/step - loss: -61.7948 - val_loss: -61.7414\n",
      "Epoch 95/1000\n",
      "79/79 [==============================] - 0s 2ms/step - loss: -61.8775 - val_loss: -61.8643\n",
      "Epoch 96/1000\n",
      "79/79 [==============================] - 0s 2ms/step - loss: -61.9399 - val_loss: -62.0248\n",
      "Epoch 97/1000\n",
      "79/79 [==============================] - 0s 2ms/step - loss: -61.7279 - val_loss: -61.9831\n",
      "Epoch 98/1000\n",
      "79/79 [==============================] - 0s 2ms/step - loss: -62.1231 - val_loss: -61.9776\n",
      "Epoch 99/1000\n",
      "79/79 [==============================] - 0s 2ms/step - loss: -61.7061 - val_loss: -61.7519\n",
      "Epoch 100/1000\n",
      "79/79 [==============================] - 0s 2ms/step - loss: -61.3616 - val_loss: -61.8378\n",
      "Epoch 101/1000\n",
      "79/79 [==============================] - 0s 2ms/step - loss: -61.8138 - val_loss: -62.2458\n",
      "Epoch 102/1000\n",
      "79/79 [==============================] - 0s 2ms/step - loss: -61.9674 - val_loss: -61.3322\n",
      "Epoch 103/1000\n",
      "79/79 [==============================] - 0s 2ms/step - loss: -61.7178 - val_loss: -62.3592\n",
      "Epoch 104/1000\n",
      "79/79 [==============================] - 0s 2ms/step - loss: -61.6302 - val_loss: -62.1004\n",
      "Epoch 105/1000\n",
      "79/79 [==============================] - 0s 2ms/step - loss: -62.1758 - val_loss: -62.0462\n",
      "Epoch 106/1000\n",
      "79/79 [==============================] - 0s 2ms/step - loss: -61.6808 - val_loss: -62.2410\n",
      "Epoch 107/1000\n",
      "79/79 [==============================] - 0s 2ms/step - loss: -61.8317 - val_loss: -61.4643\n",
      "Epoch 108/1000\n",
      "79/79 [==============================] - 0s 2ms/step - loss: -61.9447 - val_loss: -62.1776\n",
      "Epoch 109/1000\n",
      "79/79 [==============================] - 0s 2ms/step - loss: -61.4642 - val_loss: -61.7945\n",
      "Epoch 110/1000\n",
      "79/79 [==============================] - 0s 2ms/step - loss: -61.7840 - val_loss: -62.1619\n",
      "Epoch 111/1000\n",
      "79/79 [==============================] - 0s 2ms/step - loss: -61.8635 - val_loss: -61.8249\n",
      "Epoch 112/1000\n",
      "79/79 [==============================] - 0s 2ms/step - loss: -62.2359 - val_loss: -61.9740\n",
      "Epoch 113/1000\n",
      "79/79 [==============================] - 0s 2ms/step - loss: -62.2916 - val_loss: -62.3859\n",
      "Epoch 114/1000\n",
      "79/79 [==============================] - 0s 2ms/step - loss: -62.3960 - val_loss: -61.8840\n",
      "Epoch 115/1000\n",
      "79/79 [==============================] - 0s 2ms/step - loss: -61.7546 - val_loss: -62.3119\n",
      "Epoch 116/1000\n",
      "79/79 [==============================] - 0s 2ms/step - loss: -62.2529 - val_loss: -62.1584\n",
      "Epoch 117/1000\n",
      "79/79 [==============================] - 0s 2ms/step - loss: -62.0987 - val_loss: -61.9097\n",
      "Epoch 118/1000\n",
      "79/79 [==============================] - 0s 2ms/step - loss: -61.9799 - val_loss: -61.9247\n",
      "Epoch 119/1000\n",
      "79/79 [==============================] - 0s 2ms/step - loss: -62.0547 - val_loss: -62.3274\n",
      "Epoch 120/1000\n",
      "79/79 [==============================] - 0s 2ms/step - loss: -62.3734 - val_loss: -62.5349\n",
      "Epoch 121/1000\n",
      "79/79 [==============================] - 0s 2ms/step - loss: -62.1893 - val_loss: -62.2634\n",
      "Epoch 122/1000\n",
      "79/79 [==============================] - 0s 2ms/step - loss: -62.2300 - val_loss: -62.5210\n",
      "Epoch 123/1000\n",
      "79/79 [==============================] - 0s 2ms/step - loss: -62.2028 - val_loss: -62.3623\n",
      "Epoch 124/1000\n",
      "79/79 [==============================] - 0s 2ms/step - loss: -62.4598 - val_loss: -62.6833\n",
      "Epoch 125/1000\n",
      "79/79 [==============================] - 0s 2ms/step - loss: -62.2723 - val_loss: -62.4042\n",
      "Epoch 126/1000\n",
      "79/79 [==============================] - 0s 2ms/step - loss: -62.2928 - val_loss: -62.5141\n",
      "Epoch 127/1000\n",
      "79/79 [==============================] - 0s 2ms/step - loss: -62.0431 - val_loss: -62.3913\n",
      "Epoch 128/1000\n",
      "79/79 [==============================] - 0s 2ms/step - loss: -62.0095 - val_loss: -62.6829\n",
      "Epoch 129/1000\n",
      "79/79 [==============================] - 0s 2ms/step - loss: -62.3829 - val_loss: -62.6096\n",
      "Epoch 130/1000\n",
      "79/79 [==============================] - 0s 2ms/step - loss: -62.2141 - val_loss: -62.7076\n",
      "Epoch 131/1000\n",
      "79/79 [==============================] - 0s 2ms/step - loss: -62.2584 - val_loss: -62.4330\n",
      "Epoch 132/1000\n",
      "79/79 [==============================] - 0s 2ms/step - loss: -62.1352 - val_loss: -62.3160\n",
      "Epoch 133/1000\n",
      "79/79 [==============================] - 0s 2ms/step - loss: -62.4425 - val_loss: -62.3367\n",
      "Epoch 134/1000\n",
      "79/79 [==============================] - 0s 2ms/step - loss: -62.4918 - val_loss: -62.3911\n",
      "Epoch 135/1000\n",
      "79/79 [==============================] - 0s 2ms/step - loss: -62.5646 - val_loss: -62.1792\n",
      "Epoch 136/1000\n",
      "79/79 [==============================] - 0s 2ms/step - loss: -62.3041 - val_loss: -62.4130\n",
      "Epoch 137/1000\n",
      "79/79 [==============================] - 0s 2ms/step - loss: -62.0871 - val_loss: -62.6586\n",
      "Epoch 138/1000\n",
      "79/79 [==============================] - 0s 2ms/step - loss: -62.5694 - val_loss: -62.4825\n",
      "Epoch 139/1000\n",
      "79/79 [==============================] - 0s 2ms/step - loss: -62.3780 - val_loss: -62.3918\n",
      "Epoch 140/1000\n",
      "79/79 [==============================] - 0s 2ms/step - loss: -62.5656 - val_loss: -62.7113\n",
      "Epoch 141/1000\n",
      "79/79 [==============================] - 0s 2ms/step - loss: -62.3410 - val_loss: -62.7978\n",
      "Epoch 142/1000\n",
      "79/79 [==============================] - 0s 2ms/step - loss: -62.5598 - val_loss: -62.6330\n",
      "Epoch 143/1000\n"
     ]
    },
    {
     "name": "stdout",
     "output_type": "stream",
     "text": [
      "79/79 [==============================] - 0s 2ms/step - loss: -62.5475 - val_loss: -62.1665\n",
      "Epoch 144/1000\n",
      "79/79 [==============================] - 0s 2ms/step - loss: -62.3001 - val_loss: -62.1858\n",
      "Epoch 145/1000\n",
      "79/79 [==============================] - 0s 2ms/step - loss: -62.3584 - val_loss: -61.8931\n",
      "Epoch 146/1000\n",
      "79/79 [==============================] - 0s 2ms/step - loss: -62.1399 - val_loss: -62.8324\n",
      "Epoch 147/1000\n",
      "79/79 [==============================] - 0s 2ms/step - loss: -62.5876 - val_loss: -62.6418\n",
      "Epoch 148/1000\n",
      "79/79 [==============================] - 0s 2ms/step - loss: -62.4627 - val_loss: -62.7085\n",
      "Epoch 149/1000\n",
      "79/79 [==============================] - 0s 2ms/step - loss: -62.2848 - val_loss: -62.6787\n",
      "Epoch 150/1000\n",
      "79/79 [==============================] - 0s 2ms/step - loss: -62.0269 - val_loss: -62.5944\n",
      "Epoch 151/1000\n",
      "79/79 [==============================] - 0s 2ms/step - loss: -62.5652 - val_loss: -62.5407\n",
      "Epoch 152/1000\n",
      "79/79 [==============================] - 0s 2ms/step - loss: -62.4133 - val_loss: -62.7373\n",
      "Epoch 153/1000\n",
      "79/79 [==============================] - 0s 2ms/step - loss: -62.3644 - val_loss: -62.1725\n",
      "Epoch 154/1000\n",
      "79/79 [==============================] - 0s 2ms/step - loss: -62.3719 - val_loss: -62.6581\n",
      "Epoch 155/1000\n",
      "79/79 [==============================] - 0s 2ms/step - loss: -62.4270 - val_loss: -62.6172\n",
      "Epoch 156/1000\n",
      "79/79 [==============================] - 0s 2ms/step - loss: -62.5327 - val_loss: -62.9048\n",
      "Epoch 157/1000\n",
      "79/79 [==============================] - 0s 2ms/step - loss: -62.4876 - val_loss: -62.5412\n",
      "Epoch 158/1000\n",
      "79/79 [==============================] - 0s 2ms/step - loss: -62.3449 - val_loss: -62.6597\n",
      "Epoch 159/1000\n",
      "79/79 [==============================] - 0s 2ms/step - loss: -62.5278 - val_loss: -62.8145\n",
      "Epoch 160/1000\n",
      "79/79 [==============================] - 0s 2ms/step - loss: -62.3256 - val_loss: -62.7525\n",
      "Epoch 161/1000\n",
      "79/79 [==============================] - 0s 2ms/step - loss: -62.3344 - val_loss: -62.8804\n",
      "Epoch 162/1000\n",
      "79/79 [==============================] - 0s 2ms/step - loss: -62.6287 - val_loss: -62.2627\n",
      "Epoch 163/1000\n",
      "79/79 [==============================] - 0s 2ms/step - loss: -62.2978 - val_loss: -62.8836\n",
      "Epoch 164/1000\n",
      "79/79 [==============================] - 0s 2ms/step - loss: -62.5466 - val_loss: -62.0689\n",
      "Epoch 165/1000\n",
      "79/79 [==============================] - 0s 2ms/step - loss: -62.3927 - val_loss: -61.8459\n",
      "Epoch 166/1000\n",
      "79/79 [==============================] - 0s 2ms/step - loss: -62.4603 - val_loss: -62.7393\n",
      "Epoch 167/1000\n",
      "79/79 [==============================] - 0s 2ms/step - loss: -62.3262 - val_loss: -62.8319\n",
      "Epoch 168/1000\n",
      "79/79 [==============================] - 0s 2ms/step - loss: -62.2476 - val_loss: -62.8660\n",
      "Epoch 169/1000\n",
      "79/79 [==============================] - 0s 2ms/step - loss: -62.5197 - val_loss: -62.7377\n",
      "Epoch 170/1000\n",
      "79/79 [==============================] - 0s 2ms/step - loss: -62.6791 - val_loss: -62.6188\n",
      "Epoch 171/1000\n",
      "79/79 [==============================] - 0s 2ms/step - loss: -62.4451 - val_loss: -62.4855\n",
      "Epoch 172/1000\n",
      "79/79 [==============================] - 0s 2ms/step - loss: -62.5526 - val_loss: -62.8280\n",
      "Epoch 173/1000\n",
      "79/79 [==============================] - 0s 2ms/step - loss: -62.4733 - val_loss: -62.7365\n",
      "Epoch 174/1000\n",
      "79/79 [==============================] - 0s 2ms/step - loss: -62.5298 - val_loss: -62.9473\n",
      "Epoch 175/1000\n",
      "79/79 [==============================] - 0s 2ms/step - loss: -62.7936 - val_loss: -62.7400\n",
      "Epoch 176/1000\n",
      "79/79 [==============================] - 0s 2ms/step - loss: -62.6969 - val_loss: -62.5003\n",
      "Epoch 177/1000\n",
      "79/79 [==============================] - 0s 2ms/step - loss: -62.4948 - val_loss: -62.6402\n",
      "Epoch 178/1000\n",
      "79/79 [==============================] - 0s 2ms/step - loss: -62.4568 - val_loss: -62.8895\n",
      "Epoch 179/1000\n",
      "79/79 [==============================] - 0s 2ms/step - loss: -62.5702 - val_loss: -62.9168\n",
      "Epoch 180/1000\n",
      "79/79 [==============================] - 0s 2ms/step - loss: -62.7148 - val_loss: -62.6630\n",
      "Epoch 181/1000\n",
      "79/79 [==============================] - 0s 2ms/step - loss: -62.6462 - val_loss: -62.6451\n",
      "Epoch 182/1000\n",
      "79/79 [==============================] - 0s 2ms/step - loss: -62.4877 - val_loss: -62.7331\n",
      "Epoch 183/1000\n",
      "79/79 [==============================] - 0s 2ms/step - loss: -62.5646 - val_loss: -62.6551\n",
      "Epoch 184/1000\n",
      "79/79 [==============================] - 0s 2ms/step - loss: -62.8254 - val_loss: -62.9476\n",
      "Epoch 185/1000\n",
      "79/79 [==============================] - 0s 2ms/step - loss: -62.7513 - val_loss: -62.5176\n",
      "Epoch 186/1000\n",
      "79/79 [==============================] - 0s 2ms/step - loss: -62.7579 - val_loss: -62.7648\n",
      "Epoch 187/1000\n",
      "79/79 [==============================] - 0s 2ms/step - loss: -62.4900 - val_loss: -62.8544\n",
      "Epoch 188/1000\n",
      "79/79 [==============================] - 0s 2ms/step - loss: -62.7050 - val_loss: -62.9217\n",
      "Epoch 189/1000\n",
      "79/79 [==============================] - 0s 2ms/step - loss: -62.8248 - val_loss: -62.6760\n",
      "Epoch 190/1000\n",
      "79/79 [==============================] - 0s 2ms/step - loss: -62.4800 - val_loss: -62.9610\n",
      "Epoch 191/1000\n",
      "79/79 [==============================] - 0s 2ms/step - loss: -62.8631 - val_loss: -62.8557\n",
      "Epoch 192/1000\n",
      "79/79 [==============================] - 0s 2ms/step - loss: -62.7690 - val_loss: -62.8332\n",
      "Epoch 193/1000\n",
      "79/79 [==============================] - 0s 2ms/step - loss: -62.4346 - val_loss: -62.6630\n",
      "Epoch 194/1000\n",
      "79/79 [==============================] - 0s 2ms/step - loss: -62.6192 - val_loss: -62.9539\n",
      "Epoch 195/1000\n",
      "79/79 [==============================] - 0s 2ms/step - loss: -62.9444 - val_loss: -62.8146\n",
      "Epoch 196/1000\n",
      "79/79 [==============================] - 0s 2ms/step - loss: -62.8801 - val_loss: -62.7975\n",
      "Epoch 197/1000\n",
      "79/79 [==============================] - 0s 2ms/step - loss: -62.7610 - val_loss: -62.3792\n",
      "Epoch 198/1000\n",
      "79/79 [==============================] - 0s 2ms/step - loss: -62.4207 - val_loss: -62.6612\n",
      "Epoch 199/1000\n",
      "79/79 [==============================] - 0s 2ms/step - loss: -62.4909 - val_loss: -62.9001\n",
      "Epoch 200/1000\n",
      "79/79 [==============================] - 0s 2ms/step - loss: -62.6858 - val_loss: -63.0967\n",
      "Epoch 201/1000\n",
      "79/79 [==============================] - 0s 2ms/step - loss: -62.2764 - val_loss: -62.9139\n",
      "Epoch 202/1000\n",
      "79/79 [==============================] - 0s 2ms/step - loss: -62.5962 - val_loss: -62.9635\n",
      "Epoch 203/1000\n",
      "79/79 [==============================] - 0s 2ms/step - loss: -62.5420 - val_loss: -62.8499\n",
      "Epoch 204/1000\n",
      "79/79 [==============================] - 0s 2ms/step - loss: -62.8070 - val_loss: -62.9721\n",
      "Epoch 205/1000\n",
      "79/79 [==============================] - 0s 2ms/step - loss: -62.9963 - val_loss: -62.7960\n",
      "Epoch 206/1000\n",
      "79/79 [==============================] - 0s 2ms/step - loss: -62.7712 - val_loss: -62.5857\n",
      "Epoch 207/1000\n",
      "79/79 [==============================] - 0s 2ms/step - loss: -62.3092 - val_loss: -62.8465\n",
      "Epoch 208/1000\n",
      "79/79 [==============================] - 0s 2ms/step - loss: -62.6644 - val_loss: -62.7255\n",
      "Epoch 209/1000\n",
      "79/79 [==============================] - 0s 2ms/step - loss: -62.6863 - val_loss: -62.8855\n",
      "Epoch 210/1000\n",
      "79/79 [==============================] - 0s 2ms/step - loss: -62.7101 - val_loss: -62.8756\n",
      "Epoch 211/1000\n",
      "79/79 [==============================] - 0s 2ms/step - loss: -62.4648 - val_loss: -62.8854\n",
      "Epoch 212/1000\n",
      "79/79 [==============================] - 0s 2ms/step - loss: -62.6131 - val_loss: -62.7864\n",
      "Epoch 213/1000\n",
      "79/79 [==============================] - 0s 2ms/step - loss: -62.6391 - val_loss: -62.7117\n",
      "Epoch 214/1000\n",
      "79/79 [==============================] - 0s 2ms/step - loss: -62.6344 - val_loss: -62.5934\n",
      "Epoch 215/1000\n",
      "79/79 [==============================] - 0s 2ms/step - loss: -62.8460 - val_loss: -62.6273\n",
      "Epoch 216/1000\n",
      "79/79 [==============================] - 0s 2ms/step - loss: -62.5590 - val_loss: -62.9393\n",
      "Epoch 217/1000\n",
      "79/79 [==============================] - 0s 2ms/step - loss: -62.6127 - val_loss: -62.7362\n",
      "Epoch 218/1000\n",
      "79/79 [==============================] - 0s 2ms/step - loss: -62.5502 - val_loss: -62.8742\n",
      "Epoch 219/1000\n",
      "79/79 [==============================] - 0s 2ms/step - loss: -62.5599 - val_loss: -62.5257\n",
      "Epoch 220/1000\n"
     ]
    },
    {
     "name": "stdout",
     "output_type": "stream",
     "text": [
      "79/79 [==============================] - 0s 2ms/step - loss: -62.3898 - val_loss: -62.6863\n"
     ]
    }
   ],
   "source": [
    "checkpointer = ModelCheckpoint(filepath='bestmodel.h5', verbose=0, save_best_only=True)\n",
    "\n",
    "earlystopper = EarlyStopping(monitor='val_loss', mode='min', min_delta=0.005, \n",
    "                             patience=20, verbose=0, restore_best_weights=True)\n",
    "\n",
    "history = vae.fit(tf_train,\n",
    "               epochs=max_epochs, shuffle=True, verbose=1,\n",
    "               validation_data=tf_val, callbacks=[earlystopper])"
   ]
  },
  {
   "cell_type": "code",
   "execution_count": 45,
   "metadata": {
    "colab": {
     "base_uri": "https://localhost:8080/",
     "height": 282
    },
    "id": "OQW0KDLVCoo6",
    "outputId": "bf9a5f96-1487-4a4a-b9b8-b15923e37970"
   },
   "outputs": [
    {
     "data": {
      "text/plain": [
       "[<matplotlib.lines.Line2D at 0x7ff9904ab390>]"
      ]
     },
     "execution_count": 45,
     "metadata": {},
     "output_type": "execute_result"
    },
    {
     "data": {
      "image/png": "[encoded data removed]",
      "text/plain": [
       "<Figure size 432x288 with 1 Axes>"
      ]
     },
     "metadata": {
      "needs_background": "light"
     },
     "output_type": "display_data"
    }
   ],
   "source": [
    "plt.plot(history.history['loss'])\n",
    "plt.plot(history.history['val_loss'])"
   ]
  },
  {
   "cell_type": "markdown",
   "metadata": {
    "_uuid": "8838e8cf12d64ad6189a20f6d1dbe2feb0a77682",
    "id": "Du1qgiXv7fqi"
   },
   "source": [
    "재구성 확률을 계산하기 위해 입력에 대해 (출력 데이터 분포를 고려할 때 원래 입력을 생성할 확률이 얼마일까의)Monte Carlo를 수행하는 함수를 정의합니다. 각 입력에 대해 100 번 샘플링합니다."
   ]
  },
  {
   "cell_type": "code",
   "execution_count": 48,
   "metadata": {
    "colab": {
     "base_uri": "https://localhost:8080/"
    },
    "id": "-pyCSeCYR9DT",
    "outputId": "fc5e3719-2513-4acd-b128-730a8370f4c6"
   },
   "outputs": [
    {
     "data": {
      "text/plain": [
       "(250, 30)"
      ]
     },
     "execution_count": 48,
     "metadata": {},
     "output_type": "execute_result"
    }
   ],
   "source": [
    "indices = np.random.choice(len(X_train_normal), 250, replace=False)\n",
    "Nom_data = X_train_normal[indices]\n",
    "Nom_data.shape "
   ]
  },
  {
   "cell_type": "code",
   "execution_count": 49,
   "metadata": {
    "colab": {
     "base_uri": "https://localhost:8080/"
    },
    "id": "Idsn4RRmSBk8",
    "outputId": "ee4f6ce1-4d6e-4856-c24d-331143ab865a"
   },
   "outputs": [
    {
     "name": "stdout",
     "output_type": "stream",
     "text": [
      "Normal Metric\n",
      "       Normal_mse\n",
      "count  250.000000\n",
      "mean     0.009847\n",
      "std      0.006839\n",
      "min      0.001760\n",
      "25%      0.005185\n",
      "50%      0.007965\n",
      "75%      0.012812\n",
      "max      0.047218\n"
     ]
    }
   ],
   "source": [
    "Nom_pred = vae.predict(Nom_data)    # AE 결과값 \n",
    "Nom_pred_mse = np.mean(np.power(Nom_data - Nom_pred, 2), axis=1) # input - output 간의 MSE 구하기\n",
    "\n",
    "print('Normal Metric')\n",
    "Nom_pred_mse_df = pd.DataFrame({'Normal_mse':Nom_pred_mse})\n",
    "print(Nom_pred_mse_df.describe())"
   ]
  },
  {
   "cell_type": "code",
   "execution_count": 50,
   "metadata": {
    "colab": {
     "base_uri": "https://localhost:8080/"
    },
    "id": "pK1yv87vSKVp",
    "outputId": "b94fcbb9-501a-4211-d790-b265f847f956"
   },
   "outputs": [
    {
     "name": "stdout",
     "output_type": "stream",
     "text": [
      "Anomaly Metric\n",
      "       Anomaly_mse\n",
      "count   249.000000\n",
      "mean      0.043413\n",
      "std       0.041732\n",
      "min       0.003071\n",
      "25%       0.015795\n",
      "50%       0.027573\n",
      "75%       0.058837\n",
      "max       0.353009\n"
     ]
    }
   ],
   "source": [
    "# Abnormal data \n",
    "ANom_pred = vae.predict(X_train_fraud)   # AE 결과값 \n",
    "ANom_pred_mse = np.mean(np.power(X_train_fraud - ANom_pred, 2), axis=1) # input - output 간의 MSE 구하기\n",
    "\n",
    "print('Anomaly Metric')\n",
    "ANom_pred_mse_df = pd.DataFrame({'Anomaly_mse':ANom_pred_mse})\n",
    "print(ANom_pred_mse_df.describe())"
   ]
  },
  {
   "cell_type": "markdown",
   "metadata": {},
   "source": [
    "### MSE 분포 시각화 비교"
   ]
  },
  {
   "cell_type": "code",
   "execution_count": 52,
   "metadata": {
    "colab": {
     "base_uri": "https://localhost:8080/",
     "height": 295
    },
    "id": "jXLxERDsSRB0",
    "outputId": "f5ec58c7-9855-493f-e19b-3d1e00a65303"
   },
   "outputs": [
    {
     "data": {
      "image/png": "[encoded data removed]",
      "text/plain": [
       "<Figure size 432x288 with 1 Axes>"
      ]
     },
     "metadata": {
      "needs_background": "light"
     },
     "output_type": "display_data"
    }
   ],
   "source": [
    "plt.title('MSE compare') \n",
    "plt.hist(Nom_pred_mse, bins=10, color='blue', histtype='step', label='normal') \n",
    "plt.hist(ANom_pred_mse, bins=10, color='red', histtype='step', label='abnormal') \n",
    "plt.xlabel('MSE')\n",
    "plt.legend()\n",
    "plt.show()"
   ]
  },
  {
   "cell_type": "code",
   "execution_count": 53,
   "metadata": {
    "colab": {
     "base_uri": "https://localhost:8080/",
     "height": 335
    },
    "id": "bBn-OXLgSWQF",
    "outputId": "27015ebe-5e30-4b88-fef9-ce01f1658a0c"
   },
   "outputs": [
    {
     "data": {
      "image/png": "[encoded data removed]",
      "text/plain": [
       "<Figure size 432x288 with 1 Axes>"
      ]
     },
     "metadata": {
      "needs_background": "light"
     },
     "output_type": "display_data"
    }
   ],
   "source": [
    "plt.boxplot([Nom_pred_mse, ANom_pred_mse])\n",
    "plt.title('Normal vs Fraud')\n",
    "plt.xticks(ticks=[1, 2], labels=['Normal', 'Fraud'])\n",
    "plt.show()"
   ]
  },
  {
   "cell_type": "markdown",
   "metadata": {
    "_uuid": "e3aa3460670596e3bb58666bc24817b20861f46b",
    "id": "KKZC-tJv7fqj"
   },
   "source": [
    "## Visualize Latent Representations \n",
    "\n",
    "이전에 샘플링된 데이터에 대한 latent distribution parameter 및 샘플의 T-SNE 플롯. 클러스터링이 모든 플롯에서 어떻게 두드러져 나타나는지 확인하십시오."
   ]
  },
  {
   "cell_type": "code",
   "execution_count": 55,
   "metadata": {
    "_kg_hide-input": true,
    "_uuid": "d7edc564bfd9a96dbc804216edd707b495ba0b08",
    "colab": {
     "base_uri": "https://localhost:8080/",
     "height": 295
    },
    "id": "Mh82Rsxr7fqj",
    "outputId": "ec003c16-b913-4fe3-ae9d-1e7c786d8df1"
   },
   "outputs": [
    {
     "data": {
      "image/png": "[encoded data removed]",
      "text/plain": [
       "<Figure size 432x288 with 1 Axes>"
      ]
     },
     "metadata": {
      "needs_background": "light"
     },
     "output_type": "display_data"
    }
   ],
   "source": [
    "latent_x_mean = encoder(X_test).mean()\n",
    "plt.scatter(latent_x_mean[:, 0], latent_x_mean[:, 1], c=y_test, cmap='RdYlGn_r', s=2)\n",
    "plt.title('latent means')\n",
    "plt.ylabel('mean[1]')\n",
    "plt.xlabel('mean[0]')\n",
    "plt.show()"
   ]
  },
  {
   "cell_type": "code",
   "execution_count": 57,
   "metadata": {
    "colab": {
     "base_uri": "https://localhost:8080/",
     "height": 243
    },
    "id": "NIgD7woXEggv",
    "outputId": "aa86bd71-c361-4507-98f8-7be981a9a0d3"
   },
   "outputs": [
    {
     "name": "stdout",
     "output_type": "stream",
     "text": [
      "(1492, 31)\n"
     ]
    }
   ],
   "source": [
    "df_norm, df_fraud = df[df['Class'] == 0], df[df['Class'] == 1]\n",
    "\n",
    "tsne_df = pd.concat([df_norm.sample(1000), df_fraud])\n",
    "print(tsne_df.shape)"
   ]
  },
  {
   "cell_type": "code",
   "execution_count": 58,
   "metadata": {
    "colab": {
     "base_uri": "https://localhost:8080/",
     "height": 483
    },
    "id": "1efcKQurDG7r",
    "outputId": "97b7679f-5df2-4aff-8078-9f502047d81c"
   },
   "outputs": [
    {
     "data": {
      "image/png": "[encoded data removed]",
      "text/plain": [
       "<Figure size 864x576 with 1 Axes>"
      ]
     },
     "metadata": {
      "needs_background": "light"
     },
     "output_type": "display_data"
    }
   ],
   "source": [
    "from sklearn.manifold import TSNE\n",
    "\n",
    "X = tsne_df.drop(['Class'], axis=1).values\n",
    "Y = tsne_df['Class'].values\n",
    "\n",
    "tsne = TSNE(n_components=2, random_state=0)\n",
    "X_t = tsne.fit_transform(X)\n",
    "\n",
    "plt.figure(figsize=(12, 8))\n",
    "plt.scatter(X_t[np.where(Y == 0), 0], X_t[np.where(Y == 0), 1], \n",
    "            marker='o', color='g', linewidth=1, alpha=0.8, label='Non Fraud', s=2)\n",
    "plt.scatter(X_t[np.where(Y == 1), 0], X_t[np.where(Y == 1), 1], \n",
    "            marker='o', color='r', linewidth=1, alpha=0.8, label='Fraud', s=2)\n",
    "plt.legend()\n",
    "plt.show()"
   ]
  },
  {
   "cell_type": "markdown",
   "metadata": {
    "_uuid": "09dbe144248f5f8f8c2754de653149fb2608d551",
    "id": "h6doEwpY7fqj"
   },
   "source": [
    "원점 [0,0] 평균 벡터 주변에서 사기와 사기가 아닌 트랜잭션 사이에는 분명한 구분이 있습니다. 이는 VAE가 의미있는 것을 학습하고 있다는 신호입니다."
   ]
  },
  {
   "cell_type": "code",
   "execution_count": 59,
   "metadata": {
    "_kg_hide-input": true,
    "_uuid": "c5372f7b09feb79dd06d2c7feca5cc0890b4a136",
    "colab": {
     "base_uri": "https://localhost:8080/",
     "height": 295
    },
    "id": "jIgo_BMJ7fqk",
    "outputId": "abaf74d8-efdf-40a3-d5b1-2f06469f2876"
   },
   "outputs": [
    {
     "data": {
      "image/png": "[encoded data removed]",
      "text/plain": [
       "<Figure size 432x288 with 1 Axes>"
      ]
     },
     "metadata": {
      "needs_background": "light"
     },
     "output_type": "display_data"
    }
   ],
   "source": [
    "latent_x_std = encoder(X).stddev()\n",
    "plt.scatter(latent_x_std[:, 0], latent_x_std[:, 1], c=Y, cmap='RdYlGn_r', s=2)\n",
    "plt.title('latent standard deviations')\n",
    "plt.ylabel('stddev[1]')\n",
    "plt.xlabel('stddev[0]')\n",
    "plt.show()"
   ]
  },
  {
   "cell_type": "markdown",
   "metadata": {
    "_uuid": "1b982ca31566b9cb7d81b390816e9b20ccedcc88",
    "id": "ZdOw2PUh7fqk"
   },
   "source": [
    "빨간색으로 표시된 사기 거래의 표준 편차가 훨씬 더 흩어져 있고 두 축에서 더 높은 값을 갖는 경향이 있습니다. 이것은 사기 거래가 불규칙한 경향이 있다는 직관과 일치합니다."
   ]
  },
  {
   "cell_type": "code",
   "execution_count": 60,
   "metadata": {
    "_kg_hide-input": true,
    "_uuid": "9edccf3ad419e137bf74fe324de2d743b06618a4",
    "colab": {
     "base_uri": "https://localhost:8080/",
     "height": 295
    },
    "id": "B11ssDzc7fqk",
    "outputId": "6d9ea431-c99a-4ae6-a152-67f1d2a57940"
   },
   "outputs": [
    {
     "data": {
      "image/png": "[encoded data removed]",
      "text/plain": [
       "<Figure size 432x288 with 1 Axes>"
      ]
     },
     "metadata": {
      "needs_background": "light"
     },
     "output_type": "display_data"
    }
   ],
   "source": [
    "latent_x = encoder(X).sample()\n",
    "plt.scatter(latent_x[:, 0], latent_x[:, 1], c=Y, cmap='RdYlGn_r', s=2)\n",
    "plt.title('latent vector samples')\n",
    "plt.ylabel('z[1]')\n",
    "plt.xlabel('z[0]')\n",
    "plt.show()"
   ]
  },
  {
   "cell_type": "markdown",
   "metadata": {
    "_uuid": "68c76ab08542180d937ac46a872259199da35310",
    "id": "2o0u9O8G7fqk"
   },
   "source": [
    "샘플된 잠재 벡터 z입니다. 클러스터링 및 scattering은 이전 관찰과 일치합니다."
   ]
  },
  {
   "cell_type": "markdown",
   "metadata": {
    "id": "HfJnM68roQyO"
   },
   "source": [
    "tfp.distributions.MultivariateNormalTriL.sample()\n",
    "\n",
    "- Generate samples of the specified shape."
   ]
  },
  {
   "cell_type": "code",
   "execution_count": 61,
   "metadata": {
    "colab": {
     "base_uri": "https://localhost:8080/"
    },
    "id": "ft_j0wvPn1nG",
    "outputId": "715caf3a-597a-4f9f-9581-8f9abc285e5e"
   },
   "outputs": [
    {
     "data": {
      "text/plain": [
       "<tfp.distributions.MultivariateNormalTriL 'encoder_multivariate_normal_tri_l_3_MultivariateNormalTriL_MultivariateNormalTriL' batch_shape=[1492] event_shape=[2] dtype=float32>"
      ]
     },
     "execution_count": 61,
     "metadata": {},
     "output_type": "execute_result"
    }
   ],
   "source": [
    "encoder_out = encoder(X)\n",
    "encoder_out"
   ]
  },
  {
   "cell_type": "code",
   "execution_count": 62,
   "metadata": {
    "colab": {
     "base_uri": "https://localhost:8080/"
    },
    "id": "xb4j16TNo1x6",
    "outputId": "002a167b-8480-4e80-d3b1-e4b785040a80"
   },
   "outputs": [
    {
     "name": "stdout",
     "output_type": "stream",
     "text": [
      "Model: \"decoder\"\n",
      "_________________________________________________________________\n",
      "Layer (type)                 Output Shape              Param #   \n",
      "=================================================================\n",
      "sequential_6 (Sequential)    (None, 20)                334       \n",
      "_________________________________________________________________\n",
      "dense_27 (Dense)             (None, 60)                1260      \n",
      "_________________________________________________________________\n",
      "independent_normal_2 (Indepe multiple                  0         \n",
      "=================================================================\n",
      "Total params: 1,594\n",
      "Trainable params: 1,594\n",
      "Non-trainable params: 0\n",
      "_________________________________________________________________\n"
     ]
    }
   ],
   "source": [
    "decoder.summary()"
   ]
  },
  {
   "cell_type": "code",
   "execution_count": 63,
   "metadata": {
    "id": "I8LTcjrWk1rI"
   },
   "outputs": [],
   "source": [
    "def reconstruction_log_prob(eval_samples, samples_n=100):\n",
    "    encoder_out = encoder(eval_samples)\n",
    "    encoder_samples = encoder_out.sample(samples_n)\n",
    "    return np.mean(decoder(encoder_samples).log_prob(eval_samples), axis=0)"
   ]
  },
  {
   "cell_type": "code",
   "execution_count": 64,
   "metadata": {
    "_uuid": "0f3044fb313b74ee45e047b7ef0cbfe47ce008fe",
    "colab": {
     "base_uri": "https://localhost:8080/",
     "height": 351
    },
    "id": "TibwtI3N7fqk",
    "outputId": "85c95e5d-9208-43e2-ceb3-6dd67e71d1fb"
   },
   "outputs": [
    {
     "data": {
      "image/png": "[encoded data removed]",
      "text/plain": [
       "<Figure size 432x288 with 1 Axes>"
      ]
     },
     "metadata": {
      "needs_background": "light"
     },
     "output_type": "display_data"
    }
   ],
   "source": [
    "x_log_prob = reconstruction_log_prob(X)\n",
    "ax = plt.hist([x_log_prob[Y==0], x_log_prob[Y==1]], 60)\n",
    "plt.title('reconstruction log probability')\n",
    "plt.ylabel('frequency')\n",
    "plt.xlabel(\"log p(x|x')\")\n",
    "plt.show()"
   ]
  },
  {
   "cell_type": "markdown",
   "metadata": {
    "_uuid": "4c20e39068c898efe0ba33977e99a64b47ed3d38",
    "id": "JO-ubcsY7fqk"
   },
   "source": [
    "재구성 가능성의 로그를 보면 주황색으로 표시된 사기 거래는 일부 중복에도 불구하고 대부분의 경우 일반 거래와 명확하게 구분됩니다. 물론 일반 거래는 재구성 가능성이 더 높습니다.\n",
    "\n",
    "이제 음의 재구성 로그 확률을 취하고 그 범위에 걸쳐 ROC 곡선을 그려 임계값 기반 사기거래 탐지기를 구축할 경우 성능이 어떻게 되는지 살펴 보겠습니다."
   ]
  },
  {
   "cell_type": "code",
   "execution_count": 65,
   "metadata": {
    "_uuid": "04a74edd42762aeb3f59bab9d603e9744ba2fb57",
    "colab": {
     "base_uri": "https://localhost:8080/",
     "height": 295
    },
    "id": "wuV46LcY7fql",
    "outputId": "03cd106f-8fde-4629-9e66-b2c18dbf00c7"
   },
   "outputs": [
    {
     "data": {
      "image/png": "[encoded data removed]",
      "text/plain": [
       "<Figure size 432x288 with 1 Axes>"
      ]
     },
     "metadata": {
      "needs_background": "light"
     },
     "output_type": "display_data"
    }
   ],
   "source": [
    "fpr, tpr, thresh = roc_curve(Y, -x_log_prob)\n",
    "auc = roc_auc_score(Y, -x_log_prob)\n",
    "\n",
    "plt.plot(fpr,tpr,label=\"linear in-sample, auc=\"+str(auc))\n",
    "plt.title('VAE roc curve - training')\n",
    "plt.ylabel('True Positive Rate')\n",
    "plt.xlabel(\"False Positive Rate\")\n",
    "plt.legend(loc='best')\n",
    "plt.show()"
   ]
  },
  {
   "cell_type": "markdown",
   "metadata": {
    "_kg_hide-input": true,
    "_uuid": "faa3c951606a479337af5eb7736ce4488ca4e4d3",
    "id": "BNODQEJA7fql"
   },
   "source": [
    "훈련 세트에서 0.96 이상입니다."
   ]
  },
  {
   "cell_type": "markdown",
   "metadata": {
    "_uuid": "61bc05340c4fd709c8cfe2313fcc6cc9fa5e8d72",
    "id": "H6OanTSH7fql"
   },
   "source": [
    "## VAE vs SVM\n",
    "\n",
    "SVM이 VAE를 능가 할 수 있는지 자명한 SVM 분류기와 비교해 봅니다."
   ]
  },
  {
   "cell_type": "code",
   "execution_count": null,
   "metadata": {
    "_uuid": "7b7b5989f4f7fa3a355b6fdd25cfe932ff8411fb",
    "colab": {
     "base_uri": "https://localhost:8080/",
     "height": 295
    },
    "id": "I9egkXd87fql",
    "outputId": "1c7e3ab4-58b7-48d6-e7a6-28d784804e97"
   },
   "outputs": [],
   "source": [
    "from sklearn import svm\n",
    "clf = svm.SVC(gamma='scale')\n",
    "clf.fit(X, Y)\n",
    "auc = roc_auc_score(Y, clf.predict(X))\n",
    "\n",
    "plt.plot(fpr,tpr,label=\"linear in-sample, auc=\"+str(auc))\n",
    "plt.title('SVM roc curve - training')\n",
    "plt.ylabel('True Positive Rate')\n",
    "plt.xlabel(\"False Positive Rate\")\n",
    "plt.legend(loc='best')\n",
    "plt.show()"
   ]
  },
  {
   "cell_type": "markdown",
   "metadata": {
    "_uuid": "6be56610c8bdd4fbddcb60818611fc3c618bbace",
    "id": "KxsMv6_I7fqm"
   },
   "source": [
    "## 6. Evaluation on Test Set\n",
    "\n",
    "reserve해 놓았던 test set에서 VAE 및 자명한 SVM을 평가합니다. VAE는 단순 SVM을 능가합니다."
   ]
  },
  {
   "cell_type": "code",
   "execution_count": null,
   "metadata": {
    "_uuid": "6f187b6f99e8d4ce7707b85ae982b468d12b3f04",
    "colab": {
     "base_uri": "https://localhost:8080/",
     "height": 295
    },
    "id": "K-Io7J6N7fqm",
    "outputId": "1cc18f8a-7333-42ac-88f2-50500a80f172"
   },
   "outputs": [],
   "source": [
    "x_test_log_prob = reconstruction_log_prob(data_test.drop(['Class'], axis = 1).values, reconstruct_samples_n)\n",
    "test_y = data_test[\"Class\"].values\n",
    "\n",
    "fpr, tpr, thresh = roc_curve(test_y, -x_test_log_prob)\n",
    "auc = roc_auc_score(test_y, -x_test_log_prob)\n",
    "\n",
    "plt.plot(fpr,tpr,label=\"linear in-sample, auc=\"+str(auc))\n",
    "plt.title('VAE roc curve - test')\n",
    "plt.ylabel('True Positive Rate')\n",
    "plt.xlabel(\"False Positive Rate\")\n",
    "plt.legend(loc='best')\n",
    "plt.show()"
   ]
  },
  {
   "cell_type": "code",
   "execution_count": null,
   "metadata": {
    "_kg_hide-input": true,
    "_uuid": "b87ea1b3a35aa505f6887c0b441c73b0666573dd",
    "colab": {
     "base_uri": "https://localhost:8080/",
     "height": 295
    },
    "id": "kLGV9TZv7fqm",
    "outputId": "eaafa56f-4f70-4e97-9bcd-9a6e348871b9"
   },
   "outputs": [],
   "source": [
    "auc = roc_auc_score(test_y, clf.predict(data_test.drop(['Class'], axis = 1).values))\n",
    "\n",
    "plt.plot(fpr,tpr,label=\"linear in-sample, auc=\"+str(auc))\n",
    "plt.title('SVM roc curve - test')\n",
    "plt.ylabel('True Positive Rate')\n",
    "plt.xlabel(\"False Positive Rate\")\n",
    "plt.legend(loc='best')\n",
    "plt.show()"
   ]
  },
  {
   "cell_type": "markdown",
   "metadata": {
    "_kg_hide-input": false,
    "_kg_hide-output": false,
    "_uuid": "1c954a9ab5fc4417632eba1faf14e80b2d842301",
    "id": "qkWPa_eM7fqm"
   },
   "source": [
    "## Limitations \n",
    "* VAE 히든 레이어 디자인은 개선의 여지가 있습니다.\n",
    "* 하이퍼 파라미터 튜닝을 추가 할 수 있습니다."
   ]
  },
  {
   "cell_type": "code",
   "execution_count": null,
   "metadata": {
    "id": "v0EjMqlG7fqm"
   },
   "outputs": [],
   "source": []
  }
 ],
 "metadata": {
  "accelerator": "GPU",
  "colab": {
   "collapsed_sections": [],
   "machine_shape": "hm",
   "name": "250_fraud_detection_with_variational_autoencoder.ipynb",
   "provenance": []
  },
  "kernelspec": {
   "display_name": "Python 3",
   "language": "python",
   "name": "python3"
  },
  "language_info": {
   "codemirror_mode": {
    "name": "ipython",
    "version": 3
   },
   "file_extension": ".py",
   "mimetype": "text/x-python",
   "name": "python",
   "nbconvert_exporter": "python",
   "pygments_lexer": "ipython3",
   "version": "3.7.10"
  }
 },
 "nbformat": 4,
 "nbformat_minor": 1
}
