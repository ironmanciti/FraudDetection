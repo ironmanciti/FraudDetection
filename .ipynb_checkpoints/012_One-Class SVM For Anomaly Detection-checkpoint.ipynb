{
 "cells": [
  {
   "cell_type": "markdown",
   "id": "30baa22f",
   "metadata": {},
   "source": [
    "# One-class SVM - novelty detection\n",
    "- `One-class SVM (svm_outlier_detection)`은 novelty detection을 위한 결정 기능을 학습하는 비지도 학습 알고리즘  \n",
    "\n",
    "- 새로운 데이터를 훈련 세트와 유사하거나 다른 것으로 분류  \n",
    "\n",
    "One-class SVM은 이상 또는 이상치 감지를 위한 비지도 모델입니다. 일반 지도학습 SVM과 달리 One-class SVM에는 모델 교육 프로세스에 대한 target label이 없습니다. 대신 normal 데이터 포인트에 대한 boundary를 학습하고 boundary 외부의 데이터를 비정상으로 식별합니다.  \n",
    "\n",
    "다음을 학습 합니다.\n",
    "\n",
    "- One-class SVM 모델을 훈련하는 방법\n",
    "- One-class SVM 모델에서 이상을 예측하는 방법  \n",
    "- 이상 예측에 대한 기본 임계값을 변경하는 방법\n",
    "- 예측 결과를 시각화하는 방법"
   ]
  },
  {
   "cell_type": "code",
   "execution_count": 1,
   "id": "8ba60a28",
   "metadata": {},
   "outputs": [],
   "source": [
    "from sklearn.datasets import make_classification\n",
    "import pandas as pd\n",
    "import numpy as np\n",
    "from collections import Counter\n",
    "import matplotlib.pyplot as plt\n",
    "from sklearn.svm import OneClassSVM\n",
    "from sklearn.model_selection import train_test_split\n",
    "from sklearn.metrics import recall_score, precision_score, accuracy_score"
   ]
  },
  {
   "cell_type": "markdown",
   "id": "e03f7415",
   "metadata": {},
   "source": [
    "### 불균형 데이터세트 만들기 \n",
    "- 서로 다른 mechanism 으로 생성된 두가지 data 를 하나로 섞어서 생성"
   ]
  },
  {
   "cell_type": "code",
   "execution_count": 2,
   "id": "a6089a4a",
   "metadata": {},
   "outputs": [
    {
     "name": "stdout",
     "output_type": "stream",
     "text": [
      "(20000, 2)\n",
      "(20200, 2)\n",
      "(20200,)\n",
      "이상치 비율 = 0.009900990099009901\n"
     ]
    }
   ],
   "source": [
    "np.random.seed(42)\n",
    "\n",
    "# inlier data 생성\n",
    "X_inliers = 0.5 * np.random.randn(20000, 2)\n",
    "print(X_inliers.shape)\n",
    "\n",
    "# outlier data 생성\n",
    "X_outliers = np.random.uniform(low=-4, high=4, size=(200, 2))\n",
    "\n",
    "X = np.vstack([X_inliers, X_outliers])\n",
    "print(X.shape)\n",
    "\n",
    "n_outliers = len(X_outliers)\n",
    "# inlier 0, outlier 1 부여\n",
    "y = np.zeros(len(X), dtype=int)\n",
    "y[-n_outliers:] = 1\n",
    "\n",
    "print(y.shape)\n",
    "\n",
    "print(\"이상치 비율 = {}\".format(len(X_outliers) / len(X)))"
   ]
  },
  {
   "cell_type": "markdown",
   "id": "03ecd5cc",
   "metadata": {},
   "source": [
    "- numpy array를 pandas dataframe으로 변환"
   ]
  },
  {
   "cell_type": "code",
   "execution_count": 3,
   "id": "4bca35ca",
   "metadata": {},
   "outputs": [
    {
     "data": {
      "text/html": [
       "<div>\n",
       "<style scoped>\n",
       "    .dataframe tbody tr th:only-of-type {\n",
       "        vertical-align: middle;\n",
       "    }\n",
       "\n",
       "    .dataframe tbody tr th {\n",
       "        vertical-align: top;\n",
       "    }\n",
       "\n",
       "    .dataframe thead th {\n",
       "        text-align: right;\n",
       "    }\n",
       "</style>\n",
       "<table border=\"1\" class=\"dataframe\">\n",
       "  <thead>\n",
       "    <tr style=\"text-align: right;\">\n",
       "      <th></th>\n",
       "      <th>feature1</th>\n",
       "      <th>feature2</th>\n",
       "      <th>target</th>\n",
       "    </tr>\n",
       "  </thead>\n",
       "  <tbody>\n",
       "    <tr>\n",
       "      <th>0</th>\n",
       "      <td>0.248357</td>\n",
       "      <td>-0.069132</td>\n",
       "      <td>0</td>\n",
       "    </tr>\n",
       "    <tr>\n",
       "      <th>1</th>\n",
       "      <td>0.323844</td>\n",
       "      <td>0.761515</td>\n",
       "      <td>0</td>\n",
       "    </tr>\n",
       "    <tr>\n",
       "      <th>2</th>\n",
       "      <td>-0.117077</td>\n",
       "      <td>-0.117068</td>\n",
       "      <td>0</td>\n",
       "    </tr>\n",
       "    <tr>\n",
       "      <th>3</th>\n",
       "      <td>0.789606</td>\n",
       "      <td>0.383717</td>\n",
       "      <td>0</td>\n",
       "    </tr>\n",
       "    <tr>\n",
       "      <th>4</th>\n",
       "      <td>-0.234737</td>\n",
       "      <td>0.271280</td>\n",
       "      <td>0</td>\n",
       "    </tr>\n",
       "  </tbody>\n",
       "</table>\n",
       "</div>"
      ],
      "text/plain": [
       "   feature1  feature2  target\n",
       "0  0.248357 -0.069132       0\n",
       "1  0.323844  0.761515       0\n",
       "2 -0.117077 -0.117068       0\n",
       "3  0.789606  0.383717       0\n",
       "4 -0.234737  0.271280       0"
      ]
     },
     "execution_count": 3,
     "metadata": {},
     "output_type": "execute_result"
    }
   ],
   "source": [
    "df = pd.DataFrame({'feature1': X[:, 0], 'feature2': X[:, 1], 'target': y})\n",
    "df.head()"
   ]
  },
  {
   "cell_type": "markdown",
   "id": "ccd94c5b",
   "metadata": {},
   "source": [
    "- 생성된 data 시각화"
   ]
  },
  {
   "cell_type": "code",
   "execution_count": 4,
   "id": "f3aa3605",
   "metadata": {},
   "outputs": [
    {
     "data": {
      "text/plain": [
       "<matplotlib.collections.PathCollection at 0x271d56617f0>"
      ]
     },
     "execution_count": 4,
     "metadata": {},
     "output_type": "execute_result"
    },
    {
     "data": {
      "image/png": "[encoded data removed]",
      "text/plain": [
       "<Figure size 432x288 with 1 Axes>"
      ]
     },
     "metadata": {
      "needs_background": "light"
     },
     "output_type": "display_data"
    }
   ],
   "source": [
    "plt.scatter(X[y == 0][:, 0], X[y==0][:, 1], color='blue')\n",
    "plt.scatter(X[y == 1][:, 0], X[y==1][:, 1], color='red')"
   ]
  },
  {
   "cell_type": "markdown",
   "id": "7133d7c4",
   "metadata": {},
   "source": [
    "- target의 분포 비율 check"
   ]
  },
  {
   "cell_type": "code",
   "execution_count": 5,
   "id": "e8cd13d0",
   "metadata": {},
   "outputs": [
    {
     "data": {
      "text/plain": [
       "0    0.990099\n",
       "1    0.009901\n",
       "Name: target, dtype: float64"
      ]
     },
     "execution_count": 5,
     "metadata": {},
     "output_type": "execute_result"
    }
   ],
   "source": [
    "df['target'].value_counts(normalize = True)"
   ]
  },
  {
   "cell_type": "markdown",
   "id": "d9e61fc6",
   "metadata": {},
   "source": [
    "- Train/Test set 분리"
   ]
  },
  {
   "cell_type": "code",
   "execution_count": 6,
   "id": "edb8d34f",
   "metadata": {},
   "outputs": [
    {
     "name": "stdout",
     "output_type": "stream",
     "text": [
      "훈련 데이터세트의 레코드 수 :  16160\n",
      "테스트 데이터세트의 레코드 수 :  4040\n",
      "훈련 데이터세트의 minority class 수 : 160\n",
      "검증 데이터세트의 minority class 수 : 40\n"
     ]
    }
   ],
   "source": [
    "X_train, X_test, y_train, y_test = train_test_split(X, y, test_size=0.2, stratify=y, random_state=42)\n",
    "\n",
    "print('훈련 데이터세트의 레코드 수 : ', X_train.shape[0])\n",
    "print('테스트 데이터세트의 레코드 수 : ', X_test.shape[0])\n",
    "print(f\"훈련 데이터세트의 minority class 수 : {sorted(Counter(y_train).items())[1][1]}\")\n",
    "print(f\"검증 데이터세트의 minority class 수 : {sorted(Counter(y_test).items())[1][1]}\")"
   ]
  },
  {
   "cell_type": "markdown",
   "id": "89c62b38",
   "metadata": {},
   "source": [
    "### One-class SVM 모델 훈련 \n",
    "\n",
    "- kernel function    \n",
    "- SVM은 초평면(hyper-plane)이라는 개념을 사용하여 데이터를 분류  \n",
    "- kernel function을 이용한 차원 변경 trick 사용  \n",
    "\n",
    "- nu=0.01은 데이터 세트에 약 1%의 이상치가 있음을 의미"
   ]
  },
  {
   "cell_type": "code",
   "execution_count": 7,
   "id": "6e113bdf",
   "metadata": {},
   "outputs": [],
   "source": [
    "one_class_svm = OneClassSVM(nu=0.01, kernel = 'rbf').fit(X_train)"
   ]
  },
  {
   "cell_type": "markdown",
   "id": "db9491a3",
   "metadata": {},
   "source": [
    "### Anomaly 예측 \n",
    "- one class SVM은 정상 데이터 포인트에 1로 레이블을 지정하고 비정상을 -1로 레이블을 지정  \n",
    "\n",
    "- 레이블을 테스트 데이터 세트의 정답과 비교하기 위해 비정상적인 레이블을 -1에서 1로, 일반 레이블을 1에서 0으로 변경"
   ]
  },
  {
   "cell_type": "code",
   "execution_count": 8,
   "id": "50705ce4",
   "metadata": {},
   "outputs": [
    {
     "data": {
      "text/plain": [
       "Counter({1: 3688, -1: 352})"
      ]
     },
     "execution_count": 8,
     "metadata": {},
     "output_type": "execute_result"
    }
   ],
   "source": [
    "prediction = one_class_svm.predict(X_test)\n",
    "\n",
    "Counter(prediction)"
   ]
  },
  {
   "cell_type": "markdown",
   "id": "787a8a88",
   "metadata": {},
   "source": [
    "- classification_report 사용을 위해 anomaly 값 -1 을 positive 1 로 변경. normal data 를 0 로 변경"
   ]
  },
  {
   "cell_type": "code",
   "execution_count": 9,
   "id": "9536208d",
   "metadata": {},
   "outputs": [
    {
     "data": {
      "text/plain": [
       "Counter({0: 3688, 1: 352})"
      ]
     },
     "execution_count": 9,
     "metadata": {},
     "output_type": "execute_result"
    }
   ],
   "source": [
    "y_pred = [1 if i == -1 else 0 for i in prediction]\n",
    "Counter(y_pred)"
   ]
  },
  {
   "cell_type": "code",
   "execution_count": 10,
   "id": "f77cadca",
   "metadata": {},
   "outputs": [
    {
     "name": "stdout",
     "output_type": "stream",
     "text": [
      "accuracy = 0.9193069306930693\n",
      "recall = 0.825\n"
     ]
    }
   ],
   "source": [
    "# model 성능 check\n",
    "print(\"accuracy =\", accuracy_score(y_test, y_pred))\n",
    "print(\"recall =\", recall_score(y_test, y_pred))"
   ]
  },
  {
   "cell_type": "markdown",
   "id": "a147b6fe",
   "metadata": {},
   "source": [
    "- 시각화를 통한 original data와 anomaly 예측 결과 비교"
   ]
  },
  {
   "cell_type": "code",
   "execution_count": 11,
   "id": "ea946ef8",
   "metadata": {},
   "outputs": [
    {
     "data": {
      "text/plain": [
       "<matplotlib.collections.PathCollection at 0x271d9db7dc0>"
      ]
     },
     "execution_count": 11,
     "metadata": {},
     "output_type": "execute_result"
    },
    {
     "data": {
      "image/png": "[encoded data removed]",
      "text/plain": [
       "<Figure size 1440x432 with 2 Axes>"
      ]
     },
     "metadata": {
      "needs_background": "light"
     },
     "output_type": "display_data"
    }
   ],
   "source": [
    "fig, (ax1, ax2) = plt.subplots(1, 2, sharey=True, figsize=(20, 6))\n",
    "ax1.scatter(X_test[:, 0], X_test[:, 1], c=y_test, cmap='rainbow')\n",
    "ax2.scatter(X_test[:, 0], X_test[:, 1], c=y_pred, cmap='rainbow')"
   ]
  },
  {
   "cell_type": "markdown",
   "id": "0676fb48",
   "metadata": {},
   "source": [
    "- 새로운 normal, abnormal data 생성하여 모델 test"
   ]
  },
  {
   "cell_type": "code",
   "execution_count": 16,
   "id": "37d4acba",
   "metadata": {},
   "outputs": [],
   "source": [
    "# 새로운 outlier data 생성\n",
    "X_outliers = np.random.uniform(low=-4, high=4, size=(20, 2))"
   ]
  },
  {
   "cell_type": "code",
   "execution_count": 17,
   "id": "0596c04f",
   "metadata": {},
   "outputs": [
    {
     "data": {
      "text/plain": [
       "array([-1, -1, -1, -1, -1, -1, -1, -1,  1, -1, -1, -1,  1, -1, -1, -1, -1,\n",
       "       -1, -1, -1], dtype=int64)"
      ]
     },
     "execution_count": 17,
     "metadata": {},
     "output_type": "execute_result"
    }
   ],
   "source": [
    "one_class_svm.predict(X_outliers)"
   ]
  },
  {
   "cell_type": "code",
   "execution_count": 19,
   "id": "4ff5777b",
   "metadata": {},
   "outputs": [],
   "source": [
    "X_inliers = 0.5 * np.random.randn(20, 2)"
   ]
  },
  {
   "cell_type": "code",
   "execution_count": 15,
   "id": "91abb046",
   "metadata": {},
   "outputs": [
    {
     "data": {
      "text/plain": [
       "array([1, 1, 1, 1, 1, 1, 1, 1, 1, 1, 1, 1, 1, 1, 1, 1, 1, 1, 1, 1],\n",
       "      dtype=int64)"
      ]
     },
     "execution_count": 15,
     "metadata": {},
     "output_type": "execute_result"
    }
   ],
   "source": [
    "one_class_svm.predict(X_inliers)"
   ]
  },
  {
   "cell_type": "code",
   "execution_count": null,
   "id": "c5925ec3",
   "metadata": {},
   "outputs": [],
   "source": []
  }
 ],
 "metadata": {
  "kernelspec": {
   "display_name": "Python 3 (ipykernel)",
   "language": "python",
   "name": "python3"
  },
  "language_info": {
   "codemirror_mode": {
    "name": "ipython",
    "version": 3
   },
   "file_extension": ".py",
   "mimetype": "text/x-python",
   "name": "python",
   "nbconvert_exporter": "python",
   "pygments_lexer": "ipython3",
   "version": "3.8.13"
  }
 },
 "nbformat": 4,
 "nbformat_minor": 5
}
