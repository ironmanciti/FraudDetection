{
 "cells": [
  {
   "cell_type": "markdown",
   "metadata": {
    "id": "SyQuWKAJt3xq"
   },
   "source": [
    "# Deep Learning model의 class weight 조정\n",
    "\n",
    "## DNN 이용, Class Weight 조정, OverSampling\n",
    "\n",
    "- Data 는 이전 실습 문제와 동일한 [Credit Card Fraud Detection](https://www.kaggle.com/mlg-ulb/creditcardfraud) - Kaggle"
   ]
  },
  {
   "cell_type": "markdown",
   "metadata": {
    "id": "IdW269nBt3x2"
   },
   "source": [
    "### Kaggle Credit Card Fraud dataset 다운로드"
   ]
  },
  {
   "cell_type": "markdown",
   "metadata": {
    "id": "738aexZRt3x-"
   },
   "source": [
    "### 클래스 레이블 불균형 조사"
   ]
  },
  {
   "cell_type": "markdown",
   "metadata": {
    "id": "USH9Dhvjt3yG"
   },
   "source": [
    "### Clean, split and normalize the data"
   ]
  },
  {
   "cell_type": "markdown",
   "metadata": {},
   "source": [
    "## Feature Scaling"
   ]
  },
  {
   "cell_type": "markdown",
   "metadata": {},
   "source": [
    "### Metrics 정의\n",
    "- model train 중 측정할 metric  정의"
   ]
  },
  {
   "cell_type": "markdown",
   "metadata": {
    "id": "ejjpZM9Kt3ym"
   },
   "source": [
    "## Simple NN model 정의 - 이진 분류 모델"
   ]
  },
  {
   "cell_type": "markdown",
   "metadata": {
    "id": "YuB7VrmAt3yr"
   },
   "source": [
    "### Baseline model build"
   ]
  },
  {
   "cell_type": "markdown",
   "metadata": {
    "id": "B-Ftgdtct3zb"
   },
   "source": [
    "## Train the model"
   ]
  },
  {
   "cell_type": "markdown",
   "metadata": {
    "id": "PROwAK95t3zl"
   },
   "source": [
    "## Evaluate Metric\n",
    "\n",
    "- confusion matrix 를 이용하여 metrics 요약"
   ]
  },
  {
   "cell_type": "markdown",
   "metadata": {
    "id": "LWD-EIM7t3zt"
   },
   "source": [
    "### Test dataset 으로 모델을 평가 하고, confusion matrix 를 그린다"
   ]
  },
  {
   "cell_type": "markdown",
   "metadata": {
    "id": "-P-iJJ1pt3z5"
   },
   "source": [
    "## Class Weight 조정\n",
    "\n",
    "사용할 positive 샘플이 많지 않기 때문에 가용한 적은 수의 sample 에 classifier 가 더 비중을 두도록 할 수 있다.  이는 모델이 과소 표현된 클래스의 샘플에 `더 많은주의를 기울이도록` 지시하는 데 유용.\n",
    "\n",
    "step1 - 레이블 및 관련 가중치로 dictionary 정의 \n",
    "```\n",
    "class_weight ={0: 0.5008652375006595, 1: 289.43800813008136}\n",
    "```                \n",
    "step2 - dictionary를 매개 변수로 공급:  \n",
    "```\n",
    "    model.fit(X_train, Y_train, nb_epoch=5, batch_size=32, class_weight=class_weight)\n",
    "```\n",
    "\n",
    "- loss function 계산 시 class_weight 에 지정된 대로 가중 평균"
   ]
  },
  {
   "cell_type": "markdown",
   "metadata": {
    "id": "FF42Tjcdt30K"
   },
   "source": [
    "## Plot the ROC"
   ]
  },
  {
   "cell_type": "markdown",
   "metadata": {
    "id": "rcbHFEtjGzxD"
   },
   "source": [
    "## Next Step => Over+Under-sampling model과 weight 조절 DNN model 비교"
   ]
  }
 ],
 "metadata": {
  "accelerator": "GPU",
  "colab": {
   "collapsed_sections": [],
   "machine_shape": "hm",
   "name": "120_DNN_Highly_Imbalanced_Data_fraud_detection.ipynb",
   "provenance": []
  },
  "kernelspec": {
   "display_name": "Python 3 (ipykernel)",
   "language": "python",
   "name": "python3"
  },
  "language_info": {
   "codemirror_mode": {
    "name": "ipython",
    "version": 3
   },
   "file_extension": ".py",
   "mimetype": "text/x-python",
   "name": "python",
   "nbconvert_exporter": "python",
   "pygments_lexer": "ipython3",
   "version": "3.8.13"
  }
 },
 "nbformat": 4,
 "nbformat_minor": 1
}
